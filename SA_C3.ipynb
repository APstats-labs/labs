{
  "cells": [
    {
      "cell_type": "markdown",
      "metadata": {
        "id": "view-in-github",
        "colab_type": "text"
      },
      "source": [
        "<a href=\"https://colab.research.google.com/github/APstats-labs/labs/blob/main/SA_C3.ipynb\" target=\"_parent\"><img src=\"https://colab.research.google.com/assets/colab-badge.svg\" alt=\"Open In Colab\"/></a>"
      ]
    },
    {
      "cell_type": "markdown",
      "source": [
        "# Data pre-processing methods (1)"
      ],
      "metadata": {
        "id": "wqGJwEhapC95"
      }
    },
    {
      "cell_type": "markdown",
      "source": [
        "General requirements"
      ],
      "metadata": {
        "id": "DGRky5tE00m7"
      }
    },
    {
      "cell_type": "code",
      "source": [
        "from google.colab import drive\n",
        "drive.mount('/content/drive')\n",
        "\n",
        "import pandas as pd\n",
        "import numpy as np\n",
        "import matplotlib.pyplot as plt\n",
        "import math"
      ],
      "metadata": {
        "id": "GtPu6wqdoJ2K",
        "colab": {
          "base_uri": "https://localhost:8080/"
        },
        "outputId": "56e476bd-1a6d-4621-f7a6-5b3154842bff"
      },
      "execution_count": 1,
      "outputs": [
        {
          "output_type": "stream",
          "name": "stdout",
          "text": [
            "Mounted at /content/drive\n"
          ]
        }
      ]
    },
    {
      "cell_type": "markdown",
      "source": [
        "##Sampling tehniques"
      ],
      "metadata": {
        "id": "R71gk0RAeUzQ"
      }
    },
    {
      "cell_type": "markdown",
      "source": [
        "### Preparing the data"
      ],
      "metadata": {
        "id": "IA-_w6LAu694"
      }
    },
    {
      "cell_type": "markdown",
      "source": [
        "Loading a STATA dataset from Google Drive"
      ],
      "metadata": {
        "id": "x4JZikYJUb8S"
      }
    },
    {
      "cell_type": "code",
      "source": [
        "data = pd.read_stata('/content/drive/MyDrive/Colab Notebooks/Statistics/Curs/Data_c2/ZA8761_v1-0-0.dta')"
      ],
      "metadata": {
        "id": "_9ER7A6qs3jY"
      },
      "execution_count": 2,
      "outputs": []
    },
    {
      "cell_type": "markdown",
      "source": [
        "Listing variable names in a table"
      ],
      "metadata": {
        "id": "4b9afmnWjtfL"
      }
    },
    {
      "cell_type": "code",
      "source": [
        "variable_names = data.columns.tolist()\n",
        "\n",
        "# Calculate the number of rows and columns for the tabular form\n",
        "num_variables = len(variable_names)\n",
        "num_columns = (num_variables + 19) // 20  # Round up to nearest multiple of 20\n",
        "\n",
        "# Create a DataFrame to store the variable names in the desired format\n",
        "names_df = pd.DataFrame(columns=[f'Column_{i+1}' for i in range(num_columns)])\n",
        "\n",
        "# Fill in the DataFrame with variable names\n",
        "for i, var_name in enumerate(variable_names):\n",
        "    col_idx = i // 20\n",
        "    names_df.loc[i % 20, f'Column_{col_idx+1}'] = var_name\n",
        "\n",
        "# Display the DataFrame\n",
        "names_df"
      ],
      "metadata": {
        "colab": {
          "base_uri": "https://localhost:8080/",
          "height": 0
        },
        "id": "WLln3UiRVKMW",
        "outputId": "dfb5cdea-3c0a-4ec7-97c0-1b3ee708082e"
      },
      "execution_count": 3,
      "outputs": [
        {
          "output_type": "execute_result",
          "data": {
            "text/plain": [
              "    Column_1 Column_2 Column_3 Column_4 Column_5 Column_6 Column_7 Column_8  \\\n",
              "0    studyno     d3_7    d3_28     q4_2    q5_11    q7_11    q13_1   q15_13   \n",
              "1        doi     d3_8    d3_29     q4_3     q6_1    q7_12    q13_2    q16_1   \n",
              "2    version     d3_9    d3_30     q4_4     q6_2     q8_1    q13_3    q16_2   \n",
              "3    edition    d3_10      d3c     q4_5     q6_3     q8_2    q13_4    q16_3   \n",
              "4     survey    d3_11      d13     q4_6     q6_4     q8_3    q13_5    q16_4   \n",
              "5     uniqid    d3_12       q1     q4_7     q6_5       q9    q13_6    q16_5   \n",
              "6   serialid    d3_13       q2     q4_8     q6_6    q10_1  consent    q16_6   \n",
              "7   ipscntry    d3_14     q3_1     q4_9     q6_7    q10_2      q14    q16_7   \n",
              "8    country    d3_16     q3_2    q4_10     q6_8    q10_3    q15_1    q16_8   \n",
              "9   isocntry    d3_17     q3_3    q4_11     q6_9    q10_4    q15_2    q16_9   \n",
              "10        d1    d3_18     q3_4     q5_1     q7_1    q10_5    q15_3   q16_10   \n",
              "11      d1r1    d3_19     q3_5     q5_2     q7_2    q10_6    q15_4   q16_11   \n",
              "12      d1r2    d3_20     q3_6     q5_3     q7_3    q10_7    q15_5    q17_1   \n",
              "13        d2    d3_21     q3_7     q5_4     q7_4    q10_8    q15_6    q17_2   \n",
              "14      d3_1    d3_22     q3_8     q5_5     q7_5    q10_9    q15_7    q17_3   \n",
              "15      d3_2    d3_23     q3_9     q5_6     q7_6   q10_10    q15_8    q17_4   \n",
              "16      d3_3    d3_24    q3_10     q5_7     q7_7      q11    q15_9    q17_5   \n",
              "17      d3_4    d3_25    q3_11     q5_8     q7_8    q12_1   q15_10    q17_6   \n",
              "18      d3_5    d3_26    q3_12     q5_9     q7_9    q12_2   q15_11    q17_7   \n",
              "19      d3_6    d3_27     q4_1    q5_10    q7_10    q12_3   q15_12    q17_8   \n",
              "\n",
              "   Column_9 Column_10 Column_11 Column_12 Column_13  \n",
              "0       dx1     d12bg     d12nl  euronz20      w103  \n",
              "1        d4     d12cy   d12nl_r  eu_nms10      w100  \n",
              "2      d4r1     d12cz     d12pl  eu_nms12       NaN  \n",
              "3      d4r2     d12dk   d12pl_r  eu_nms13       NaN  \n",
              "4       d5a     d12ee     d12pt      eu25       NaN  \n",
              "5       d5b     d12de     d12ro      eu27       NaN  \n",
              "6       d5c     d12gr     d12se    eu_la6       NaN  \n",
              "7       d5d   d12gr_r   d12se_r        w1       NaN  \n",
              "8       d5e     d12es     d12si        w5       NaN  \n",
              "9       d5r   d12es_r   d12si_r        w6       NaN  \n",
              "10       d5     d12fi     d12sk        w7       NaN  \n",
              "11      d22     d12fr     d12mt        w9       NaN  \n",
              "12     d22r   d12fr_r     d12hr       w10       NaN  \n",
              "13      d23     d12hu       eu6       w11       NaN  \n",
              "14     d23r     d12ie       eu9       w13       NaN  \n",
              "15      d25     d12it      eu10       w14       NaN  \n",
              "16    d12be   d12it_r    eu12_2       w24       NaN  \n",
              "17  d12be_r     d12lt   eu_nms3       w87       NaN  \n",
              "18    d12at     d12lu      eu15       w94       NaN  \n",
              "19  d12at_r     d12lv   euroz20      w102       NaN  "
            ],
            "text/html": [
              "\n",
              "  <div id=\"df-aa212046-d217-4c86-af3f-a3c25d494a64\" class=\"colab-df-container\">\n",
              "    <div>\n",
              "<style scoped>\n",
              "    .dataframe tbody tr th:only-of-type {\n",
              "        vertical-align: middle;\n",
              "    }\n",
              "\n",
              "    .dataframe tbody tr th {\n",
              "        vertical-align: top;\n",
              "    }\n",
              "\n",
              "    .dataframe thead th {\n",
              "        text-align: right;\n",
              "    }\n",
              "</style>\n",
              "<table border=\"1\" class=\"dataframe\">\n",
              "  <thead>\n",
              "    <tr style=\"text-align: right;\">\n",
              "      <th></th>\n",
              "      <th>Column_1</th>\n",
              "      <th>Column_2</th>\n",
              "      <th>Column_3</th>\n",
              "      <th>Column_4</th>\n",
              "      <th>Column_5</th>\n",
              "      <th>Column_6</th>\n",
              "      <th>Column_7</th>\n",
              "      <th>Column_8</th>\n",
              "      <th>Column_9</th>\n",
              "      <th>Column_10</th>\n",
              "      <th>Column_11</th>\n",
              "      <th>Column_12</th>\n",
              "      <th>Column_13</th>\n",
              "    </tr>\n",
              "  </thead>\n",
              "  <tbody>\n",
              "    <tr>\n",
              "      <th>0</th>\n",
              "      <td>studyno</td>\n",
              "      <td>d3_7</td>\n",
              "      <td>d3_28</td>\n",
              "      <td>q4_2</td>\n",
              "      <td>q5_11</td>\n",
              "      <td>q7_11</td>\n",
              "      <td>q13_1</td>\n",
              "      <td>q15_13</td>\n",
              "      <td>dx1</td>\n",
              "      <td>d12bg</td>\n",
              "      <td>d12nl</td>\n",
              "      <td>euronz20</td>\n",
              "      <td>w103</td>\n",
              "    </tr>\n",
              "    <tr>\n",
              "      <th>1</th>\n",
              "      <td>doi</td>\n",
              "      <td>d3_8</td>\n",
              "      <td>d3_29</td>\n",
              "      <td>q4_3</td>\n",
              "      <td>q6_1</td>\n",
              "      <td>q7_12</td>\n",
              "      <td>q13_2</td>\n",
              "      <td>q16_1</td>\n",
              "      <td>d4</td>\n",
              "      <td>d12cy</td>\n",
              "      <td>d12nl_r</td>\n",
              "      <td>eu_nms10</td>\n",
              "      <td>w100</td>\n",
              "    </tr>\n",
              "    <tr>\n",
              "      <th>2</th>\n",
              "      <td>version</td>\n",
              "      <td>d3_9</td>\n",
              "      <td>d3_30</td>\n",
              "      <td>q4_4</td>\n",
              "      <td>q6_2</td>\n",
              "      <td>q8_1</td>\n",
              "      <td>q13_3</td>\n",
              "      <td>q16_2</td>\n",
              "      <td>d4r1</td>\n",
              "      <td>d12cz</td>\n",
              "      <td>d12pl</td>\n",
              "      <td>eu_nms12</td>\n",
              "      <td>NaN</td>\n",
              "    </tr>\n",
              "    <tr>\n",
              "      <th>3</th>\n",
              "      <td>edition</td>\n",
              "      <td>d3_10</td>\n",
              "      <td>d3c</td>\n",
              "      <td>q4_5</td>\n",
              "      <td>q6_3</td>\n",
              "      <td>q8_2</td>\n",
              "      <td>q13_4</td>\n",
              "      <td>q16_3</td>\n",
              "      <td>d4r2</td>\n",
              "      <td>d12dk</td>\n",
              "      <td>d12pl_r</td>\n",
              "      <td>eu_nms13</td>\n",
              "      <td>NaN</td>\n",
              "    </tr>\n",
              "    <tr>\n",
              "      <th>4</th>\n",
              "      <td>survey</td>\n",
              "      <td>d3_11</td>\n",
              "      <td>d13</td>\n",
              "      <td>q4_6</td>\n",
              "      <td>q6_4</td>\n",
              "      <td>q8_3</td>\n",
              "      <td>q13_5</td>\n",
              "      <td>q16_4</td>\n",
              "      <td>d5a</td>\n",
              "      <td>d12ee</td>\n",
              "      <td>d12pt</td>\n",
              "      <td>eu25</td>\n",
              "      <td>NaN</td>\n",
              "    </tr>\n",
              "    <tr>\n",
              "      <th>5</th>\n",
              "      <td>uniqid</td>\n",
              "      <td>d3_12</td>\n",
              "      <td>q1</td>\n",
              "      <td>q4_7</td>\n",
              "      <td>q6_5</td>\n",
              "      <td>q9</td>\n",
              "      <td>q13_6</td>\n",
              "      <td>q16_5</td>\n",
              "      <td>d5b</td>\n",
              "      <td>d12de</td>\n",
              "      <td>d12ro</td>\n",
              "      <td>eu27</td>\n",
              "      <td>NaN</td>\n",
              "    </tr>\n",
              "    <tr>\n",
              "      <th>6</th>\n",
              "      <td>serialid</td>\n",
              "      <td>d3_13</td>\n",
              "      <td>q2</td>\n",
              "      <td>q4_8</td>\n",
              "      <td>q6_6</td>\n",
              "      <td>q10_1</td>\n",
              "      <td>consent</td>\n",
              "      <td>q16_6</td>\n",
              "      <td>d5c</td>\n",
              "      <td>d12gr</td>\n",
              "      <td>d12se</td>\n",
              "      <td>eu_la6</td>\n",
              "      <td>NaN</td>\n",
              "    </tr>\n",
              "    <tr>\n",
              "      <th>7</th>\n",
              "      <td>ipscntry</td>\n",
              "      <td>d3_14</td>\n",
              "      <td>q3_1</td>\n",
              "      <td>q4_9</td>\n",
              "      <td>q6_7</td>\n",
              "      <td>q10_2</td>\n",
              "      <td>q14</td>\n",
              "      <td>q16_7</td>\n",
              "      <td>d5d</td>\n",
              "      <td>d12gr_r</td>\n",
              "      <td>d12se_r</td>\n",
              "      <td>w1</td>\n",
              "      <td>NaN</td>\n",
              "    </tr>\n",
              "    <tr>\n",
              "      <th>8</th>\n",
              "      <td>country</td>\n",
              "      <td>d3_16</td>\n",
              "      <td>q3_2</td>\n",
              "      <td>q4_10</td>\n",
              "      <td>q6_8</td>\n",
              "      <td>q10_3</td>\n",
              "      <td>q15_1</td>\n",
              "      <td>q16_8</td>\n",
              "      <td>d5e</td>\n",
              "      <td>d12es</td>\n",
              "      <td>d12si</td>\n",
              "      <td>w5</td>\n",
              "      <td>NaN</td>\n",
              "    </tr>\n",
              "    <tr>\n",
              "      <th>9</th>\n",
              "      <td>isocntry</td>\n",
              "      <td>d3_17</td>\n",
              "      <td>q3_3</td>\n",
              "      <td>q4_11</td>\n",
              "      <td>q6_9</td>\n",
              "      <td>q10_4</td>\n",
              "      <td>q15_2</td>\n",
              "      <td>q16_9</td>\n",
              "      <td>d5r</td>\n",
              "      <td>d12es_r</td>\n",
              "      <td>d12si_r</td>\n",
              "      <td>w6</td>\n",
              "      <td>NaN</td>\n",
              "    </tr>\n",
              "    <tr>\n",
              "      <th>10</th>\n",
              "      <td>d1</td>\n",
              "      <td>d3_18</td>\n",
              "      <td>q3_4</td>\n",
              "      <td>q5_1</td>\n",
              "      <td>q7_1</td>\n",
              "      <td>q10_5</td>\n",
              "      <td>q15_3</td>\n",
              "      <td>q16_10</td>\n",
              "      <td>d5</td>\n",
              "      <td>d12fi</td>\n",
              "      <td>d12sk</td>\n",
              "      <td>w7</td>\n",
              "      <td>NaN</td>\n",
              "    </tr>\n",
              "    <tr>\n",
              "      <th>11</th>\n",
              "      <td>d1r1</td>\n",
              "      <td>d3_19</td>\n",
              "      <td>q3_5</td>\n",
              "      <td>q5_2</td>\n",
              "      <td>q7_2</td>\n",
              "      <td>q10_6</td>\n",
              "      <td>q15_4</td>\n",
              "      <td>q16_11</td>\n",
              "      <td>d22</td>\n",
              "      <td>d12fr</td>\n",
              "      <td>d12mt</td>\n",
              "      <td>w9</td>\n",
              "      <td>NaN</td>\n",
              "    </tr>\n",
              "    <tr>\n",
              "      <th>12</th>\n",
              "      <td>d1r2</td>\n",
              "      <td>d3_20</td>\n",
              "      <td>q3_6</td>\n",
              "      <td>q5_3</td>\n",
              "      <td>q7_3</td>\n",
              "      <td>q10_7</td>\n",
              "      <td>q15_5</td>\n",
              "      <td>q17_1</td>\n",
              "      <td>d22r</td>\n",
              "      <td>d12fr_r</td>\n",
              "      <td>d12hr</td>\n",
              "      <td>w10</td>\n",
              "      <td>NaN</td>\n",
              "    </tr>\n",
              "    <tr>\n",
              "      <th>13</th>\n",
              "      <td>d2</td>\n",
              "      <td>d3_21</td>\n",
              "      <td>q3_7</td>\n",
              "      <td>q5_4</td>\n",
              "      <td>q7_4</td>\n",
              "      <td>q10_8</td>\n",
              "      <td>q15_6</td>\n",
              "      <td>q17_2</td>\n",
              "      <td>d23</td>\n",
              "      <td>d12hu</td>\n",
              "      <td>eu6</td>\n",
              "      <td>w11</td>\n",
              "      <td>NaN</td>\n",
              "    </tr>\n",
              "    <tr>\n",
              "      <th>14</th>\n",
              "      <td>d3_1</td>\n",
              "      <td>d3_22</td>\n",
              "      <td>q3_8</td>\n",
              "      <td>q5_5</td>\n",
              "      <td>q7_5</td>\n",
              "      <td>q10_9</td>\n",
              "      <td>q15_7</td>\n",
              "      <td>q17_3</td>\n",
              "      <td>d23r</td>\n",
              "      <td>d12ie</td>\n",
              "      <td>eu9</td>\n",
              "      <td>w13</td>\n",
              "      <td>NaN</td>\n",
              "    </tr>\n",
              "    <tr>\n",
              "      <th>15</th>\n",
              "      <td>d3_2</td>\n",
              "      <td>d3_23</td>\n",
              "      <td>q3_9</td>\n",
              "      <td>q5_6</td>\n",
              "      <td>q7_6</td>\n",
              "      <td>q10_10</td>\n",
              "      <td>q15_8</td>\n",
              "      <td>q17_4</td>\n",
              "      <td>d25</td>\n",
              "      <td>d12it</td>\n",
              "      <td>eu10</td>\n",
              "      <td>w14</td>\n",
              "      <td>NaN</td>\n",
              "    </tr>\n",
              "    <tr>\n",
              "      <th>16</th>\n",
              "      <td>d3_3</td>\n",
              "      <td>d3_24</td>\n",
              "      <td>q3_10</td>\n",
              "      <td>q5_7</td>\n",
              "      <td>q7_7</td>\n",
              "      <td>q11</td>\n",
              "      <td>q15_9</td>\n",
              "      <td>q17_5</td>\n",
              "      <td>d12be</td>\n",
              "      <td>d12it_r</td>\n",
              "      <td>eu12_2</td>\n",
              "      <td>w24</td>\n",
              "      <td>NaN</td>\n",
              "    </tr>\n",
              "    <tr>\n",
              "      <th>17</th>\n",
              "      <td>d3_4</td>\n",
              "      <td>d3_25</td>\n",
              "      <td>q3_11</td>\n",
              "      <td>q5_8</td>\n",
              "      <td>q7_8</td>\n",
              "      <td>q12_1</td>\n",
              "      <td>q15_10</td>\n",
              "      <td>q17_6</td>\n",
              "      <td>d12be_r</td>\n",
              "      <td>d12lt</td>\n",
              "      <td>eu_nms3</td>\n",
              "      <td>w87</td>\n",
              "      <td>NaN</td>\n",
              "    </tr>\n",
              "    <tr>\n",
              "      <th>18</th>\n",
              "      <td>d3_5</td>\n",
              "      <td>d3_26</td>\n",
              "      <td>q3_12</td>\n",
              "      <td>q5_9</td>\n",
              "      <td>q7_9</td>\n",
              "      <td>q12_2</td>\n",
              "      <td>q15_11</td>\n",
              "      <td>q17_7</td>\n",
              "      <td>d12at</td>\n",
              "      <td>d12lu</td>\n",
              "      <td>eu15</td>\n",
              "      <td>w94</td>\n",
              "      <td>NaN</td>\n",
              "    </tr>\n",
              "    <tr>\n",
              "      <th>19</th>\n",
              "      <td>d3_6</td>\n",
              "      <td>d3_27</td>\n",
              "      <td>q4_1</td>\n",
              "      <td>q5_10</td>\n",
              "      <td>q7_10</td>\n",
              "      <td>q12_3</td>\n",
              "      <td>q15_12</td>\n",
              "      <td>q17_8</td>\n",
              "      <td>d12at_r</td>\n",
              "      <td>d12lv</td>\n",
              "      <td>euroz20</td>\n",
              "      <td>w102</td>\n",
              "      <td>NaN</td>\n",
              "    </tr>\n",
              "  </tbody>\n",
              "</table>\n",
              "</div>\n",
              "    <div class=\"colab-df-buttons\">\n",
              "\n",
              "  <div class=\"colab-df-container\">\n",
              "    <button class=\"colab-df-convert\" onclick=\"convertToInteractive('df-aa212046-d217-4c86-af3f-a3c25d494a64')\"\n",
              "            title=\"Convert this dataframe to an interactive table.\"\n",
              "            style=\"display:none;\">\n",
              "\n",
              "  <svg xmlns=\"http://www.w3.org/2000/svg\" height=\"24px\" viewBox=\"0 -960 960 960\">\n",
              "    <path d=\"M120-120v-720h720v720H120Zm60-500h600v-160H180v160Zm220 220h160v-160H400v160Zm0 220h160v-160H400v160ZM180-400h160v-160H180v160Zm440 0h160v-160H620v160ZM180-180h160v-160H180v160Zm440 0h160v-160H620v160Z\"/>\n",
              "  </svg>\n",
              "    </button>\n",
              "\n",
              "  <style>\n",
              "    .colab-df-container {\n",
              "      display:flex;\n",
              "      gap: 12px;\n",
              "    }\n",
              "\n",
              "    .colab-df-convert {\n",
              "      background-color: #E8F0FE;\n",
              "      border: none;\n",
              "      border-radius: 50%;\n",
              "      cursor: pointer;\n",
              "      display: none;\n",
              "      fill: #1967D2;\n",
              "      height: 32px;\n",
              "      padding: 0 0 0 0;\n",
              "      width: 32px;\n",
              "    }\n",
              "\n",
              "    .colab-df-convert:hover {\n",
              "      background-color: #E2EBFA;\n",
              "      box-shadow: 0px 1px 2px rgba(60, 64, 67, 0.3), 0px 1px 3px 1px rgba(60, 64, 67, 0.15);\n",
              "      fill: #174EA6;\n",
              "    }\n",
              "\n",
              "    .colab-df-buttons div {\n",
              "      margin-bottom: 4px;\n",
              "    }\n",
              "\n",
              "    [theme=dark] .colab-df-convert {\n",
              "      background-color: #3B4455;\n",
              "      fill: #D2E3FC;\n",
              "    }\n",
              "\n",
              "    [theme=dark] .colab-df-convert:hover {\n",
              "      background-color: #434B5C;\n",
              "      box-shadow: 0px 1px 3px 1px rgba(0, 0, 0, 0.15);\n",
              "      filter: drop-shadow(0px 1px 2px rgba(0, 0, 0, 0.3));\n",
              "      fill: #FFFFFF;\n",
              "    }\n",
              "  </style>\n",
              "\n",
              "    <script>\n",
              "      const buttonEl =\n",
              "        document.querySelector('#df-aa212046-d217-4c86-af3f-a3c25d494a64 button.colab-df-convert');\n",
              "      buttonEl.style.display =\n",
              "        google.colab.kernel.accessAllowed ? 'block' : 'none';\n",
              "\n",
              "      async function convertToInteractive(key) {\n",
              "        const element = document.querySelector('#df-aa212046-d217-4c86-af3f-a3c25d494a64');\n",
              "        const dataTable =\n",
              "          await google.colab.kernel.invokeFunction('convertToInteractive',\n",
              "                                                    [key], {});\n",
              "        if (!dataTable) return;\n",
              "\n",
              "        const docLinkHtml = 'Like what you see? Visit the ' +\n",
              "          '<a target=\"_blank\" href=https://colab.research.google.com/notebooks/data_table.ipynb>data table notebook</a>'\n",
              "          + ' to learn more about interactive tables.';\n",
              "        element.innerHTML = '';\n",
              "        dataTable['output_type'] = 'display_data';\n",
              "        await google.colab.output.renderOutput(dataTable, element);\n",
              "        const docLink = document.createElement('div');\n",
              "        docLink.innerHTML = docLinkHtml;\n",
              "        element.appendChild(docLink);\n",
              "      }\n",
              "    </script>\n",
              "  </div>\n",
              "\n",
              "\n",
              "<div id=\"df-7068f780-474b-4fac-a19a-923d37ca4a60\">\n",
              "  <button class=\"colab-df-quickchart\" onclick=\"quickchart('df-7068f780-474b-4fac-a19a-923d37ca4a60')\"\n",
              "            title=\"Suggest charts\"\n",
              "            style=\"display:none;\">\n",
              "\n",
              "<svg xmlns=\"http://www.w3.org/2000/svg\" height=\"24px\"viewBox=\"0 0 24 24\"\n",
              "     width=\"24px\">\n",
              "    <g>\n",
              "        <path d=\"M19 3H5c-1.1 0-2 .9-2 2v14c0 1.1.9 2 2 2h14c1.1 0 2-.9 2-2V5c0-1.1-.9-2-2-2zM9 17H7v-7h2v7zm4 0h-2V7h2v10zm4 0h-2v-4h2v4z\"/>\n",
              "    </g>\n",
              "</svg>\n",
              "  </button>\n",
              "\n",
              "<style>\n",
              "  .colab-df-quickchart {\n",
              "      --bg-color: #E8F0FE;\n",
              "      --fill-color: #1967D2;\n",
              "      --hover-bg-color: #E2EBFA;\n",
              "      --hover-fill-color: #174EA6;\n",
              "      --disabled-fill-color: #AAA;\n",
              "      --disabled-bg-color: #DDD;\n",
              "  }\n",
              "\n",
              "  [theme=dark] .colab-df-quickchart {\n",
              "      --bg-color: #3B4455;\n",
              "      --fill-color: #D2E3FC;\n",
              "      --hover-bg-color: #434B5C;\n",
              "      --hover-fill-color: #FFFFFF;\n",
              "      --disabled-bg-color: #3B4455;\n",
              "      --disabled-fill-color: #666;\n",
              "  }\n",
              "\n",
              "  .colab-df-quickchart {\n",
              "    background-color: var(--bg-color);\n",
              "    border: none;\n",
              "    border-radius: 50%;\n",
              "    cursor: pointer;\n",
              "    display: none;\n",
              "    fill: var(--fill-color);\n",
              "    height: 32px;\n",
              "    padding: 0;\n",
              "    width: 32px;\n",
              "  }\n",
              "\n",
              "  .colab-df-quickchart:hover {\n",
              "    background-color: var(--hover-bg-color);\n",
              "    box-shadow: 0 1px 2px rgba(60, 64, 67, 0.3), 0 1px 3px 1px rgba(60, 64, 67, 0.15);\n",
              "    fill: var(--button-hover-fill-color);\n",
              "  }\n",
              "\n",
              "  .colab-df-quickchart-complete:disabled,\n",
              "  .colab-df-quickchart-complete:disabled:hover {\n",
              "    background-color: var(--disabled-bg-color);\n",
              "    fill: var(--disabled-fill-color);\n",
              "    box-shadow: none;\n",
              "  }\n",
              "\n",
              "  .colab-df-spinner {\n",
              "    border: 2px solid var(--fill-color);\n",
              "    border-color: transparent;\n",
              "    border-bottom-color: var(--fill-color);\n",
              "    animation:\n",
              "      spin 1s steps(1) infinite;\n",
              "  }\n",
              "\n",
              "  @keyframes spin {\n",
              "    0% {\n",
              "      border-color: transparent;\n",
              "      border-bottom-color: var(--fill-color);\n",
              "      border-left-color: var(--fill-color);\n",
              "    }\n",
              "    20% {\n",
              "      border-color: transparent;\n",
              "      border-left-color: var(--fill-color);\n",
              "      border-top-color: var(--fill-color);\n",
              "    }\n",
              "    30% {\n",
              "      border-color: transparent;\n",
              "      border-left-color: var(--fill-color);\n",
              "      border-top-color: var(--fill-color);\n",
              "      border-right-color: var(--fill-color);\n",
              "    }\n",
              "    40% {\n",
              "      border-color: transparent;\n",
              "      border-right-color: var(--fill-color);\n",
              "      border-top-color: var(--fill-color);\n",
              "    }\n",
              "    60% {\n",
              "      border-color: transparent;\n",
              "      border-right-color: var(--fill-color);\n",
              "    }\n",
              "    80% {\n",
              "      border-color: transparent;\n",
              "      border-right-color: var(--fill-color);\n",
              "      border-bottom-color: var(--fill-color);\n",
              "    }\n",
              "    90% {\n",
              "      border-color: transparent;\n",
              "      border-bottom-color: var(--fill-color);\n",
              "    }\n",
              "  }\n",
              "</style>\n",
              "\n",
              "  <script>\n",
              "    async function quickchart(key) {\n",
              "      const quickchartButtonEl =\n",
              "        document.querySelector('#' + key + ' button');\n",
              "      quickchartButtonEl.disabled = true;  // To prevent multiple clicks.\n",
              "      quickchartButtonEl.classList.add('colab-df-spinner');\n",
              "      try {\n",
              "        const charts = await google.colab.kernel.invokeFunction(\n",
              "            'suggestCharts', [key], {});\n",
              "      } catch (error) {\n",
              "        console.error('Error during call to suggestCharts:', error);\n",
              "      }\n",
              "      quickchartButtonEl.classList.remove('colab-df-spinner');\n",
              "      quickchartButtonEl.classList.add('colab-df-quickchart-complete');\n",
              "    }\n",
              "    (() => {\n",
              "      let quickchartButtonEl =\n",
              "        document.querySelector('#df-7068f780-474b-4fac-a19a-923d37ca4a60 button');\n",
              "      quickchartButtonEl.style.display =\n",
              "        google.colab.kernel.accessAllowed ? 'block' : 'none';\n",
              "    })();\n",
              "  </script>\n",
              "</div>\n",
              "\n",
              "  <div id=\"id_8bd60ab8-b4b2-4afb-88f9-c41aab54363b\">\n",
              "    <style>\n",
              "      .colab-df-generate {\n",
              "        background-color: #E8F0FE;\n",
              "        border: none;\n",
              "        border-radius: 50%;\n",
              "        cursor: pointer;\n",
              "        display: none;\n",
              "        fill: #1967D2;\n",
              "        height: 32px;\n",
              "        padding: 0 0 0 0;\n",
              "        width: 32px;\n",
              "      }\n",
              "\n",
              "      .colab-df-generate:hover {\n",
              "        background-color: #E2EBFA;\n",
              "        box-shadow: 0px 1px 2px rgba(60, 64, 67, 0.3), 0px 1px 3px 1px rgba(60, 64, 67, 0.15);\n",
              "        fill: #174EA6;\n",
              "      }\n",
              "\n",
              "      [theme=dark] .colab-df-generate {\n",
              "        background-color: #3B4455;\n",
              "        fill: #D2E3FC;\n",
              "      }\n",
              "\n",
              "      [theme=dark] .colab-df-generate:hover {\n",
              "        background-color: #434B5C;\n",
              "        box-shadow: 0px 1px 3px 1px rgba(0, 0, 0, 0.15);\n",
              "        filter: drop-shadow(0px 1px 2px rgba(0, 0, 0, 0.3));\n",
              "        fill: #FFFFFF;\n",
              "      }\n",
              "    </style>\n",
              "    <button class=\"colab-df-generate\" onclick=\"generateWithVariable('names_df')\"\n",
              "            title=\"Generate code using this dataframe.\"\n",
              "            style=\"display:none;\">\n",
              "\n",
              "  <svg xmlns=\"http://www.w3.org/2000/svg\" height=\"24px\"viewBox=\"0 0 24 24\"\n",
              "       width=\"24px\">\n",
              "    <path d=\"M7,19H8.4L18.45,9,17,7.55,7,17.6ZM5,21V16.75L18.45,3.32a2,2,0,0,1,2.83,0l1.4,1.43a1.91,1.91,0,0,1,.58,1.4,1.91,1.91,0,0,1-.58,1.4L9.25,21ZM18.45,9,17,7.55Zm-12,3A5.31,5.31,0,0,0,4.9,8.1,5.31,5.31,0,0,0,1,6.5,5.31,5.31,0,0,0,4.9,4.9,5.31,5.31,0,0,0,6.5,1,5.31,5.31,0,0,0,8.1,4.9,5.31,5.31,0,0,0,12,6.5,5.46,5.46,0,0,0,6.5,12Z\"/>\n",
              "  </svg>\n",
              "    </button>\n",
              "    <script>\n",
              "      (() => {\n",
              "      const buttonEl =\n",
              "        document.querySelector('#id_8bd60ab8-b4b2-4afb-88f9-c41aab54363b button.colab-df-generate');\n",
              "      buttonEl.style.display =\n",
              "        google.colab.kernel.accessAllowed ? 'block' : 'none';\n",
              "\n",
              "      buttonEl.onclick = () => {\n",
              "        google.colab.notebook.generateWithVariable('names_df');\n",
              "      }\n",
              "      })();\n",
              "    </script>\n",
              "  </div>\n",
              "\n",
              "    </div>\n",
              "  </div>\n"
            ],
            "application/vnd.google.colaboratory.intrinsic+json": {
              "type": "dataframe",
              "variable_name": "names_df",
              "summary": "{\n  \"name\": \"names_df\",\n  \"rows\": 20,\n  \"fields\": [\n    {\n      \"column\": \"Column_1\",\n      \"properties\": {\n        \"dtype\": \"string\",\n        \"num_unique_values\": 20,\n        \"samples\": [\n          \"studyno\",\n          \"d3_4\",\n          \"d3_2\"\n        ],\n        \"semantic_type\": \"\",\n        \"description\": \"\"\n      }\n    },\n    {\n      \"column\": \"Column_2\",\n      \"properties\": {\n        \"dtype\": \"string\",\n        \"num_unique_values\": 20,\n        \"samples\": [\n          \"d3_7\",\n          \"d3_25\",\n          \"d3_23\"\n        ],\n        \"semantic_type\": \"\",\n        \"description\": \"\"\n      }\n    },\n    {\n      \"column\": \"Column_3\",\n      \"properties\": {\n        \"dtype\": \"string\",\n        \"num_unique_values\": 20,\n        \"samples\": [\n          \"d3_28\",\n          \"q3_11\",\n          \"q3_9\"\n        ],\n        \"semantic_type\": \"\",\n        \"description\": \"\"\n      }\n    },\n    {\n      \"column\": \"Column_4\",\n      \"properties\": {\n        \"dtype\": \"string\",\n        \"num_unique_values\": 20,\n        \"samples\": [\n          \"q4_2\",\n          \"q5_8\",\n          \"q5_6\"\n        ],\n        \"semantic_type\": \"\",\n        \"description\": \"\"\n      }\n    },\n    {\n      \"column\": \"Column_5\",\n      \"properties\": {\n        \"dtype\": \"string\",\n        \"num_unique_values\": 20,\n        \"samples\": [\n          \"q5_11\",\n          \"q7_8\",\n          \"q7_6\"\n        ],\n        \"semantic_type\": \"\",\n        \"description\": \"\"\n      }\n    },\n    {\n      \"column\": \"Column_6\",\n      \"properties\": {\n        \"dtype\": \"string\",\n        \"num_unique_values\": 20,\n        \"samples\": [\n          \"q7_11\",\n          \"q12_1\",\n          \"q10_10\"\n        ],\n        \"semantic_type\": \"\",\n        \"description\": \"\"\n      }\n    },\n    {\n      \"column\": \"Column_7\",\n      \"properties\": {\n        \"dtype\": \"string\",\n        \"num_unique_values\": 20,\n        \"samples\": [\n          \"q13_1\",\n          \"q15_10\",\n          \"q15_8\"\n        ],\n        \"semantic_type\": \"\",\n        \"description\": \"\"\n      }\n    },\n    {\n      \"column\": \"Column_8\",\n      \"properties\": {\n        \"dtype\": \"string\",\n        \"num_unique_values\": 20,\n        \"samples\": [\n          \"q15_13\",\n          \"q17_6\",\n          \"q17_4\"\n        ],\n        \"semantic_type\": \"\",\n        \"description\": \"\"\n      }\n    },\n    {\n      \"column\": \"Column_9\",\n      \"properties\": {\n        \"dtype\": \"string\",\n        \"num_unique_values\": 20,\n        \"samples\": [\n          \"dx1\",\n          \"d12be_r\",\n          \"d25\"\n        ],\n        \"semantic_type\": \"\",\n        \"description\": \"\"\n      }\n    },\n    {\n      \"column\": \"Column_10\",\n      \"properties\": {\n        \"dtype\": \"string\",\n        \"num_unique_values\": 20,\n        \"samples\": [\n          \"d12bg\",\n          \"d12lt\",\n          \"d12it\"\n        ],\n        \"semantic_type\": \"\",\n        \"description\": \"\"\n      }\n    },\n    {\n      \"column\": \"Column_11\",\n      \"properties\": {\n        \"dtype\": \"string\",\n        \"num_unique_values\": 20,\n        \"samples\": [\n          \"d12nl\",\n          \"eu_nms3\",\n          \"eu10\"\n        ],\n        \"semantic_type\": \"\",\n        \"description\": \"\"\n      }\n    },\n    {\n      \"column\": \"Column_12\",\n      \"properties\": {\n        \"dtype\": \"string\",\n        \"num_unique_values\": 20,\n        \"samples\": [\n          \"euronz20\",\n          \"w87\",\n          \"w14\"\n        ],\n        \"semantic_type\": \"\",\n        \"description\": \"\"\n      }\n    },\n    {\n      \"column\": \"Column_13\",\n      \"properties\": {\n        \"dtype\": \"category\",\n        \"num_unique_values\": 2,\n        \"samples\": [\n          \"w100\",\n          \"w103\"\n        ],\n        \"semantic_type\": \"\",\n        \"description\": \"\"\n      }\n    }\n  ]\n}"
            }
          },
          "metadata": {},
          "execution_count": 3
        }
      ]
    },
    {
      "cell_type": "markdown",
      "source": [
        "Select a subset of the data and rename the columns.\n",
        "\n",
        "This subset will serve as our population for sampling"
      ],
      "metadata": {
        "id": "qf_BX46SVJ0d"
      }
    },
    {
      "cell_type": "code",
      "source": [
        "MentalProblems = data[['q1','q14', 'd5c']]\n",
        "MentalProblems = MentalProblems.set_axis([ 'Feeling Last 4 weeks', 'Anxiety or Depression last 12 months', 'Ocupation'], axis=1)\n",
        "MentalProblems = MentalProblems.iloc[2100:2110]\n",
        "MentalProblems.insert(0, 'ID', MentalProblems.reset_index().index + 1)\n",
        "MentalProblems"
      ],
      "metadata": {
        "colab": {
          "base_uri": "https://localhost:8080/",
          "height": 0
        },
        "id": "W8RubieXmVq-",
        "outputId": "71429c4d-bff9-44d2-c86f-25228a974739"
      },
      "execution_count": 4,
      "outputs": [
        {
          "output_type": "execute_result",
          "data": {
            "text/plain": [
              "      ID      Feeling Last 4 weeks Anxiety or Depression last 12 months  \\\n",
              "2100   1     I felt tired/worn out                                  Yes   \n",
              "2101   2  I felt calm and peaceful                                   No   \n",
              "2102   3  I felt calm and peaceful                                   No   \n",
              "2103   4              I felt tense                                  Yes   \n",
              "2104   5     I felt full of energy                                   No   \n",
              "2105   6              I felt tense                                  Yes   \n",
              "2106   7              I felt tense                                  Yes   \n",
              "2107   8  I felt calm and peaceful                                  Yes   \n",
              "2108   9  I felt calm and peaceful                                   No   \n",
              "2109  10  I felt calm and peaceful                                  Yes   \n",
              "\n",
              "          Ocupation  \n",
              "2100  Civil servant  \n",
              "2101  Civil servant  \n",
              "2102            NaN  \n",
              "2103   Office clerk  \n",
              "2104   Office clerk  \n",
              "2105            NaN  \n",
              "2106   Office clerk  \n",
              "2107            NaN  \n",
              "2108   Office clerk  \n",
              "2109   Office clerk  "
            ],
            "text/html": [
              "\n",
              "  <div id=\"df-5e060da1-cfab-4538-a483-bea617a11a65\" class=\"colab-df-container\">\n",
              "    <div>\n",
              "<style scoped>\n",
              "    .dataframe tbody tr th:only-of-type {\n",
              "        vertical-align: middle;\n",
              "    }\n",
              "\n",
              "    .dataframe tbody tr th {\n",
              "        vertical-align: top;\n",
              "    }\n",
              "\n",
              "    .dataframe thead th {\n",
              "        text-align: right;\n",
              "    }\n",
              "</style>\n",
              "<table border=\"1\" class=\"dataframe\">\n",
              "  <thead>\n",
              "    <tr style=\"text-align: right;\">\n",
              "      <th></th>\n",
              "      <th>ID</th>\n",
              "      <th>Feeling Last 4 weeks</th>\n",
              "      <th>Anxiety or Depression last 12 months</th>\n",
              "      <th>Ocupation</th>\n",
              "    </tr>\n",
              "  </thead>\n",
              "  <tbody>\n",
              "    <tr>\n",
              "      <th>2100</th>\n",
              "      <td>1</td>\n",
              "      <td>I felt tired/worn out</td>\n",
              "      <td>Yes</td>\n",
              "      <td>Civil servant</td>\n",
              "    </tr>\n",
              "    <tr>\n",
              "      <th>2101</th>\n",
              "      <td>2</td>\n",
              "      <td>I felt calm and peaceful</td>\n",
              "      <td>No</td>\n",
              "      <td>Civil servant</td>\n",
              "    </tr>\n",
              "    <tr>\n",
              "      <th>2102</th>\n",
              "      <td>3</td>\n",
              "      <td>I felt calm and peaceful</td>\n",
              "      <td>No</td>\n",
              "      <td>NaN</td>\n",
              "    </tr>\n",
              "    <tr>\n",
              "      <th>2103</th>\n",
              "      <td>4</td>\n",
              "      <td>I felt tense</td>\n",
              "      <td>Yes</td>\n",
              "      <td>Office clerk</td>\n",
              "    </tr>\n",
              "    <tr>\n",
              "      <th>2104</th>\n",
              "      <td>5</td>\n",
              "      <td>I felt full of energy</td>\n",
              "      <td>No</td>\n",
              "      <td>Office clerk</td>\n",
              "    </tr>\n",
              "    <tr>\n",
              "      <th>2105</th>\n",
              "      <td>6</td>\n",
              "      <td>I felt tense</td>\n",
              "      <td>Yes</td>\n",
              "      <td>NaN</td>\n",
              "    </tr>\n",
              "    <tr>\n",
              "      <th>2106</th>\n",
              "      <td>7</td>\n",
              "      <td>I felt tense</td>\n",
              "      <td>Yes</td>\n",
              "      <td>Office clerk</td>\n",
              "    </tr>\n",
              "    <tr>\n",
              "      <th>2107</th>\n",
              "      <td>8</td>\n",
              "      <td>I felt calm and peaceful</td>\n",
              "      <td>Yes</td>\n",
              "      <td>NaN</td>\n",
              "    </tr>\n",
              "    <tr>\n",
              "      <th>2108</th>\n",
              "      <td>9</td>\n",
              "      <td>I felt calm and peaceful</td>\n",
              "      <td>No</td>\n",
              "      <td>Office clerk</td>\n",
              "    </tr>\n",
              "    <tr>\n",
              "      <th>2109</th>\n",
              "      <td>10</td>\n",
              "      <td>I felt calm and peaceful</td>\n",
              "      <td>Yes</td>\n",
              "      <td>Office clerk</td>\n",
              "    </tr>\n",
              "  </tbody>\n",
              "</table>\n",
              "</div>\n",
              "    <div class=\"colab-df-buttons\">\n",
              "\n",
              "  <div class=\"colab-df-container\">\n",
              "    <button class=\"colab-df-convert\" onclick=\"convertToInteractive('df-5e060da1-cfab-4538-a483-bea617a11a65')\"\n",
              "            title=\"Convert this dataframe to an interactive table.\"\n",
              "            style=\"display:none;\">\n",
              "\n",
              "  <svg xmlns=\"http://www.w3.org/2000/svg\" height=\"24px\" viewBox=\"0 -960 960 960\">\n",
              "    <path d=\"M120-120v-720h720v720H120Zm60-500h600v-160H180v160Zm220 220h160v-160H400v160Zm0 220h160v-160H400v160ZM180-400h160v-160H180v160Zm440 0h160v-160H620v160ZM180-180h160v-160H180v160Zm440 0h160v-160H620v160Z\"/>\n",
              "  </svg>\n",
              "    </button>\n",
              "\n",
              "  <style>\n",
              "    .colab-df-container {\n",
              "      display:flex;\n",
              "      gap: 12px;\n",
              "    }\n",
              "\n",
              "    .colab-df-convert {\n",
              "      background-color: #E8F0FE;\n",
              "      border: none;\n",
              "      border-radius: 50%;\n",
              "      cursor: pointer;\n",
              "      display: none;\n",
              "      fill: #1967D2;\n",
              "      height: 32px;\n",
              "      padding: 0 0 0 0;\n",
              "      width: 32px;\n",
              "    }\n",
              "\n",
              "    .colab-df-convert:hover {\n",
              "      background-color: #E2EBFA;\n",
              "      box-shadow: 0px 1px 2px rgba(60, 64, 67, 0.3), 0px 1px 3px 1px rgba(60, 64, 67, 0.15);\n",
              "      fill: #174EA6;\n",
              "    }\n",
              "\n",
              "    .colab-df-buttons div {\n",
              "      margin-bottom: 4px;\n",
              "    }\n",
              "\n",
              "    [theme=dark] .colab-df-convert {\n",
              "      background-color: #3B4455;\n",
              "      fill: #D2E3FC;\n",
              "    }\n",
              "\n",
              "    [theme=dark] .colab-df-convert:hover {\n",
              "      background-color: #434B5C;\n",
              "      box-shadow: 0px 1px 3px 1px rgba(0, 0, 0, 0.15);\n",
              "      filter: drop-shadow(0px 1px 2px rgba(0, 0, 0, 0.3));\n",
              "      fill: #FFFFFF;\n",
              "    }\n",
              "  </style>\n",
              "\n",
              "    <script>\n",
              "      const buttonEl =\n",
              "        document.querySelector('#df-5e060da1-cfab-4538-a483-bea617a11a65 button.colab-df-convert');\n",
              "      buttonEl.style.display =\n",
              "        google.colab.kernel.accessAllowed ? 'block' : 'none';\n",
              "\n",
              "      async function convertToInteractive(key) {\n",
              "        const element = document.querySelector('#df-5e060da1-cfab-4538-a483-bea617a11a65');\n",
              "        const dataTable =\n",
              "          await google.colab.kernel.invokeFunction('convertToInteractive',\n",
              "                                                    [key], {});\n",
              "        if (!dataTable) return;\n",
              "\n",
              "        const docLinkHtml = 'Like what you see? Visit the ' +\n",
              "          '<a target=\"_blank\" href=https://colab.research.google.com/notebooks/data_table.ipynb>data table notebook</a>'\n",
              "          + ' to learn more about interactive tables.';\n",
              "        element.innerHTML = '';\n",
              "        dataTable['output_type'] = 'display_data';\n",
              "        await google.colab.output.renderOutput(dataTable, element);\n",
              "        const docLink = document.createElement('div');\n",
              "        docLink.innerHTML = docLinkHtml;\n",
              "        element.appendChild(docLink);\n",
              "      }\n",
              "    </script>\n",
              "  </div>\n",
              "\n",
              "\n",
              "<div id=\"df-4dc85721-eb39-43ba-b431-65f4db5e23c5\">\n",
              "  <button class=\"colab-df-quickchart\" onclick=\"quickchart('df-4dc85721-eb39-43ba-b431-65f4db5e23c5')\"\n",
              "            title=\"Suggest charts\"\n",
              "            style=\"display:none;\">\n",
              "\n",
              "<svg xmlns=\"http://www.w3.org/2000/svg\" height=\"24px\"viewBox=\"0 0 24 24\"\n",
              "     width=\"24px\">\n",
              "    <g>\n",
              "        <path d=\"M19 3H5c-1.1 0-2 .9-2 2v14c0 1.1.9 2 2 2h14c1.1 0 2-.9 2-2V5c0-1.1-.9-2-2-2zM9 17H7v-7h2v7zm4 0h-2V7h2v10zm4 0h-2v-4h2v4z\"/>\n",
              "    </g>\n",
              "</svg>\n",
              "  </button>\n",
              "\n",
              "<style>\n",
              "  .colab-df-quickchart {\n",
              "      --bg-color: #E8F0FE;\n",
              "      --fill-color: #1967D2;\n",
              "      --hover-bg-color: #E2EBFA;\n",
              "      --hover-fill-color: #174EA6;\n",
              "      --disabled-fill-color: #AAA;\n",
              "      --disabled-bg-color: #DDD;\n",
              "  }\n",
              "\n",
              "  [theme=dark] .colab-df-quickchart {\n",
              "      --bg-color: #3B4455;\n",
              "      --fill-color: #D2E3FC;\n",
              "      --hover-bg-color: #434B5C;\n",
              "      --hover-fill-color: #FFFFFF;\n",
              "      --disabled-bg-color: #3B4455;\n",
              "      --disabled-fill-color: #666;\n",
              "  }\n",
              "\n",
              "  .colab-df-quickchart {\n",
              "    background-color: var(--bg-color);\n",
              "    border: none;\n",
              "    border-radius: 50%;\n",
              "    cursor: pointer;\n",
              "    display: none;\n",
              "    fill: var(--fill-color);\n",
              "    height: 32px;\n",
              "    padding: 0;\n",
              "    width: 32px;\n",
              "  }\n",
              "\n",
              "  .colab-df-quickchart:hover {\n",
              "    background-color: var(--hover-bg-color);\n",
              "    box-shadow: 0 1px 2px rgba(60, 64, 67, 0.3), 0 1px 3px 1px rgba(60, 64, 67, 0.15);\n",
              "    fill: var(--button-hover-fill-color);\n",
              "  }\n",
              "\n",
              "  .colab-df-quickchart-complete:disabled,\n",
              "  .colab-df-quickchart-complete:disabled:hover {\n",
              "    background-color: var(--disabled-bg-color);\n",
              "    fill: var(--disabled-fill-color);\n",
              "    box-shadow: none;\n",
              "  }\n",
              "\n",
              "  .colab-df-spinner {\n",
              "    border: 2px solid var(--fill-color);\n",
              "    border-color: transparent;\n",
              "    border-bottom-color: var(--fill-color);\n",
              "    animation:\n",
              "      spin 1s steps(1) infinite;\n",
              "  }\n",
              "\n",
              "  @keyframes spin {\n",
              "    0% {\n",
              "      border-color: transparent;\n",
              "      border-bottom-color: var(--fill-color);\n",
              "      border-left-color: var(--fill-color);\n",
              "    }\n",
              "    20% {\n",
              "      border-color: transparent;\n",
              "      border-left-color: var(--fill-color);\n",
              "      border-top-color: var(--fill-color);\n",
              "    }\n",
              "    30% {\n",
              "      border-color: transparent;\n",
              "      border-left-color: var(--fill-color);\n",
              "      border-top-color: var(--fill-color);\n",
              "      border-right-color: var(--fill-color);\n",
              "    }\n",
              "    40% {\n",
              "      border-color: transparent;\n",
              "      border-right-color: var(--fill-color);\n",
              "      border-top-color: var(--fill-color);\n",
              "    }\n",
              "    60% {\n",
              "      border-color: transparent;\n",
              "      border-right-color: var(--fill-color);\n",
              "    }\n",
              "    80% {\n",
              "      border-color: transparent;\n",
              "      border-right-color: var(--fill-color);\n",
              "      border-bottom-color: var(--fill-color);\n",
              "    }\n",
              "    90% {\n",
              "      border-color: transparent;\n",
              "      border-bottom-color: var(--fill-color);\n",
              "    }\n",
              "  }\n",
              "</style>\n",
              "\n",
              "  <script>\n",
              "    async function quickchart(key) {\n",
              "      const quickchartButtonEl =\n",
              "        document.querySelector('#' + key + ' button');\n",
              "      quickchartButtonEl.disabled = true;  // To prevent multiple clicks.\n",
              "      quickchartButtonEl.classList.add('colab-df-spinner');\n",
              "      try {\n",
              "        const charts = await google.colab.kernel.invokeFunction(\n",
              "            'suggestCharts', [key], {});\n",
              "      } catch (error) {\n",
              "        console.error('Error during call to suggestCharts:', error);\n",
              "      }\n",
              "      quickchartButtonEl.classList.remove('colab-df-spinner');\n",
              "      quickchartButtonEl.classList.add('colab-df-quickchart-complete');\n",
              "    }\n",
              "    (() => {\n",
              "      let quickchartButtonEl =\n",
              "        document.querySelector('#df-4dc85721-eb39-43ba-b431-65f4db5e23c5 button');\n",
              "      quickchartButtonEl.style.display =\n",
              "        google.colab.kernel.accessAllowed ? 'block' : 'none';\n",
              "    })();\n",
              "  </script>\n",
              "</div>\n",
              "\n",
              "  <div id=\"id_e93487ad-d852-4d4a-b564-b488c81bae65\">\n",
              "    <style>\n",
              "      .colab-df-generate {\n",
              "        background-color: #E8F0FE;\n",
              "        border: none;\n",
              "        border-radius: 50%;\n",
              "        cursor: pointer;\n",
              "        display: none;\n",
              "        fill: #1967D2;\n",
              "        height: 32px;\n",
              "        padding: 0 0 0 0;\n",
              "        width: 32px;\n",
              "      }\n",
              "\n",
              "      .colab-df-generate:hover {\n",
              "        background-color: #E2EBFA;\n",
              "        box-shadow: 0px 1px 2px rgba(60, 64, 67, 0.3), 0px 1px 3px 1px rgba(60, 64, 67, 0.15);\n",
              "        fill: #174EA6;\n",
              "      }\n",
              "\n",
              "      [theme=dark] .colab-df-generate {\n",
              "        background-color: #3B4455;\n",
              "        fill: #D2E3FC;\n",
              "      }\n",
              "\n",
              "      [theme=dark] .colab-df-generate:hover {\n",
              "        background-color: #434B5C;\n",
              "        box-shadow: 0px 1px 3px 1px rgba(0, 0, 0, 0.15);\n",
              "        filter: drop-shadow(0px 1px 2px rgba(0, 0, 0, 0.3));\n",
              "        fill: #FFFFFF;\n",
              "      }\n",
              "    </style>\n",
              "    <button class=\"colab-df-generate\" onclick=\"generateWithVariable('MentalProblems')\"\n",
              "            title=\"Generate code using this dataframe.\"\n",
              "            style=\"display:none;\">\n",
              "\n",
              "  <svg xmlns=\"http://www.w3.org/2000/svg\" height=\"24px\"viewBox=\"0 0 24 24\"\n",
              "       width=\"24px\">\n",
              "    <path d=\"M7,19H8.4L18.45,9,17,7.55,7,17.6ZM5,21V16.75L18.45,3.32a2,2,0,0,1,2.83,0l1.4,1.43a1.91,1.91,0,0,1,.58,1.4,1.91,1.91,0,0,1-.58,1.4L9.25,21ZM18.45,9,17,7.55Zm-12,3A5.31,5.31,0,0,0,4.9,8.1,5.31,5.31,0,0,0,1,6.5,5.31,5.31,0,0,0,4.9,4.9,5.31,5.31,0,0,0,6.5,1,5.31,5.31,0,0,0,8.1,4.9,5.31,5.31,0,0,0,12,6.5,5.46,5.46,0,0,0,6.5,12Z\"/>\n",
              "  </svg>\n",
              "    </button>\n",
              "    <script>\n",
              "      (() => {\n",
              "      const buttonEl =\n",
              "        document.querySelector('#id_e93487ad-d852-4d4a-b564-b488c81bae65 button.colab-df-generate');\n",
              "      buttonEl.style.display =\n",
              "        google.colab.kernel.accessAllowed ? 'block' : 'none';\n",
              "\n",
              "      buttonEl.onclick = () => {\n",
              "        google.colab.notebook.generateWithVariable('MentalProblems');\n",
              "      }\n",
              "      })();\n",
              "    </script>\n",
              "  </div>\n",
              "\n",
              "    </div>\n",
              "  </div>\n"
            ],
            "application/vnd.google.colaboratory.intrinsic+json": {
              "type": "dataframe",
              "variable_name": "MentalProblems",
              "summary": "{\n  \"name\": \"MentalProblems\",\n  \"rows\": 10,\n  \"fields\": [\n    {\n      \"column\": \"ID\",\n      \"properties\": {\n        \"dtype\": \"number\",\n        \"std\": 3,\n        \"min\": 1,\n        \"max\": 10,\n        \"num_unique_values\": 10,\n        \"samples\": [\n          9,\n          2,\n          6\n        ],\n        \"semantic_type\": \"\",\n        \"description\": \"\"\n      }\n    },\n    {\n      \"column\": \"Feeling Last 4 weeks\",\n      \"properties\": {\n        \"dtype\": \"category\",\n        \"num_unique_values\": 4,\n        \"samples\": [\n          \"I felt calm and peaceful\",\n          \"I felt full of energy\",\n          \"I felt tired/worn out\"\n        ],\n        \"semantic_type\": \"\",\n        \"description\": \"\"\n      }\n    },\n    {\n      \"column\": \"Anxiety or Depression last 12 months\",\n      \"properties\": {\n        \"dtype\": \"category\",\n        \"num_unique_values\": 2,\n        \"samples\": [\n          \"No\",\n          \"Yes\"\n        ],\n        \"semantic_type\": \"\",\n        \"description\": \"\"\n      }\n    },\n    {\n      \"column\": \"Ocupation\",\n      \"properties\": {\n        \"dtype\": \"category\",\n        \"num_unique_values\": 2,\n        \"samples\": [\n          \"Office clerk\",\n          \"Civil servant\"\n        ],\n        \"semantic_type\": \"\",\n        \"description\": \"\"\n      }\n    }\n  ]\n}"
            }
          },
          "metadata": {},
          "execution_count": 4
        }
      ]
    },
    {
      "cell_type": "markdown",
      "source": [
        "### Sampling"
      ],
      "metadata": {
        "id": "pOeiqN39vAyI"
      }
    },
    {
      "cell_type": "markdown",
      "source": [
        "**Sampling with replacement**"
      ],
      "metadata": {
        "id": "KWQG-r46xtaQ"
      }
    },
    {
      "cell_type": "markdown",
      "source": [
        "Notice that the same individual **can** be included multiple times in the sample."
      ],
      "metadata": {
        "id": "vf7Mu-BK2GJW"
      }
    },
    {
      "cell_type": "code",
      "source": [
        "WihtReplacement=MentalProblems.sample(n=5, replace=True, random_state=3)\n",
        "WihtReplacement"
      ],
      "metadata": {
        "colab": {
          "base_uri": "https://localhost:8080/",
          "height": 0
        },
        "id": "392U3LJZocz2",
        "outputId": "64718961-fedf-4975-95f9-5df031b02cfb"
      },
      "execution_count": 5,
      "outputs": [
        {
          "output_type": "execute_result",
          "data": {
            "text/plain": [
              "      ID      Feeling Last 4 weeks Anxiety or Depression last 12 months  \\\n",
              "2108   9  I felt calm and peaceful                                   No   \n",
              "2109  10  I felt calm and peaceful                                  Yes   \n",
              "2103   4              I felt tense                                  Yes   \n",
              "2108   9  I felt calm and peaceful                                   No   \n",
              "2108   9  I felt calm and peaceful                                   No   \n",
              "\n",
              "         Ocupation  \n",
              "2108  Office clerk  \n",
              "2109  Office clerk  \n",
              "2103  Office clerk  \n",
              "2108  Office clerk  \n",
              "2108  Office clerk  "
            ],
            "text/html": [
              "\n",
              "  <div id=\"df-9388e3df-2114-4d7e-9893-a18b79ed2d8a\" class=\"colab-df-container\">\n",
              "    <div>\n",
              "<style scoped>\n",
              "    .dataframe tbody tr th:only-of-type {\n",
              "        vertical-align: middle;\n",
              "    }\n",
              "\n",
              "    .dataframe tbody tr th {\n",
              "        vertical-align: top;\n",
              "    }\n",
              "\n",
              "    .dataframe thead th {\n",
              "        text-align: right;\n",
              "    }\n",
              "</style>\n",
              "<table border=\"1\" class=\"dataframe\">\n",
              "  <thead>\n",
              "    <tr style=\"text-align: right;\">\n",
              "      <th></th>\n",
              "      <th>ID</th>\n",
              "      <th>Feeling Last 4 weeks</th>\n",
              "      <th>Anxiety or Depression last 12 months</th>\n",
              "      <th>Ocupation</th>\n",
              "    </tr>\n",
              "  </thead>\n",
              "  <tbody>\n",
              "    <tr>\n",
              "      <th>2108</th>\n",
              "      <td>9</td>\n",
              "      <td>I felt calm and peaceful</td>\n",
              "      <td>No</td>\n",
              "      <td>Office clerk</td>\n",
              "    </tr>\n",
              "    <tr>\n",
              "      <th>2109</th>\n",
              "      <td>10</td>\n",
              "      <td>I felt calm and peaceful</td>\n",
              "      <td>Yes</td>\n",
              "      <td>Office clerk</td>\n",
              "    </tr>\n",
              "    <tr>\n",
              "      <th>2103</th>\n",
              "      <td>4</td>\n",
              "      <td>I felt tense</td>\n",
              "      <td>Yes</td>\n",
              "      <td>Office clerk</td>\n",
              "    </tr>\n",
              "    <tr>\n",
              "      <th>2108</th>\n",
              "      <td>9</td>\n",
              "      <td>I felt calm and peaceful</td>\n",
              "      <td>No</td>\n",
              "      <td>Office clerk</td>\n",
              "    </tr>\n",
              "    <tr>\n",
              "      <th>2108</th>\n",
              "      <td>9</td>\n",
              "      <td>I felt calm and peaceful</td>\n",
              "      <td>No</td>\n",
              "      <td>Office clerk</td>\n",
              "    </tr>\n",
              "  </tbody>\n",
              "</table>\n",
              "</div>\n",
              "    <div class=\"colab-df-buttons\">\n",
              "\n",
              "  <div class=\"colab-df-container\">\n",
              "    <button class=\"colab-df-convert\" onclick=\"convertToInteractive('df-9388e3df-2114-4d7e-9893-a18b79ed2d8a')\"\n",
              "            title=\"Convert this dataframe to an interactive table.\"\n",
              "            style=\"display:none;\">\n",
              "\n",
              "  <svg xmlns=\"http://www.w3.org/2000/svg\" height=\"24px\" viewBox=\"0 -960 960 960\">\n",
              "    <path d=\"M120-120v-720h720v720H120Zm60-500h600v-160H180v160Zm220 220h160v-160H400v160Zm0 220h160v-160H400v160ZM180-400h160v-160H180v160Zm440 0h160v-160H620v160ZM180-180h160v-160H180v160Zm440 0h160v-160H620v160Z\"/>\n",
              "  </svg>\n",
              "    </button>\n",
              "\n",
              "  <style>\n",
              "    .colab-df-container {\n",
              "      display:flex;\n",
              "      gap: 12px;\n",
              "    }\n",
              "\n",
              "    .colab-df-convert {\n",
              "      background-color: #E8F0FE;\n",
              "      border: none;\n",
              "      border-radius: 50%;\n",
              "      cursor: pointer;\n",
              "      display: none;\n",
              "      fill: #1967D2;\n",
              "      height: 32px;\n",
              "      padding: 0 0 0 0;\n",
              "      width: 32px;\n",
              "    }\n",
              "\n",
              "    .colab-df-convert:hover {\n",
              "      background-color: #E2EBFA;\n",
              "      box-shadow: 0px 1px 2px rgba(60, 64, 67, 0.3), 0px 1px 3px 1px rgba(60, 64, 67, 0.15);\n",
              "      fill: #174EA6;\n",
              "    }\n",
              "\n",
              "    .colab-df-buttons div {\n",
              "      margin-bottom: 4px;\n",
              "    }\n",
              "\n",
              "    [theme=dark] .colab-df-convert {\n",
              "      background-color: #3B4455;\n",
              "      fill: #D2E3FC;\n",
              "    }\n",
              "\n",
              "    [theme=dark] .colab-df-convert:hover {\n",
              "      background-color: #434B5C;\n",
              "      box-shadow: 0px 1px 3px 1px rgba(0, 0, 0, 0.15);\n",
              "      filter: drop-shadow(0px 1px 2px rgba(0, 0, 0, 0.3));\n",
              "      fill: #FFFFFF;\n",
              "    }\n",
              "  </style>\n",
              "\n",
              "    <script>\n",
              "      const buttonEl =\n",
              "        document.querySelector('#df-9388e3df-2114-4d7e-9893-a18b79ed2d8a button.colab-df-convert');\n",
              "      buttonEl.style.display =\n",
              "        google.colab.kernel.accessAllowed ? 'block' : 'none';\n",
              "\n",
              "      async function convertToInteractive(key) {\n",
              "        const element = document.querySelector('#df-9388e3df-2114-4d7e-9893-a18b79ed2d8a');\n",
              "        const dataTable =\n",
              "          await google.colab.kernel.invokeFunction('convertToInteractive',\n",
              "                                                    [key], {});\n",
              "        if (!dataTable) return;\n",
              "\n",
              "        const docLinkHtml = 'Like what you see? Visit the ' +\n",
              "          '<a target=\"_blank\" href=https://colab.research.google.com/notebooks/data_table.ipynb>data table notebook</a>'\n",
              "          + ' to learn more about interactive tables.';\n",
              "        element.innerHTML = '';\n",
              "        dataTable['output_type'] = 'display_data';\n",
              "        await google.colab.output.renderOutput(dataTable, element);\n",
              "        const docLink = document.createElement('div');\n",
              "        docLink.innerHTML = docLinkHtml;\n",
              "        element.appendChild(docLink);\n",
              "      }\n",
              "    </script>\n",
              "  </div>\n",
              "\n",
              "\n",
              "<div id=\"df-c453d989-e385-4be5-9d2c-24911aad0e7e\">\n",
              "  <button class=\"colab-df-quickchart\" onclick=\"quickchart('df-c453d989-e385-4be5-9d2c-24911aad0e7e')\"\n",
              "            title=\"Suggest charts\"\n",
              "            style=\"display:none;\">\n",
              "\n",
              "<svg xmlns=\"http://www.w3.org/2000/svg\" height=\"24px\"viewBox=\"0 0 24 24\"\n",
              "     width=\"24px\">\n",
              "    <g>\n",
              "        <path d=\"M19 3H5c-1.1 0-2 .9-2 2v14c0 1.1.9 2 2 2h14c1.1 0 2-.9 2-2V5c0-1.1-.9-2-2-2zM9 17H7v-7h2v7zm4 0h-2V7h2v10zm4 0h-2v-4h2v4z\"/>\n",
              "    </g>\n",
              "</svg>\n",
              "  </button>\n",
              "\n",
              "<style>\n",
              "  .colab-df-quickchart {\n",
              "      --bg-color: #E8F0FE;\n",
              "      --fill-color: #1967D2;\n",
              "      --hover-bg-color: #E2EBFA;\n",
              "      --hover-fill-color: #174EA6;\n",
              "      --disabled-fill-color: #AAA;\n",
              "      --disabled-bg-color: #DDD;\n",
              "  }\n",
              "\n",
              "  [theme=dark] .colab-df-quickchart {\n",
              "      --bg-color: #3B4455;\n",
              "      --fill-color: #D2E3FC;\n",
              "      --hover-bg-color: #434B5C;\n",
              "      --hover-fill-color: #FFFFFF;\n",
              "      --disabled-bg-color: #3B4455;\n",
              "      --disabled-fill-color: #666;\n",
              "  }\n",
              "\n",
              "  .colab-df-quickchart {\n",
              "    background-color: var(--bg-color);\n",
              "    border: none;\n",
              "    border-radius: 50%;\n",
              "    cursor: pointer;\n",
              "    display: none;\n",
              "    fill: var(--fill-color);\n",
              "    height: 32px;\n",
              "    padding: 0;\n",
              "    width: 32px;\n",
              "  }\n",
              "\n",
              "  .colab-df-quickchart:hover {\n",
              "    background-color: var(--hover-bg-color);\n",
              "    box-shadow: 0 1px 2px rgba(60, 64, 67, 0.3), 0 1px 3px 1px rgba(60, 64, 67, 0.15);\n",
              "    fill: var(--button-hover-fill-color);\n",
              "  }\n",
              "\n",
              "  .colab-df-quickchart-complete:disabled,\n",
              "  .colab-df-quickchart-complete:disabled:hover {\n",
              "    background-color: var(--disabled-bg-color);\n",
              "    fill: var(--disabled-fill-color);\n",
              "    box-shadow: none;\n",
              "  }\n",
              "\n",
              "  .colab-df-spinner {\n",
              "    border: 2px solid var(--fill-color);\n",
              "    border-color: transparent;\n",
              "    border-bottom-color: var(--fill-color);\n",
              "    animation:\n",
              "      spin 1s steps(1) infinite;\n",
              "  }\n",
              "\n",
              "  @keyframes spin {\n",
              "    0% {\n",
              "      border-color: transparent;\n",
              "      border-bottom-color: var(--fill-color);\n",
              "      border-left-color: var(--fill-color);\n",
              "    }\n",
              "    20% {\n",
              "      border-color: transparent;\n",
              "      border-left-color: var(--fill-color);\n",
              "      border-top-color: var(--fill-color);\n",
              "    }\n",
              "    30% {\n",
              "      border-color: transparent;\n",
              "      border-left-color: var(--fill-color);\n",
              "      border-top-color: var(--fill-color);\n",
              "      border-right-color: var(--fill-color);\n",
              "    }\n",
              "    40% {\n",
              "      border-color: transparent;\n",
              "      border-right-color: var(--fill-color);\n",
              "      border-top-color: var(--fill-color);\n",
              "    }\n",
              "    60% {\n",
              "      border-color: transparent;\n",
              "      border-right-color: var(--fill-color);\n",
              "    }\n",
              "    80% {\n",
              "      border-color: transparent;\n",
              "      border-right-color: var(--fill-color);\n",
              "      border-bottom-color: var(--fill-color);\n",
              "    }\n",
              "    90% {\n",
              "      border-color: transparent;\n",
              "      border-bottom-color: var(--fill-color);\n",
              "    }\n",
              "  }\n",
              "</style>\n",
              "\n",
              "  <script>\n",
              "    async function quickchart(key) {\n",
              "      const quickchartButtonEl =\n",
              "        document.querySelector('#' + key + ' button');\n",
              "      quickchartButtonEl.disabled = true;  // To prevent multiple clicks.\n",
              "      quickchartButtonEl.classList.add('colab-df-spinner');\n",
              "      try {\n",
              "        const charts = await google.colab.kernel.invokeFunction(\n",
              "            'suggestCharts', [key], {});\n",
              "      } catch (error) {\n",
              "        console.error('Error during call to suggestCharts:', error);\n",
              "      }\n",
              "      quickchartButtonEl.classList.remove('colab-df-spinner');\n",
              "      quickchartButtonEl.classList.add('colab-df-quickchart-complete');\n",
              "    }\n",
              "    (() => {\n",
              "      let quickchartButtonEl =\n",
              "        document.querySelector('#df-c453d989-e385-4be5-9d2c-24911aad0e7e button');\n",
              "      quickchartButtonEl.style.display =\n",
              "        google.colab.kernel.accessAllowed ? 'block' : 'none';\n",
              "    })();\n",
              "  </script>\n",
              "</div>\n",
              "\n",
              "  <div id=\"id_c2d2a6ed-cdfa-4502-ac8a-e08781c99698\">\n",
              "    <style>\n",
              "      .colab-df-generate {\n",
              "        background-color: #E8F0FE;\n",
              "        border: none;\n",
              "        border-radius: 50%;\n",
              "        cursor: pointer;\n",
              "        display: none;\n",
              "        fill: #1967D2;\n",
              "        height: 32px;\n",
              "        padding: 0 0 0 0;\n",
              "        width: 32px;\n",
              "      }\n",
              "\n",
              "      .colab-df-generate:hover {\n",
              "        background-color: #E2EBFA;\n",
              "        box-shadow: 0px 1px 2px rgba(60, 64, 67, 0.3), 0px 1px 3px 1px rgba(60, 64, 67, 0.15);\n",
              "        fill: #174EA6;\n",
              "      }\n",
              "\n",
              "      [theme=dark] .colab-df-generate {\n",
              "        background-color: #3B4455;\n",
              "        fill: #D2E3FC;\n",
              "      }\n",
              "\n",
              "      [theme=dark] .colab-df-generate:hover {\n",
              "        background-color: #434B5C;\n",
              "        box-shadow: 0px 1px 3px 1px rgba(0, 0, 0, 0.15);\n",
              "        filter: drop-shadow(0px 1px 2px rgba(0, 0, 0, 0.3));\n",
              "        fill: #FFFFFF;\n",
              "      }\n",
              "    </style>\n",
              "    <button class=\"colab-df-generate\" onclick=\"generateWithVariable('WihtReplacement')\"\n",
              "            title=\"Generate code using this dataframe.\"\n",
              "            style=\"display:none;\">\n",
              "\n",
              "  <svg xmlns=\"http://www.w3.org/2000/svg\" height=\"24px\"viewBox=\"0 0 24 24\"\n",
              "       width=\"24px\">\n",
              "    <path d=\"M7,19H8.4L18.45,9,17,7.55,7,17.6ZM5,21V16.75L18.45,3.32a2,2,0,0,1,2.83,0l1.4,1.43a1.91,1.91,0,0,1,.58,1.4,1.91,1.91,0,0,1-.58,1.4L9.25,21ZM18.45,9,17,7.55Zm-12,3A5.31,5.31,0,0,0,4.9,8.1,5.31,5.31,0,0,0,1,6.5,5.31,5.31,0,0,0,4.9,4.9,5.31,5.31,0,0,0,6.5,1,5.31,5.31,0,0,0,8.1,4.9,5.31,5.31,0,0,0,12,6.5,5.46,5.46,0,0,0,6.5,12Z\"/>\n",
              "  </svg>\n",
              "    </button>\n",
              "    <script>\n",
              "      (() => {\n",
              "      const buttonEl =\n",
              "        document.querySelector('#id_c2d2a6ed-cdfa-4502-ac8a-e08781c99698 button.colab-df-generate');\n",
              "      buttonEl.style.display =\n",
              "        google.colab.kernel.accessAllowed ? 'block' : 'none';\n",
              "\n",
              "      buttonEl.onclick = () => {\n",
              "        google.colab.notebook.generateWithVariable('WihtReplacement');\n",
              "      }\n",
              "      })();\n",
              "    </script>\n",
              "  </div>\n",
              "\n",
              "    </div>\n",
              "  </div>\n"
            ],
            "application/vnd.google.colaboratory.intrinsic+json": {
              "type": "dataframe",
              "variable_name": "WihtReplacement",
              "summary": "{\n  \"name\": \"WihtReplacement\",\n  \"rows\": 5,\n  \"fields\": [\n    {\n      \"column\": \"ID\",\n      \"properties\": {\n        \"dtype\": \"number\",\n        \"std\": 2,\n        \"min\": 4,\n        \"max\": 10,\n        \"num_unique_values\": 3,\n        \"samples\": [\n          9,\n          10,\n          4\n        ],\n        \"semantic_type\": \"\",\n        \"description\": \"\"\n      }\n    },\n    {\n      \"column\": \"Feeling Last 4 weeks\",\n      \"properties\": {\n        \"dtype\": \"category\",\n        \"num_unique_values\": 2,\n        \"samples\": [\n          \"I felt tense\",\n          \"I felt calm and peaceful\"\n        ],\n        \"semantic_type\": \"\",\n        \"description\": \"\"\n      }\n    },\n    {\n      \"column\": \"Anxiety or Depression last 12 months\",\n      \"properties\": {\n        \"dtype\": \"category\",\n        \"num_unique_values\": 2,\n        \"samples\": [\n          \"Yes\",\n          \"No\"\n        ],\n        \"semantic_type\": \"\",\n        \"description\": \"\"\n      }\n    },\n    {\n      \"column\": \"Ocupation\",\n      \"properties\": {\n        \"dtype\": \"category\",\n        \"num_unique_values\": 1,\n        \"samples\": [\n          \"Office clerk\"\n        ],\n        \"semantic_type\": \"\",\n        \"description\": \"\"\n      }\n    }\n  ]\n}"
            }
          },
          "metadata": {},
          "execution_count": 5
        }
      ]
    },
    {
      "cell_type": "markdown",
      "source": [
        "**Sampling without replacement**"
      ],
      "metadata": {
        "id": "-M7UbhoXt-Js"
      }
    },
    {
      "cell_type": "markdown",
      "source": [
        "Note that the same individual **cannot** be included multiple times in the sample.\n",
        "\n",
        "However, the sample consists only of Office Clerks (with one NAN value)."
      ],
      "metadata": {
        "id": "ceZ1hXHT2ywu"
      }
    },
    {
      "cell_type": "code",
      "source": [
        "WithoutReplacement=MentalProblems.sample(n=5, replace=False, random_state=4)\n",
        "WithoutReplacement"
      ],
      "metadata": {
        "colab": {
          "base_uri": "https://localhost:8080/",
          "height": 0
        },
        "id": "iHirSu0lqJab",
        "outputId": "b23071e1-95d6-4c57-9fae-c8420bd8e51a"
      },
      "execution_count": 6,
      "outputs": [
        {
          "output_type": "execute_result",
          "data": {
            "text/plain": [
              "      ID      Feeling Last 4 weeks Anxiety or Depression last 12 months  \\\n",
              "2103   4              I felt tense                                  Yes   \n",
              "2108   9  I felt calm and peaceful                                   No   \n",
              "2104   5     I felt full of energy                                   No   \n",
              "2109  10  I felt calm and peaceful                                  Yes   \n",
              "2102   3  I felt calm and peaceful                                   No   \n",
              "\n",
              "         Ocupation  \n",
              "2103  Office clerk  \n",
              "2108  Office clerk  \n",
              "2104  Office clerk  \n",
              "2109  Office clerk  \n",
              "2102           NaN  "
            ],
            "text/html": [
              "\n",
              "  <div id=\"df-c9478751-c31d-4f9e-8a38-ccf477aa38e6\" class=\"colab-df-container\">\n",
              "    <div>\n",
              "<style scoped>\n",
              "    .dataframe tbody tr th:only-of-type {\n",
              "        vertical-align: middle;\n",
              "    }\n",
              "\n",
              "    .dataframe tbody tr th {\n",
              "        vertical-align: top;\n",
              "    }\n",
              "\n",
              "    .dataframe thead th {\n",
              "        text-align: right;\n",
              "    }\n",
              "</style>\n",
              "<table border=\"1\" class=\"dataframe\">\n",
              "  <thead>\n",
              "    <tr style=\"text-align: right;\">\n",
              "      <th></th>\n",
              "      <th>ID</th>\n",
              "      <th>Feeling Last 4 weeks</th>\n",
              "      <th>Anxiety or Depression last 12 months</th>\n",
              "      <th>Ocupation</th>\n",
              "    </tr>\n",
              "  </thead>\n",
              "  <tbody>\n",
              "    <tr>\n",
              "      <th>2103</th>\n",
              "      <td>4</td>\n",
              "      <td>I felt tense</td>\n",
              "      <td>Yes</td>\n",
              "      <td>Office clerk</td>\n",
              "    </tr>\n",
              "    <tr>\n",
              "      <th>2108</th>\n",
              "      <td>9</td>\n",
              "      <td>I felt calm and peaceful</td>\n",
              "      <td>No</td>\n",
              "      <td>Office clerk</td>\n",
              "    </tr>\n",
              "    <tr>\n",
              "      <th>2104</th>\n",
              "      <td>5</td>\n",
              "      <td>I felt full of energy</td>\n",
              "      <td>No</td>\n",
              "      <td>Office clerk</td>\n",
              "    </tr>\n",
              "    <tr>\n",
              "      <th>2109</th>\n",
              "      <td>10</td>\n",
              "      <td>I felt calm and peaceful</td>\n",
              "      <td>Yes</td>\n",
              "      <td>Office clerk</td>\n",
              "    </tr>\n",
              "    <tr>\n",
              "      <th>2102</th>\n",
              "      <td>3</td>\n",
              "      <td>I felt calm and peaceful</td>\n",
              "      <td>No</td>\n",
              "      <td>NaN</td>\n",
              "    </tr>\n",
              "  </tbody>\n",
              "</table>\n",
              "</div>\n",
              "    <div class=\"colab-df-buttons\">\n",
              "\n",
              "  <div class=\"colab-df-container\">\n",
              "    <button class=\"colab-df-convert\" onclick=\"convertToInteractive('df-c9478751-c31d-4f9e-8a38-ccf477aa38e6')\"\n",
              "            title=\"Convert this dataframe to an interactive table.\"\n",
              "            style=\"display:none;\">\n",
              "\n",
              "  <svg xmlns=\"http://www.w3.org/2000/svg\" height=\"24px\" viewBox=\"0 -960 960 960\">\n",
              "    <path d=\"M120-120v-720h720v720H120Zm60-500h600v-160H180v160Zm220 220h160v-160H400v160Zm0 220h160v-160H400v160ZM180-400h160v-160H180v160Zm440 0h160v-160H620v160ZM180-180h160v-160H180v160Zm440 0h160v-160H620v160Z\"/>\n",
              "  </svg>\n",
              "    </button>\n",
              "\n",
              "  <style>\n",
              "    .colab-df-container {\n",
              "      display:flex;\n",
              "      gap: 12px;\n",
              "    }\n",
              "\n",
              "    .colab-df-convert {\n",
              "      background-color: #E8F0FE;\n",
              "      border: none;\n",
              "      border-radius: 50%;\n",
              "      cursor: pointer;\n",
              "      display: none;\n",
              "      fill: #1967D2;\n",
              "      height: 32px;\n",
              "      padding: 0 0 0 0;\n",
              "      width: 32px;\n",
              "    }\n",
              "\n",
              "    .colab-df-convert:hover {\n",
              "      background-color: #E2EBFA;\n",
              "      box-shadow: 0px 1px 2px rgba(60, 64, 67, 0.3), 0px 1px 3px 1px rgba(60, 64, 67, 0.15);\n",
              "      fill: #174EA6;\n",
              "    }\n",
              "\n",
              "    .colab-df-buttons div {\n",
              "      margin-bottom: 4px;\n",
              "    }\n",
              "\n",
              "    [theme=dark] .colab-df-convert {\n",
              "      background-color: #3B4455;\n",
              "      fill: #D2E3FC;\n",
              "    }\n",
              "\n",
              "    [theme=dark] .colab-df-convert:hover {\n",
              "      background-color: #434B5C;\n",
              "      box-shadow: 0px 1px 3px 1px rgba(0, 0, 0, 0.15);\n",
              "      filter: drop-shadow(0px 1px 2px rgba(0, 0, 0, 0.3));\n",
              "      fill: #FFFFFF;\n",
              "    }\n",
              "  </style>\n",
              "\n",
              "    <script>\n",
              "      const buttonEl =\n",
              "        document.querySelector('#df-c9478751-c31d-4f9e-8a38-ccf477aa38e6 button.colab-df-convert');\n",
              "      buttonEl.style.display =\n",
              "        google.colab.kernel.accessAllowed ? 'block' : 'none';\n",
              "\n",
              "      async function convertToInteractive(key) {\n",
              "        const element = document.querySelector('#df-c9478751-c31d-4f9e-8a38-ccf477aa38e6');\n",
              "        const dataTable =\n",
              "          await google.colab.kernel.invokeFunction('convertToInteractive',\n",
              "                                                    [key], {});\n",
              "        if (!dataTable) return;\n",
              "\n",
              "        const docLinkHtml = 'Like what you see? Visit the ' +\n",
              "          '<a target=\"_blank\" href=https://colab.research.google.com/notebooks/data_table.ipynb>data table notebook</a>'\n",
              "          + ' to learn more about interactive tables.';\n",
              "        element.innerHTML = '';\n",
              "        dataTable['output_type'] = 'display_data';\n",
              "        await google.colab.output.renderOutput(dataTable, element);\n",
              "        const docLink = document.createElement('div');\n",
              "        docLink.innerHTML = docLinkHtml;\n",
              "        element.appendChild(docLink);\n",
              "      }\n",
              "    </script>\n",
              "  </div>\n",
              "\n",
              "\n",
              "<div id=\"df-ca5ed4d3-3731-45e3-8d4b-3b2280ec5606\">\n",
              "  <button class=\"colab-df-quickchart\" onclick=\"quickchart('df-ca5ed4d3-3731-45e3-8d4b-3b2280ec5606')\"\n",
              "            title=\"Suggest charts\"\n",
              "            style=\"display:none;\">\n",
              "\n",
              "<svg xmlns=\"http://www.w3.org/2000/svg\" height=\"24px\"viewBox=\"0 0 24 24\"\n",
              "     width=\"24px\">\n",
              "    <g>\n",
              "        <path d=\"M19 3H5c-1.1 0-2 .9-2 2v14c0 1.1.9 2 2 2h14c1.1 0 2-.9 2-2V5c0-1.1-.9-2-2-2zM9 17H7v-7h2v7zm4 0h-2V7h2v10zm4 0h-2v-4h2v4z\"/>\n",
              "    </g>\n",
              "</svg>\n",
              "  </button>\n",
              "\n",
              "<style>\n",
              "  .colab-df-quickchart {\n",
              "      --bg-color: #E8F0FE;\n",
              "      --fill-color: #1967D2;\n",
              "      --hover-bg-color: #E2EBFA;\n",
              "      --hover-fill-color: #174EA6;\n",
              "      --disabled-fill-color: #AAA;\n",
              "      --disabled-bg-color: #DDD;\n",
              "  }\n",
              "\n",
              "  [theme=dark] .colab-df-quickchart {\n",
              "      --bg-color: #3B4455;\n",
              "      --fill-color: #D2E3FC;\n",
              "      --hover-bg-color: #434B5C;\n",
              "      --hover-fill-color: #FFFFFF;\n",
              "      --disabled-bg-color: #3B4455;\n",
              "      --disabled-fill-color: #666;\n",
              "  }\n",
              "\n",
              "  .colab-df-quickchart {\n",
              "    background-color: var(--bg-color);\n",
              "    border: none;\n",
              "    border-radius: 50%;\n",
              "    cursor: pointer;\n",
              "    display: none;\n",
              "    fill: var(--fill-color);\n",
              "    height: 32px;\n",
              "    padding: 0;\n",
              "    width: 32px;\n",
              "  }\n",
              "\n",
              "  .colab-df-quickchart:hover {\n",
              "    background-color: var(--hover-bg-color);\n",
              "    box-shadow: 0 1px 2px rgba(60, 64, 67, 0.3), 0 1px 3px 1px rgba(60, 64, 67, 0.15);\n",
              "    fill: var(--button-hover-fill-color);\n",
              "  }\n",
              "\n",
              "  .colab-df-quickchart-complete:disabled,\n",
              "  .colab-df-quickchart-complete:disabled:hover {\n",
              "    background-color: var(--disabled-bg-color);\n",
              "    fill: var(--disabled-fill-color);\n",
              "    box-shadow: none;\n",
              "  }\n",
              "\n",
              "  .colab-df-spinner {\n",
              "    border: 2px solid var(--fill-color);\n",
              "    border-color: transparent;\n",
              "    border-bottom-color: var(--fill-color);\n",
              "    animation:\n",
              "      spin 1s steps(1) infinite;\n",
              "  }\n",
              "\n",
              "  @keyframes spin {\n",
              "    0% {\n",
              "      border-color: transparent;\n",
              "      border-bottom-color: var(--fill-color);\n",
              "      border-left-color: var(--fill-color);\n",
              "    }\n",
              "    20% {\n",
              "      border-color: transparent;\n",
              "      border-left-color: var(--fill-color);\n",
              "      border-top-color: var(--fill-color);\n",
              "    }\n",
              "    30% {\n",
              "      border-color: transparent;\n",
              "      border-left-color: var(--fill-color);\n",
              "      border-top-color: var(--fill-color);\n",
              "      border-right-color: var(--fill-color);\n",
              "    }\n",
              "    40% {\n",
              "      border-color: transparent;\n",
              "      border-right-color: var(--fill-color);\n",
              "      border-top-color: var(--fill-color);\n",
              "    }\n",
              "    60% {\n",
              "      border-color: transparent;\n",
              "      border-right-color: var(--fill-color);\n",
              "    }\n",
              "    80% {\n",
              "      border-color: transparent;\n",
              "      border-right-color: var(--fill-color);\n",
              "      border-bottom-color: var(--fill-color);\n",
              "    }\n",
              "    90% {\n",
              "      border-color: transparent;\n",
              "      border-bottom-color: var(--fill-color);\n",
              "    }\n",
              "  }\n",
              "</style>\n",
              "\n",
              "  <script>\n",
              "    async function quickchart(key) {\n",
              "      const quickchartButtonEl =\n",
              "        document.querySelector('#' + key + ' button');\n",
              "      quickchartButtonEl.disabled = true;  // To prevent multiple clicks.\n",
              "      quickchartButtonEl.classList.add('colab-df-spinner');\n",
              "      try {\n",
              "        const charts = await google.colab.kernel.invokeFunction(\n",
              "            'suggestCharts', [key], {});\n",
              "      } catch (error) {\n",
              "        console.error('Error during call to suggestCharts:', error);\n",
              "      }\n",
              "      quickchartButtonEl.classList.remove('colab-df-spinner');\n",
              "      quickchartButtonEl.classList.add('colab-df-quickchart-complete');\n",
              "    }\n",
              "    (() => {\n",
              "      let quickchartButtonEl =\n",
              "        document.querySelector('#df-ca5ed4d3-3731-45e3-8d4b-3b2280ec5606 button');\n",
              "      quickchartButtonEl.style.display =\n",
              "        google.colab.kernel.accessAllowed ? 'block' : 'none';\n",
              "    })();\n",
              "  </script>\n",
              "</div>\n",
              "\n",
              "  <div id=\"id_defd87ea-4823-4061-9fb9-38b3de1df900\">\n",
              "    <style>\n",
              "      .colab-df-generate {\n",
              "        background-color: #E8F0FE;\n",
              "        border: none;\n",
              "        border-radius: 50%;\n",
              "        cursor: pointer;\n",
              "        display: none;\n",
              "        fill: #1967D2;\n",
              "        height: 32px;\n",
              "        padding: 0 0 0 0;\n",
              "        width: 32px;\n",
              "      }\n",
              "\n",
              "      .colab-df-generate:hover {\n",
              "        background-color: #E2EBFA;\n",
              "        box-shadow: 0px 1px 2px rgba(60, 64, 67, 0.3), 0px 1px 3px 1px rgba(60, 64, 67, 0.15);\n",
              "        fill: #174EA6;\n",
              "      }\n",
              "\n",
              "      [theme=dark] .colab-df-generate {\n",
              "        background-color: #3B4455;\n",
              "        fill: #D2E3FC;\n",
              "      }\n",
              "\n",
              "      [theme=dark] .colab-df-generate:hover {\n",
              "        background-color: #434B5C;\n",
              "        box-shadow: 0px 1px 3px 1px rgba(0, 0, 0, 0.15);\n",
              "        filter: drop-shadow(0px 1px 2px rgba(0, 0, 0, 0.3));\n",
              "        fill: #FFFFFF;\n",
              "      }\n",
              "    </style>\n",
              "    <button class=\"colab-df-generate\" onclick=\"generateWithVariable('WithoutReplacement')\"\n",
              "            title=\"Generate code using this dataframe.\"\n",
              "            style=\"display:none;\">\n",
              "\n",
              "  <svg xmlns=\"http://www.w3.org/2000/svg\" height=\"24px\"viewBox=\"0 0 24 24\"\n",
              "       width=\"24px\">\n",
              "    <path d=\"M7,19H8.4L18.45,9,17,7.55,7,17.6ZM5,21V16.75L18.45,3.32a2,2,0,0,1,2.83,0l1.4,1.43a1.91,1.91,0,0,1,.58,1.4,1.91,1.91,0,0,1-.58,1.4L9.25,21ZM18.45,9,17,7.55Zm-12,3A5.31,5.31,0,0,0,4.9,8.1,5.31,5.31,0,0,0,1,6.5,5.31,5.31,0,0,0,4.9,4.9,5.31,5.31,0,0,0,6.5,1,5.31,5.31,0,0,0,8.1,4.9,5.31,5.31,0,0,0,12,6.5,5.46,5.46,0,0,0,6.5,12Z\"/>\n",
              "  </svg>\n",
              "    </button>\n",
              "    <script>\n",
              "      (() => {\n",
              "      const buttonEl =\n",
              "        document.querySelector('#id_defd87ea-4823-4061-9fb9-38b3de1df900 button.colab-df-generate');\n",
              "      buttonEl.style.display =\n",
              "        google.colab.kernel.accessAllowed ? 'block' : 'none';\n",
              "\n",
              "      buttonEl.onclick = () => {\n",
              "        google.colab.notebook.generateWithVariable('WithoutReplacement');\n",
              "      }\n",
              "      })();\n",
              "    </script>\n",
              "  </div>\n",
              "\n",
              "    </div>\n",
              "  </div>\n"
            ],
            "application/vnd.google.colaboratory.intrinsic+json": {
              "type": "dataframe",
              "variable_name": "WithoutReplacement",
              "summary": "{\n  \"name\": \"WithoutReplacement\",\n  \"rows\": 5,\n  \"fields\": [\n    {\n      \"column\": \"ID\",\n      \"properties\": {\n        \"dtype\": \"number\",\n        \"std\": 3,\n        \"min\": 3,\n        \"max\": 10,\n        \"num_unique_values\": 5,\n        \"samples\": [\n          9,\n          3,\n          5\n        ],\n        \"semantic_type\": \"\",\n        \"description\": \"\"\n      }\n    },\n    {\n      \"column\": \"Feeling Last 4 weeks\",\n      \"properties\": {\n        \"dtype\": \"category\",\n        \"num_unique_values\": 3,\n        \"samples\": [\n          \"I felt tense\",\n          \"I felt calm and peaceful\",\n          \"I felt full of energy\"\n        ],\n        \"semantic_type\": \"\",\n        \"description\": \"\"\n      }\n    },\n    {\n      \"column\": \"Anxiety or Depression last 12 months\",\n      \"properties\": {\n        \"dtype\": \"category\",\n        \"num_unique_values\": 2,\n        \"samples\": [\n          \"No\",\n          \"Yes\"\n        ],\n        \"semantic_type\": \"\",\n        \"description\": \"\"\n      }\n    },\n    {\n      \"column\": \"Ocupation\",\n      \"properties\": {\n        \"dtype\": \"category\",\n        \"num_unique_values\": 1,\n        \"samples\": [\n          \"Office clerk\"\n        ],\n        \"semantic_type\": \"\",\n        \"description\": \"\"\n      }\n    }\n  ]\n}"
            }
          },
          "metadata": {},
          "execution_count": 6
        }
      ]
    },
    {
      "cell_type": "markdown",
      "source": [
        "**Stratified sampling**"
      ],
      "metadata": {
        "id": "ciJ5Lk0ovIHO"
      }
    },
    {
      "cell_type": "markdown",
      "source": [
        "First, NAN is categorized as a separate category."
      ],
      "metadata": {
        "id": "xi5pWCTC67tC"
      }
    },
    {
      "cell_type": "code",
      "source": [
        "categorical_columns = MentalProblems.select_dtypes(include=['category']).columns\n",
        "\n",
        "for col in categorical_columns:\n",
        "    # Add 'NaN' as a new category and assign it back to the original DataFrame\n",
        "    MentalProblems[col] = MentalProblems[col].cat.add_categories(['NaN'])\n",
        "\n",
        "    # Fill NaN values with the string 'NaN' and assign back to the column\n",
        "    MentalProblems[col] = MentalProblems[col].fillna('NaN')\n"
      ],
      "metadata": {
        "id": "K_I94yNCv0w1"
      },
      "execution_count": 7,
      "outputs": []
    },
    {
      "cell_type": "markdown",
      "source": [
        "Next, we perform stratified sampling.\n",
        "\n",
        "Note that instead of specifying a sample size, we indicate the percentage of each stratum to be included in the sample"
      ],
      "metadata": {
        "id": "18TGlkZK30pc"
      }
    },
    {
      "cell_type": "code",
      "source": [
        "# Perform stratified sampling\n",
        "Stratified = MentalProblems.groupby('Ocupation', group_keys=False, observed=False).apply(lambda x: x.sample(frac=0.5),include_groups=False)\n",
        "Stratified"
      ],
      "metadata": {
        "colab": {
          "base_uri": "https://localhost:8080/",
          "height": 0
        },
        "id": "F6Sfq7OJ3ZfR",
        "outputId": "46564ef8-f528-42fd-81ce-ce51b92e9152"
      },
      "execution_count": 8,
      "outputs": [
        {
          "output_type": "execute_result",
          "data": {
            "text/plain": [
              "      ID      Feeling Last 4 weeks Anxiety or Depression last 12 months\n",
              "2101   2  I felt calm and peaceful                                   No\n",
              "2108   9  I felt calm and peaceful                                   No\n",
              "2109  10  I felt calm and peaceful                                  Yes\n",
              "2102   3  I felt calm and peaceful                                   No\n",
              "2105   6              I felt tense                                  Yes"
            ],
            "text/html": [
              "\n",
              "  <div id=\"df-c2d245fd-c339-4d2a-9cbc-3ca6957126fc\" class=\"colab-df-container\">\n",
              "    <div>\n",
              "<style scoped>\n",
              "    .dataframe tbody tr th:only-of-type {\n",
              "        vertical-align: middle;\n",
              "    }\n",
              "\n",
              "    .dataframe tbody tr th {\n",
              "        vertical-align: top;\n",
              "    }\n",
              "\n",
              "    .dataframe thead th {\n",
              "        text-align: right;\n",
              "    }\n",
              "</style>\n",
              "<table border=\"1\" class=\"dataframe\">\n",
              "  <thead>\n",
              "    <tr style=\"text-align: right;\">\n",
              "      <th></th>\n",
              "      <th>ID</th>\n",
              "      <th>Feeling Last 4 weeks</th>\n",
              "      <th>Anxiety or Depression last 12 months</th>\n",
              "    </tr>\n",
              "  </thead>\n",
              "  <tbody>\n",
              "    <tr>\n",
              "      <th>2101</th>\n",
              "      <td>2</td>\n",
              "      <td>I felt calm and peaceful</td>\n",
              "      <td>No</td>\n",
              "    </tr>\n",
              "    <tr>\n",
              "      <th>2108</th>\n",
              "      <td>9</td>\n",
              "      <td>I felt calm and peaceful</td>\n",
              "      <td>No</td>\n",
              "    </tr>\n",
              "    <tr>\n",
              "      <th>2109</th>\n",
              "      <td>10</td>\n",
              "      <td>I felt calm and peaceful</td>\n",
              "      <td>Yes</td>\n",
              "    </tr>\n",
              "    <tr>\n",
              "      <th>2102</th>\n",
              "      <td>3</td>\n",
              "      <td>I felt calm and peaceful</td>\n",
              "      <td>No</td>\n",
              "    </tr>\n",
              "    <tr>\n",
              "      <th>2105</th>\n",
              "      <td>6</td>\n",
              "      <td>I felt tense</td>\n",
              "      <td>Yes</td>\n",
              "    </tr>\n",
              "  </tbody>\n",
              "</table>\n",
              "</div>\n",
              "    <div class=\"colab-df-buttons\">\n",
              "\n",
              "  <div class=\"colab-df-container\">\n",
              "    <button class=\"colab-df-convert\" onclick=\"convertToInteractive('df-c2d245fd-c339-4d2a-9cbc-3ca6957126fc')\"\n",
              "            title=\"Convert this dataframe to an interactive table.\"\n",
              "            style=\"display:none;\">\n",
              "\n",
              "  <svg xmlns=\"http://www.w3.org/2000/svg\" height=\"24px\" viewBox=\"0 -960 960 960\">\n",
              "    <path d=\"M120-120v-720h720v720H120Zm60-500h600v-160H180v160Zm220 220h160v-160H400v160Zm0 220h160v-160H400v160ZM180-400h160v-160H180v160Zm440 0h160v-160H620v160ZM180-180h160v-160H180v160Zm440 0h160v-160H620v160Z\"/>\n",
              "  </svg>\n",
              "    </button>\n",
              "\n",
              "  <style>\n",
              "    .colab-df-container {\n",
              "      display:flex;\n",
              "      gap: 12px;\n",
              "    }\n",
              "\n",
              "    .colab-df-convert {\n",
              "      background-color: #E8F0FE;\n",
              "      border: none;\n",
              "      border-radius: 50%;\n",
              "      cursor: pointer;\n",
              "      display: none;\n",
              "      fill: #1967D2;\n",
              "      height: 32px;\n",
              "      padding: 0 0 0 0;\n",
              "      width: 32px;\n",
              "    }\n",
              "\n",
              "    .colab-df-convert:hover {\n",
              "      background-color: #E2EBFA;\n",
              "      box-shadow: 0px 1px 2px rgba(60, 64, 67, 0.3), 0px 1px 3px 1px rgba(60, 64, 67, 0.15);\n",
              "      fill: #174EA6;\n",
              "    }\n",
              "\n",
              "    .colab-df-buttons div {\n",
              "      margin-bottom: 4px;\n",
              "    }\n",
              "\n",
              "    [theme=dark] .colab-df-convert {\n",
              "      background-color: #3B4455;\n",
              "      fill: #D2E3FC;\n",
              "    }\n",
              "\n",
              "    [theme=dark] .colab-df-convert:hover {\n",
              "      background-color: #434B5C;\n",
              "      box-shadow: 0px 1px 3px 1px rgba(0, 0, 0, 0.15);\n",
              "      filter: drop-shadow(0px 1px 2px rgba(0, 0, 0, 0.3));\n",
              "      fill: #FFFFFF;\n",
              "    }\n",
              "  </style>\n",
              "\n",
              "    <script>\n",
              "      const buttonEl =\n",
              "        document.querySelector('#df-c2d245fd-c339-4d2a-9cbc-3ca6957126fc button.colab-df-convert');\n",
              "      buttonEl.style.display =\n",
              "        google.colab.kernel.accessAllowed ? 'block' : 'none';\n",
              "\n",
              "      async function convertToInteractive(key) {\n",
              "        const element = document.querySelector('#df-c2d245fd-c339-4d2a-9cbc-3ca6957126fc');\n",
              "        const dataTable =\n",
              "          await google.colab.kernel.invokeFunction('convertToInteractive',\n",
              "                                                    [key], {});\n",
              "        if (!dataTable) return;\n",
              "\n",
              "        const docLinkHtml = 'Like what you see? Visit the ' +\n",
              "          '<a target=\"_blank\" href=https://colab.research.google.com/notebooks/data_table.ipynb>data table notebook</a>'\n",
              "          + ' to learn more about interactive tables.';\n",
              "        element.innerHTML = '';\n",
              "        dataTable['output_type'] = 'display_data';\n",
              "        await google.colab.output.renderOutput(dataTable, element);\n",
              "        const docLink = document.createElement('div');\n",
              "        docLink.innerHTML = docLinkHtml;\n",
              "        element.appendChild(docLink);\n",
              "      }\n",
              "    </script>\n",
              "  </div>\n",
              "\n",
              "\n",
              "<div id=\"df-d2b24a7d-7890-43f8-8e04-222e30f7f4d6\">\n",
              "  <button class=\"colab-df-quickchart\" onclick=\"quickchart('df-d2b24a7d-7890-43f8-8e04-222e30f7f4d6')\"\n",
              "            title=\"Suggest charts\"\n",
              "            style=\"display:none;\">\n",
              "\n",
              "<svg xmlns=\"http://www.w3.org/2000/svg\" height=\"24px\"viewBox=\"0 0 24 24\"\n",
              "     width=\"24px\">\n",
              "    <g>\n",
              "        <path d=\"M19 3H5c-1.1 0-2 .9-2 2v14c0 1.1.9 2 2 2h14c1.1 0 2-.9 2-2V5c0-1.1-.9-2-2-2zM9 17H7v-7h2v7zm4 0h-2V7h2v10zm4 0h-2v-4h2v4z\"/>\n",
              "    </g>\n",
              "</svg>\n",
              "  </button>\n",
              "\n",
              "<style>\n",
              "  .colab-df-quickchart {\n",
              "      --bg-color: #E8F0FE;\n",
              "      --fill-color: #1967D2;\n",
              "      --hover-bg-color: #E2EBFA;\n",
              "      --hover-fill-color: #174EA6;\n",
              "      --disabled-fill-color: #AAA;\n",
              "      --disabled-bg-color: #DDD;\n",
              "  }\n",
              "\n",
              "  [theme=dark] .colab-df-quickchart {\n",
              "      --bg-color: #3B4455;\n",
              "      --fill-color: #D2E3FC;\n",
              "      --hover-bg-color: #434B5C;\n",
              "      --hover-fill-color: #FFFFFF;\n",
              "      --disabled-bg-color: #3B4455;\n",
              "      --disabled-fill-color: #666;\n",
              "  }\n",
              "\n",
              "  .colab-df-quickchart {\n",
              "    background-color: var(--bg-color);\n",
              "    border: none;\n",
              "    border-radius: 50%;\n",
              "    cursor: pointer;\n",
              "    display: none;\n",
              "    fill: var(--fill-color);\n",
              "    height: 32px;\n",
              "    padding: 0;\n",
              "    width: 32px;\n",
              "  }\n",
              "\n",
              "  .colab-df-quickchart:hover {\n",
              "    background-color: var(--hover-bg-color);\n",
              "    box-shadow: 0 1px 2px rgba(60, 64, 67, 0.3), 0 1px 3px 1px rgba(60, 64, 67, 0.15);\n",
              "    fill: var(--button-hover-fill-color);\n",
              "  }\n",
              "\n",
              "  .colab-df-quickchart-complete:disabled,\n",
              "  .colab-df-quickchart-complete:disabled:hover {\n",
              "    background-color: var(--disabled-bg-color);\n",
              "    fill: var(--disabled-fill-color);\n",
              "    box-shadow: none;\n",
              "  }\n",
              "\n",
              "  .colab-df-spinner {\n",
              "    border: 2px solid var(--fill-color);\n",
              "    border-color: transparent;\n",
              "    border-bottom-color: var(--fill-color);\n",
              "    animation:\n",
              "      spin 1s steps(1) infinite;\n",
              "  }\n",
              "\n",
              "  @keyframes spin {\n",
              "    0% {\n",
              "      border-color: transparent;\n",
              "      border-bottom-color: var(--fill-color);\n",
              "      border-left-color: var(--fill-color);\n",
              "    }\n",
              "    20% {\n",
              "      border-color: transparent;\n",
              "      border-left-color: var(--fill-color);\n",
              "      border-top-color: var(--fill-color);\n",
              "    }\n",
              "    30% {\n",
              "      border-color: transparent;\n",
              "      border-left-color: var(--fill-color);\n",
              "      border-top-color: var(--fill-color);\n",
              "      border-right-color: var(--fill-color);\n",
              "    }\n",
              "    40% {\n",
              "      border-color: transparent;\n",
              "      border-right-color: var(--fill-color);\n",
              "      border-top-color: var(--fill-color);\n",
              "    }\n",
              "    60% {\n",
              "      border-color: transparent;\n",
              "      border-right-color: var(--fill-color);\n",
              "    }\n",
              "    80% {\n",
              "      border-color: transparent;\n",
              "      border-right-color: var(--fill-color);\n",
              "      border-bottom-color: var(--fill-color);\n",
              "    }\n",
              "    90% {\n",
              "      border-color: transparent;\n",
              "      border-bottom-color: var(--fill-color);\n",
              "    }\n",
              "  }\n",
              "</style>\n",
              "\n",
              "  <script>\n",
              "    async function quickchart(key) {\n",
              "      const quickchartButtonEl =\n",
              "        document.querySelector('#' + key + ' button');\n",
              "      quickchartButtonEl.disabled = true;  // To prevent multiple clicks.\n",
              "      quickchartButtonEl.classList.add('colab-df-spinner');\n",
              "      try {\n",
              "        const charts = await google.colab.kernel.invokeFunction(\n",
              "            'suggestCharts', [key], {});\n",
              "      } catch (error) {\n",
              "        console.error('Error during call to suggestCharts:', error);\n",
              "      }\n",
              "      quickchartButtonEl.classList.remove('colab-df-spinner');\n",
              "      quickchartButtonEl.classList.add('colab-df-quickchart-complete');\n",
              "    }\n",
              "    (() => {\n",
              "      let quickchartButtonEl =\n",
              "        document.querySelector('#df-d2b24a7d-7890-43f8-8e04-222e30f7f4d6 button');\n",
              "      quickchartButtonEl.style.display =\n",
              "        google.colab.kernel.accessAllowed ? 'block' : 'none';\n",
              "    })();\n",
              "  </script>\n",
              "</div>\n",
              "\n",
              "  <div id=\"id_c071069a-949d-409f-982c-eca19fc2c2fb\">\n",
              "    <style>\n",
              "      .colab-df-generate {\n",
              "        background-color: #E8F0FE;\n",
              "        border: none;\n",
              "        border-radius: 50%;\n",
              "        cursor: pointer;\n",
              "        display: none;\n",
              "        fill: #1967D2;\n",
              "        height: 32px;\n",
              "        padding: 0 0 0 0;\n",
              "        width: 32px;\n",
              "      }\n",
              "\n",
              "      .colab-df-generate:hover {\n",
              "        background-color: #E2EBFA;\n",
              "        box-shadow: 0px 1px 2px rgba(60, 64, 67, 0.3), 0px 1px 3px 1px rgba(60, 64, 67, 0.15);\n",
              "        fill: #174EA6;\n",
              "      }\n",
              "\n",
              "      [theme=dark] .colab-df-generate {\n",
              "        background-color: #3B4455;\n",
              "        fill: #D2E3FC;\n",
              "      }\n",
              "\n",
              "      [theme=dark] .colab-df-generate:hover {\n",
              "        background-color: #434B5C;\n",
              "        box-shadow: 0px 1px 3px 1px rgba(0, 0, 0, 0.15);\n",
              "        filter: drop-shadow(0px 1px 2px rgba(0, 0, 0, 0.3));\n",
              "        fill: #FFFFFF;\n",
              "      }\n",
              "    </style>\n",
              "    <button class=\"colab-df-generate\" onclick=\"generateWithVariable('Stratified')\"\n",
              "            title=\"Generate code using this dataframe.\"\n",
              "            style=\"display:none;\">\n",
              "\n",
              "  <svg xmlns=\"http://www.w3.org/2000/svg\" height=\"24px\"viewBox=\"0 0 24 24\"\n",
              "       width=\"24px\">\n",
              "    <path d=\"M7,19H8.4L18.45,9,17,7.55,7,17.6ZM5,21V16.75L18.45,3.32a2,2,0,0,1,2.83,0l1.4,1.43a1.91,1.91,0,0,1,.58,1.4,1.91,1.91,0,0,1-.58,1.4L9.25,21ZM18.45,9,17,7.55Zm-12,3A5.31,5.31,0,0,0,4.9,8.1,5.31,5.31,0,0,0,1,6.5,5.31,5.31,0,0,0,4.9,4.9,5.31,5.31,0,0,0,6.5,1,5.31,5.31,0,0,0,8.1,4.9,5.31,5.31,0,0,0,12,6.5,5.46,5.46,0,0,0,6.5,12Z\"/>\n",
              "  </svg>\n",
              "    </button>\n",
              "    <script>\n",
              "      (() => {\n",
              "      const buttonEl =\n",
              "        document.querySelector('#id_c071069a-949d-409f-982c-eca19fc2c2fb button.colab-df-generate');\n",
              "      buttonEl.style.display =\n",
              "        google.colab.kernel.accessAllowed ? 'block' : 'none';\n",
              "\n",
              "      buttonEl.onclick = () => {\n",
              "        google.colab.notebook.generateWithVariable('Stratified');\n",
              "      }\n",
              "      })();\n",
              "    </script>\n",
              "  </div>\n",
              "\n",
              "    </div>\n",
              "  </div>\n"
            ],
            "application/vnd.google.colaboratory.intrinsic+json": {
              "type": "dataframe",
              "variable_name": "Stratified",
              "summary": "{\n  \"name\": \"Stratified\",\n  \"rows\": 5,\n  \"fields\": [\n    {\n      \"column\": \"ID\",\n      \"properties\": {\n        \"dtype\": \"number\",\n        \"std\": 3,\n        \"min\": 2,\n        \"max\": 10,\n        \"num_unique_values\": 5,\n        \"samples\": [\n          9,\n          6,\n          10\n        ],\n        \"semantic_type\": \"\",\n        \"description\": \"\"\n      }\n    },\n    {\n      \"column\": \"Feeling Last 4 weeks\",\n      \"properties\": {\n        \"dtype\": \"category\",\n        \"num_unique_values\": 2,\n        \"samples\": [\n          \"I felt tense\",\n          \"I felt calm and peaceful\"\n        ],\n        \"semantic_type\": \"\",\n        \"description\": \"\"\n      }\n    },\n    {\n      \"column\": \"Anxiety or Depression last 12 months\",\n      \"properties\": {\n        \"dtype\": \"category\",\n        \"num_unique_values\": 2,\n        \"samples\": [\n          \"Yes\",\n          \"No\"\n        ],\n        \"semantic_type\": \"\",\n        \"description\": \"\"\n      }\n    }\n  ]\n}"
            }
          },
          "metadata": {},
          "execution_count": 8
        }
      ]
    },
    {
      "cell_type": "markdown",
      "source": [
        "## Missing data handling"
      ],
      "metadata": {
        "id": "vnL-y6nqd0HB"
      }
    },
    {
      "cell_type": "markdown",
      "source": [
        "### Preparing data"
      ],
      "metadata": {
        "id": "5xNejxNgGw00"
      }
    },
    {
      "cell_type": "markdown",
      "source": [
        "Import an Excel file from Drive.\n",
        "\n"
      ],
      "metadata": {
        "id": "t1MXKKxJ8EEd"
      }
    },
    {
      "cell_type": "code",
      "source": [
        "data_homa = pd.read_excel('/content/drive/MyDrive/Colab Notebooks/Statistics/Curs/Data_c2/homa.xlsx')"
      ],
      "metadata": {
        "id": "SnwyKh6aYwHg"
      },
      "execution_count": 9,
      "outputs": []
    },
    {
      "cell_type": "markdown",
      "source": [
        "Visualize the amount of missing data."
      ],
      "metadata": {
        "id": "6vXgsx828jrg"
      }
    },
    {
      "cell_type": "code",
      "source": [
        "import missingno as msno\n",
        "msno.bar(data_homa)\n",
        "#msno.heatmap(data_homa)"
      ],
      "metadata": {
        "colab": {
          "base_uri": "https://localhost:8080/",
          "height": 0
        },
        "id": "wKEsWyOeg0mU",
        "outputId": "d816fd81-437e-4d66-f8ee-34e1d3cf2099"
      },
      "execution_count": 10,
      "outputs": [
        {
          "output_type": "execute_result",
          "data": {
            "text/plain": [
              "<Axes: >"
            ]
          },
          "metadata": {},
          "execution_count": 10
        },
        {
          "output_type": "display_data",
          "data": {
            "text/plain": [
              "<Figure size 2500x1450 with 3 Axes>"
            ],
            "image/png": "[encoded data removed]"
          },
          "metadata": {}
        }
      ]
    },
    {
      "cell_type": "markdown",
      "source": [
        "❗ Always take a look at the data! For example, note this error in data entry."
      ],
      "metadata": {
        "id": "xC2KpQlIZ263"
      }
    },
    {
      "cell_type": "code",
      "source": [
        "data_homa.loc[35:37, 'ATPO']"
      ],
      "metadata": {
        "collapsed": true,
        "id": "DRNDsdx368oK",
        "colab": {
          "base_uri": "https://localhost:8080/",
          "height": 0
        },
        "outputId": "617583ca-cdc0-4cfe-c181-85de4d278611"
      },
      "execution_count": 11,
      "outputs": [
        {
          "output_type": "execute_result",
          "data": {
            "text/plain": [
              "35         N\n",
              "36    ↑ X 32\n",
              "37         N\n",
              "Name: ATPO, dtype: object"
            ],
            "text/html": [
              "<div>\n",
              "<style scoped>\n",
              "    .dataframe tbody tr th:only-of-type {\n",
              "        vertical-align: middle;\n",
              "    }\n",
              "\n",
              "    .dataframe tbody tr th {\n",
              "        vertical-align: top;\n",
              "    }\n",
              "\n",
              "    .dataframe thead th {\n",
              "        text-align: right;\n",
              "    }\n",
              "</style>\n",
              "<table border=\"1\" class=\"dataframe\">\n",
              "  <thead>\n",
              "    <tr style=\"text-align: right;\">\n",
              "      <th></th>\n",
              "      <th>ATPO</th>\n",
              "    </tr>\n",
              "  </thead>\n",
              "  <tbody>\n",
              "    <tr>\n",
              "      <th>35</th>\n",
              "      <td>N</td>\n",
              "    </tr>\n",
              "    <tr>\n",
              "      <th>36</th>\n",
              "      <td>↑ X 32</td>\n",
              "    </tr>\n",
              "    <tr>\n",
              "      <th>37</th>\n",
              "      <td>N</td>\n",
              "    </tr>\n",
              "  </tbody>\n",
              "</table>\n",
              "</div><br><label><b>dtype:</b> object</label>"
            ]
          },
          "metadata": {},
          "execution_count": 11
        }
      ]
    },
    {
      "cell_type": "markdown",
      "source": [
        "### Missing data treatment procedures"
      ],
      "metadata": {
        "id": "aZD5qlLYaGdK"
      }
    },
    {
      "cell_type": "markdown",
      "source": [
        "#### Listwise treatment/Complete-cases"
      ],
      "metadata": {
        "id": "8sZ9CAj7aXHe"
      }
    },
    {
      "cell_type": "markdown",
      "source": [
        "Drop rows with missing data in the variable of interest."
      ],
      "metadata": {
        "id": "1hXaEte09T1e"
      }
    },
    {
      "cell_type": "code",
      "source": [
        "data_homa_listwise = data_homa.dropna(subset=['Raport TG/HDL'],how='any')"
      ],
      "metadata": {
        "id": "pjUObpdGXynK"
      },
      "execution_count": 12,
      "outputs": []
    },
    {
      "cell_type": "markdown",
      "source": [
        "Notice that the dataset was reduced from 43 to 28 rows"
      ],
      "metadata": {
        "id": "wFuoRS879hL8"
      }
    },
    {
      "cell_type": "code",
      "source": [
        "print(f\"Initial dataset size: {len(data_homa)}, Dataset size with listwise: {len(data_homa_listwise)}\")"
      ],
      "metadata": {
        "colab": {
          "base_uri": "https://localhost:8080/"
        },
        "id": "2KV3nMXEfp9o",
        "outputId": "bba9ab32-dca4-4274-a824-39a914ec5454"
      },
      "execution_count": 13,
      "outputs": [
        {
          "output_type": "stream",
          "name": "stdout",
          "text": [
            "Initial dataset size: 43, Dataset size with listwise: 28\n"
          ]
        }
      ]
    },
    {
      "cell_type": "markdown",
      "source": [
        "####Pairwise**/**Avalabile cases"
      ],
      "metadata": {
        "id": "sOvp3p4WaYOr"
      }
    },
    {
      "cell_type": "markdown",
      "source": [
        "Pandas uses pairwise deletion by default.\n",
        "\n",
        "Observe the differences below and note how the mean changes compared to listwise deletion"
      ],
      "metadata": {
        "id": "UYYFU3y9kxIk"
      }
    },
    {
      "cell_type": "markdown",
      "source": [
        "The mean of the variable of interest remains the same because all the available information for this variable is used in both pairwise and listwise deletion"
      ],
      "metadata": {
        "id": "bu39NFGO93oX"
      }
    },
    {
      "cell_type": "code",
      "source": [
        "print(f\"Mean of variable with missing (pairwise): {data_homa['Raport TG/HDL'].mean()}, Mean of variable with missing (listwise): {data_homa_listwise['Raport TG/HDL'].mean()}\")"
      ],
      "metadata": {
        "colab": {
          "base_uri": "https://localhost:8080/"
        },
        "id": "cgvM7zSkoSzh",
        "outputId": "7728c658-4339-43af-8af1-f706850c7020"
      },
      "execution_count": 14,
      "outputs": [
        {
          "output_type": "stream",
          "name": "stdout",
          "text": [
            "Mean of variable with missing (pairwise): 2.0396428571428573, Mean of variable with missing (listwise): 2.0396428571428573\n"
          ]
        }
      ]
    },
    {
      "cell_type": "markdown",
      "source": [
        "However, the means of the other variables may differ.\n",
        "\n",
        "For example, Age has 43 data points, all of which were used to compute the mean via the pairwise method. In contrast, listwise deletion used only 23 cases that had data on 'Raport TG/HDL.'\""
      ],
      "metadata": {
        "id": "bMGyM-W5-DYv"
      }
    },
    {
      "cell_type": "code",
      "source": [
        "print(f\"Mean of another variable with no missing (pairwise): {data_homa['Age'].mean()}, Mean of another variable with no missing (listwise): {data_homa_listwise['Age'].mean()}\")"
      ],
      "metadata": {
        "colab": {
          "base_uri": "https://localhost:8080/"
        },
        "id": "xOm6pJsvo9SD",
        "outputId": "3c91302e-e24c-4031-dc6c-37dbfba9f4f9"
      },
      "execution_count": 15,
      "outputs": [
        {
          "output_type": "stream",
          "name": "stdout",
          "text": [
            "Mean of another variable with no missing (pairwise): 12.023255813953488, Mean of another variable with no missing (listwise): 11.928571428571429\n"
          ]
        }
      ]
    },
    {
      "cell_type": "markdown",
      "source": [
        "####Mean/Mode/Median imputation"
      ],
      "metadata": {
        "id": "lbvfrWJuaZAz"
      }
    },
    {
      "cell_type": "markdown",
      "source": [
        "The SimpleImputer is used to replace missing values with the mean of the respective variable. This method is applied to all quantiative variables."
      ],
      "metadata": {
        "id": "RF3ImZAkAjaA"
      }
    },
    {
      "cell_type": "code",
      "source": [
        "from sklearn.impute import SimpleImputer\n",
        "mean_imputer = SimpleImputer(strategy='mean') ### \"most_frequent\" - mode - or \"median\" can also be used"
      ],
      "metadata": {
        "id": "qZkEpHnqaZ9-"
      },
      "execution_count": 16,
      "outputs": []
    },
    {
      "cell_type": "code",
      "source": [
        "data_homa_mean = data_homa.copy()\n",
        "\n",
        "for col in data_homa_mean.select_dtypes(include=['number']).columns:\n",
        "    data_homa_mean[col] = mean_imputer.fit_transform(data_homa[[col]]) ##this is required as mean only works for numeric"
      ],
      "metadata": {
        "id": "BSZkux3m7pHv"
      },
      "execution_count": 17,
      "outputs": []
    },
    {
      "cell_type": "markdown",
      "source": [
        "Note that the mean of the variable of interest remained the same; however, the variance changed."
      ],
      "metadata": {
        "id": "EC8zdb_z9y-Y"
      }
    },
    {
      "cell_type": "code",
      "source": [
        "print(f\"Mean of variable with missing (pairwise): {data_homa['Raport TG/HDL'].mean()}, Mean variable with missing (Mean Imputation): {data_homa_mean['Raport TG/HDL'].mean()}\")"
      ],
      "metadata": {
        "colab": {
          "base_uri": "https://localhost:8080/"
        },
        "id": "EDaMcoY_tyxj",
        "outputId": "4adfcbdd-06d0-48b1-af38-a6f1c8204c67"
      },
      "execution_count": 18,
      "outputs": [
        {
          "output_type": "stream",
          "name": "stdout",
          "text": [
            "Mean of variable with missing (pairwise): 2.0396428571428573, Mean variable with missing (Mean Imputation): 2.039642857142857\n"
          ]
        }
      ]
    },
    {
      "cell_type": "code",
      "source": [
        "print(f\"Variance of variable with missing (pairwise): {data_homa['Raport TG/HDL'].var()}, Variance variable with missing (Mean Imputation): {data_homa_mean['Raport TG/HDL'].var()}\")"
      ],
      "metadata": {
        "colab": {
          "base_uri": "https://localhost:8080/"
        },
        "id": "GOSDQJ9OulDB",
        "outputId": "03c8b48d-d116-450e-b25d-1fbb7ae74181"
      },
      "execution_count": 19,
      "outputs": [
        {
          "output_type": "stream",
          "name": "stdout",
          "text": [
            "Variance of variable with missing (pairwise): 2.9818406084656095, Variance variable with missing (Mean Imputation): 1.916897534013606\n"
          ]
        }
      ]
    },
    {
      "cell_type": "markdown",
      "source": [
        "❗ Using the mode or median also changes the mean"
      ],
      "metadata": {
        "id": "FqvhYiiEBfD3"
      }
    },
    {
      "cell_type": "markdown",
      "source": [
        "#### Indicator"
      ],
      "metadata": {
        "id": "oHPmQRmfTlhP"
      }
    },
    {
      "cell_type": "markdown",
      "source": [
        "In this approach, we use the Simple Imputer to replace missing data with the most frequent value (mode) and set add_indicator=True to create an indicator variable for each feature."
      ],
      "metadata": {
        "id": "zQ1Edigx_GA6"
      }
    },
    {
      "cell_type": "code",
      "source": [
        "from sklearn.impute import SimpleImputer\n",
        "mode_imputer = SimpleImputer(strategy='most_frequent',add_indicator=True)"
      ],
      "metadata": {
        "id": "sxwuCFp-TpLZ"
      },
      "execution_count": 20,
      "outputs": []
    },
    {
      "cell_type": "code",
      "source": [
        "data_homa_mode_indicator = pd.DataFrame(mode_imputer.fit_transform(data_homa),\n",
        "                                        columns = mode_imputer.get_feature_names_out())"
      ],
      "metadata": {
        "id": "Hb6Sf3GqT1f-"
      },
      "execution_count": 21,
      "outputs": []
    },
    {
      "cell_type": "markdown",
      "source": [
        "Notice how an indicator was created for each column with NAN"
      ],
      "metadata": {
        "id": "DoVTmq5_XWn_"
      }
    },
    {
      "cell_type": "code",
      "source": [
        "data_homa.shape"
      ],
      "metadata": {
        "colab": {
          "base_uri": "https://localhost:8080/"
        },
        "id": "JM4yR2FXXyMX",
        "outputId": "ca82803a-0a61-4c8c-f37b-d8e132857587"
      },
      "execution_count": 22,
      "outputs": [
        {
          "output_type": "execute_result",
          "data": {
            "text/plain": [
              "(43, 54)"
            ]
          },
          "metadata": {},
          "execution_count": 22
        }
      ]
    },
    {
      "cell_type": "code",
      "source": [
        "data_homa_mode_indicator.shape"
      ],
      "metadata": {
        "colab": {
          "base_uri": "https://localhost:8080/"
        },
        "id": "KD7vHmSeUwj4",
        "outputId": "bbbbe64d-5ad5-4dfe-c667-52b0b609cc46"
      },
      "execution_count": 23,
      "outputs": [
        {
          "output_type": "execute_result",
          "data": {
            "text/plain": [
              "(43, 73)"
            ]
          },
          "metadata": {},
          "execution_count": 23
        }
      ]
    },
    {
      "cell_type": "code",
      "source": [
        "pd.set_option('display.max_columns', None)\n",
        "data_homa_mode_indicator[3:5] ###look towards the end of the table"
      ],
      "metadata": {
        "id": "hUise-iVVeOC",
        "colab": {
          "base_uri": "https://localhost:8080/",
          "height": 0
        },
        "outputId": "f4e150a4-ca1d-4bfe-9847-518d383e4522"
      },
      "execution_count": 24,
      "outputs": [
        {
          "output_type": "execute_result",
          "data": {
            "text/plain": [
              "  Nr. Age      Age category Gender Psoriasis type Psoriasis severity  \\\n",
              "3   4   6  Middle childhood      M       Vulgaris               Mild   \n",
              "4   5  10  Middle childhood      F        Inverse               Mild   \n",
              "\n",
              "  Initial PASI Initial Cdlqi QOL impairment Nail involvement Pitting_Only  \\\n",
              "3          3.8             4   Small effect              YES            1   \n",
              "4          1.8             5   Small effect              YES            0   \n",
              "\n",
              "  OilSpot NAPSI Pitting Type of nail involvement G (kg) H (cm)   BMI  \\\n",
              "3       0    18       1                  Pitting   29.5    143  14.4   \n",
              "4       1    25       1        Pitting, oil spot   73.0    156  30.0   \n",
              "\n",
              "  Percentile Nutritional status Blood glucose (mg/dl) Blood insulin (uU/ml)  \\\n",
              "3         20      Normal weight                  87.9                  4.03   \n",
              "4         99              Obese                  76.1                 20.69   \n",
              "\n",
              "  HOMA HOMA meaning  QUICKI QUICKI meaning Inflammatory syndrome (ESR) TSH  \\\n",
              "3  0.9       Normal  0.3923         Normal                          NO   N   \n",
              "4  3.9     Elevated  0.3128            Low                         YES   N   \n",
              "\n",
              "  FT4 ATPO Tyroid dyfunction        Type of tyroid dynfunction  \\\n",
              "3   N    N                NO  Euthyroid autoimmune thyroiditis   \n",
              "4   N    N                NO  Euthyroid autoimmune thyroiditis   \n",
              "\n",
              "  Treatment for thyroid difunction Personal dermatological medical history  \\\n",
              "3                         Euthyrox                    Achantosis nigricans   \n",
              "4                         Euthyrox                    Achantosis nigricans   \n",
              "\n",
              "  Non-dermatological personal medical history  \\\n",
              "3                           Allergic rhinitis   \n",
              "4                           Allergic rhinitis   \n",
              "\n",
              "  Dermatological family medical history  \\\n",
              "3      Paternal grandmother - psoriasis   \n",
              "4                    Father - psoriasis   \n",
              "\n",
              "  Inflammatory skin conditions family history  \\\n",
              "3                                         YES   \n",
              "4                                          NO   \n",
              "\n",
              "    Non-dermatological family medical history Metabolic family history  \\\n",
              "3  Maternal grandmother - thyroid disfunction                       NO   \n",
              "4  Maternal grandmother - thyroid disfunction                       NO   \n",
              "\n",
              "  Topical treatment Systemic treatment Phototherapy 25-OH-vitamina D3 (ng/ml)  \\\n",
              "3               YES                 NO           NO                      28.9   \n",
              "4               YES                 NO           NO                      32.9   \n",
              "\n",
              "  Interpretare vit D HDL colesterol( mg/dl) LDL colesterol(mg/dl)  \\\n",
              "3        Insuficient                   63.8                  70.7   \n",
              "4             Normal                   44.1                  97.0   \n",
              "\n",
              "  Colesterol total (mg/dl) Trigliceride (mg/dl) Raport TG/HDL  \\\n",
              "3                    125.8                 23.9          0.37   \n",
              "4                    150.3                114.5           2.5   \n",
              "\n",
              "  Interpretare raport TG/HDL Raport LDL/HDL Interpretare raport LDL/HDL  \\\n",
              "3                      Optim            1.1                           N   \n",
              "4                  Elevated             2.1                           N   \n",
              "\n",
              "  Dislipidemie YES/NO Circumferinta abdominala (cm)  \\\n",
              "3                  NO                          90.0   \n",
              "4                 YES                          90.0   \n",
              "\n",
              "  missingindicator_Type of nail involvement  \\\n",
              "3                                     False   \n",
              "4                                     False   \n",
              "\n",
              "  missingindicator_Type of tyroid dynfunction  \\\n",
              "3                                        True   \n",
              "4                                        True   \n",
              "\n",
              "  missingindicator_Treatment for thyroid difunction  \\\n",
              "3                                              True   \n",
              "4                                              True   \n",
              "\n",
              "  missingindicator_Personal dermatological medical history  \\\n",
              "3                                               True         \n",
              "4                                               True         \n",
              "\n",
              "  missingindicator_Non-dermatological personal medical history  \\\n",
              "3                                               True             \n",
              "4                                               True             \n",
              "\n",
              "  missingindicator_Dermatological family medical history  \\\n",
              "3                                              False       \n",
              "4                                               True       \n",
              "\n",
              "  missingindicator_Non-dermatological family medical history  \\\n",
              "3                                              False           \n",
              "4                                               True           \n",
              "\n",
              "  missingindicator_25-OH-vitamina D3 (ng/ml)  \\\n",
              "3                                      False   \n",
              "4                                      False   \n",
              "\n",
              "  missingindicator_Interpretare vit D missingindicator_HDL colesterol( mg/dl)  \\\n",
              "3                               False                                   False   \n",
              "4                               False                                   False   \n",
              "\n",
              "  missingindicator_LDL colesterol(mg/dl)  \\\n",
              "3                                  False   \n",
              "4                                  False   \n",
              "\n",
              "  missingindicator_Colesterol total (mg/dl)  \\\n",
              "3                                     False   \n",
              "4                                     False   \n",
              "\n",
              "  missingindicator_Trigliceride (mg/dl) missingindicator_Raport TG/HDL  \\\n",
              "3                                 False                          False   \n",
              "4                                 False                          False   \n",
              "\n",
              "  missingindicator_Interpretare raport TG/HDL missingindicator_Raport LDL/HDL  \\\n",
              "3                                       False                           False   \n",
              "4                                       False                           False   \n",
              "\n",
              "  missingindicator_Interpretare raport LDL/HDL  \\\n",
              "3                                        False   \n",
              "4                                        False   \n",
              "\n",
              "  missingindicator_Dislipidemie YES/NO  \\\n",
              "3                                False   \n",
              "4                                False   \n",
              "\n",
              "  missingindicator_Circumferinta abdominala (cm)  \n",
              "3                                           True  \n",
              "4                                           True  "
            ],
            "text/html": [
              "\n",
              "  <div id=\"df-49923734-adf7-4f11-885a-e925bfc80e46\" class=\"colab-df-container\">\n",
              "    <div>\n",
              "<style scoped>\n",
              "    .dataframe tbody tr th:only-of-type {\n",
              "        vertical-align: middle;\n",
              "    }\n",
              "\n",
              "    .dataframe tbody tr th {\n",
              "        vertical-align: top;\n",
              "    }\n",
              "\n",
              "    .dataframe thead th {\n",
              "        text-align: right;\n",
              "    }\n",
              "</style>\n",
              "<table border=\"1\" class=\"dataframe\">\n",
              "  <thead>\n",
              "    <tr style=\"text-align: right;\">\n",
              "      <th></th>\n",
              "      <th>Nr.</th>\n",
              "      <th>Age</th>\n",
              "      <th>Age category</th>\n",
              "      <th>Gender</th>\n",
              "      <th>Psoriasis type</th>\n",
              "      <th>Psoriasis severity</th>\n",
              "      <th>Initial PASI</th>\n",
              "      <th>Initial Cdlqi</th>\n",
              "      <th>QOL impairment</th>\n",
              "      <th>Nail involvement</th>\n",
              "      <th>Pitting_Only</th>\n",
              "      <th>OilSpot</th>\n",
              "      <th>NAPSI</th>\n",
              "      <th>Pitting</th>\n",
              "      <th>Type of nail involvement</th>\n",
              "      <th>G (kg)</th>\n",
              "      <th>H (cm)</th>\n",
              "      <th>BMI</th>\n",
              "      <th>Percentile</th>\n",
              "      <th>Nutritional status</th>\n",
              "      <th>Blood glucose (mg/dl)</th>\n",
              "      <th>Blood insulin (uU/ml)</th>\n",
              "      <th>HOMA</th>\n",
              "      <th>HOMA meaning</th>\n",
              "      <th>QUICKI</th>\n",
              "      <th>QUICKI meaning</th>\n",
              "      <th>Inflammatory syndrome (ESR)</th>\n",
              "      <th>TSH</th>\n",
              "      <th>FT4</th>\n",
              "      <th>ATPO</th>\n",
              "      <th>Tyroid dyfunction</th>\n",
              "      <th>Type of tyroid dynfunction</th>\n",
              "      <th>Treatment for thyroid difunction</th>\n",
              "      <th>Personal dermatological medical history</th>\n",
              "      <th>Non-dermatological personal medical history</th>\n",
              "      <th>Dermatological family medical history</th>\n",
              "      <th>Inflammatory skin conditions family history</th>\n",
              "      <th>Non-dermatological family medical history</th>\n",
              "      <th>Metabolic family history</th>\n",
              "      <th>Topical treatment</th>\n",
              "      <th>Systemic treatment</th>\n",
              "      <th>Phototherapy</th>\n",
              "      <th>25-OH-vitamina D3 (ng/ml)</th>\n",
              "      <th>Interpretare vit D</th>\n",
              "      <th>HDL colesterol( mg/dl)</th>\n",
              "      <th>LDL colesterol(mg/dl)</th>\n",
              "      <th>Colesterol total (mg/dl)</th>\n",
              "      <th>Trigliceride (mg/dl)</th>\n",
              "      <th>Raport TG/HDL</th>\n",
              "      <th>Interpretare raport TG/HDL</th>\n",
              "      <th>Raport LDL/HDL</th>\n",
              "      <th>Interpretare raport LDL/HDL</th>\n",
              "      <th>Dislipidemie YES/NO</th>\n",
              "      <th>Circumferinta abdominala (cm)</th>\n",
              "      <th>missingindicator_Type of nail involvement</th>\n",
              "      <th>missingindicator_Type of tyroid dynfunction</th>\n",
              "      <th>missingindicator_Treatment for thyroid difunction</th>\n",
              "      <th>missingindicator_Personal dermatological medical history</th>\n",
              "      <th>missingindicator_Non-dermatological personal medical history</th>\n",
              "      <th>missingindicator_Dermatological family medical history</th>\n",
              "      <th>missingindicator_Non-dermatological family medical history</th>\n",
              "      <th>missingindicator_25-OH-vitamina D3 (ng/ml)</th>\n",
              "      <th>missingindicator_Interpretare vit D</th>\n",
              "      <th>missingindicator_HDL colesterol( mg/dl)</th>\n",
              "      <th>missingindicator_LDL colesterol(mg/dl)</th>\n",
              "      <th>missingindicator_Colesterol total (mg/dl)</th>\n",
              "      <th>missingindicator_Trigliceride (mg/dl)</th>\n",
              "      <th>missingindicator_Raport TG/HDL</th>\n",
              "      <th>missingindicator_Interpretare raport TG/HDL</th>\n",
              "      <th>missingindicator_Raport LDL/HDL</th>\n",
              "      <th>missingindicator_Interpretare raport LDL/HDL</th>\n",
              "      <th>missingindicator_Dislipidemie YES/NO</th>\n",
              "      <th>missingindicator_Circumferinta abdominala (cm)</th>\n",
              "    </tr>\n",
              "  </thead>\n",
              "  <tbody>\n",
              "    <tr>\n",
              "      <th>3</th>\n",
              "      <td>4</td>\n",
              "      <td>6</td>\n",
              "      <td>Middle childhood</td>\n",
              "      <td>M</td>\n",
              "      <td>Vulgaris</td>\n",
              "      <td>Mild</td>\n",
              "      <td>3.8</td>\n",
              "      <td>4</td>\n",
              "      <td>Small effect</td>\n",
              "      <td>YES</td>\n",
              "      <td>1</td>\n",
              "      <td>0</td>\n",
              "      <td>18</td>\n",
              "      <td>1</td>\n",
              "      <td>Pitting</td>\n",
              "      <td>29.5</td>\n",
              "      <td>143</td>\n",
              "      <td>14.4</td>\n",
              "      <td>20</td>\n",
              "      <td>Normal weight</td>\n",
              "      <td>87.9</td>\n",
              "      <td>4.03</td>\n",
              "      <td>0.9</td>\n",
              "      <td>Normal</td>\n",
              "      <td>0.3923</td>\n",
              "      <td>Normal</td>\n",
              "      <td>NO</td>\n",
              "      <td>N</td>\n",
              "      <td>N</td>\n",
              "      <td>N</td>\n",
              "      <td>NO</td>\n",
              "      <td>Euthyroid autoimmune thyroiditis</td>\n",
              "      <td>Euthyrox</td>\n",
              "      <td>Achantosis nigricans</td>\n",
              "      <td>Allergic rhinitis</td>\n",
              "      <td>Paternal grandmother - psoriasis</td>\n",
              "      <td>YES</td>\n",
              "      <td>Maternal grandmother - thyroid disfunction</td>\n",
              "      <td>NO</td>\n",
              "      <td>YES</td>\n",
              "      <td>NO</td>\n",
              "      <td>NO</td>\n",
              "      <td>28.9</td>\n",
              "      <td>Insuficient</td>\n",
              "      <td>63.8</td>\n",
              "      <td>70.7</td>\n",
              "      <td>125.8</td>\n",
              "      <td>23.9</td>\n",
              "      <td>0.37</td>\n",
              "      <td>Optim</td>\n",
              "      <td>1.1</td>\n",
              "      <td>N</td>\n",
              "      <td>NO</td>\n",
              "      <td>90.0</td>\n",
              "      <td>False</td>\n",
              "      <td>True</td>\n",
              "      <td>True</td>\n",
              "      <td>True</td>\n",
              "      <td>True</td>\n",
              "      <td>False</td>\n",
              "      <td>False</td>\n",
              "      <td>False</td>\n",
              "      <td>False</td>\n",
              "      <td>False</td>\n",
              "      <td>False</td>\n",
              "      <td>False</td>\n",
              "      <td>False</td>\n",
              "      <td>False</td>\n",
              "      <td>False</td>\n",
              "      <td>False</td>\n",
              "      <td>False</td>\n",
              "      <td>False</td>\n",
              "      <td>True</td>\n",
              "    </tr>\n",
              "    <tr>\n",
              "      <th>4</th>\n",
              "      <td>5</td>\n",
              "      <td>10</td>\n",
              "      <td>Middle childhood</td>\n",
              "      <td>F</td>\n",
              "      <td>Inverse</td>\n",
              "      <td>Mild</td>\n",
              "      <td>1.8</td>\n",
              "      <td>5</td>\n",
              "      <td>Small effect</td>\n",
              "      <td>YES</td>\n",
              "      <td>0</td>\n",
              "      <td>1</td>\n",
              "      <td>25</td>\n",
              "      <td>1</td>\n",
              "      <td>Pitting, oil spot</td>\n",
              "      <td>73.0</td>\n",
              "      <td>156</td>\n",
              "      <td>30.0</td>\n",
              "      <td>99</td>\n",
              "      <td>Obese</td>\n",
              "      <td>76.1</td>\n",
              "      <td>20.69</td>\n",
              "      <td>3.9</td>\n",
              "      <td>Elevated</td>\n",
              "      <td>0.3128</td>\n",
              "      <td>Low</td>\n",
              "      <td>YES</td>\n",
              "      <td>N</td>\n",
              "      <td>N</td>\n",
              "      <td>N</td>\n",
              "      <td>NO</td>\n",
              "      <td>Euthyroid autoimmune thyroiditis</td>\n",
              "      <td>Euthyrox</td>\n",
              "      <td>Achantosis nigricans</td>\n",
              "      <td>Allergic rhinitis</td>\n",
              "      <td>Father - psoriasis</td>\n",
              "      <td>NO</td>\n",
              "      <td>Maternal grandmother - thyroid disfunction</td>\n",
              "      <td>NO</td>\n",
              "      <td>YES</td>\n",
              "      <td>NO</td>\n",
              "      <td>NO</td>\n",
              "      <td>32.9</td>\n",
              "      <td>Normal</td>\n",
              "      <td>44.1</td>\n",
              "      <td>97.0</td>\n",
              "      <td>150.3</td>\n",
              "      <td>114.5</td>\n",
              "      <td>2.5</td>\n",
              "      <td>Elevated</td>\n",
              "      <td>2.1</td>\n",
              "      <td>N</td>\n",
              "      <td>YES</td>\n",
              "      <td>90.0</td>\n",
              "      <td>False</td>\n",
              "      <td>True</td>\n",
              "      <td>True</td>\n",
              "      <td>True</td>\n",
              "      <td>True</td>\n",
              "      <td>True</td>\n",
              "      <td>True</td>\n",
              "      <td>False</td>\n",
              "      <td>False</td>\n",
              "      <td>False</td>\n",
              "      <td>False</td>\n",
              "      <td>False</td>\n",
              "      <td>False</td>\n",
              "      <td>False</td>\n",
              "      <td>False</td>\n",
              "      <td>False</td>\n",
              "      <td>False</td>\n",
              "      <td>False</td>\n",
              "      <td>True</td>\n",
              "    </tr>\n",
              "  </tbody>\n",
              "</table>\n",
              "</div>\n",
              "    <div class=\"colab-df-buttons\">\n",
              "\n",
              "  <div class=\"colab-df-container\">\n",
              "    <button class=\"colab-df-convert\" onclick=\"convertToInteractive('df-49923734-adf7-4f11-885a-e925bfc80e46')\"\n",
              "            title=\"Convert this dataframe to an interactive table.\"\n",
              "            style=\"display:none;\">\n",
              "\n",
              "  <svg xmlns=\"http://www.w3.org/2000/svg\" height=\"24px\" viewBox=\"0 -960 960 960\">\n",
              "    <path d=\"M120-120v-720h720v720H120Zm60-500h600v-160H180v160Zm220 220h160v-160H400v160Zm0 220h160v-160H400v160ZM180-400h160v-160H180v160Zm440 0h160v-160H620v160ZM180-180h160v-160H180v160Zm440 0h160v-160H620v160Z\"/>\n",
              "  </svg>\n",
              "    </button>\n",
              "\n",
              "  <style>\n",
              "    .colab-df-container {\n",
              "      display:flex;\n",
              "      gap: 12px;\n",
              "    }\n",
              "\n",
              "    .colab-df-convert {\n",
              "      background-color: #E8F0FE;\n",
              "      border: none;\n",
              "      border-radius: 50%;\n",
              "      cursor: pointer;\n",
              "      display: none;\n",
              "      fill: #1967D2;\n",
              "      height: 32px;\n",
              "      padding: 0 0 0 0;\n",
              "      width: 32px;\n",
              "    }\n",
              "\n",
              "    .colab-df-convert:hover {\n",
              "      background-color: #E2EBFA;\n",
              "      box-shadow: 0px 1px 2px rgba(60, 64, 67, 0.3), 0px 1px 3px 1px rgba(60, 64, 67, 0.15);\n",
              "      fill: #174EA6;\n",
              "    }\n",
              "\n",
              "    .colab-df-buttons div {\n",
              "      margin-bottom: 4px;\n",
              "    }\n",
              "\n",
              "    [theme=dark] .colab-df-convert {\n",
              "      background-color: #3B4455;\n",
              "      fill: #D2E3FC;\n",
              "    }\n",
              "\n",
              "    [theme=dark] .colab-df-convert:hover {\n",
              "      background-color: #434B5C;\n",
              "      box-shadow: 0px 1px 3px 1px rgba(0, 0, 0, 0.15);\n",
              "      filter: drop-shadow(0px 1px 2px rgba(0, 0, 0, 0.3));\n",
              "      fill: #FFFFFF;\n",
              "    }\n",
              "  </style>\n",
              "\n",
              "    <script>\n",
              "      const buttonEl =\n",
              "        document.querySelector('#df-49923734-adf7-4f11-885a-e925bfc80e46 button.colab-df-convert');\n",
              "      buttonEl.style.display =\n",
              "        google.colab.kernel.accessAllowed ? 'block' : 'none';\n",
              "\n",
              "      async function convertToInteractive(key) {\n",
              "        const element = document.querySelector('#df-49923734-adf7-4f11-885a-e925bfc80e46');\n",
              "        const dataTable =\n",
              "          await google.colab.kernel.invokeFunction('convertToInteractive',\n",
              "                                                    [key], {});\n",
              "        if (!dataTable) return;\n",
              "\n",
              "        const docLinkHtml = 'Like what you see? Visit the ' +\n",
              "          '<a target=\"_blank\" href=https://colab.research.google.com/notebooks/data_table.ipynb>data table notebook</a>'\n",
              "          + ' to learn more about interactive tables.';\n",
              "        element.innerHTML = '';\n",
              "        dataTable['output_type'] = 'display_data';\n",
              "        await google.colab.output.renderOutput(dataTable, element);\n",
              "        const docLink = document.createElement('div');\n",
              "        docLink.innerHTML = docLinkHtml;\n",
              "        element.appendChild(docLink);\n",
              "      }\n",
              "    </script>\n",
              "  </div>\n",
              "\n",
              "\n",
              "<div id=\"df-392ff5dd-98ad-4b66-980f-476730542cc6\">\n",
              "  <button class=\"colab-df-quickchart\" onclick=\"quickchart('df-392ff5dd-98ad-4b66-980f-476730542cc6')\"\n",
              "            title=\"Suggest charts\"\n",
              "            style=\"display:none;\">\n",
              "\n",
              "<svg xmlns=\"http://www.w3.org/2000/svg\" height=\"24px\"viewBox=\"0 0 24 24\"\n",
              "     width=\"24px\">\n",
              "    <g>\n",
              "        <path d=\"M19 3H5c-1.1 0-2 .9-2 2v14c0 1.1.9 2 2 2h14c1.1 0 2-.9 2-2V5c0-1.1-.9-2-2-2zM9 17H7v-7h2v7zm4 0h-2V7h2v10zm4 0h-2v-4h2v4z\"/>\n",
              "    </g>\n",
              "</svg>\n",
              "  </button>\n",
              "\n",
              "<style>\n",
              "  .colab-df-quickchart {\n",
              "      --bg-color: #E8F0FE;\n",
              "      --fill-color: #1967D2;\n",
              "      --hover-bg-color: #E2EBFA;\n",
              "      --hover-fill-color: #174EA6;\n",
              "      --disabled-fill-color: #AAA;\n",
              "      --disabled-bg-color: #DDD;\n",
              "  }\n",
              "\n",
              "  [theme=dark] .colab-df-quickchart {\n",
              "      --bg-color: #3B4455;\n",
              "      --fill-color: #D2E3FC;\n",
              "      --hover-bg-color: #434B5C;\n",
              "      --hover-fill-color: #FFFFFF;\n",
              "      --disabled-bg-color: #3B4455;\n",
              "      --disabled-fill-color: #666;\n",
              "  }\n",
              "\n",
              "  .colab-df-quickchart {\n",
              "    background-color: var(--bg-color);\n",
              "    border: none;\n",
              "    border-radius: 50%;\n",
              "    cursor: pointer;\n",
              "    display: none;\n",
              "    fill: var(--fill-color);\n",
              "    height: 32px;\n",
              "    padding: 0;\n",
              "    width: 32px;\n",
              "  }\n",
              "\n",
              "  .colab-df-quickchart:hover {\n",
              "    background-color: var(--hover-bg-color);\n",
              "    box-shadow: 0 1px 2px rgba(60, 64, 67, 0.3), 0 1px 3px 1px rgba(60, 64, 67, 0.15);\n",
              "    fill: var(--button-hover-fill-color);\n",
              "  }\n",
              "\n",
              "  .colab-df-quickchart-complete:disabled,\n",
              "  .colab-df-quickchart-complete:disabled:hover {\n",
              "    background-color: var(--disabled-bg-color);\n",
              "    fill: var(--disabled-fill-color);\n",
              "    box-shadow: none;\n",
              "  }\n",
              "\n",
              "  .colab-df-spinner {\n",
              "    border: 2px solid var(--fill-color);\n",
              "    border-color: transparent;\n",
              "    border-bottom-color: var(--fill-color);\n",
              "    animation:\n",
              "      spin 1s steps(1) infinite;\n",
              "  }\n",
              "\n",
              "  @keyframes spin {\n",
              "    0% {\n",
              "      border-color: transparent;\n",
              "      border-bottom-color: var(--fill-color);\n",
              "      border-left-color: var(--fill-color);\n",
              "    }\n",
              "    20% {\n",
              "      border-color: transparent;\n",
              "      border-left-color: var(--fill-color);\n",
              "      border-top-color: var(--fill-color);\n",
              "    }\n",
              "    30% {\n",
              "      border-color: transparent;\n",
              "      border-left-color: var(--fill-color);\n",
              "      border-top-color: var(--fill-color);\n",
              "      border-right-color: var(--fill-color);\n",
              "    }\n",
              "    40% {\n",
              "      border-color: transparent;\n",
              "      border-right-color: var(--fill-color);\n",
              "      border-top-color: var(--fill-color);\n",
              "    }\n",
              "    60% {\n",
              "      border-color: transparent;\n",
              "      border-right-color: var(--fill-color);\n",
              "    }\n",
              "    80% {\n",
              "      border-color: transparent;\n",
              "      border-right-color: var(--fill-color);\n",
              "      border-bottom-color: var(--fill-color);\n",
              "    }\n",
              "    90% {\n",
              "      border-color: transparent;\n",
              "      border-bottom-color: var(--fill-color);\n",
              "    }\n",
              "  }\n",
              "</style>\n",
              "\n",
              "  <script>\n",
              "    async function quickchart(key) {\n",
              "      const quickchartButtonEl =\n",
              "        document.querySelector('#' + key + ' button');\n",
              "      quickchartButtonEl.disabled = true;  // To prevent multiple clicks.\n",
              "      quickchartButtonEl.classList.add('colab-df-spinner');\n",
              "      try {\n",
              "        const charts = await google.colab.kernel.invokeFunction(\n",
              "            'suggestCharts', [key], {});\n",
              "      } catch (error) {\n",
              "        console.error('Error during call to suggestCharts:', error);\n",
              "      }\n",
              "      quickchartButtonEl.classList.remove('colab-df-spinner');\n",
              "      quickchartButtonEl.classList.add('colab-df-quickchart-complete');\n",
              "    }\n",
              "    (() => {\n",
              "      let quickchartButtonEl =\n",
              "        document.querySelector('#df-392ff5dd-98ad-4b66-980f-476730542cc6 button');\n",
              "      quickchartButtonEl.style.display =\n",
              "        google.colab.kernel.accessAllowed ? 'block' : 'none';\n",
              "    })();\n",
              "  </script>\n",
              "</div>\n",
              "\n",
              "    </div>\n",
              "  </div>\n"
            ],
            "application/vnd.google.colaboratory.intrinsic+json": {
              "type": "dataframe"
            }
          },
          "metadata": {},
          "execution_count": 24
        }
      ]
    },
    {
      "cell_type": "markdown",
      "source": [
        "####Regression imputation (for quantiative data only)"
      ],
      "metadata": {
        "id": "pUmQxUC_aZuP"
      }
    },
    {
      "cell_type": "markdown",
      "source": [
        "Regression involves building a prediction model for each variable using the other variables. In this approach, only numeric data are considered."
      ],
      "metadata": {
        "id": "8uT2I81UCzX-"
      }
    },
    {
      "cell_type": "code",
      "source": [
        "#Create two DataFrames, one for each data type (categorical/quantiative)\n",
        "\n",
        "categorical_columns = []\n",
        "numeric_columns = []\n",
        "for c in data_homa.columns:\n",
        "    if data_homa[c].map(type).eq(str).any(): #check if there are any strings in column\n",
        "        categorical_columns.append(c)\n",
        "    else:\n",
        "        numeric_columns.append(c)\n",
        "\n",
        "data_homa_numeric = data_homa[numeric_columns]\n",
        "data_homa_categorical = pd.DataFrame(data_homa[categorical_columns])"
      ],
      "metadata": {
        "id": "4j53eXVIDzCL"
      },
      "execution_count": 25,
      "outputs": []
    },
    {
      "cell_type": "code",
      "source": [
        "from sklearn.experimental import enable_iterative_imputer\n",
        "from sklearn.impute import IterativeImputer\n",
        "regression_imputer = IterativeImputer() ##Uses bayesian Ridge"
      ],
      "metadata": {
        "id": "pob2fr7KyuYK"
      },
      "execution_count": 26,
      "outputs": []
    },
    {
      "cell_type": "code",
      "source": [
        "data_homa_regress = pd.DataFrame(regression_imputer.fit_transform(data_homa_numeric),\n",
        "                                        columns = regression_imputer.get_feature_names_out())"
      ],
      "metadata": {
        "id": "ioLUmOi4jHbh"
      },
      "execution_count": 27,
      "outputs": []
    },
    {
      "cell_type": "code",
      "source": [
        "#Concatenate the quantiative data with no NAN with the categorical data\n",
        "\n",
        "data_homa_regress_final = pd.concat([data_homa_regress, data_homa_categorical], axis = 1)"
      ],
      "metadata": {
        "id": "D4hzDAZMk2zV"
      },
      "execution_count": 28,
      "outputs": []
    },
    {
      "cell_type": "markdown",
      "source": [
        "Note that this also decreases variance; however, it does so to a lesser extent than mean imputation."
      ],
      "metadata": {
        "id": "GqJeKjjJyS7W"
      }
    },
    {
      "cell_type": "code",
      "source": [
        "data_homa['Raport TG/HDL'].var()"
      ],
      "metadata": {
        "colab": {
          "base_uri": "https://localhost:8080/"
        },
        "id": "IC1T7DolxLHb",
        "outputId": "2dec65ba-d2eb-4be3-de90-f2398d7c5779"
      },
      "execution_count": 29,
      "outputs": [
        {
          "output_type": "execute_result",
          "data": {
            "text/plain": [
              "2.9818406084656095"
            ]
          },
          "metadata": {},
          "execution_count": 29
        }
      ]
    },
    {
      "cell_type": "code",
      "source": [
        "data_homa_mean['Raport TG/HDL'].var()"
      ],
      "metadata": {
        "colab": {
          "base_uri": "https://localhost:8080/"
        },
        "id": "p0g1vfzTw1hW",
        "outputId": "453dde76-e2eb-4846-ce72-0f031da6df0f"
      },
      "execution_count": 30,
      "outputs": [
        {
          "output_type": "execute_result",
          "data": {
            "text/plain": [
              "1.916897534013606"
            ]
          },
          "metadata": {},
          "execution_count": 30
        }
      ]
    },
    {
      "cell_type": "code",
      "source": [
        "data_homa_regress_final['Raport TG/HDL'].var()"
      ],
      "metadata": {
        "colab": {
          "base_uri": "https://localhost:8080/"
        },
        "id": "bqzaVtcrw4b9",
        "outputId": "4637c0ee-540b-45d0-b400-7a1366ebb126"
      },
      "execution_count": 31,
      "outputs": [
        {
          "output_type": "execute_result",
          "data": {
            "text/plain": [
              "1.9524421276841086"
            ]
          },
          "metadata": {},
          "execution_count": 31
        }
      ]
    },
    {
      "cell_type": "markdown",
      "source": [
        "However, this strengthens correlation when compared with mean imputation\n",
        "\n",
        "\n"
      ],
      "metadata": {
        "id": "mr54liflwn7K"
      }
    },
    {
      "cell_type": "code",
      "source": [
        "np.corrcoef(data_homa_mean['Raport TG/HDL'], data_homa_mean['BMI'])"
      ],
      "metadata": {
        "colab": {
          "base_uri": "https://localhost:8080/"
        },
        "id": "WRWvvpqyzcAK",
        "outputId": "9d09dc69-a2bd-4047-db7f-1d65aba9b7ad"
      },
      "execution_count": 32,
      "outputs": [
        {
          "output_type": "execute_result",
          "data": {
            "text/plain": [
              "array([[1.       , 0.2165857],\n",
              "       [0.2165857, 1.       ]])"
            ]
          },
          "metadata": {},
          "execution_count": 32
        }
      ]
    },
    {
      "cell_type": "code",
      "source": [
        "np.corrcoef(data_homa_regress_final['Raport TG/HDL'], data_homa_regress_final['BMI'])"
      ],
      "metadata": {
        "colab": {
          "base_uri": "https://localhost:8080/"
        },
        "id": "F_qeEFugzi-V",
        "outputId": "f44eeae8-01ba-47d4-a588-ffc1c41b9335"
      },
      "execution_count": 33,
      "outputs": [
        {
          "output_type": "execute_result",
          "data": {
            "text/plain": [
              "array([[1.        , 0.24990442],\n",
              "       [0.24990442, 1.        ]])"
            ]
          },
          "metadata": {},
          "execution_count": 33
        }
      ]
    },
    {
      "cell_type": "markdown",
      "source": [
        "#### Logistic Regression imputation"
      ],
      "metadata": {
        "id": "beXwkzgABIlT"
      }
    },
    {
      "cell_type": "markdown",
      "source": [
        "In this scenario, we assume that the missing data for 'Type of thyroid dysfunction' falls into the category of 'known unknowns' (although this is not the case, as it is actually an 'unknown unknown')"
      ],
      "metadata": {
        "id": "CY_Z-ya_xwTH"
      }
    },
    {
      "cell_type": "markdown",
      "source": [
        "First, the data needs to be encoded.\n",
        "\n",
        "Optional: Check the differences between OneHotEncoder and OrdinalEncoder. Also, consider exploring Label Encoder, which paves the way for the concept of 'embeddings' used in AI/ML/DL. Additionally, read about cyclical feature encoding here: https://www.kaggle.com/code/avanwyk/encoding-cyclical-features-for-deep-learning"
      ],
      "metadata": {
        "id": "rnCJHwWgI-1I"
      }
    },
    {
      "cell_type": "code",
      "source": [
        "from sklearn.preprocessing import LabelEncoder\n",
        "label_encoder = LabelEncoder()"
      ],
      "metadata": {
        "id": "w6JJ1dKD96HZ"
      },
      "execution_count": 34,
      "outputs": []
    },
    {
      "cell_type": "code",
      "source": [
        "# Select the column to encode\n",
        "column_to_encode = 'Type of tyroid dynfunction'\n",
        "\n",
        "not_null_mask = data_homa[column_to_encode].notnull()\n",
        "data_homa.loc[not_null_mask, 'Encoded_' + column_to_encode] = label_encoder.fit_transform(data_homa.loc[not_null_mask, column_to_encode])\n",
        "data_homa['Encoded_' + column_to_encode] = data_homa['Encoded_' + column_to_encode].astype('Int64')  # Preserve NaNs as Int64 type\n",
        "\n",
        "\n",
        "print(data_homa[[\"Encoded_Type of tyroid dynfunction\",\"Type of tyroid dynfunction\"]].head(10))\n"
      ],
      "metadata": {
        "colab": {
          "base_uri": "https://localhost:8080/"
        },
        "id": "0GT_fM5u_c1H",
        "outputId": "d39d80bd-0b14-49d5-a133-52bf4a963426"
      },
      "execution_count": 35,
      "outputs": [
        {
          "output_type": "stream",
          "name": "stdout",
          "text": [
            "   Encoded_Type of tyroid dynfunction        Type of tyroid dynfunction\n",
            "0                                <NA>                               NaN\n",
            "1                                <NA>                               NaN\n",
            "2                                <NA>                               NaN\n",
            "3                                <NA>                               NaN\n",
            "4                                <NA>                               NaN\n",
            "5                                <NA>                               NaN\n",
            "6                                <NA>                               NaN\n",
            "7                                   1  Euthyroid autoimmune thyroiditis\n",
            "8                                <NA>                               NaN\n",
            "9                                <NA>                               NaN\n"
          ]
        }
      ]
    },
    {
      "cell_type": "markdown",
      "source": [
        "Impute the data using 'autoimpute.\n",
        "\n",
        "To my knowledge, scikit-learn does not support logistic regression.\n",
        "\n",
        "❗Autoimpute seems versatile for all types of missing data imputation"
      ],
      "metadata": {
        "id": "ErvkjmaMJIpO"
      }
    },
    {
      "cell_type": "code",
      "source": [
        "!pip install autoimpute"
      ],
      "metadata": {
        "id": "WUCqv9wcR2Mt"
      },
      "execution_count": null,
      "outputs": []
    },
    {
      "cell_type": "code",
      "source": [
        "from autoimpute.imputations import SingleImputer\n",
        "\n",
        "# Define predictor columns\n",
        "predictor_cols = [\"BMI\", \"NAPSI\", \"Age\", \"Initial Cdlqi\"]\n",
        "\n",
        "\n",
        "Logistic_Regression_imputer = SingleImputer(strategy={\"Encoded_Type of tyroid dynfunction\": \"multinomial logistic\"}, predictors={\"Encoded_Type of tyroid dynfunction\": predictor_cols})"
      ],
      "metadata": {
        "id": "8wMaATaJ8Dy5"
      },
      "execution_count": 37,
      "outputs": []
    },
    {
      "cell_type": "markdown",
      "source": [
        "Warnings are probably due to:\n",
        "1. The way autoimputer calls the scikit-learn Logistic regression\n",
        "2. Optimization problems (Worth checking why)"
      ],
      "metadata": {
        "id": "u_GDER7oJO1A"
      }
    },
    {
      "cell_type": "code",
      "source": [
        "data_homa_LR = Logistic_Regression_imputer.fit_transform(data_homa)"
      ],
      "metadata": {
        "colab": {
          "base_uri": "https://localhost:8080/"
        },
        "id": "gsQFXMW1CMGA",
        "outputId": "d87f1466-a1ee-4e3f-8fe7-a57e36db6443"
      },
      "execution_count": 40,
      "outputs": [
        {
          "output_type": "stream",
          "name": "stderr",
          "text": [
            "/usr/local/lib/python3.10/dist-packages/sklearn/linear_model/_logistic.py:1247: FutureWarning: 'multi_class' was deprecated in version 1.5 and will be removed in 1.7. From then on, it will always use 'multinomial'. Leave it to its default value to avoid this warning.\n",
            "  warnings.warn(\n",
            "/usr/local/lib/python3.10/dist-packages/sklearn/linear_model/_sag.py:349: ConvergenceWarning: The max_iter was reached which means the coef_ did not converge\n",
            "  warnings.warn(\n"
          ]
        }
      ]
    },
    {
      "cell_type": "code",
      "source": [
        "data_homa_LR['Decoded_Type of tyroid dynfunction'] = label_encoder.inverse_transform(data_homa_LR[\"Encoded_Type of tyroid dynfunction\"].dropna().astype(int)) #This is to bring back the labels\n",
        "print(data_homa_LR[[\"Encoded_Type of tyroid dynfunction\",\"Decoded_Type of tyroid dynfunction\"]].head(10))"
      ],
      "metadata": {
        "id": "jLYjX9RbIMb4",
        "colab": {
          "base_uri": "https://localhost:8080/"
        },
        "outputId": "fa6e5da3-f46b-401b-af7c-a926786099cb"
      },
      "execution_count": 41,
      "outputs": [
        {
          "output_type": "stream",
          "name": "stdout",
          "text": [
            "   Encoded_Type of tyroid dynfunction Decoded_Type of tyroid dynfunction\n",
            "0                                   2                    Hypothrroidism \n",
            "1                                   3  Primary autoimmune hypothyroidism\n",
            "2                                   2                    Hypothrroidism \n",
            "3                                   1   Euthyroid autoimmune thyroiditis\n",
            "4                                   1   Euthyroid autoimmune thyroiditis\n",
            "5                                   2                    Hypothrroidism \n",
            "6                                   2                    Hypothrroidism \n",
            "7                                   1   Euthyroid autoimmune thyroiditis\n",
            "8                                   3  Primary autoimmune hypothyroidism\n",
            "9                                   1   Euthyroid autoimmune thyroiditis\n"
          ]
        }
      ]
    },
    {
      "cell_type": "markdown",
      "source": [
        "####Stohastic Regression imputation (numeric data only)"
      ],
      "metadata": {
        "id": "Sy2_8v-e6WFx"
      }
    },
    {
      "cell_type": "markdown",
      "source": [
        "In this approach, I used a workaround by sampling from the posterior of a Bayesian regression.\n",
        "\n",
        "In contrast, non-Bayesian stochastic regression takes a different approach focused on residuals. The Autoimpute package may provide that functionality."
      ],
      "metadata": {
        "id": "Kv0PVFQsQboo"
      }
    },
    {
      "cell_type": "code",
      "source": [
        "#Create two DataFrames, one for each data type (categorical/quantiative)\n",
        "\n",
        "categorical_columns = []\n",
        "numeric_columns = []\n",
        "for c in data_homa.columns:\n",
        "    if data_homa[c].map(type).eq(str).any(): #check if there are any strings in column\n",
        "        categorical_columns.append(c)\n",
        "    else:\n",
        "        numeric_columns.append(c)\n",
        "\n",
        "#create two DataFrames, one for each data type\n",
        "data_homa_numeric = data_homa[numeric_columns]\n",
        "data_homa_categorical = pd.DataFrame(data_homa[categorical_columns])"
      ],
      "metadata": {
        "id": "pKirhsS-Pr9l"
      },
      "execution_count": 44,
      "outputs": []
    },
    {
      "cell_type": "code",
      "source": [
        "from sklearn.experimental import enable_iterative_imputer\n",
        "from sklearn.impute import IterativeImputer\n",
        "regression_imputer_stohastic = IterativeImputer(sample_posterior=True, min_value = 0.5,max_value = 3.9, random_state=14) ##Uses bayesian Ridge, samping from the posterior gives us the noise. A min and max were used to avoid implausable results"
      ],
      "metadata": {
        "id": "jcruTPKS6VKc"
      },
      "execution_count": 43,
      "outputs": []
    },
    {
      "cell_type": "code",
      "source": [
        "data_homa_regress_stohastic = pd.DataFrame(regression_imputer_stohastic.fit_transform(data_homa_numeric),\n",
        "                                        columns = regression_imputer_stohastic.get_feature_names_out())\n",
        "\n",
        "data_homa_regress_final_stohastic = pd.concat([data_homa_regress_stohastic, data_homa_categorical], axis = 1)"
      ],
      "metadata": {
        "id": "9DbRuxCsPp7s"
      },
      "execution_count": 45,
      "outputs": []
    },
    {
      "cell_type": "markdown",
      "source": [
        "Note that the variance is closest to the variance obtained from pairwise and listwise deletion."
      ],
      "metadata": {
        "id": "1icKlmul_3ry"
      }
    },
    {
      "cell_type": "code",
      "source": [
        "data_homa['Raport TG/HDL'].var()"
      ],
      "metadata": {
        "colab": {
          "base_uri": "https://localhost:8080/"
        },
        "id": "8cFHcvb4QW-X",
        "outputId": "bdc3d39c-39c4-40c5-eed7-c4a041392f06"
      },
      "execution_count": 50,
      "outputs": [
        {
          "output_type": "execute_result",
          "data": {
            "text/plain": [
              "2.9818406084656095"
            ]
          },
          "metadata": {},
          "execution_count": 50
        }
      ]
    },
    {
      "cell_type": "code",
      "source": [
        "data_homa_regress_final['Raport TG/HDL'].var()"
      ],
      "metadata": {
        "colab": {
          "base_uri": "https://localhost:8080/"
        },
        "id": "g_UJB1pHQQHN",
        "outputId": "b25bebaf-1366-4dd4-ab24-2d663f4e8e8f"
      },
      "execution_count": 48,
      "outputs": [
        {
          "output_type": "execute_result",
          "data": {
            "text/plain": [
              "1.9524421276841086"
            ]
          },
          "metadata": {},
          "execution_count": 48
        }
      ]
    },
    {
      "cell_type": "code",
      "source": [
        "data_homa_regress_final_stohastic['Raport TG/HDL'].var()"
      ],
      "metadata": {
        "colab": {
          "base_uri": "https://localhost:8080/"
        },
        "id": "GPr-H-vc_rZ_",
        "outputId": "4a2c70c3-0999-420b-a966-048bc19cd427"
      },
      "execution_count": 49,
      "outputs": [
        {
          "output_type": "execute_result",
          "data": {
            "text/plain": [
              "2.4627265985282745"
            ]
          },
          "metadata": {},
          "execution_count": 49
        }
      ]
    },
    {
      "cell_type": "markdown",
      "source": [
        "Note that the correlations are smallest when compared to regression imputation, although the difference is minimal in this case."
      ],
      "metadata": {
        "id": "f_lLiRHgStbS"
      }
    },
    {
      "cell_type": "code",
      "source": [
        "np.corrcoef(data_homa_regress_final['Raport TG/HDL'], data_homa_regress_final['BMI'])"
      ],
      "metadata": {
        "colab": {
          "base_uri": "https://localhost:8080/"
        },
        "id": "2KhcVJM4RmjB",
        "outputId": "d3097823-ae05-45d5-f25b-ffda428b4fc5"
      },
      "execution_count": 54,
      "outputs": [
        {
          "output_type": "execute_result",
          "data": {
            "text/plain": [
              "array([[1.        , 0.24990442],\n",
              "       [0.24990442, 1.        ]])"
            ]
          },
          "metadata": {},
          "execution_count": 54
        }
      ]
    },
    {
      "cell_type": "code",
      "source": [
        "np.corrcoef(data_homa_regress_final_stohastic['Raport TG/HDL'], data_homa_regress_final_stohastic['BMI'])"
      ],
      "metadata": {
        "colab": {
          "base_uri": "https://localhost:8080/"
        },
        "id": "YJGSAUTtAP27",
        "outputId": "5d6f9fa0-f77c-4135-dce7-c584b35c0ed4"
      },
      "execution_count": 53,
      "outputs": [
        {
          "output_type": "execute_result",
          "data": {
            "text/plain": [
              "array([[1.        , 0.24075393],\n",
              "       [0.24075393, 1.        ]])"
            ]
          },
          "metadata": {},
          "execution_count": 53
        }
      ]
    }
  ],
  "metadata": {
    "colab": {
      "provenance": [],
      "collapsed_sections": [
        "R71gk0RAeUzQ",
        "IA-_w6LAu694",
        "pOeiqN39vAyI",
        "5xNejxNgGw00",
        "aZD5qlLYaGdK",
        "8sZ9CAj7aXHe",
        "sOvp3p4WaYOr",
        "lbvfrWJuaZAz",
        "oHPmQRmfTlhP",
        "pUmQxUC_aZuP",
        "beXwkzgABIlT"
      ],
      "mount_file_id": "1nqsCuKrhZCNPXQeRIaWHla3btW7N6jB7",
      "authorship_tag": "ABX9TyOuMBB+rp5sXDCNIKYiQTVs",
      "include_colab_link": true
    },
    "kernelspec": {
      "display_name": "Python 3",
      "name": "python3"
    },
    "language_info": {
      "name": "python"
    }
  },
  "nbformat": 4,
  "nbformat_minor": 0
}