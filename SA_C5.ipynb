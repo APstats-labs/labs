{
  "cells": [
    {
      "cell_type": "markdown",
      "metadata": {
        "id": "view-in-github",
        "colab_type": "text"
      },
      "source": [
        "<a href=\"https://colab.research.google.com/github/APstats-labs/labs/blob/main/SA_C5.ipynb\" target=\"_parent\"><img src=\"https://colab.research.google.com/assets/colab-badge.svg\" alt=\"Open In Colab\"/></a>"
      ]
    },
    {
      "cell_type": "markdown",
      "source": [
        "# Data pre-processing methods (3)"
      ],
      "metadata": {
        "id": "wqGJwEhapC95"
      }
    },
    {
      "cell_type": "markdown",
      "source": [
        "General requirements"
      ],
      "metadata": {
        "id": "DGRky5tE00m7"
      }
    },
    {
      "cell_type": "code",
      "source": [
        "from google.colab import drive\n",
        "drive.mount('/content/drive')\n",
        "\n",
        "import pandas as pd\n",
        "import numpy as np\n",
        "import matplotlib.pyplot as plt\n",
        "import math"
      ],
      "metadata": {
        "id": "GtPu6wqdoJ2K",
        "colab": {
          "base_uri": "https://localhost:8080/"
        },
        "outputId": "8498c94c-21a0-49e8-b74b-9f39f38966bf"
      },
      "execution_count": 1,
      "outputs": [
        {
          "output_type": "stream",
          "name": "stdout",
          "text": [
            "Mounted at /content/drive\n"
          ]
        }
      ]
    },
    {
      "cell_type": "markdown",
      "source": [
        "##Inter-rater agreement"
      ],
      "metadata": {
        "id": "eUSBgScUUMgV"
      }
    },
    {
      "cell_type": "markdown",
      "source": [
        "### Preparing the data"
      ],
      "metadata": {
        "id": "6OMNGhs9oqNP"
      }
    },
    {
      "cell_type": "code",
      "source": [
        "from google.colab import drive\n",
        "drive.mount('/content/drive')"
      ],
      "metadata": {
        "colab": {
          "base_uri": "https://localhost:8080/"
        },
        "id": "b_2PXzmSmwns",
        "outputId": "dd69ab6e-c325-4ba1-d888-dc8e7c26aec3"
      },
      "execution_count": 2,
      "outputs": [
        {
          "output_type": "stream",
          "name": "stdout",
          "text": [
            "Drive already mounted at /content/drive; to attempt to forcibly remount, call drive.mount(\"/content/drive\", force_remount=True).\n"
          ]
        }
      ]
    },
    {
      "cell_type": "code",
      "execution_count": 3,
      "metadata": {
        "id": "krhpTvhUgZsG"
      },
      "outputs": [],
      "source": [
        "Evaluator1 = pd.read_excel('/content/drive/MyDrive/Colab Notebooks/Statistics/Curs/Data_c2/SNLI_Anca.xlsx')\n",
        "Evaluator2 = pd.read_excel('/content/drive/MyDrive/Colab Notebooks/Statistics/Curs/Data_c2/SNLI_Ionut.xlsx')"
      ]
    },
    {
      "cell_type": "code",
      "source": [
        "Evaluator1_Missing = pd.read_excel('/content/drive/MyDrive/Colab Notebooks/Statistics/Curs/Data_c2/Missing_SNLI_Anca.xlsx')\n",
        "Evaluator2_Missing = pd.read_excel('/content/drive/MyDrive/Colab Notebooks/Statistics/Curs/Data_c2/Missing_SNLI_Ionut.xlsx')"
      ],
      "metadata": {
        "id": "dE35fQBvUX-4"
      },
      "execution_count": 4,
      "outputs": []
    },
    {
      "cell_type": "code",
      "source": [
        "Aggregated_Missing = pd.concat([Evaluator1_Missing['Label'],Evaluator2_Missing['Label']], axis=1)\n",
        "\n",
        "Aggregated_Missing = Aggregated_Missing.set_axis([ 'Evaluator1', 'Evaluator2'], axis=1)"
      ],
      "metadata": {
        "id": "UH17pLn7UbNg"
      },
      "execution_count": 5,
      "outputs": []
    },
    {
      "cell_type": "code",
      "source": [
        "Aggregated = pd.concat([Evaluator1['Label'],Evaluator2['Label']], axis=1)\n",
        "\n",
        "Aggregated = Aggregated.set_axis([ 'Evaluator1', 'Evaluator2'], axis=1)\n",
        "\n",
        "Aggregated"
      ],
      "metadata": {
        "id": "KFdqu4uapJpu",
        "colab": {
          "base_uri": "https://localhost:8080/",
          "height": 0
        },
        "outputId": "aec9890c-1bb4-463f-e123-0d9f9ec5b881"
      },
      "execution_count": 6,
      "outputs": [
        {
          "output_type": "execute_result",
          "data": {
            "text/plain": [
              "        Evaluator1     Evaluator2\n",
              "0          Neutral  Contradiction\n",
              "1          Neutral        Neutral\n",
              "2       Entailment     Entailment\n",
              "3    Contradiction  Contradiction\n",
              "4          Neutral        Neutral\n",
              "..             ...            ...\n",
              "895     Entailment     Entailment\n",
              "896        Neutral        Neutral\n",
              "897        Neutral     Entailment\n",
              "898  Contradiction  Contradiction\n",
              "899  Contradiction  Contradiction\n",
              "\n",
              "[900 rows x 2 columns]"
            ],
            "text/html": [
              "\n",
              "  <div id=\"df-e0fde91c-e42a-4c13-9fb2-dcc3e118a8df\" class=\"colab-df-container\">\n",
              "    <div>\n",
              "<style scoped>\n",
              "    .dataframe tbody tr th:only-of-type {\n",
              "        vertical-align: middle;\n",
              "    }\n",
              "\n",
              "    .dataframe tbody tr th {\n",
              "        vertical-align: top;\n",
              "    }\n",
              "\n",
              "    .dataframe thead th {\n",
              "        text-align: right;\n",
              "    }\n",
              "</style>\n",
              "<table border=\"1\" class=\"dataframe\">\n",
              "  <thead>\n",
              "    <tr style=\"text-align: right;\">\n",
              "      <th></th>\n",
              "      <th>Evaluator1</th>\n",
              "      <th>Evaluator2</th>\n",
              "    </tr>\n",
              "  </thead>\n",
              "  <tbody>\n",
              "    <tr>\n",
              "      <th>0</th>\n",
              "      <td>Neutral</td>\n",
              "      <td>Contradiction</td>\n",
              "    </tr>\n",
              "    <tr>\n",
              "      <th>1</th>\n",
              "      <td>Neutral</td>\n",
              "      <td>Neutral</td>\n",
              "    </tr>\n",
              "    <tr>\n",
              "      <th>2</th>\n",
              "      <td>Entailment</td>\n",
              "      <td>Entailment</td>\n",
              "    </tr>\n",
              "    <tr>\n",
              "      <th>3</th>\n",
              "      <td>Contradiction</td>\n",
              "      <td>Contradiction</td>\n",
              "    </tr>\n",
              "    <tr>\n",
              "      <th>4</th>\n",
              "      <td>Neutral</td>\n",
              "      <td>Neutral</td>\n",
              "    </tr>\n",
              "    <tr>\n",
              "      <th>...</th>\n",
              "      <td>...</td>\n",
              "      <td>...</td>\n",
              "    </tr>\n",
              "    <tr>\n",
              "      <th>895</th>\n",
              "      <td>Entailment</td>\n",
              "      <td>Entailment</td>\n",
              "    </tr>\n",
              "    <tr>\n",
              "      <th>896</th>\n",
              "      <td>Neutral</td>\n",
              "      <td>Neutral</td>\n",
              "    </tr>\n",
              "    <tr>\n",
              "      <th>897</th>\n",
              "      <td>Neutral</td>\n",
              "      <td>Entailment</td>\n",
              "    </tr>\n",
              "    <tr>\n",
              "      <th>898</th>\n",
              "      <td>Contradiction</td>\n",
              "      <td>Contradiction</td>\n",
              "    </tr>\n",
              "    <tr>\n",
              "      <th>899</th>\n",
              "      <td>Contradiction</td>\n",
              "      <td>Contradiction</td>\n",
              "    </tr>\n",
              "  </tbody>\n",
              "</table>\n",
              "<p>900 rows × 2 columns</p>\n",
              "</div>\n",
              "    <div class=\"colab-df-buttons\">\n",
              "\n",
              "  <div class=\"colab-df-container\">\n",
              "    <button class=\"colab-df-convert\" onclick=\"convertToInteractive('df-e0fde91c-e42a-4c13-9fb2-dcc3e118a8df')\"\n",
              "            title=\"Convert this dataframe to an interactive table.\"\n",
              "            style=\"display:none;\">\n",
              "\n",
              "  <svg xmlns=\"http://www.w3.org/2000/svg\" height=\"24px\" viewBox=\"0 -960 960 960\">\n",
              "    <path d=\"M120-120v-720h720v720H120Zm60-500h600v-160H180v160Zm220 220h160v-160H400v160Zm0 220h160v-160H400v160ZM180-400h160v-160H180v160Zm440 0h160v-160H620v160ZM180-180h160v-160H180v160Zm440 0h160v-160H620v160Z\"/>\n",
              "  </svg>\n",
              "    </button>\n",
              "\n",
              "  <style>\n",
              "    .colab-df-container {\n",
              "      display:flex;\n",
              "      gap: 12px;\n",
              "    }\n",
              "\n",
              "    .colab-df-convert {\n",
              "      background-color: #E8F0FE;\n",
              "      border: none;\n",
              "      border-radius: 50%;\n",
              "      cursor: pointer;\n",
              "      display: none;\n",
              "      fill: #1967D2;\n",
              "      height: 32px;\n",
              "      padding: 0 0 0 0;\n",
              "      width: 32px;\n",
              "    }\n",
              "\n",
              "    .colab-df-convert:hover {\n",
              "      background-color: #E2EBFA;\n",
              "      box-shadow: 0px 1px 2px rgba(60, 64, 67, 0.3), 0px 1px 3px 1px rgba(60, 64, 67, 0.15);\n",
              "      fill: #174EA6;\n",
              "    }\n",
              "\n",
              "    .colab-df-buttons div {\n",
              "      margin-bottom: 4px;\n",
              "    }\n",
              "\n",
              "    [theme=dark] .colab-df-convert {\n",
              "      background-color: #3B4455;\n",
              "      fill: #D2E3FC;\n",
              "    }\n",
              "\n",
              "    [theme=dark] .colab-df-convert:hover {\n",
              "      background-color: #434B5C;\n",
              "      box-shadow: 0px 1px 3px 1px rgba(0, 0, 0, 0.15);\n",
              "      filter: drop-shadow(0px 1px 2px rgba(0, 0, 0, 0.3));\n",
              "      fill: #FFFFFF;\n",
              "    }\n",
              "  </style>\n",
              "\n",
              "    <script>\n",
              "      const buttonEl =\n",
              "        document.querySelector('#df-e0fde91c-e42a-4c13-9fb2-dcc3e118a8df button.colab-df-convert');\n",
              "      buttonEl.style.display =\n",
              "        google.colab.kernel.accessAllowed ? 'block' : 'none';\n",
              "\n",
              "      async function convertToInteractive(key) {\n",
              "        const element = document.querySelector('#df-e0fde91c-e42a-4c13-9fb2-dcc3e118a8df');\n",
              "        const dataTable =\n",
              "          await google.colab.kernel.invokeFunction('convertToInteractive',\n",
              "                                                    [key], {});\n",
              "        if (!dataTable) return;\n",
              "\n",
              "        const docLinkHtml = 'Like what you see? Visit the ' +\n",
              "          '<a target=\"_blank\" href=https://colab.research.google.com/notebooks/data_table.ipynb>data table notebook</a>'\n",
              "          + ' to learn more about interactive tables.';\n",
              "        element.innerHTML = '';\n",
              "        dataTable['output_type'] = 'display_data';\n",
              "        await google.colab.output.renderOutput(dataTable, element);\n",
              "        const docLink = document.createElement('div');\n",
              "        docLink.innerHTML = docLinkHtml;\n",
              "        element.appendChild(docLink);\n",
              "      }\n",
              "    </script>\n",
              "  </div>\n",
              "\n",
              "\n",
              "<div id=\"df-a1319e5d-2672-4227-b178-45250262eb5f\">\n",
              "  <button class=\"colab-df-quickchart\" onclick=\"quickchart('df-a1319e5d-2672-4227-b178-45250262eb5f')\"\n",
              "            title=\"Suggest charts\"\n",
              "            style=\"display:none;\">\n",
              "\n",
              "<svg xmlns=\"http://www.w3.org/2000/svg\" height=\"24px\"viewBox=\"0 0 24 24\"\n",
              "     width=\"24px\">\n",
              "    <g>\n",
              "        <path d=\"M19 3H5c-1.1 0-2 .9-2 2v14c0 1.1.9 2 2 2h14c1.1 0 2-.9 2-2V5c0-1.1-.9-2-2-2zM9 17H7v-7h2v7zm4 0h-2V7h2v10zm4 0h-2v-4h2v4z\"/>\n",
              "    </g>\n",
              "</svg>\n",
              "  </button>\n",
              "\n",
              "<style>\n",
              "  .colab-df-quickchart {\n",
              "      --bg-color: #E8F0FE;\n",
              "      --fill-color: #1967D2;\n",
              "      --hover-bg-color: #E2EBFA;\n",
              "      --hover-fill-color: #174EA6;\n",
              "      --disabled-fill-color: #AAA;\n",
              "      --disabled-bg-color: #DDD;\n",
              "  }\n",
              "\n",
              "  [theme=dark] .colab-df-quickchart {\n",
              "      --bg-color: #3B4455;\n",
              "      --fill-color: #D2E3FC;\n",
              "      --hover-bg-color: #434B5C;\n",
              "      --hover-fill-color: #FFFFFF;\n",
              "      --disabled-bg-color: #3B4455;\n",
              "      --disabled-fill-color: #666;\n",
              "  }\n",
              "\n",
              "  .colab-df-quickchart {\n",
              "    background-color: var(--bg-color);\n",
              "    border: none;\n",
              "    border-radius: 50%;\n",
              "    cursor: pointer;\n",
              "    display: none;\n",
              "    fill: var(--fill-color);\n",
              "    height: 32px;\n",
              "    padding: 0;\n",
              "    width: 32px;\n",
              "  }\n",
              "\n",
              "  .colab-df-quickchart:hover {\n",
              "    background-color: var(--hover-bg-color);\n",
              "    box-shadow: 0 1px 2px rgba(60, 64, 67, 0.3), 0 1px 3px 1px rgba(60, 64, 67, 0.15);\n",
              "    fill: var(--button-hover-fill-color);\n",
              "  }\n",
              "\n",
              "  .colab-df-quickchart-complete:disabled,\n",
              "  .colab-df-quickchart-complete:disabled:hover {\n",
              "    background-color: var(--disabled-bg-color);\n",
              "    fill: var(--disabled-fill-color);\n",
              "    box-shadow: none;\n",
              "  }\n",
              "\n",
              "  .colab-df-spinner {\n",
              "    border: 2px solid var(--fill-color);\n",
              "    border-color: transparent;\n",
              "    border-bottom-color: var(--fill-color);\n",
              "    animation:\n",
              "      spin 1s steps(1) infinite;\n",
              "  }\n",
              "\n",
              "  @keyframes spin {\n",
              "    0% {\n",
              "      border-color: transparent;\n",
              "      border-bottom-color: var(--fill-color);\n",
              "      border-left-color: var(--fill-color);\n",
              "    }\n",
              "    20% {\n",
              "      border-color: transparent;\n",
              "      border-left-color: var(--fill-color);\n",
              "      border-top-color: var(--fill-color);\n",
              "    }\n",
              "    30% {\n",
              "      border-color: transparent;\n",
              "      border-left-color: var(--fill-color);\n",
              "      border-top-color: var(--fill-color);\n",
              "      border-right-color: var(--fill-color);\n",
              "    }\n",
              "    40% {\n",
              "      border-color: transparent;\n",
              "      border-right-color: var(--fill-color);\n",
              "      border-top-color: var(--fill-color);\n",
              "    }\n",
              "    60% {\n",
              "      border-color: transparent;\n",
              "      border-right-color: var(--fill-color);\n",
              "    }\n",
              "    80% {\n",
              "      border-color: transparent;\n",
              "      border-right-color: var(--fill-color);\n",
              "      border-bottom-color: var(--fill-color);\n",
              "    }\n",
              "    90% {\n",
              "      border-color: transparent;\n",
              "      border-bottom-color: var(--fill-color);\n",
              "    }\n",
              "  }\n",
              "</style>\n",
              "\n",
              "  <script>\n",
              "    async function quickchart(key) {\n",
              "      const quickchartButtonEl =\n",
              "        document.querySelector('#' + key + ' button');\n",
              "      quickchartButtonEl.disabled = true;  // To prevent multiple clicks.\n",
              "      quickchartButtonEl.classList.add('colab-df-spinner');\n",
              "      try {\n",
              "        const charts = await google.colab.kernel.invokeFunction(\n",
              "            'suggestCharts', [key], {});\n",
              "      } catch (error) {\n",
              "        console.error('Error during call to suggestCharts:', error);\n",
              "      }\n",
              "      quickchartButtonEl.classList.remove('colab-df-spinner');\n",
              "      quickchartButtonEl.classList.add('colab-df-quickchart-complete');\n",
              "    }\n",
              "    (() => {\n",
              "      let quickchartButtonEl =\n",
              "        document.querySelector('#df-a1319e5d-2672-4227-b178-45250262eb5f button');\n",
              "      quickchartButtonEl.style.display =\n",
              "        google.colab.kernel.accessAllowed ? 'block' : 'none';\n",
              "    })();\n",
              "  </script>\n",
              "</div>\n",
              "\n",
              "  <div id=\"id_e6153d6f-6309-4d42-848e-ec85ceabfd5d\">\n",
              "    <style>\n",
              "      .colab-df-generate {\n",
              "        background-color: #E8F0FE;\n",
              "        border: none;\n",
              "        border-radius: 50%;\n",
              "        cursor: pointer;\n",
              "        display: none;\n",
              "        fill: #1967D2;\n",
              "        height: 32px;\n",
              "        padding: 0 0 0 0;\n",
              "        width: 32px;\n",
              "      }\n",
              "\n",
              "      .colab-df-generate:hover {\n",
              "        background-color: #E2EBFA;\n",
              "        box-shadow: 0px 1px 2px rgba(60, 64, 67, 0.3), 0px 1px 3px 1px rgba(60, 64, 67, 0.15);\n",
              "        fill: #174EA6;\n",
              "      }\n",
              "\n",
              "      [theme=dark] .colab-df-generate {\n",
              "        background-color: #3B4455;\n",
              "        fill: #D2E3FC;\n",
              "      }\n",
              "\n",
              "      [theme=dark] .colab-df-generate:hover {\n",
              "        background-color: #434B5C;\n",
              "        box-shadow: 0px 1px 3px 1px rgba(0, 0, 0, 0.15);\n",
              "        filter: drop-shadow(0px 1px 2px rgba(0, 0, 0, 0.3));\n",
              "        fill: #FFFFFF;\n",
              "      }\n",
              "    </style>\n",
              "    <button class=\"colab-df-generate\" onclick=\"generateWithVariable('Aggregated')\"\n",
              "            title=\"Generate code using this dataframe.\"\n",
              "            style=\"display:none;\">\n",
              "\n",
              "  <svg xmlns=\"http://www.w3.org/2000/svg\" height=\"24px\"viewBox=\"0 0 24 24\"\n",
              "       width=\"24px\">\n",
              "    <path d=\"M7,19H8.4L18.45,9,17,7.55,7,17.6ZM5,21V16.75L18.45,3.32a2,2,0,0,1,2.83,0l1.4,1.43a1.91,1.91,0,0,1,.58,1.4,1.91,1.91,0,0,1-.58,1.4L9.25,21ZM18.45,9,17,7.55Zm-12,3A5.31,5.31,0,0,0,4.9,8.1,5.31,5.31,0,0,0,1,6.5,5.31,5.31,0,0,0,4.9,4.9,5.31,5.31,0,0,0,6.5,1,5.31,5.31,0,0,0,8.1,4.9,5.31,5.31,0,0,0,12,6.5,5.46,5.46,0,0,0,6.5,12Z\"/>\n",
              "  </svg>\n",
              "    </button>\n",
              "    <script>\n",
              "      (() => {\n",
              "      const buttonEl =\n",
              "        document.querySelector('#id_e6153d6f-6309-4d42-848e-ec85ceabfd5d button.colab-df-generate');\n",
              "      buttonEl.style.display =\n",
              "        google.colab.kernel.accessAllowed ? 'block' : 'none';\n",
              "\n",
              "      buttonEl.onclick = () => {\n",
              "        google.colab.notebook.generateWithVariable('Aggregated');\n",
              "      }\n",
              "      })();\n",
              "    </script>\n",
              "  </div>\n",
              "\n",
              "    </div>\n",
              "  </div>\n"
            ],
            "application/vnd.google.colaboratory.intrinsic+json": {
              "type": "dataframe",
              "variable_name": "Aggregated",
              "summary": "{\n  \"name\": \"Aggregated\",\n  \"rows\": 900,\n  \"fields\": [\n    {\n      \"column\": \"Evaluator1\",\n      \"properties\": {\n        \"dtype\": \"category\",\n        \"num_unique_values\": 3,\n        \"samples\": [\n          \"Neutral\",\n          \"Entailment\",\n          \"Contradiction\"\n        ],\n        \"semantic_type\": \"\",\n        \"description\": \"\"\n      }\n    },\n    {\n      \"column\": \"Evaluator2\",\n      \"properties\": {\n        \"dtype\": \"category\",\n        \"num_unique_values\": 3,\n        \"samples\": [\n          \"Contradiction\",\n          \"Neutral\",\n          \"Entailment\"\n        ],\n        \"semantic_type\": \"\",\n        \"description\": \"\"\n      }\n    }\n  ]\n}"
            }
          },
          "metadata": {},
          "execution_count": 6
        }
      ]
    },
    {
      "cell_type": "markdown",
      "source": [
        "### Percent agreement"
      ],
      "metadata": {
        "id": "TOtB3u_-uBxv"
      }
    },
    {
      "cell_type": "code",
      "execution_count": 7,
      "metadata": {
        "colab": {
          "base_uri": "https://localhost:8080/",
          "height": 206
        },
        "id": "UCoYUI6qRsBA",
        "outputId": "f72106bb-4ebb-4971-e4de-e4c320177258"
      },
      "outputs": [
        {
          "output_type": "display_data",
          "data": {
            "text/plain": [
              "<pandas.io.formats.style.Styler at 0x7958207c8880>"
            ],
            "text/html": [
              "<style type=\"text/css\">\n",
              "#T_289b3 th {\n",
              "  background-color: lightgrey;\n",
              "}\n",
              "</style>\n",
              "<table id=\"T_289b3\" class=\"dataframe\">\n",
              "  <thead>\n",
              "    <tr>\n",
              "      <th class=\"index_name level0\" >Evaluator2</th>\n",
              "      <th id=\"T_289b3_level0_col0\" class=\"col_heading level0 col0\" >Contradiction</th>\n",
              "      <th id=\"T_289b3_level0_col1\" class=\"col_heading level0 col1\" >Entailment</th>\n",
              "      <th id=\"T_289b3_level0_col2\" class=\"col_heading level0 col2\" >Neutral</th>\n",
              "      <th id=\"T_289b3_level0_col3\" class=\"col_heading level0 col3\" >All</th>\n",
              "    </tr>\n",
              "    <tr>\n",
              "      <th class=\"index_name level0\" >Evaluator1</th>\n",
              "      <th class=\"blank col0\" >&nbsp;</th>\n",
              "      <th class=\"blank col1\" >&nbsp;</th>\n",
              "      <th class=\"blank col2\" >&nbsp;</th>\n",
              "      <th class=\"blank col3\" >&nbsp;</th>\n",
              "    </tr>\n",
              "  </thead>\n",
              "  <tbody>\n",
              "    <tr>\n",
              "      <th id=\"T_289b3_level0_row0\" class=\"row_heading level0 row0\" >Contradiction</th>\n",
              "      <td id=\"T_289b3_row0_col0\" class=\"data row0 col0\" >166</td>\n",
              "      <td id=\"T_289b3_row0_col1\" class=\"data row0 col1\" >18</td>\n",
              "      <td id=\"T_289b3_row0_col2\" class=\"data row0 col2\" >18</td>\n",
              "      <td id=\"T_289b3_row0_col3\" class=\"data row0 col3\" >202</td>\n",
              "    </tr>\n",
              "    <tr>\n",
              "      <th id=\"T_289b3_level0_row1\" class=\"row_heading level0 row1\" >Entailment</th>\n",
              "      <td id=\"T_289b3_row1_col0\" class=\"data row1 col0\" >19</td>\n",
              "      <td id=\"T_289b3_row1_col1\" class=\"data row1 col1\" >276</td>\n",
              "      <td id=\"T_289b3_row1_col2\" class=\"data row1 col2\" >30</td>\n",
              "      <td id=\"T_289b3_row1_col3\" class=\"data row1 col3\" >325</td>\n",
              "    </tr>\n",
              "    <tr>\n",
              "      <th id=\"T_289b3_level0_row2\" class=\"row_heading level0 row2\" >Neutral</th>\n",
              "      <td id=\"T_289b3_row2_col0\" class=\"data row2 col0\" >136</td>\n",
              "      <td id=\"T_289b3_row2_col1\" class=\"data row2 col1\" >62</td>\n",
              "      <td id=\"T_289b3_row2_col2\" class=\"data row2 col2\" >175</td>\n",
              "      <td id=\"T_289b3_row2_col3\" class=\"data row2 col3\" >373</td>\n",
              "    </tr>\n",
              "    <tr>\n",
              "      <th id=\"T_289b3_level0_row3\" class=\"row_heading level0 row3\" >All</th>\n",
              "      <td id=\"T_289b3_row3_col0\" class=\"data row3 col0\" >321</td>\n",
              "      <td id=\"T_289b3_row3_col1\" class=\"data row3 col1\" >356</td>\n",
              "      <td id=\"T_289b3_row3_col2\" class=\"data row3 col2\" >223</td>\n",
              "      <td id=\"T_289b3_row3_col3\" class=\"data row3 col3\" >900</td>\n",
              "    </tr>\n",
              "  </tbody>\n",
              "</table>\n"
            ]
          },
          "metadata": {}
        }
      ],
      "source": [
        "Agreement_table = pd.crosstab(Aggregated['Evaluator1'],\n",
        "                          Aggregated['Evaluator2'],\n",
        "                          margins = True)\n",
        "\n",
        "display(Agreement_table.style.set_table_styles([{\n",
        "    'selector': 'th',\n",
        "    'props': [('background-color', 'lightgrey')]\n",
        "}]))"
      ]
    },
    {
      "cell_type": "markdown",
      "source": [
        "Compute the percent agreement as the sum of the diagonal over the total."
      ],
      "metadata": {
        "id": "mqN6lYbbe7oN"
      }
    },
    {
      "cell_type": "code",
      "source": [
        "(166+276+175)/900"
      ],
      "metadata": {
        "colab": {
          "base_uri": "https://localhost:8080/"
        },
        "id": "Rn5Lk4-3e2i9",
        "outputId": "dd975e30-4074-4dc1-e017-0792d4af0deb"
      },
      "execution_count": 8,
      "outputs": [
        {
          "output_type": "execute_result",
          "data": {
            "text/plain": [
              "0.6855555555555556"
            ]
          },
          "metadata": {},
          "execution_count": 8
        }
      ]
    },
    {
      "cell_type": "markdown",
      "source": [
        "### Cohen's Kappa"
      ],
      "metadata": {
        "id": "YZqP9StkuNIL"
      }
    },
    {
      "cell_type": "code",
      "source": [
        "#pip install -U scikit-learn\n",
        "from sklearn.metrics import cohen_kappa_score"
      ],
      "metadata": {
        "id": "BkKvzn3quLeB"
      },
      "execution_count": 9,
      "outputs": []
    },
    {
      "cell_type": "code",
      "source": [
        "Rater_1 = Aggregated['Evaluator1']\n",
        "Rater_2 = Aggregated['Evaluator2']\n",
        "cohen_kappa_score(Rater_1, Rater_2)"
      ],
      "metadata": {
        "colab": {
          "base_uri": "https://localhost:8080/"
        },
        "id": "2g9oZYldoeoA",
        "outputId": "f07bfb35-18b2-4bda-daef-fb827f7354f8"
      },
      "execution_count": 10,
      "outputs": [
        {
          "output_type": "execute_result",
          "data": {
            "text/plain": [
              "0.5337547297260191"
            ]
          },
          "metadata": {},
          "execution_count": 10
        }
      ]
    },
    {
      "cell_type": "markdown",
      "source": [
        "####Cohen's Kappa is done \"by hand\" 🤚"
      ],
      "metadata": {
        "id": "iNOd3OyMqA1U"
      }
    },
    {
      "cell_type": "markdown",
      "source": [
        "**Get the relative frequency table**"
      ],
      "metadata": {
        "id": "xXf1vbMOo95E"
      }
    },
    {
      "cell_type": "code",
      "source": [
        "Agreement_table/900"
      ],
      "metadata": {
        "colab": {
          "base_uri": "https://localhost:8080/",
          "height": 0
        },
        "id": "FQxyhXHuqHlA",
        "outputId": "1d6ce8bc-cec0-4490-c5a3-3fa29b3f54f7"
      },
      "execution_count": 11,
      "outputs": [
        {
          "output_type": "execute_result",
          "data": {
            "text/plain": [
              "Evaluator2     Contradiction  Entailment   Neutral       All\n",
              "Evaluator1                                                  \n",
              "Contradiction       0.184444    0.020000  0.020000  0.224444\n",
              "Entailment          0.021111    0.306667  0.033333  0.361111\n",
              "Neutral             0.151111    0.068889  0.194444  0.414444\n",
              "All                 0.356667    0.395556  0.247778  1.000000"
            ],
            "text/html": [
              "\n",
              "  <div id=\"df-40fd92c1-03cc-4e5b-9e15-1050778edf12\" class=\"colab-df-container\">\n",
              "    <div>\n",
              "<style scoped>\n",
              "    .dataframe tbody tr th:only-of-type {\n",
              "        vertical-align: middle;\n",
              "    }\n",
              "\n",
              "    .dataframe tbody tr th {\n",
              "        vertical-align: top;\n",
              "    }\n",
              "\n",
              "    .dataframe thead th {\n",
              "        text-align: right;\n",
              "    }\n",
              "</style>\n",
              "<table border=\"1\" class=\"dataframe\">\n",
              "  <thead>\n",
              "    <tr style=\"text-align: right;\">\n",
              "      <th>Evaluator2</th>\n",
              "      <th>Contradiction</th>\n",
              "      <th>Entailment</th>\n",
              "      <th>Neutral</th>\n",
              "      <th>All</th>\n",
              "    </tr>\n",
              "    <tr>\n",
              "      <th>Evaluator1</th>\n",
              "      <th></th>\n",
              "      <th></th>\n",
              "      <th></th>\n",
              "      <th></th>\n",
              "    </tr>\n",
              "  </thead>\n",
              "  <tbody>\n",
              "    <tr>\n",
              "      <th>Contradiction</th>\n",
              "      <td>0.184444</td>\n",
              "      <td>0.020000</td>\n",
              "      <td>0.020000</td>\n",
              "      <td>0.224444</td>\n",
              "    </tr>\n",
              "    <tr>\n",
              "      <th>Entailment</th>\n",
              "      <td>0.021111</td>\n",
              "      <td>0.306667</td>\n",
              "      <td>0.033333</td>\n",
              "      <td>0.361111</td>\n",
              "    </tr>\n",
              "    <tr>\n",
              "      <th>Neutral</th>\n",
              "      <td>0.151111</td>\n",
              "      <td>0.068889</td>\n",
              "      <td>0.194444</td>\n",
              "      <td>0.414444</td>\n",
              "    </tr>\n",
              "    <tr>\n",
              "      <th>All</th>\n",
              "      <td>0.356667</td>\n",
              "      <td>0.395556</td>\n",
              "      <td>0.247778</td>\n",
              "      <td>1.000000</td>\n",
              "    </tr>\n",
              "  </tbody>\n",
              "</table>\n",
              "</div>\n",
              "    <div class=\"colab-df-buttons\">\n",
              "\n",
              "  <div class=\"colab-df-container\">\n",
              "    <button class=\"colab-df-convert\" onclick=\"convertToInteractive('df-40fd92c1-03cc-4e5b-9e15-1050778edf12')\"\n",
              "            title=\"Convert this dataframe to an interactive table.\"\n",
              "            style=\"display:none;\">\n",
              "\n",
              "  <svg xmlns=\"http://www.w3.org/2000/svg\" height=\"24px\" viewBox=\"0 -960 960 960\">\n",
              "    <path d=\"M120-120v-720h720v720H120Zm60-500h600v-160H180v160Zm220 220h160v-160H400v160Zm0 220h160v-160H400v160ZM180-400h160v-160H180v160Zm440 0h160v-160H620v160ZM180-180h160v-160H180v160Zm440 0h160v-160H620v160Z\"/>\n",
              "  </svg>\n",
              "    </button>\n",
              "\n",
              "  <style>\n",
              "    .colab-df-container {\n",
              "      display:flex;\n",
              "      gap: 12px;\n",
              "    }\n",
              "\n",
              "    .colab-df-convert {\n",
              "      background-color: #E8F0FE;\n",
              "      border: none;\n",
              "      border-radius: 50%;\n",
              "      cursor: pointer;\n",
              "      display: none;\n",
              "      fill: #1967D2;\n",
              "      height: 32px;\n",
              "      padding: 0 0 0 0;\n",
              "      width: 32px;\n",
              "    }\n",
              "\n",
              "    .colab-df-convert:hover {\n",
              "      background-color: #E2EBFA;\n",
              "      box-shadow: 0px 1px 2px rgba(60, 64, 67, 0.3), 0px 1px 3px 1px rgba(60, 64, 67, 0.15);\n",
              "      fill: #174EA6;\n",
              "    }\n",
              "\n",
              "    .colab-df-buttons div {\n",
              "      margin-bottom: 4px;\n",
              "    }\n",
              "\n",
              "    [theme=dark] .colab-df-convert {\n",
              "      background-color: #3B4455;\n",
              "      fill: #D2E3FC;\n",
              "    }\n",
              "\n",
              "    [theme=dark] .colab-df-convert:hover {\n",
              "      background-color: #434B5C;\n",
              "      box-shadow: 0px 1px 3px 1px rgba(0, 0, 0, 0.15);\n",
              "      filter: drop-shadow(0px 1px 2px rgba(0, 0, 0, 0.3));\n",
              "      fill: #FFFFFF;\n",
              "    }\n",
              "  </style>\n",
              "\n",
              "    <script>\n",
              "      const buttonEl =\n",
              "        document.querySelector('#df-40fd92c1-03cc-4e5b-9e15-1050778edf12 button.colab-df-convert');\n",
              "      buttonEl.style.display =\n",
              "        google.colab.kernel.accessAllowed ? 'block' : 'none';\n",
              "\n",
              "      async function convertToInteractive(key) {\n",
              "        const element = document.querySelector('#df-40fd92c1-03cc-4e5b-9e15-1050778edf12');\n",
              "        const dataTable =\n",
              "          await google.colab.kernel.invokeFunction('convertToInteractive',\n",
              "                                                    [key], {});\n",
              "        if (!dataTable) return;\n",
              "\n",
              "        const docLinkHtml = 'Like what you see? Visit the ' +\n",
              "          '<a target=\"_blank\" href=https://colab.research.google.com/notebooks/data_table.ipynb>data table notebook</a>'\n",
              "          + ' to learn more about interactive tables.';\n",
              "        element.innerHTML = '';\n",
              "        dataTable['output_type'] = 'display_data';\n",
              "        await google.colab.output.renderOutput(dataTable, element);\n",
              "        const docLink = document.createElement('div');\n",
              "        docLink.innerHTML = docLinkHtml;\n",
              "        element.appendChild(docLink);\n",
              "      }\n",
              "    </script>\n",
              "  </div>\n",
              "\n",
              "\n",
              "<div id=\"df-df6e7721-2390-4473-9a80-d864b964a0c7\">\n",
              "  <button class=\"colab-df-quickchart\" onclick=\"quickchart('df-df6e7721-2390-4473-9a80-d864b964a0c7')\"\n",
              "            title=\"Suggest charts\"\n",
              "            style=\"display:none;\">\n",
              "\n",
              "<svg xmlns=\"http://www.w3.org/2000/svg\" height=\"24px\"viewBox=\"0 0 24 24\"\n",
              "     width=\"24px\">\n",
              "    <g>\n",
              "        <path d=\"M19 3H5c-1.1 0-2 .9-2 2v14c0 1.1.9 2 2 2h14c1.1 0 2-.9 2-2V5c0-1.1-.9-2-2-2zM9 17H7v-7h2v7zm4 0h-2V7h2v10zm4 0h-2v-4h2v4z\"/>\n",
              "    </g>\n",
              "</svg>\n",
              "  </button>\n",
              "\n",
              "<style>\n",
              "  .colab-df-quickchart {\n",
              "      --bg-color: #E8F0FE;\n",
              "      --fill-color: #1967D2;\n",
              "      --hover-bg-color: #E2EBFA;\n",
              "      --hover-fill-color: #174EA6;\n",
              "      --disabled-fill-color: #AAA;\n",
              "      --disabled-bg-color: #DDD;\n",
              "  }\n",
              "\n",
              "  [theme=dark] .colab-df-quickchart {\n",
              "      --bg-color: #3B4455;\n",
              "      --fill-color: #D2E3FC;\n",
              "      --hover-bg-color: #434B5C;\n",
              "      --hover-fill-color: #FFFFFF;\n",
              "      --disabled-bg-color: #3B4455;\n",
              "      --disabled-fill-color: #666;\n",
              "  }\n",
              "\n",
              "  .colab-df-quickchart {\n",
              "    background-color: var(--bg-color);\n",
              "    border: none;\n",
              "    border-radius: 50%;\n",
              "    cursor: pointer;\n",
              "    display: none;\n",
              "    fill: var(--fill-color);\n",
              "    height: 32px;\n",
              "    padding: 0;\n",
              "    width: 32px;\n",
              "  }\n",
              "\n",
              "  .colab-df-quickchart:hover {\n",
              "    background-color: var(--hover-bg-color);\n",
              "    box-shadow: 0 1px 2px rgba(60, 64, 67, 0.3), 0 1px 3px 1px rgba(60, 64, 67, 0.15);\n",
              "    fill: var(--button-hover-fill-color);\n",
              "  }\n",
              "\n",
              "  .colab-df-quickchart-complete:disabled,\n",
              "  .colab-df-quickchart-complete:disabled:hover {\n",
              "    background-color: var(--disabled-bg-color);\n",
              "    fill: var(--disabled-fill-color);\n",
              "    box-shadow: none;\n",
              "  }\n",
              "\n",
              "  .colab-df-spinner {\n",
              "    border: 2px solid var(--fill-color);\n",
              "    border-color: transparent;\n",
              "    border-bottom-color: var(--fill-color);\n",
              "    animation:\n",
              "      spin 1s steps(1) infinite;\n",
              "  }\n",
              "\n",
              "  @keyframes spin {\n",
              "    0% {\n",
              "      border-color: transparent;\n",
              "      border-bottom-color: var(--fill-color);\n",
              "      border-left-color: var(--fill-color);\n",
              "    }\n",
              "    20% {\n",
              "      border-color: transparent;\n",
              "      border-left-color: var(--fill-color);\n",
              "      border-top-color: var(--fill-color);\n",
              "    }\n",
              "    30% {\n",
              "      border-color: transparent;\n",
              "      border-left-color: var(--fill-color);\n",
              "      border-top-color: var(--fill-color);\n",
              "      border-right-color: var(--fill-color);\n",
              "    }\n",
              "    40% {\n",
              "      border-color: transparent;\n",
              "      border-right-color: var(--fill-color);\n",
              "      border-top-color: var(--fill-color);\n",
              "    }\n",
              "    60% {\n",
              "      border-color: transparent;\n",
              "      border-right-color: var(--fill-color);\n",
              "    }\n",
              "    80% {\n",
              "      border-color: transparent;\n",
              "      border-right-color: var(--fill-color);\n",
              "      border-bottom-color: var(--fill-color);\n",
              "    }\n",
              "    90% {\n",
              "      border-color: transparent;\n",
              "      border-bottom-color: var(--fill-color);\n",
              "    }\n",
              "  }\n",
              "</style>\n",
              "\n",
              "  <script>\n",
              "    async function quickchart(key) {\n",
              "      const quickchartButtonEl =\n",
              "        document.querySelector('#' + key + ' button');\n",
              "      quickchartButtonEl.disabled = true;  // To prevent multiple clicks.\n",
              "      quickchartButtonEl.classList.add('colab-df-spinner');\n",
              "      try {\n",
              "        const charts = await google.colab.kernel.invokeFunction(\n",
              "            'suggestCharts', [key], {});\n",
              "      } catch (error) {\n",
              "        console.error('Error during call to suggestCharts:', error);\n",
              "      }\n",
              "      quickchartButtonEl.classList.remove('colab-df-spinner');\n",
              "      quickchartButtonEl.classList.add('colab-df-quickchart-complete');\n",
              "    }\n",
              "    (() => {\n",
              "      let quickchartButtonEl =\n",
              "        document.querySelector('#df-df6e7721-2390-4473-9a80-d864b964a0c7 button');\n",
              "      quickchartButtonEl.style.display =\n",
              "        google.colab.kernel.accessAllowed ? 'block' : 'none';\n",
              "    })();\n",
              "  </script>\n",
              "</div>\n",
              "\n",
              "    </div>\n",
              "  </div>\n"
            ],
            "application/vnd.google.colaboratory.intrinsic+json": {
              "type": "dataframe",
              "summary": "{\n  \"name\": \"Agreement_table/900\",\n  \"rows\": 4,\n  \"fields\": [\n    {\n      \"column\": \"Evaluator1\",\n      \"properties\": {\n        \"dtype\": \"string\",\n        \"num_unique_values\": 4,\n        \"samples\": [\n          \"Entailment\",\n          \"All\",\n          \"Contradiction\"\n        ],\n        \"semantic_type\": \"\",\n        \"description\": \"\"\n      }\n    },\n    {\n      \"column\": \"Contradiction\",\n      \"properties\": {\n        \"dtype\": \"number\",\n        \"std\": 0.13820274961085255,\n        \"min\": 0.021111111111111112,\n        \"max\": 0.3566666666666667,\n        \"num_unique_values\": 4,\n        \"samples\": [\n          0.021111111111111112,\n          0.3566666666666667,\n          0.18444444444444444\n        ],\n        \"semantic_type\": \"\",\n        \"description\": \"\"\n      }\n    },\n    {\n      \"column\": \"Entailment\",\n      \"properties\": {\n        \"dtype\": \"number\",\n        \"std\": 0.18183337011010028,\n        \"min\": 0.02,\n        \"max\": 0.39555555555555555,\n        \"num_unique_values\": 4,\n        \"samples\": [\n          0.30666666666666664,\n          0.39555555555555555,\n          0.02\n        ],\n        \"semantic_type\": \"\",\n        \"description\": \"\"\n      }\n    },\n    {\n      \"column\": \"Neutral\",\n      \"properties\": {\n        \"dtype\": \"number\",\n        \"std\": 0.11448399172871253,\n        \"min\": 0.02,\n        \"max\": 0.2477777777777778,\n        \"num_unique_values\": 4,\n        \"samples\": [\n          0.03333333333333333,\n          0.2477777777777778,\n          0.02\n        ],\n        \"semantic_type\": \"\",\n        \"description\": \"\"\n      }\n    },\n    {\n      \"column\": \"All\",\n      \"properties\": {\n        \"dtype\": \"number\",\n        \"std\": 0.34280253827373214,\n        \"min\": 0.22444444444444445,\n        \"max\": 1.0,\n        \"num_unique_values\": 4,\n        \"samples\": [\n          0.3611111111111111,\n          1.0,\n          0.22444444444444445\n        ],\n        \"semantic_type\": \"\",\n        \"description\": \"\"\n      }\n    }\n  ]\n}"
            }
          },
          "metadata": {},
          "execution_count": 11
        }
      ]
    },
    {
      "cell_type": "markdown",
      "source": [
        "**Compute the observed agreement**"
      ],
      "metadata": {
        "id": "TCP2rUyHo_ri"
      }
    },
    {
      "cell_type": "code",
      "source": [
        "P_agreement_observed = sum([0.18444, 0.306667, 0.194444])\n",
        "P_agreement_observed"
      ],
      "metadata": {
        "colab": {
          "base_uri": "https://localhost:8080/"
        },
        "id": "WXxoq9-fqI5B",
        "outputId": "d00a08d5-bbd8-4850-e450-f1926a6a6329"
      },
      "execution_count": 12,
      "outputs": [
        {
          "output_type": "execute_result",
          "data": {
            "text/plain": [
              "0.685551"
            ]
          },
          "metadata": {},
          "execution_count": 12
        }
      ]
    },
    {
      "cell_type": "markdown",
      "source": [
        "**Compute the chance agreement**"
      ],
      "metadata": {
        "id": "eyy0sp4NpFD6"
      }
    },
    {
      "cell_type": "code",
      "source": [
        "P_Random_Contradiction = 0.356667 * 0.224444 #Probability that Rater 1 says Contradiction and Rater 2 also says Contradiction\n",
        "P_Random_Contradiction"
      ],
      "metadata": {
        "colab": {
          "base_uri": "https://localhost:8080/"
        },
        "id": "ok-tOi4qqxIa",
        "outputId": "0ec7d2cb-00b4-417a-cc00-4b50e24f8994"
      },
      "execution_count": 13,
      "outputs": [
        {
          "output_type": "execute_result",
          "data": {
            "text/plain": [
              "0.08005176814800001"
            ]
          },
          "metadata": {},
          "execution_count": 13
        }
      ]
    },
    {
      "cell_type": "code",
      "source": [
        "P_Random_Entailment = 0.395556 * 0.361111 #Probability that Rater 1 says Entailment and Rater 2 also says Entailment\n",
        "P_Random_Entailment"
      ],
      "metadata": {
        "colab": {
          "base_uri": "https://localhost:8080/"
        },
        "id": "Bj4JTFVgrXXQ",
        "outputId": "f163f542-c21e-421e-d09b-bfedda7960d5"
      },
      "execution_count": 14,
      "outputs": [
        {
          "output_type": "execute_result",
          "data": {
            "text/plain": [
              "0.142839622716"
            ]
          },
          "metadata": {},
          "execution_count": 14
        }
      ]
    },
    {
      "cell_type": "code",
      "source": [
        "P_Random_Neutral = 0.247778\t * \t0.414444 #Probability that Rater 1 says Neutral and Rater 2 also says Neutral\n",
        "P_Random_Neutral"
      ],
      "metadata": {
        "colab": {
          "base_uri": "https://localhost:8080/"
        },
        "id": "D9gj9vVlrf8G",
        "outputId": "67f065bd-c6e9-4b3c-b1cc-817e0143ccff"
      },
      "execution_count": 15,
      "outputs": [
        {
          "output_type": "execute_result",
          "data": {
            "text/plain": [
              "0.102690105432"
            ]
          },
          "metadata": {},
          "execution_count": 15
        }
      ]
    },
    {
      "cell_type": "code",
      "source": [
        "P_random_expected = P_Random_Contradiction + P_Random_Entailment+P_Random_Neutral\n",
        "P_random_expected"
      ],
      "metadata": {
        "colab": {
          "base_uri": "https://localhost:8080/"
        },
        "id": "bA-cKs7Krr5v",
        "outputId": "9ed5ea19-a903-4b87-e4f8-79f27f3dc128"
      },
      "execution_count": 16,
      "outputs": [
        {
          "output_type": "execute_result",
          "data": {
            "text/plain": [
              "0.325581496296"
            ]
          },
          "metadata": {},
          "execution_count": 16
        }
      ]
    },
    {
      "cell_type": "markdown",
      "source": [
        "**Include the observed and chance agreement computed previously into the formula**.\n",
        "\n",
        "Expect minor differences in decimals due to rounding."
      ],
      "metadata": {
        "id": "W0v9_WeUpSlD"
      }
    },
    {
      "cell_type": "code",
      "source": [
        "(P_agreement_observed -P_random_expected)/(1-P_random_expected)"
      ],
      "metadata": {
        "colab": {
          "base_uri": "https://localhost:8080/"
        },
        "id": "RcZ52XgOr0LE",
        "outputId": "abc4b1e9-28dc-4a86-9ab2-691d2b9143cd"
      },
      "execution_count": 17,
      "outputs": [
        {
          "output_type": "execute_result",
          "data": {
            "text/plain": [
              "0.5337479646940254"
            ]
          },
          "metadata": {},
          "execution_count": 17
        }
      ]
    },
    {
      "cell_type": "markdown",
      "source": [
        "#### Cohen Kappa with missing Data ❓"
      ],
      "metadata": {
        "id": "BNtjTFyycOpX"
      }
    },
    {
      "cell_type": "markdown",
      "source": [
        "Notice that pd crosstabs does not display Missing data."
      ],
      "metadata": {
        "id": "1NkdvJ9geWpd"
      }
    },
    {
      "cell_type": "code",
      "source": [
        "Agreement_table_missing = pd.crosstab(Aggregated_Missing['Evaluator1'],\n",
        "                          Aggregated_Missing['Evaluator2'],\n",
        "                          margins = True)\n",
        "\n",
        "display(Agreement_table_missing.style.set_table_styles([{\n",
        "    'selector': 'th',\n",
        "    'props': [('background-color', 'lightgrey')]\n",
        "}]))"
      ],
      "metadata": {
        "colab": {
          "base_uri": "https://localhost:8080/",
          "height": 0
        },
        "id": "DWhCLnTpd9Yt",
        "outputId": "7cc9df24-ffb6-411f-cbbd-eec4048371ec"
      },
      "execution_count": 18,
      "outputs": [
        {
          "output_type": "display_data",
          "data": {
            "text/plain": [
              "<pandas.io.formats.style.Styler at 0x7958188ea2f0>"
            ],
            "text/html": [
              "<style type=\"text/css\">\n",
              "#T_df8a1 th {\n",
              "  background-color: lightgrey;\n",
              "}\n",
              "</style>\n",
              "<table id=\"T_df8a1\" class=\"dataframe\">\n",
              "  <thead>\n",
              "    <tr>\n",
              "      <th class=\"index_name level0\" >Evaluator2</th>\n",
              "      <th id=\"T_df8a1_level0_col0\" class=\"col_heading level0 col0\" >Contradiction</th>\n",
              "      <th id=\"T_df8a1_level0_col1\" class=\"col_heading level0 col1\" >Entailment</th>\n",
              "      <th id=\"T_df8a1_level0_col2\" class=\"col_heading level0 col2\" >Neutral</th>\n",
              "      <th id=\"T_df8a1_level0_col3\" class=\"col_heading level0 col3\" >All</th>\n",
              "    </tr>\n",
              "    <tr>\n",
              "      <th class=\"index_name level0\" >Evaluator1</th>\n",
              "      <th class=\"blank col0\" >&nbsp;</th>\n",
              "      <th class=\"blank col1\" >&nbsp;</th>\n",
              "      <th class=\"blank col2\" >&nbsp;</th>\n",
              "      <th class=\"blank col3\" >&nbsp;</th>\n",
              "    </tr>\n",
              "  </thead>\n",
              "  <tbody>\n",
              "    <tr>\n",
              "      <th id=\"T_df8a1_level0_row0\" class=\"row_heading level0 row0\" >Contradiction</th>\n",
              "      <td id=\"T_df8a1_row0_col0\" class=\"data row0 col0\" >158</td>\n",
              "      <td id=\"T_df8a1_row0_col1\" class=\"data row0 col1\" >17</td>\n",
              "      <td id=\"T_df8a1_row0_col2\" class=\"data row0 col2\" >17</td>\n",
              "      <td id=\"T_df8a1_row0_col3\" class=\"data row0 col3\" >192</td>\n",
              "    </tr>\n",
              "    <tr>\n",
              "      <th id=\"T_df8a1_level0_row1\" class=\"row_heading level0 row1\" >Entailment</th>\n",
              "      <td id=\"T_df8a1_row1_col0\" class=\"data row1 col0\" >18</td>\n",
              "      <td id=\"T_df8a1_row1_col1\" class=\"data row1 col1\" >269</td>\n",
              "      <td id=\"T_df8a1_row1_col2\" class=\"data row1 col2\" >26</td>\n",
              "      <td id=\"T_df8a1_row1_col3\" class=\"data row1 col3\" >313</td>\n",
              "    </tr>\n",
              "    <tr>\n",
              "      <th id=\"T_df8a1_level0_row2\" class=\"row_heading level0 row2\" >Neutral</th>\n",
              "      <td id=\"T_df8a1_row2_col0\" class=\"data row2 col0\" >131</td>\n",
              "      <td id=\"T_df8a1_row2_col1\" class=\"data row2 col1\" >61</td>\n",
              "      <td id=\"T_df8a1_row2_col2\" class=\"data row2 col2\" >173</td>\n",
              "      <td id=\"T_df8a1_row2_col3\" class=\"data row2 col3\" >365</td>\n",
              "    </tr>\n",
              "    <tr>\n",
              "      <th id=\"T_df8a1_level0_row3\" class=\"row_heading level0 row3\" >All</th>\n",
              "      <td id=\"T_df8a1_row3_col0\" class=\"data row3 col0\" >307</td>\n",
              "      <td id=\"T_df8a1_row3_col1\" class=\"data row3 col1\" >347</td>\n",
              "      <td id=\"T_df8a1_row3_col2\" class=\"data row3 col2\" >216</td>\n",
              "      <td id=\"T_df8a1_row3_col3\" class=\"data row3 col3\" >870</td>\n",
              "    </tr>\n",
              "  </tbody>\n",
              "</table>\n"
            ]
          },
          "metadata": {}
        }
      ]
    },
    {
      "cell_type": "markdown",
      "source": [
        "As such, we have to use fill.na with \"missing\" in order to display them"
      ],
      "metadata": {
        "id": "k5KACSp2onk-"
      }
    },
    {
      "cell_type": "code",
      "source": [
        "Agreement_table_missing = pd.crosstab(Aggregated_Missing['Evaluator1'].fillna('missing'),\n",
        "                          Aggregated_Missing['Evaluator2'].fillna('missing'),\n",
        "                          margins = True)\n",
        "\n",
        "display(Agreement_table_missing.style.set_table_styles([{\n",
        "    'selector': 'th',\n",
        "    'props': [('background-color', 'lightgrey')]\n",
        "}]))"
      ],
      "metadata": {
        "colab": {
          "base_uri": "https://localhost:8080/",
          "height": 0
        },
        "id": "YCDQPoP2eaP7",
        "outputId": "eecfee37-8aae-4427-e06c-23c96c47447f"
      },
      "execution_count": 19,
      "outputs": [
        {
          "output_type": "display_data",
          "data": {
            "text/plain": [
              "<pandas.io.formats.style.Styler at 0x7958188eb6d0>"
            ],
            "text/html": [
              "<style type=\"text/css\">\n",
              "#T_8706e th {\n",
              "  background-color: lightgrey;\n",
              "}\n",
              "</style>\n",
              "<table id=\"T_8706e\" class=\"dataframe\">\n",
              "  <thead>\n",
              "    <tr>\n",
              "      <th class=\"index_name level0\" >Evaluator2</th>\n",
              "      <th id=\"T_8706e_level0_col0\" class=\"col_heading level0 col0\" >Contradiction</th>\n",
              "      <th id=\"T_8706e_level0_col1\" class=\"col_heading level0 col1\" >Entailment</th>\n",
              "      <th id=\"T_8706e_level0_col2\" class=\"col_heading level0 col2\" >Neutral</th>\n",
              "      <th id=\"T_8706e_level0_col3\" class=\"col_heading level0 col3\" >missing</th>\n",
              "      <th id=\"T_8706e_level0_col4\" class=\"col_heading level0 col4\" >All</th>\n",
              "    </tr>\n",
              "    <tr>\n",
              "      <th class=\"index_name level0\" >Evaluator1</th>\n",
              "      <th class=\"blank col0\" >&nbsp;</th>\n",
              "      <th class=\"blank col1\" >&nbsp;</th>\n",
              "      <th class=\"blank col2\" >&nbsp;</th>\n",
              "      <th class=\"blank col3\" >&nbsp;</th>\n",
              "      <th class=\"blank col4\" >&nbsp;</th>\n",
              "    </tr>\n",
              "  </thead>\n",
              "  <tbody>\n",
              "    <tr>\n",
              "      <th id=\"T_8706e_level0_row0\" class=\"row_heading level0 row0\" >Contradiction</th>\n",
              "      <td id=\"T_8706e_row0_col0\" class=\"data row0 col0\" >158</td>\n",
              "      <td id=\"T_8706e_row0_col1\" class=\"data row0 col1\" >17</td>\n",
              "      <td id=\"T_8706e_row0_col2\" class=\"data row0 col2\" >17</td>\n",
              "      <td id=\"T_8706e_row0_col3\" class=\"data row0 col3\" >5</td>\n",
              "      <td id=\"T_8706e_row0_col4\" class=\"data row0 col4\" >197</td>\n",
              "    </tr>\n",
              "    <tr>\n",
              "      <th id=\"T_8706e_level0_row1\" class=\"row_heading level0 row1\" >Entailment</th>\n",
              "      <td id=\"T_8706e_row1_col0\" class=\"data row1 col0\" >18</td>\n",
              "      <td id=\"T_8706e_row1_col1\" class=\"data row1 col1\" >269</td>\n",
              "      <td id=\"T_8706e_row1_col2\" class=\"data row1 col2\" >26</td>\n",
              "      <td id=\"T_8706e_row1_col3\" class=\"data row1 col3\" >3</td>\n",
              "      <td id=\"T_8706e_row1_col4\" class=\"data row1 col4\" >316</td>\n",
              "    </tr>\n",
              "    <tr>\n",
              "      <th id=\"T_8706e_level0_row2\" class=\"row_heading level0 row2\" >Neutral</th>\n",
              "      <td id=\"T_8706e_row2_col0\" class=\"data row2 col0\" >131</td>\n",
              "      <td id=\"T_8706e_row2_col1\" class=\"data row2 col1\" >61</td>\n",
              "      <td id=\"T_8706e_row2_col2\" class=\"data row2 col2\" >173</td>\n",
              "      <td id=\"T_8706e_row2_col3\" class=\"data row2 col3\" >7</td>\n",
              "      <td id=\"T_8706e_row2_col4\" class=\"data row2 col4\" >372</td>\n",
              "    </tr>\n",
              "    <tr>\n",
              "      <th id=\"T_8706e_level0_row3\" class=\"row_heading level0 row3\" >missing</th>\n",
              "      <td id=\"T_8706e_row3_col0\" class=\"data row3 col0\" >5</td>\n",
              "      <td id=\"T_8706e_row3_col1\" class=\"data row3 col1\" >7</td>\n",
              "      <td id=\"T_8706e_row3_col2\" class=\"data row3 col2\" >3</td>\n",
              "      <td id=\"T_8706e_row3_col3\" class=\"data row3 col3\" >0</td>\n",
              "      <td id=\"T_8706e_row3_col4\" class=\"data row3 col4\" >15</td>\n",
              "    </tr>\n",
              "    <tr>\n",
              "      <th id=\"T_8706e_level0_row4\" class=\"row_heading level0 row4\" >All</th>\n",
              "      <td id=\"T_8706e_row4_col0\" class=\"data row4 col0\" >312</td>\n",
              "      <td id=\"T_8706e_row4_col1\" class=\"data row4 col1\" >354</td>\n",
              "      <td id=\"T_8706e_row4_col2\" class=\"data row4 col2\" >219</td>\n",
              "      <td id=\"T_8706e_row4_col3\" class=\"data row4 col3\" >15</td>\n",
              "      <td id=\"T_8706e_row4_col4\" class=\"data row4 col4\" >900</td>\n",
              "    </tr>\n",
              "  </tbody>\n",
              "</table>\n"
            ]
          },
          "metadata": {}
        }
      ]
    },
    {
      "cell_type": "markdown",
      "source": [
        "Computing Cohen's Kappa without adressing missing data leads to err"
      ],
      "metadata": {
        "id": "uY8vgrD8pwdo"
      }
    },
    {
      "cell_type": "code",
      "source": [
        "#from sklearn.metrics import cohen_kappa_score\n",
        "#Rater_1_missing = Aggregated_Missing['Evaluator1']\n",
        "#Rater_2_missing = Aggregated_Missing['Evaluator2']\n",
        "#cohen_kappa_score(Rater_1_missing, Rater_2_missing)"
      ],
      "metadata": {
        "id": "KSsJK2wyqFW2"
      },
      "execution_count": 20,
      "outputs": []
    },
    {
      "cell_type": "markdown",
      "source": [
        "Replacing Missing data with category \"missing\" leads to treating Missing values as categories. This just one of the existing approaches. Read more here: https://www.ncbi.nlm.nih.gov/pmc/articles/PMC6506991/"
      ],
      "metadata": {
        "id": "RvhG_3AQd29r"
      }
    },
    {
      "cell_type": "code",
      "source": [
        "from sklearn.metrics import cohen_kappa_score\n",
        "Rater_1_missing = Aggregated_Missing['Evaluator1'].fillna('missing')\n",
        "Rater_2_missing = Aggregated_Missing['Evaluator2'].fillna('missing')\n",
        "cohen_kappa_score(Rater_1_missing, Rater_2_missing)"
      ],
      "metadata": {
        "colab": {
          "base_uri": "https://localhost:8080/"
        },
        "id": "wjIH82E5oAoJ",
        "outputId": "cbe3ce39-8ce9-45a4-ab65-70939207df36"
      },
      "execution_count": 21,
      "outputs": [
        {
          "output_type": "execute_result",
          "data": {
            "text/plain": [
              "0.5134951052201975"
            ]
          },
          "metadata": {},
          "execution_count": 21
        }
      ]
    },
    {
      "cell_type": "markdown",
      "source": [
        "#### Weighted Cohen's Kappa 🏋"
      ],
      "metadata": {
        "id": "gMFR8iMJb9ci"
      }
    },
    {
      "cell_type": "markdown",
      "source": [
        "There are two options for weighting Kappa in sklearn: linear and quadratic. Read more here: https://stats.stackexchange.com/questions/59798/quadratic-weighted-kappa-versus-linear-weighted-kappa\n",
        "\n",
        "Other weighting schemes can be accesed via other packages.For instance, https://pypi.org/project/agreement/"
      ],
      "metadata": {
        "id": "ox-5xPbudIFR"
      }
    },
    {
      "cell_type": "code",
      "source": [
        "Agreement_table = pd.crosstab(Aggregated['Evaluator1'],\n",
        "                          Aggregated['Evaluator2'],\n",
        "                          margins = True)\n"
      ],
      "metadata": {
        "id": "ADwozXZHhMGt"
      },
      "execution_count": 22,
      "outputs": []
    },
    {
      "cell_type": "code",
      "source": [
        "from sklearn.metrics import cohen_kappa_score\n",
        "Rater_1 = Aggregated['Evaluator1']\n",
        "Rater_2 = Aggregated['Evaluator2']\n",
        "cohen_kappa_score(Rater_1, Rater_2, weights='quadratic')"
      ],
      "metadata": {
        "colab": {
          "base_uri": "https://localhost:8080/"
        },
        "id": "XSufz3OWdfbd",
        "outputId": "f235c6c1-87c1-41b4-f932-58b8e1d1b96b"
      },
      "execution_count": 23,
      "outputs": [
        {
          "output_type": "execute_result",
          "data": {
            "text/plain": [
              "0.35567010309278346"
            ]
          },
          "metadata": {},
          "execution_count": 23
        }
      ]
    },
    {
      "cell_type": "code",
      "source": [
        "Rater_1 = Aggregated['Evaluator1']\n",
        "Rater_2 = Aggregated['Evaluator2']\n",
        "cohen_kappa_score(Rater_1, Rater_2, weights='linear')"
      ],
      "metadata": {
        "colab": {
          "base_uri": "https://localhost:8080/"
        },
        "id": "vFOlNZeudHfr",
        "outputId": "a9db9830-1c04-446e-afbe-8dcc0ce54469"
      },
      "execution_count": 24,
      "outputs": [
        {
          "output_type": "execute_result",
          "data": {
            "text/plain": [
              "0.4468805638921157"
            ]
          },
          "metadata": {},
          "execution_count": 24
        }
      ]
    },
    {
      "cell_type": "markdown",
      "source": [
        "##### Weighted Cohen's Kappa quadratic by hand 🤚"
      ],
      "metadata": {
        "id": "Gj1JCeaLaYXN"
      }
    },
    {
      "cell_type": "markdown",
      "source": [
        "**Get observed frequencies**"
      ],
      "metadata": {
        "id": "MoO13Tqvqzzl"
      }
    },
    {
      "cell_type": "code",
      "source": [
        "observed_frequencies = Agreement_table.iloc[:-1, :-1]\n",
        "observed_frequencies_display=observed_frequencies/900\n",
        "\n",
        "display(observed_frequencies_display.style.set_table_styles([{\n",
        "    'selector': 'th',\n",
        "    'props': [('background-color', 'lightgrey')]\n",
        "}]))"
      ],
      "metadata": {
        "colab": {
          "base_uri": "https://localhost:8080/",
          "height": 0
        },
        "id": "I1gxtBvvq42Q",
        "outputId": "1b267f80-d5c6-47eb-893d-ad41626aab51"
      },
      "execution_count": 25,
      "outputs": [
        {
          "output_type": "display_data",
          "data": {
            "text/plain": [
              "<pandas.io.formats.style.Styler at 0x7958188c21d0>"
            ],
            "text/html": [
              "<style type=\"text/css\">\n",
              "#T_020ee th {\n",
              "  background-color: lightgrey;\n",
              "}\n",
              "</style>\n",
              "<table id=\"T_020ee\" class=\"dataframe\">\n",
              "  <thead>\n",
              "    <tr>\n",
              "      <th class=\"index_name level0\" >Evaluator2</th>\n",
              "      <th id=\"T_020ee_level0_col0\" class=\"col_heading level0 col0\" >Contradiction</th>\n",
              "      <th id=\"T_020ee_level0_col1\" class=\"col_heading level0 col1\" >Entailment</th>\n",
              "      <th id=\"T_020ee_level0_col2\" class=\"col_heading level0 col2\" >Neutral</th>\n",
              "    </tr>\n",
              "    <tr>\n",
              "      <th class=\"index_name level0\" >Evaluator1</th>\n",
              "      <th class=\"blank col0\" >&nbsp;</th>\n",
              "      <th class=\"blank col1\" >&nbsp;</th>\n",
              "      <th class=\"blank col2\" >&nbsp;</th>\n",
              "    </tr>\n",
              "  </thead>\n",
              "  <tbody>\n",
              "    <tr>\n",
              "      <th id=\"T_020ee_level0_row0\" class=\"row_heading level0 row0\" >Contradiction</th>\n",
              "      <td id=\"T_020ee_row0_col0\" class=\"data row0 col0\" >0.184444</td>\n",
              "      <td id=\"T_020ee_row0_col1\" class=\"data row0 col1\" >0.020000</td>\n",
              "      <td id=\"T_020ee_row0_col2\" class=\"data row0 col2\" >0.020000</td>\n",
              "    </tr>\n",
              "    <tr>\n",
              "      <th id=\"T_020ee_level0_row1\" class=\"row_heading level0 row1\" >Entailment</th>\n",
              "      <td id=\"T_020ee_row1_col0\" class=\"data row1 col0\" >0.021111</td>\n",
              "      <td id=\"T_020ee_row1_col1\" class=\"data row1 col1\" >0.306667</td>\n",
              "      <td id=\"T_020ee_row1_col2\" class=\"data row1 col2\" >0.033333</td>\n",
              "    </tr>\n",
              "    <tr>\n",
              "      <th id=\"T_020ee_level0_row2\" class=\"row_heading level0 row2\" >Neutral</th>\n",
              "      <td id=\"T_020ee_row2_col0\" class=\"data row2 col0\" >0.151111</td>\n",
              "      <td id=\"T_020ee_row2_col1\" class=\"data row2 col1\" >0.068889</td>\n",
              "      <td id=\"T_020ee_row2_col2\" class=\"data row2 col2\" >0.194444</td>\n",
              "    </tr>\n",
              "  </tbody>\n",
              "</table>\n"
            ]
          },
          "metadata": {}
        }
      ]
    },
    {
      "cell_type": "markdown",
      "source": [
        "**Compute expected frequencies**"
      ],
      "metadata": {
        "id": "0BB2grHsakS6"
      }
    },
    {
      "cell_type": "code",
      "source": [
        "Agreement_relative = Agreement_table/900\n",
        "Agreement_relative"
      ],
      "metadata": {
        "colab": {
          "base_uri": "https://localhost:8080/",
          "height": 0
        },
        "id": "h0W0R19aq8Eg",
        "outputId": "474db594-3590-4d0d-826a-93295e70099e"
      },
      "execution_count": 26,
      "outputs": [
        {
          "output_type": "execute_result",
          "data": {
            "text/plain": [
              "Evaluator2     Contradiction  Entailment   Neutral       All\n",
              "Evaluator1                                                  \n",
              "Contradiction       0.184444    0.020000  0.020000  0.224444\n",
              "Entailment          0.021111    0.306667  0.033333  0.361111\n",
              "Neutral             0.151111    0.068889  0.194444  0.414444\n",
              "All                 0.356667    0.395556  0.247778  1.000000"
            ],
            "text/html": [
              "\n",
              "  <div id=\"df-65b1e608-ede4-45e9-a95e-3f0485ad9208\" class=\"colab-df-container\">\n",
              "    <div>\n",
              "<style scoped>\n",
              "    .dataframe tbody tr th:only-of-type {\n",
              "        vertical-align: middle;\n",
              "    }\n",
              "\n",
              "    .dataframe tbody tr th {\n",
              "        vertical-align: top;\n",
              "    }\n",
              "\n",
              "    .dataframe thead th {\n",
              "        text-align: right;\n",
              "    }\n",
              "</style>\n",
              "<table border=\"1\" class=\"dataframe\">\n",
              "  <thead>\n",
              "    <tr style=\"text-align: right;\">\n",
              "      <th>Evaluator2</th>\n",
              "      <th>Contradiction</th>\n",
              "      <th>Entailment</th>\n",
              "      <th>Neutral</th>\n",
              "      <th>All</th>\n",
              "    </tr>\n",
              "    <tr>\n",
              "      <th>Evaluator1</th>\n",
              "      <th></th>\n",
              "      <th></th>\n",
              "      <th></th>\n",
              "      <th></th>\n",
              "    </tr>\n",
              "  </thead>\n",
              "  <tbody>\n",
              "    <tr>\n",
              "      <th>Contradiction</th>\n",
              "      <td>0.184444</td>\n",
              "      <td>0.020000</td>\n",
              "      <td>0.020000</td>\n",
              "      <td>0.224444</td>\n",
              "    </tr>\n",
              "    <tr>\n",
              "      <th>Entailment</th>\n",
              "      <td>0.021111</td>\n",
              "      <td>0.306667</td>\n",
              "      <td>0.033333</td>\n",
              "      <td>0.361111</td>\n",
              "    </tr>\n",
              "    <tr>\n",
              "      <th>Neutral</th>\n",
              "      <td>0.151111</td>\n",
              "      <td>0.068889</td>\n",
              "      <td>0.194444</td>\n",
              "      <td>0.414444</td>\n",
              "    </tr>\n",
              "    <tr>\n",
              "      <th>All</th>\n",
              "      <td>0.356667</td>\n",
              "      <td>0.395556</td>\n",
              "      <td>0.247778</td>\n",
              "      <td>1.000000</td>\n",
              "    </tr>\n",
              "  </tbody>\n",
              "</table>\n",
              "</div>\n",
              "    <div class=\"colab-df-buttons\">\n",
              "\n",
              "  <div class=\"colab-df-container\">\n",
              "    <button class=\"colab-df-convert\" onclick=\"convertToInteractive('df-65b1e608-ede4-45e9-a95e-3f0485ad9208')\"\n",
              "            title=\"Convert this dataframe to an interactive table.\"\n",
              "            style=\"display:none;\">\n",
              "\n",
              "  <svg xmlns=\"http://www.w3.org/2000/svg\" height=\"24px\" viewBox=\"0 -960 960 960\">\n",
              "    <path d=\"M120-120v-720h720v720H120Zm60-500h600v-160H180v160Zm220 220h160v-160H400v160Zm0 220h160v-160H400v160ZM180-400h160v-160H180v160Zm440 0h160v-160H620v160ZM180-180h160v-160H180v160Zm440 0h160v-160H620v160Z\"/>\n",
              "  </svg>\n",
              "    </button>\n",
              "\n",
              "  <style>\n",
              "    .colab-df-container {\n",
              "      display:flex;\n",
              "      gap: 12px;\n",
              "    }\n",
              "\n",
              "    .colab-df-convert {\n",
              "      background-color: #E8F0FE;\n",
              "      border: none;\n",
              "      border-radius: 50%;\n",
              "      cursor: pointer;\n",
              "      display: none;\n",
              "      fill: #1967D2;\n",
              "      height: 32px;\n",
              "      padding: 0 0 0 0;\n",
              "      width: 32px;\n",
              "    }\n",
              "\n",
              "    .colab-df-convert:hover {\n",
              "      background-color: #E2EBFA;\n",
              "      box-shadow: 0px 1px 2px rgba(60, 64, 67, 0.3), 0px 1px 3px 1px rgba(60, 64, 67, 0.15);\n",
              "      fill: #174EA6;\n",
              "    }\n",
              "\n",
              "    .colab-df-buttons div {\n",
              "      margin-bottom: 4px;\n",
              "    }\n",
              "\n",
              "    [theme=dark] .colab-df-convert {\n",
              "      background-color: #3B4455;\n",
              "      fill: #D2E3FC;\n",
              "    }\n",
              "\n",
              "    [theme=dark] .colab-df-convert:hover {\n",
              "      background-color: #434B5C;\n",
              "      box-shadow: 0px 1px 3px 1px rgba(0, 0, 0, 0.15);\n",
              "      filter: drop-shadow(0px 1px 2px rgba(0, 0, 0, 0.3));\n",
              "      fill: #FFFFFF;\n",
              "    }\n",
              "  </style>\n",
              "\n",
              "    <script>\n",
              "      const buttonEl =\n",
              "        document.querySelector('#df-65b1e608-ede4-45e9-a95e-3f0485ad9208 button.colab-df-convert');\n",
              "      buttonEl.style.display =\n",
              "        google.colab.kernel.accessAllowed ? 'block' : 'none';\n",
              "\n",
              "      async function convertToInteractive(key) {\n",
              "        const element = document.querySelector('#df-65b1e608-ede4-45e9-a95e-3f0485ad9208');\n",
              "        const dataTable =\n",
              "          await google.colab.kernel.invokeFunction('convertToInteractive',\n",
              "                                                    [key], {});\n",
              "        if (!dataTable) return;\n",
              "\n",
              "        const docLinkHtml = 'Like what you see? Visit the ' +\n",
              "          '<a target=\"_blank\" href=https://colab.research.google.com/notebooks/data_table.ipynb>data table notebook</a>'\n",
              "          + ' to learn more about interactive tables.';\n",
              "        element.innerHTML = '';\n",
              "        dataTable['output_type'] = 'display_data';\n",
              "        await google.colab.output.renderOutput(dataTable, element);\n",
              "        const docLink = document.createElement('div');\n",
              "        docLink.innerHTML = docLinkHtml;\n",
              "        element.appendChild(docLink);\n",
              "      }\n",
              "    </script>\n",
              "  </div>\n",
              "\n",
              "\n",
              "<div id=\"df-4f2973e5-2a1a-489f-89f6-3e7f53d11d75\">\n",
              "  <button class=\"colab-df-quickchart\" onclick=\"quickchart('df-4f2973e5-2a1a-489f-89f6-3e7f53d11d75')\"\n",
              "            title=\"Suggest charts\"\n",
              "            style=\"display:none;\">\n",
              "\n",
              "<svg xmlns=\"http://www.w3.org/2000/svg\" height=\"24px\"viewBox=\"0 0 24 24\"\n",
              "     width=\"24px\">\n",
              "    <g>\n",
              "        <path d=\"M19 3H5c-1.1 0-2 .9-2 2v14c0 1.1.9 2 2 2h14c1.1 0 2-.9 2-2V5c0-1.1-.9-2-2-2zM9 17H7v-7h2v7zm4 0h-2V7h2v10zm4 0h-2v-4h2v4z\"/>\n",
              "    </g>\n",
              "</svg>\n",
              "  </button>\n",
              "\n",
              "<style>\n",
              "  .colab-df-quickchart {\n",
              "      --bg-color: #E8F0FE;\n",
              "      --fill-color: #1967D2;\n",
              "      --hover-bg-color: #E2EBFA;\n",
              "      --hover-fill-color: #174EA6;\n",
              "      --disabled-fill-color: #AAA;\n",
              "      --disabled-bg-color: #DDD;\n",
              "  }\n",
              "\n",
              "  [theme=dark] .colab-df-quickchart {\n",
              "      --bg-color: #3B4455;\n",
              "      --fill-color: #D2E3FC;\n",
              "      --hover-bg-color: #434B5C;\n",
              "      --hover-fill-color: #FFFFFF;\n",
              "      --disabled-bg-color: #3B4455;\n",
              "      --disabled-fill-color: #666;\n",
              "  }\n",
              "\n",
              "  .colab-df-quickchart {\n",
              "    background-color: var(--bg-color);\n",
              "    border: none;\n",
              "    border-radius: 50%;\n",
              "    cursor: pointer;\n",
              "    display: none;\n",
              "    fill: var(--fill-color);\n",
              "    height: 32px;\n",
              "    padding: 0;\n",
              "    width: 32px;\n",
              "  }\n",
              "\n",
              "  .colab-df-quickchart:hover {\n",
              "    background-color: var(--hover-bg-color);\n",
              "    box-shadow: 0 1px 2px rgba(60, 64, 67, 0.3), 0 1px 3px 1px rgba(60, 64, 67, 0.15);\n",
              "    fill: var(--button-hover-fill-color);\n",
              "  }\n",
              "\n",
              "  .colab-df-quickchart-complete:disabled,\n",
              "  .colab-df-quickchart-complete:disabled:hover {\n",
              "    background-color: var(--disabled-bg-color);\n",
              "    fill: var(--disabled-fill-color);\n",
              "    box-shadow: none;\n",
              "  }\n",
              "\n",
              "  .colab-df-spinner {\n",
              "    border: 2px solid var(--fill-color);\n",
              "    border-color: transparent;\n",
              "    border-bottom-color: var(--fill-color);\n",
              "    animation:\n",
              "      spin 1s steps(1) infinite;\n",
              "  }\n",
              "\n",
              "  @keyframes spin {\n",
              "    0% {\n",
              "      border-color: transparent;\n",
              "      border-bottom-color: var(--fill-color);\n",
              "      border-left-color: var(--fill-color);\n",
              "    }\n",
              "    20% {\n",
              "      border-color: transparent;\n",
              "      border-left-color: var(--fill-color);\n",
              "      border-top-color: var(--fill-color);\n",
              "    }\n",
              "    30% {\n",
              "      border-color: transparent;\n",
              "      border-left-color: var(--fill-color);\n",
              "      border-top-color: var(--fill-color);\n",
              "      border-right-color: var(--fill-color);\n",
              "    }\n",
              "    40% {\n",
              "      border-color: transparent;\n",
              "      border-right-color: var(--fill-color);\n",
              "      border-top-color: var(--fill-color);\n",
              "    }\n",
              "    60% {\n",
              "      border-color: transparent;\n",
              "      border-right-color: var(--fill-color);\n",
              "    }\n",
              "    80% {\n",
              "      border-color: transparent;\n",
              "      border-right-color: var(--fill-color);\n",
              "      border-bottom-color: var(--fill-color);\n",
              "    }\n",
              "    90% {\n",
              "      border-color: transparent;\n",
              "      border-bottom-color: var(--fill-color);\n",
              "    }\n",
              "  }\n",
              "</style>\n",
              "\n",
              "  <script>\n",
              "    async function quickchart(key) {\n",
              "      const quickchartButtonEl =\n",
              "        document.querySelector('#' + key + ' button');\n",
              "      quickchartButtonEl.disabled = true;  // To prevent multiple clicks.\n",
              "      quickchartButtonEl.classList.add('colab-df-spinner');\n",
              "      try {\n",
              "        const charts = await google.colab.kernel.invokeFunction(\n",
              "            'suggestCharts', [key], {});\n",
              "      } catch (error) {\n",
              "        console.error('Error during call to suggestCharts:', error);\n",
              "      }\n",
              "      quickchartButtonEl.classList.remove('colab-df-spinner');\n",
              "      quickchartButtonEl.classList.add('colab-df-quickchart-complete');\n",
              "    }\n",
              "    (() => {\n",
              "      let quickchartButtonEl =\n",
              "        document.querySelector('#df-4f2973e5-2a1a-489f-89f6-3e7f53d11d75 button');\n",
              "      quickchartButtonEl.style.display =\n",
              "        google.colab.kernel.accessAllowed ? 'block' : 'none';\n",
              "    })();\n",
              "  </script>\n",
              "</div>\n",
              "\n",
              "  <div id=\"id_f364493b-a30b-4570-91e1-658be60ac69c\">\n",
              "    <style>\n",
              "      .colab-df-generate {\n",
              "        background-color: #E8F0FE;\n",
              "        border: none;\n",
              "        border-radius: 50%;\n",
              "        cursor: pointer;\n",
              "        display: none;\n",
              "        fill: #1967D2;\n",
              "        height: 32px;\n",
              "        padding: 0 0 0 0;\n",
              "        width: 32px;\n",
              "      }\n",
              "\n",
              "      .colab-df-generate:hover {\n",
              "        background-color: #E2EBFA;\n",
              "        box-shadow: 0px 1px 2px rgba(60, 64, 67, 0.3), 0px 1px 3px 1px rgba(60, 64, 67, 0.15);\n",
              "        fill: #174EA6;\n",
              "      }\n",
              "\n",
              "      [theme=dark] .colab-df-generate {\n",
              "        background-color: #3B4455;\n",
              "        fill: #D2E3FC;\n",
              "      }\n",
              "\n",
              "      [theme=dark] .colab-df-generate:hover {\n",
              "        background-color: #434B5C;\n",
              "        box-shadow: 0px 1px 3px 1px rgba(0, 0, 0, 0.15);\n",
              "        filter: drop-shadow(0px 1px 2px rgba(0, 0, 0, 0.3));\n",
              "        fill: #FFFFFF;\n",
              "      }\n",
              "    </style>\n",
              "    <button class=\"colab-df-generate\" onclick=\"generateWithVariable('Agreement_relative')\"\n",
              "            title=\"Generate code using this dataframe.\"\n",
              "            style=\"display:none;\">\n",
              "\n",
              "  <svg xmlns=\"http://www.w3.org/2000/svg\" height=\"24px\"viewBox=\"0 0 24 24\"\n",
              "       width=\"24px\">\n",
              "    <path d=\"M7,19H8.4L18.45,9,17,7.55,7,17.6ZM5,21V16.75L18.45,3.32a2,2,0,0,1,2.83,0l1.4,1.43a1.91,1.91,0,0,1,.58,1.4,1.91,1.91,0,0,1-.58,1.4L9.25,21ZM18.45,9,17,7.55Zm-12,3A5.31,5.31,0,0,0,4.9,8.1,5.31,5.31,0,0,0,1,6.5,5.31,5.31,0,0,0,4.9,4.9,5.31,5.31,0,0,0,6.5,1,5.31,5.31,0,0,0,8.1,4.9,5.31,5.31,0,0,0,12,6.5,5.46,5.46,0,0,0,6.5,12Z\"/>\n",
              "  </svg>\n",
              "    </button>\n",
              "    <script>\n",
              "      (() => {\n",
              "      const buttonEl =\n",
              "        document.querySelector('#id_f364493b-a30b-4570-91e1-658be60ac69c button.colab-df-generate');\n",
              "      buttonEl.style.display =\n",
              "        google.colab.kernel.accessAllowed ? 'block' : 'none';\n",
              "\n",
              "      buttonEl.onclick = () => {\n",
              "        google.colab.notebook.generateWithVariable('Agreement_relative');\n",
              "      }\n",
              "      })();\n",
              "    </script>\n",
              "  </div>\n",
              "\n",
              "    </div>\n",
              "  </div>\n"
            ],
            "application/vnd.google.colaboratory.intrinsic+json": {
              "type": "dataframe",
              "variable_name": "Agreement_relative",
              "summary": "{\n  \"name\": \"Agreement_relative\",\n  \"rows\": 4,\n  \"fields\": [\n    {\n      \"column\": \"Evaluator1\",\n      \"properties\": {\n        \"dtype\": \"string\",\n        \"num_unique_values\": 4,\n        \"samples\": [\n          \"Entailment\",\n          \"All\",\n          \"Contradiction\"\n        ],\n        \"semantic_type\": \"\",\n        \"description\": \"\"\n      }\n    },\n    {\n      \"column\": \"Contradiction\",\n      \"properties\": {\n        \"dtype\": \"number\",\n        \"std\": 0.13820274961085255,\n        \"min\": 0.021111111111111112,\n        \"max\": 0.3566666666666667,\n        \"num_unique_values\": 4,\n        \"samples\": [\n          0.021111111111111112,\n          0.3566666666666667,\n          0.18444444444444444\n        ],\n        \"semantic_type\": \"\",\n        \"description\": \"\"\n      }\n    },\n    {\n      \"column\": \"Entailment\",\n      \"properties\": {\n        \"dtype\": \"number\",\n        \"std\": 0.18183337011010028,\n        \"min\": 0.02,\n        \"max\": 0.39555555555555555,\n        \"num_unique_values\": 4,\n        \"samples\": [\n          0.30666666666666664,\n          0.39555555555555555,\n          0.02\n        ],\n        \"semantic_type\": \"\",\n        \"description\": \"\"\n      }\n    },\n    {\n      \"column\": \"Neutral\",\n      \"properties\": {\n        \"dtype\": \"number\",\n        \"std\": 0.11448399172871253,\n        \"min\": 0.02,\n        \"max\": 0.2477777777777778,\n        \"num_unique_values\": 4,\n        \"samples\": [\n          0.03333333333333333,\n          0.2477777777777778,\n          0.02\n        ],\n        \"semantic_type\": \"\",\n        \"description\": \"\"\n      }\n    },\n    {\n      \"column\": \"All\",\n      \"properties\": {\n        \"dtype\": \"number\",\n        \"std\": 0.34280253827373214,\n        \"min\": 0.22444444444444445,\n        \"max\": 1.0,\n        \"num_unique_values\": 4,\n        \"samples\": [\n          0.3611111111111111,\n          1.0,\n          0.22444444444444445\n        ],\n        \"semantic_type\": \"\",\n        \"description\": \"\"\n      }\n    }\n  ]\n}"
            }
          },
          "metadata": {},
          "execution_count": 26
        }
      ]
    },
    {
      "cell_type": "code",
      "source": [
        "# Remove the last row and column for calculations\n",
        "observed = Agreement_relative.iloc[:-1, :-1]\n",
        "\n",
        "# Extract row totals and column totals\n",
        "row_totals = Agreement_relative['All'][:-1]\n",
        "col_totals = Agreement_relative.loc['All'][:-1]\n",
        "grand_total = Agreement_relative.loc['All', 'All']\n",
        "\n",
        "# Initialize the expected frequencies DataFrame\n",
        "expected_frequencies = pd.DataFrame(index=observed.index, columns=observed.columns)\n",
        "\n",
        "# Calculate the expected frequencies\n",
        "for row in observed.index:\n",
        "    for col in observed.columns:\n",
        "        expected_frequencies.loc[row, col] = (row_totals[row] * col_totals[col]) / grand_total\n",
        "\n",
        "expected_frequencies\n",
        "\n",
        "display(expected_frequencies.style.set_table_styles([{\n",
        "    'selector': 'th',\n",
        "    'props': [('background-color', 'lightgrey')]\n",
        "}]))"
      ],
      "metadata": {
        "colab": {
          "base_uri": "https://localhost:8080/",
          "height": 0
        },
        "id": "SFJ_9DB_p6Jv",
        "outputId": "dc5e1a4e-d48e-4630-9896-b7bcabfb835b"
      },
      "execution_count": 27,
      "outputs": [
        {
          "output_type": "display_data",
          "data": {
            "text/plain": [
              "<pandas.io.formats.style.Styler at 0x795818543490>"
            ],
            "text/html": [
              "<style type=\"text/css\">\n",
              "#T_2f692 th {\n",
              "  background-color: lightgrey;\n",
              "}\n",
              "</style>\n",
              "<table id=\"T_2f692\" class=\"dataframe\">\n",
              "  <thead>\n",
              "    <tr>\n",
              "      <th class=\"index_name level0\" >Evaluator2</th>\n",
              "      <th id=\"T_2f692_level0_col0\" class=\"col_heading level0 col0\" >Contradiction</th>\n",
              "      <th id=\"T_2f692_level0_col1\" class=\"col_heading level0 col1\" >Entailment</th>\n",
              "      <th id=\"T_2f692_level0_col2\" class=\"col_heading level0 col2\" >Neutral</th>\n",
              "    </tr>\n",
              "    <tr>\n",
              "      <th class=\"index_name level0\" >Evaluator1</th>\n",
              "      <th class=\"blank col0\" >&nbsp;</th>\n",
              "      <th class=\"blank col1\" >&nbsp;</th>\n",
              "      <th class=\"blank col2\" >&nbsp;</th>\n",
              "    </tr>\n",
              "  </thead>\n",
              "  <tbody>\n",
              "    <tr>\n",
              "      <th id=\"T_2f692_level0_row0\" class=\"row_heading level0 row0\" >Contradiction</th>\n",
              "      <td id=\"T_2f692_row0_col0\" class=\"data row0 col0\" >0.080052</td>\n",
              "      <td id=\"T_2f692_row0_col1\" class=\"data row0 col1\" >0.088780</td>\n",
              "      <td id=\"T_2f692_row0_col2\" class=\"data row0 col2\" >0.055612</td>\n",
              "    </tr>\n",
              "    <tr>\n",
              "      <th id=\"T_2f692_level0_row1\" class=\"row_heading level0 row1\" >Entailment</th>\n",
              "      <td id=\"T_2f692_row1_col0\" class=\"data row1 col0\" >0.128796</td>\n",
              "      <td id=\"T_2f692_row1_col1\" class=\"data row1 col1\" >0.142840</td>\n",
              "      <td id=\"T_2f692_row1_col2\" class=\"data row1 col2\" >0.089475</td>\n",
              "    </tr>\n",
              "    <tr>\n",
              "      <th id=\"T_2f692_level0_row2\" class=\"row_heading level0 row2\" >Neutral</th>\n",
              "      <td id=\"T_2f692_row2_col0\" class=\"data row2 col0\" >0.147819</td>\n",
              "      <td id=\"T_2f692_row2_col1\" class=\"data row2 col1\" >0.163936</td>\n",
              "      <td id=\"T_2f692_row2_col2\" class=\"data row2 col2\" >0.102690</td>\n",
              "    </tr>\n",
              "  </tbody>\n",
              "</table>\n"
            ]
          },
          "metadata": {}
        }
      ]
    },
    {
      "cell_type": "markdown",
      "source": [
        "**Create the weights matrix**"
      ],
      "metadata": {
        "id": "7QDe4GMCamu-"
      }
    },
    {
      "cell_type": "code",
      "source": [
        "weights = np.array([\n",
        "    [1, 0.75, 0],\n",
        "    [0.75, 1, 0.75],\n",
        "    [0, 0.75, 1]\n",
        "])\n"
      ],
      "metadata": {
        "id": "7EI6WtDpasUC"
      },
      "execution_count": 28,
      "outputs": []
    },
    {
      "cell_type": "markdown",
      "source": [
        "**Compute weighted observed agreement**\n",
        "Notice that now all the numbers in matrix are summed instead of diagonal. This is due to that of turning the Agreement/Disagreement matrix into an Agreement Matrix (where the values range from Full Agreement to No agreement, rather than to Dissagreement)"
      ],
      "metadata": {
        "id": "khNYyAgca427"
      }
    },
    {
      "cell_type": "code",
      "source": [
        "Chance_Agreement = expected_frequencies * weights\n",
        "Chance_Agreement = Chance_Agreement.to_numpy().sum()\n",
        "Chance_Agreement\n"
      ],
      "metadata": {
        "colab": {
          "base_uri": "https://localhost:8080/"
        },
        "id": "vOxFyqeYa4N-",
        "outputId": "8d6b9e22-89bb-454c-a5e1-ff2dea003749"
      },
      "execution_count": 29,
      "outputs": [
        {
          "output_type": "execute_result",
          "data": {
            "text/plain": [
              "0.6788222222222222"
            ]
          },
          "metadata": {},
          "execution_count": 29
        }
      ]
    },
    {
      "cell_type": "markdown",
      "source": [
        "**Compute weighted chance agreement**"
      ],
      "metadata": {
        "id": "tFLebV9Hfv4S"
      }
    },
    {
      "cell_type": "code",
      "source": [
        "Observed_Agreement = observed_frequencies/900 * weights\n",
        "Observed_Agreement = Observed_Agreement.to_numpy().sum()\n",
        "Observed_Agreement"
      ],
      "metadata": {
        "colab": {
          "base_uri": "https://localhost:8080/"
        },
        "id": "6VOarX6rsN_W",
        "outputId": "3b67e057-4bee-4c8c-859f-733b33400116"
      },
      "execution_count": 30,
      "outputs": [
        {
          "output_type": "execute_result",
          "data": {
            "text/plain": [
              "0.7930555555555555"
            ]
          },
          "metadata": {},
          "execution_count": 30
        }
      ]
    },
    {
      "cell_type": "markdown",
      "source": [
        "**Compute kappa weighted (quadratic)**"
      ],
      "metadata": {
        "id": "mdp8skytfts0"
      }
    },
    {
      "cell_type": "code",
      "source": [
        "(Observed_Agreement-Chance_Agreement)/(1-Chance_Agreement)"
      ],
      "metadata": {
        "colab": {
          "base_uri": "https://localhost:8080/"
        },
        "id": "yw5sPY9BsvSI",
        "outputId": "a028d4ad-5845-4f9d-ad8a-3d5d1fe4d7ff"
      },
      "execution_count": 31,
      "outputs": [
        {
          "output_type": "execute_result",
          "data": {
            "text/plain": [
              "0.3556701030927834"
            ]
          },
          "metadata": {},
          "execution_count": 31
        }
      ]
    },
    {
      "cell_type": "markdown",
      "source": [
        "### Scott PI"
      ],
      "metadata": {
        "id": "buSbSdHtXl0d"
      }
    },
    {
      "cell_type": "markdown",
      "source": [
        "**First turn the data into numpy long format**"
      ],
      "metadata": {
        "id": "TTX4l9iHaxA0"
      }
    },
    {
      "cell_type": "code",
      "source": [
        "Aggregated['id'] = range(1, 901)"
      ],
      "metadata": {
        "id": "SNsdVTkLaS_W"
      },
      "execution_count": 32,
      "outputs": []
    },
    {
      "cell_type": "code",
      "source": [
        "Aggregated_long_format = pd.melt(Aggregated, id_vars=['id'],\n",
        "                      value_vars=['Evaluator1', 'Evaluator2'],\n",
        "                      var_name='Rater', value_name='Answer')\n",
        "\n",
        "# Display the resulting DataFrame\n",
        "Aggregated_long_format = Aggregated_long_format.to_numpy()\n",
        "\n",
        "Aggregated_long_format"
      ],
      "metadata": {
        "colab": {
          "base_uri": "https://localhost:8080/"
        },
        "id": "FK7mwjyCaip4",
        "outputId": "df85d96d-be5a-42de-fc09-d1c3b26b92e9"
      },
      "execution_count": 33,
      "outputs": [
        {
          "output_type": "execute_result",
          "data": {
            "text/plain": [
              "array([[1, 'Evaluator1', 'Neutral'],\n",
              "       [2, 'Evaluator1', 'Neutral'],\n",
              "       [3, 'Evaluator1', 'Entailment'],\n",
              "       ...,\n",
              "       [898, 'Evaluator2', 'Entailment'],\n",
              "       [899, 'Evaluator2', 'Contradiction'],\n",
              "       [900, 'Evaluator2', 'Contradiction']], dtype=object)"
            ]
          },
          "metadata": {},
          "execution_count": 33
        }
      ]
    },
    {
      "cell_type": "markdown",
      "source": [
        "**Then turn the data into an acceptable format for package \"agreement\"** (https://pypi.org/project/agreement/).\n",
        "The output is a matrix in which rows are the evaluation objects (in this case, 900) and columns are the evaluation categories (in this case, Entailment, Contradiction, Neutral)"
      ],
      "metadata": {
        "id": "49Dt3DTva9TE"
      }
    },
    {
      "cell_type": "code",
      "source": [
        "!pip install agreement"
      ],
      "metadata": {
        "colab": {
          "base_uri": "https://localhost:8080/"
        },
        "id": "kIylWdld0D41",
        "outputId": "a04efc46-c7a1-4cf4-e36c-e49fbb664fd8"
      },
      "execution_count": 34,
      "outputs": [
        {
          "output_type": "stream",
          "name": "stdout",
          "text": [
            "Collecting agreement\n",
            "  Downloading agreement-0.1.1-py3-none-any.whl.metadata (5.7 kB)\n",
            "Requirement already satisfied: numpy>=1.20.2 in /usr/local/lib/python3.10/dist-packages (from agreement) (1.26.4)\n",
            "Downloading agreement-0.1.1-py3-none-any.whl (19 kB)\n",
            "Installing collected packages: agreement\n",
            "Successfully installed agreement-0.1.1\n"
          ]
        }
      ]
    },
    {
      "cell_type": "code",
      "source": [
        "from agreement.utils.transform import pivot_table_frequency\n",
        "\n",
        "questions_answers_table = pivot_table_frequency(Aggregated_long_format[:, 0], Aggregated_long_format[:, 2])\n",
        "#users_answers_table = pivot_table_frequency(Aggregated_long_format[:, 1], Aggregated_long_format[:, 2]) this is used for cohen's Kappa but we already used the sklearn approach.\n",
        "questions_answers_table"
      ],
      "metadata": {
        "colab": {
          "base_uri": "https://localhost:8080/"
        },
        "id": "woWCiONfa1H1",
        "outputId": "9a1c11b6-7924-47ce-a7a3-c3bb09fe3c17"
      },
      "execution_count": 35,
      "outputs": [
        {
          "output_type": "execute_result",
          "data": {
            "text/plain": [
              "array([[1., 0., 1.],\n",
              "       [0., 0., 2.],\n",
              "       [0., 2., 0.],\n",
              "       ...,\n",
              "       [0., 1., 1.],\n",
              "       [2., 0., 0.],\n",
              "       [2., 0., 0.]])"
            ]
          },
          "metadata": {},
          "execution_count": 35
        }
      ]
    },
    {
      "cell_type": "markdown",
      "source": [
        "**Then use the function \"scotts_pi\"**"
      ],
      "metadata": {
        "id": "z3fXe23NO0E3"
      }
    },
    {
      "cell_type": "code",
      "source": [
        "from agreement.metrics import scotts_pi\n",
        "scotts_pi(questions_answers_table)"
      ],
      "metadata": {
        "colab": {
          "base_uri": "https://localhost:8080/"
        },
        "id": "ULE8YUr7dEeP",
        "outputId": "680a3362-a77c-450c-dcad-dcc742a7f39a"
      },
      "execution_count": 36,
      "outputs": [
        {
          "output_type": "execute_result",
          "data": {
            "text/plain": [
              "0.5255865674129939"
            ]
          },
          "metadata": {},
          "execution_count": 36
        }
      ]
    },
    {
      "cell_type": "markdown",
      "source": [
        "#### Scott Pi done \"by hand\" 🤚"
      ],
      "metadata": {
        "id": "4WGo7OBFind6"
      }
    },
    {
      "cell_type": "markdown",
      "source": [
        "**Compute observed agreement**"
      ],
      "metadata": {
        "id": "WiRjkN_Ni1Vn"
      }
    },
    {
      "cell_type": "code",
      "source": [
        "Agreement_table = pd.crosstab(Aggregated['Evaluator1'],\n",
        "                          Aggregated['Evaluator2'],\n",
        "                          margins = True)\n",
        "\n",
        "display(Agreement_table.style.set_table_styles([{\n",
        "    'selector': 'th',\n",
        "    'props': [('background-color', 'lightgrey')]\n",
        "}]))"
      ],
      "metadata": {
        "id": "4ntmjjLYimvH",
        "colab": {
          "base_uri": "https://localhost:8080/",
          "height": 0
        },
        "outputId": "f4723e75-a7b1-475f-f1ee-fa3227a26a52"
      },
      "execution_count": 37,
      "outputs": [
        {
          "output_type": "display_data",
          "data": {
            "text/plain": [
              "<pandas.io.formats.style.Styler at 0x7958188eb430>"
            ],
            "text/html": [
              "<style type=\"text/css\">\n",
              "#T_59fcd th {\n",
              "  background-color: lightgrey;\n",
              "}\n",
              "</style>\n",
              "<table id=\"T_59fcd\" class=\"dataframe\">\n",
              "  <thead>\n",
              "    <tr>\n",
              "      <th class=\"index_name level0\" >Evaluator2</th>\n",
              "      <th id=\"T_59fcd_level0_col0\" class=\"col_heading level0 col0\" >Contradiction</th>\n",
              "      <th id=\"T_59fcd_level0_col1\" class=\"col_heading level0 col1\" >Entailment</th>\n",
              "      <th id=\"T_59fcd_level0_col2\" class=\"col_heading level0 col2\" >Neutral</th>\n",
              "      <th id=\"T_59fcd_level0_col3\" class=\"col_heading level0 col3\" >All</th>\n",
              "    </tr>\n",
              "    <tr>\n",
              "      <th class=\"index_name level0\" >Evaluator1</th>\n",
              "      <th class=\"blank col0\" >&nbsp;</th>\n",
              "      <th class=\"blank col1\" >&nbsp;</th>\n",
              "      <th class=\"blank col2\" >&nbsp;</th>\n",
              "      <th class=\"blank col3\" >&nbsp;</th>\n",
              "    </tr>\n",
              "  </thead>\n",
              "  <tbody>\n",
              "    <tr>\n",
              "      <th id=\"T_59fcd_level0_row0\" class=\"row_heading level0 row0\" >Contradiction</th>\n",
              "      <td id=\"T_59fcd_row0_col0\" class=\"data row0 col0\" >166</td>\n",
              "      <td id=\"T_59fcd_row0_col1\" class=\"data row0 col1\" >18</td>\n",
              "      <td id=\"T_59fcd_row0_col2\" class=\"data row0 col2\" >18</td>\n",
              "      <td id=\"T_59fcd_row0_col3\" class=\"data row0 col3\" >202</td>\n",
              "    </tr>\n",
              "    <tr>\n",
              "      <th id=\"T_59fcd_level0_row1\" class=\"row_heading level0 row1\" >Entailment</th>\n",
              "      <td id=\"T_59fcd_row1_col0\" class=\"data row1 col0\" >19</td>\n",
              "      <td id=\"T_59fcd_row1_col1\" class=\"data row1 col1\" >276</td>\n",
              "      <td id=\"T_59fcd_row1_col2\" class=\"data row1 col2\" >30</td>\n",
              "      <td id=\"T_59fcd_row1_col3\" class=\"data row1 col3\" >325</td>\n",
              "    </tr>\n",
              "    <tr>\n",
              "      <th id=\"T_59fcd_level0_row2\" class=\"row_heading level0 row2\" >Neutral</th>\n",
              "      <td id=\"T_59fcd_row2_col0\" class=\"data row2 col0\" >136</td>\n",
              "      <td id=\"T_59fcd_row2_col1\" class=\"data row2 col1\" >62</td>\n",
              "      <td id=\"T_59fcd_row2_col2\" class=\"data row2 col2\" >175</td>\n",
              "      <td id=\"T_59fcd_row2_col3\" class=\"data row2 col3\" >373</td>\n",
              "    </tr>\n",
              "    <tr>\n",
              "      <th id=\"T_59fcd_level0_row3\" class=\"row_heading level0 row3\" >All</th>\n",
              "      <td id=\"T_59fcd_row3_col0\" class=\"data row3 col0\" >321</td>\n",
              "      <td id=\"T_59fcd_row3_col1\" class=\"data row3 col1\" >356</td>\n",
              "      <td id=\"T_59fcd_row3_col2\" class=\"data row3 col2\" >223</td>\n",
              "      <td id=\"T_59fcd_row3_col3\" class=\"data row3 col3\" >900</td>\n",
              "    </tr>\n",
              "  </tbody>\n",
              "</table>\n"
            ]
          },
          "metadata": {}
        }
      ]
    },
    {
      "cell_type": "code",
      "source": [
        "P_scott_observed = (166+276+175)/900"
      ],
      "metadata": {
        "id": "9Sjl8FX-i0dm"
      },
      "execution_count": 38,
      "outputs": []
    },
    {
      "cell_type": "markdown",
      "source": [
        "**Compute chance Agreement**"
      ],
      "metadata": {
        "id": "grNcWZsai3KC"
      }
    },
    {
      "cell_type": "markdown",
      "source": [
        "First extract the margin totals and place them one next to each other.\n",
        "A cell in the resulting table displays the frequency of choosing one category by a specific rater"
      ],
      "metadata": {
        "id": "OTalR2Rljejn"
      }
    },
    {
      "cell_type": "code",
      "source": [
        "# Extract the marginal totals\n",
        "marginal_totals_evaluator2 = Agreement_table.loc['All', :]\n",
        "marginal_totals_evaluator1 = Agreement_table['All']\n",
        "\n",
        "# Form a new DataFrame with the extracted totals\n",
        "Chance_agreement_table = pd.DataFrame({\n",
        "    'Evaluator1': marginal_totals_evaluator1[:-1],\n",
        "    'Evaluator2': marginal_totals_evaluator2[:-1]\n",
        "}).reset_index(drop=True)\n",
        "\n",
        "Chance_agreement_table .insert(0, 'Category', [\"Contradiction\", \"Entailment\", \"Neutral\"])\n",
        "\n",
        "display(Chance_agreement_table.style.set_table_styles([{\n",
        "    'selector': 'th',\n",
        "    'props': [('background-color', 'lightgrey')]\n",
        "}]))"
      ],
      "metadata": {
        "id": "6wE0IyA-jO9v",
        "colab": {
          "base_uri": "https://localhost:8080/",
          "height": 0
        },
        "outputId": "b4318e5f-1781-4104-f2ce-e30fbf9f0c81"
      },
      "execution_count": 39,
      "outputs": [
        {
          "output_type": "display_data",
          "data": {
            "text/plain": [
              "<pandas.io.formats.style.Styler at 0x7958188c1c00>"
            ],
            "text/html": [
              "<style type=\"text/css\">\n",
              "#T_269f2 th {\n",
              "  background-color: lightgrey;\n",
              "}\n",
              "</style>\n",
              "<table id=\"T_269f2\" class=\"dataframe\">\n",
              "  <thead>\n",
              "    <tr>\n",
              "      <th class=\"blank level0\" >&nbsp;</th>\n",
              "      <th id=\"T_269f2_level0_col0\" class=\"col_heading level0 col0\" >Category</th>\n",
              "      <th id=\"T_269f2_level0_col1\" class=\"col_heading level0 col1\" >Evaluator1</th>\n",
              "      <th id=\"T_269f2_level0_col2\" class=\"col_heading level0 col2\" >Evaluator2</th>\n",
              "    </tr>\n",
              "  </thead>\n",
              "  <tbody>\n",
              "    <tr>\n",
              "      <th id=\"T_269f2_level0_row0\" class=\"row_heading level0 row0\" >0</th>\n",
              "      <td id=\"T_269f2_row0_col0\" class=\"data row0 col0\" >Contradiction</td>\n",
              "      <td id=\"T_269f2_row0_col1\" class=\"data row0 col1\" >202</td>\n",
              "      <td id=\"T_269f2_row0_col2\" class=\"data row0 col2\" >321</td>\n",
              "    </tr>\n",
              "    <tr>\n",
              "      <th id=\"T_269f2_level0_row1\" class=\"row_heading level0 row1\" >1</th>\n",
              "      <td id=\"T_269f2_row1_col0\" class=\"data row1 col0\" >Entailment</td>\n",
              "      <td id=\"T_269f2_row1_col1\" class=\"data row1 col1\" >325</td>\n",
              "      <td id=\"T_269f2_row1_col2\" class=\"data row1 col2\" >356</td>\n",
              "    </tr>\n",
              "    <tr>\n",
              "      <th id=\"T_269f2_level0_row2\" class=\"row_heading level0 row2\" >2</th>\n",
              "      <td id=\"T_269f2_row2_col0\" class=\"data row2 col0\" >Neutral</td>\n",
              "      <td id=\"T_269f2_row2_col1\" class=\"data row2 col1\" >373</td>\n",
              "      <td id=\"T_269f2_row2_col2\" class=\"data row2 col2\" >223</td>\n",
              "    </tr>\n",
              "  </tbody>\n",
              "</table>\n"
            ]
          },
          "metadata": {}
        }
      ]
    },
    {
      "cell_type": "markdown",
      "source": [
        "Get the relative frequency of each category"
      ],
      "metadata": {
        "id": "sR6jWWGbn_VN"
      }
    },
    {
      "cell_type": "code",
      "source": [
        "Chance_agreement_table['Fqv'] = Chance_agreement_table[['Evaluator1', 'Evaluator2']].sum(axis=1)\n",
        "Chance_agreement_table['Relative_Fqv'] = Chance_agreement_table[['Evaluator1', 'Evaluator2']].sum(axis=1) / 1800\n",
        "\n",
        "display(Chance_agreement_table.style.set_table_styles([{\n",
        "    'selector': 'th',\n",
        "    'props': [('background-color', 'lightgrey')]\n",
        "}]))"
      ],
      "metadata": {
        "id": "H-SWZ3fun8tP",
        "colab": {
          "base_uri": "https://localhost:8080/",
          "height": 0
        },
        "outputId": "243cd1a1-c37d-42d5-e33f-cc0c84da3236"
      },
      "execution_count": 40,
      "outputs": [
        {
          "output_type": "display_data",
          "data": {
            "text/plain": [
              "<pandas.io.formats.style.Styler at 0x7958188eb160>"
            ],
            "text/html": [
              "<style type=\"text/css\">\n",
              "#T_8cbf1 th {\n",
              "  background-color: lightgrey;\n",
              "}\n",
              "</style>\n",
              "<table id=\"T_8cbf1\" class=\"dataframe\">\n",
              "  <thead>\n",
              "    <tr>\n",
              "      <th class=\"blank level0\" >&nbsp;</th>\n",
              "      <th id=\"T_8cbf1_level0_col0\" class=\"col_heading level0 col0\" >Category</th>\n",
              "      <th id=\"T_8cbf1_level0_col1\" class=\"col_heading level0 col1\" >Evaluator1</th>\n",
              "      <th id=\"T_8cbf1_level0_col2\" class=\"col_heading level0 col2\" >Evaluator2</th>\n",
              "      <th id=\"T_8cbf1_level0_col3\" class=\"col_heading level0 col3\" >Fqv</th>\n",
              "      <th id=\"T_8cbf1_level0_col4\" class=\"col_heading level0 col4\" >Relative_Fqv</th>\n",
              "    </tr>\n",
              "  </thead>\n",
              "  <tbody>\n",
              "    <tr>\n",
              "      <th id=\"T_8cbf1_level0_row0\" class=\"row_heading level0 row0\" >0</th>\n",
              "      <td id=\"T_8cbf1_row0_col0\" class=\"data row0 col0\" >Contradiction</td>\n",
              "      <td id=\"T_8cbf1_row0_col1\" class=\"data row0 col1\" >202</td>\n",
              "      <td id=\"T_8cbf1_row0_col2\" class=\"data row0 col2\" >321</td>\n",
              "      <td id=\"T_8cbf1_row0_col3\" class=\"data row0 col3\" >523</td>\n",
              "      <td id=\"T_8cbf1_row0_col4\" class=\"data row0 col4\" >0.290556</td>\n",
              "    </tr>\n",
              "    <tr>\n",
              "      <th id=\"T_8cbf1_level0_row1\" class=\"row_heading level0 row1\" >1</th>\n",
              "      <td id=\"T_8cbf1_row1_col0\" class=\"data row1 col0\" >Entailment</td>\n",
              "      <td id=\"T_8cbf1_row1_col1\" class=\"data row1 col1\" >325</td>\n",
              "      <td id=\"T_8cbf1_row1_col2\" class=\"data row1 col2\" >356</td>\n",
              "      <td id=\"T_8cbf1_row1_col3\" class=\"data row1 col3\" >681</td>\n",
              "      <td id=\"T_8cbf1_row1_col4\" class=\"data row1 col4\" >0.378333</td>\n",
              "    </tr>\n",
              "    <tr>\n",
              "      <th id=\"T_8cbf1_level0_row2\" class=\"row_heading level0 row2\" >2</th>\n",
              "      <td id=\"T_8cbf1_row2_col0\" class=\"data row2 col0\" >Neutral</td>\n",
              "      <td id=\"T_8cbf1_row2_col1\" class=\"data row2 col1\" >373</td>\n",
              "      <td id=\"T_8cbf1_row2_col2\" class=\"data row2 col2\" >223</td>\n",
              "      <td id=\"T_8cbf1_row2_col3\" class=\"data row2 col3\" >596</td>\n",
              "      <td id=\"T_8cbf1_row2_col4\" class=\"data row2 col4\" >0.331111</td>\n",
              "    </tr>\n",
              "  </tbody>\n",
              "</table>\n"
            ]
          },
          "metadata": {}
        }
      ]
    },
    {
      "cell_type": "markdown",
      "source": [
        "Square the relative frequencies and add them"
      ],
      "metadata": {
        "id": "lN1zEfc4oXlc"
      }
    },
    {
      "cell_type": "code",
      "source": [
        "Chance_agreement_table['SquaredFqv'] = Chance_agreement_table['Relative_Fqv'] ** 2\n",
        "\n",
        "display(Chance_agreement_table.style.set_table_styles([{\n",
        "    'selector': 'th',\n",
        "    'props': [('background-color', 'lightgrey')]\n",
        "}]))"
      ],
      "metadata": {
        "id": "GkmD-v7Koaxv",
        "colab": {
          "base_uri": "https://localhost:8080/",
          "height": 0
        },
        "outputId": "1388c60a-2eb1-4285-c614-dc97b7ed2691"
      },
      "execution_count": 41,
      "outputs": [
        {
          "output_type": "display_data",
          "data": {
            "text/plain": [
              "<pandas.io.formats.style.Styler at 0x7958188c2cb0>"
            ],
            "text/html": [
              "<style type=\"text/css\">\n",
              "#T_838a2 th {\n",
              "  background-color: lightgrey;\n",
              "}\n",
              "</style>\n",
              "<table id=\"T_838a2\" class=\"dataframe\">\n",
              "  <thead>\n",
              "    <tr>\n",
              "      <th class=\"blank level0\" >&nbsp;</th>\n",
              "      <th id=\"T_838a2_level0_col0\" class=\"col_heading level0 col0\" >Category</th>\n",
              "      <th id=\"T_838a2_level0_col1\" class=\"col_heading level0 col1\" >Evaluator1</th>\n",
              "      <th id=\"T_838a2_level0_col2\" class=\"col_heading level0 col2\" >Evaluator2</th>\n",
              "      <th id=\"T_838a2_level0_col3\" class=\"col_heading level0 col3\" >Fqv</th>\n",
              "      <th id=\"T_838a2_level0_col4\" class=\"col_heading level0 col4\" >Relative_Fqv</th>\n",
              "      <th id=\"T_838a2_level0_col5\" class=\"col_heading level0 col5\" >SquaredFqv</th>\n",
              "    </tr>\n",
              "  </thead>\n",
              "  <tbody>\n",
              "    <tr>\n",
              "      <th id=\"T_838a2_level0_row0\" class=\"row_heading level0 row0\" >0</th>\n",
              "      <td id=\"T_838a2_row0_col0\" class=\"data row0 col0\" >Contradiction</td>\n",
              "      <td id=\"T_838a2_row0_col1\" class=\"data row0 col1\" >202</td>\n",
              "      <td id=\"T_838a2_row0_col2\" class=\"data row0 col2\" >321</td>\n",
              "      <td id=\"T_838a2_row0_col3\" class=\"data row0 col3\" >523</td>\n",
              "      <td id=\"T_838a2_row0_col4\" class=\"data row0 col4\" >0.290556</td>\n",
              "      <td id=\"T_838a2_row0_col5\" class=\"data row0 col5\" >0.084423</td>\n",
              "    </tr>\n",
              "    <tr>\n",
              "      <th id=\"T_838a2_level0_row1\" class=\"row_heading level0 row1\" >1</th>\n",
              "      <td id=\"T_838a2_row1_col0\" class=\"data row1 col0\" >Entailment</td>\n",
              "      <td id=\"T_838a2_row1_col1\" class=\"data row1 col1\" >325</td>\n",
              "      <td id=\"T_838a2_row1_col2\" class=\"data row1 col2\" >356</td>\n",
              "      <td id=\"T_838a2_row1_col3\" class=\"data row1 col3\" >681</td>\n",
              "      <td id=\"T_838a2_row1_col4\" class=\"data row1 col4\" >0.378333</td>\n",
              "      <td id=\"T_838a2_row1_col5\" class=\"data row1 col5\" >0.143136</td>\n",
              "    </tr>\n",
              "    <tr>\n",
              "      <th id=\"T_838a2_level0_row2\" class=\"row_heading level0 row2\" >2</th>\n",
              "      <td id=\"T_838a2_row2_col0\" class=\"data row2 col0\" >Neutral</td>\n",
              "      <td id=\"T_838a2_row2_col1\" class=\"data row2 col1\" >373</td>\n",
              "      <td id=\"T_838a2_row2_col2\" class=\"data row2 col2\" >223</td>\n",
              "      <td id=\"T_838a2_row2_col3\" class=\"data row2 col3\" >596</td>\n",
              "      <td id=\"T_838a2_row2_col4\" class=\"data row2 col4\" >0.331111</td>\n",
              "      <td id=\"T_838a2_row2_col5\" class=\"data row2 col5\" >0.109635</td>\n",
              "    </tr>\n",
              "  </tbody>\n",
              "</table>\n"
            ]
          },
          "metadata": {}
        }
      ]
    },
    {
      "cell_type": "markdown",
      "source": [
        "Get chance agreement"
      ],
      "metadata": {
        "id": "DMrbC-Sfo5rt"
      }
    },
    {
      "cell_type": "code",
      "source": [
        "P_scott_chance = Chance_agreement_table['SquaredFqv'].sum()\n",
        "P_scott_chance"
      ],
      "metadata": {
        "id": "25WPtdi6o2pM",
        "colab": {
          "base_uri": "https://localhost:8080/"
        },
        "outputId": "935879b2-07cc-44ac-f0a8-3d5cfedf14a3"
      },
      "execution_count": 42,
      "outputs": [
        {
          "output_type": "execute_result",
          "data": {
            "text/plain": [
              "0.3371932098765433"
            ]
          },
          "metadata": {},
          "execution_count": 42
        }
      ]
    },
    {
      "cell_type": "markdown",
      "source": [
        "**Include the observed and chance agreement computed previously into the formula**."
      ],
      "metadata": {
        "id": "1E3wGP6lqRAV"
      }
    },
    {
      "cell_type": "code",
      "source": [
        "(P_scott_observed - P_scott_chance)/(1 - P_scott_chance)"
      ],
      "metadata": {
        "id": "S5Nb_EikscQL",
        "colab": {
          "base_uri": "https://localhost:8080/"
        },
        "outputId": "f0b94466-3a4d-4e02-c238-fecfa5f87479"
      },
      "execution_count": 43,
      "outputs": [
        {
          "output_type": "execute_result",
          "data": {
            "text/plain": [
              "0.5255865674129939"
            ]
          },
          "metadata": {},
          "execution_count": 43
        }
      ]
    },
    {
      "cell_type": "markdown",
      "source": [
        "### Gwet Gamma (AC1)"
      ],
      "metadata": {
        "id": "7ViaHjflthw_"
      }
    },
    {
      "cell_type": "markdown",
      "source": [
        "**First transform the data into an acceptable format (same as for Scott Pi)**"
      ],
      "metadata": {
        "id": "E2WowIzayFjY"
      }
    },
    {
      "cell_type": "code",
      "source": [
        "#!pip install agreement\n",
        "Aggregated['id'] = range(1, 901)\n",
        "\n",
        "Aggregated_long_format = pd.melt(Aggregated, id_vars=['id'],\n",
        "                      value_vars=['Evaluator1', 'Evaluator2'],\n",
        "                      var_name='Rater', value_name='Answer')\n",
        "\n",
        "Aggregated_long_format = Aggregated_long_format.to_numpy()\n",
        "\n",
        "from agreement.utils.transform import pivot_table_frequency\n",
        "\n",
        "questions_answers_table = pivot_table_frequency(Aggregated_long_format[:, 0], Aggregated_long_format[:, 2])"
      ],
      "metadata": {
        "id": "il4j3B-KtgXF"
      },
      "execution_count": 44,
      "outputs": []
    },
    {
      "cell_type": "markdown",
      "source": [
        "**Then use the \"gwets_gamma\" function**"
      ],
      "metadata": {
        "id": "H4zl6KFsyOcq"
      }
    },
    {
      "cell_type": "code",
      "source": [
        "from agreement.metrics import gwets_gamma\n",
        "gwets_gamma(questions_answers_table)"
      ],
      "metadata": {
        "colab": {
          "base_uri": "https://localhost:8080/"
        },
        "id": "Sz1GKnEttpFC",
        "outputId": "701382f8-fbf0-4d1d-9909-2cae03c3fff3"
      },
      "execution_count": 45,
      "outputs": [
        {
          "output_type": "execute_result",
          "data": {
            "text/plain": [
              "0.5296948232731818"
            ]
          },
          "metadata": {},
          "execution_count": 45
        }
      ]
    },
    {
      "cell_type": "markdown",
      "source": [
        "#### Gwet's gamma done by hand 🤚"
      ],
      "metadata": {
        "id": "yFZ7ltuW0ZoD"
      }
    },
    {
      "cell_type": "markdown",
      "source": [
        "**Compute oberved agreement**"
      ],
      "metadata": {
        "id": "SrF9pxuz0rX3"
      }
    },
    {
      "cell_type": "code",
      "source": [
        "P_gamma_o = (166+276+175)/900"
      ],
      "metadata": {
        "id": "uh9OOgs8009l"
      },
      "execution_count": 46,
      "outputs": []
    },
    {
      "cell_type": "markdown",
      "source": [
        "**Compute chance agreement**"
      ],
      "metadata": {
        "id": "QQliB_a31BPB"
      }
    },
    {
      "cell_type": "markdown",
      "source": [
        "Notice it uses the same table as for Scott Pi except there is not \"Squared Fqv colum\""
      ],
      "metadata": {
        "id": "BLBC8NwM01qA"
      }
    },
    {
      "cell_type": "code",
      "source": [
        "# Extract the marginal totals\n",
        "marginal_totals_evaluator2 = Agreement_table.loc['All', :]\n",
        "marginal_totals_evaluator1 = Agreement_table['All']\n",
        "\n",
        "# Form a new DataFrame with the extracted totals\n",
        "Chance_agreement_table = pd.DataFrame({\n",
        "    'Evaluator1': marginal_totals_evaluator1[:-1],\n",
        "    'Evaluator2': marginal_totals_evaluator2[:-1]\n",
        "}).reset_index(drop=True)\n",
        "\n",
        "Chance_agreement_table .insert(0, 'Category', [\"Contradiction\", \"Entailment\", \"Neutral\"])\n",
        "\n",
        "Chance_agreement_table['Fqv'] = Chance_agreement_table[['Evaluator1', 'Evaluator2']].sum(axis=1)\n",
        "Chance_agreement_table['Relative_Fqv'] = Chance_agreement_table[['Evaluator1', 'Evaluator2']].sum(axis=1) / 1800\n",
        "\n",
        "display(Chance_agreement_table.style.set_table_styles([{\n",
        "    'selector': 'th',\n",
        "    'props': [('background-color', 'lightgrey')]\n",
        "}]))"
      ],
      "metadata": {
        "colab": {
          "base_uri": "https://localhost:8080/",
          "height": 0
        },
        "id": "HvxQE8wk1JhW",
        "outputId": "aeff10b4-2794-4bd9-afa1-5eab50c6a879"
      },
      "execution_count": 47,
      "outputs": [
        {
          "output_type": "display_data",
          "data": {
            "text/plain": [
              "<pandas.io.formats.style.Styler at 0x7958188c2ce0>"
            ],
            "text/html": [
              "<style type=\"text/css\">\n",
              "#T_461c9 th {\n",
              "  background-color: lightgrey;\n",
              "}\n",
              "</style>\n",
              "<table id=\"T_461c9\" class=\"dataframe\">\n",
              "  <thead>\n",
              "    <tr>\n",
              "      <th class=\"blank level0\" >&nbsp;</th>\n",
              "      <th id=\"T_461c9_level0_col0\" class=\"col_heading level0 col0\" >Category</th>\n",
              "      <th id=\"T_461c9_level0_col1\" class=\"col_heading level0 col1\" >Evaluator1</th>\n",
              "      <th id=\"T_461c9_level0_col2\" class=\"col_heading level0 col2\" >Evaluator2</th>\n",
              "      <th id=\"T_461c9_level0_col3\" class=\"col_heading level0 col3\" >Fqv</th>\n",
              "      <th id=\"T_461c9_level0_col4\" class=\"col_heading level0 col4\" >Relative_Fqv</th>\n",
              "    </tr>\n",
              "  </thead>\n",
              "  <tbody>\n",
              "    <tr>\n",
              "      <th id=\"T_461c9_level0_row0\" class=\"row_heading level0 row0\" >0</th>\n",
              "      <td id=\"T_461c9_row0_col0\" class=\"data row0 col0\" >Contradiction</td>\n",
              "      <td id=\"T_461c9_row0_col1\" class=\"data row0 col1\" >202</td>\n",
              "      <td id=\"T_461c9_row0_col2\" class=\"data row0 col2\" >321</td>\n",
              "      <td id=\"T_461c9_row0_col3\" class=\"data row0 col3\" >523</td>\n",
              "      <td id=\"T_461c9_row0_col4\" class=\"data row0 col4\" >0.290556</td>\n",
              "    </tr>\n",
              "    <tr>\n",
              "      <th id=\"T_461c9_level0_row1\" class=\"row_heading level0 row1\" >1</th>\n",
              "      <td id=\"T_461c9_row1_col0\" class=\"data row1 col0\" >Entailment</td>\n",
              "      <td id=\"T_461c9_row1_col1\" class=\"data row1 col1\" >325</td>\n",
              "      <td id=\"T_461c9_row1_col2\" class=\"data row1 col2\" >356</td>\n",
              "      <td id=\"T_461c9_row1_col3\" class=\"data row1 col3\" >681</td>\n",
              "      <td id=\"T_461c9_row1_col4\" class=\"data row1 col4\" >0.378333</td>\n",
              "    </tr>\n",
              "    <tr>\n",
              "      <th id=\"T_461c9_level0_row2\" class=\"row_heading level0 row2\" >2</th>\n",
              "      <td id=\"T_461c9_row2_col0\" class=\"data row2 col0\" >Neutral</td>\n",
              "      <td id=\"T_461c9_row2_col1\" class=\"data row2 col1\" >373</td>\n",
              "      <td id=\"T_461c9_row2_col2\" class=\"data row2 col2\" >223</td>\n",
              "      <td id=\"T_461c9_row2_col3\" class=\"data row2 col3\" >596</td>\n",
              "      <td id=\"T_461c9_row2_col4\" class=\"data row2 col4\" >0.331111</td>\n",
              "    </tr>\n",
              "  </tbody>\n",
              "</table>\n"
            ]
          },
          "metadata": {}
        }
      ]
    },
    {
      "cell_type": "code",
      "source": [
        "P_gamma_c = ((0.290556 * (1-0.290556)) + (0.378333\t*(1-0.378333) + 0.331111 * (1-0.331111)))/(3-1)\n",
        "P_gamma_c"
      ],
      "metadata": {
        "colab": {
          "base_uri": "https://localhost:8080/"
        },
        "id": "179CK9CG1AGk",
        "outputId": "7ae02944-f033-4434-cebf-23479e59175e"
      },
      "execution_count": 48,
      "outputs": [
        {
          "output_type": "execute_result",
          "data": {
            "text/plain": [
              "0.33140342882699997"
            ]
          },
          "metadata": {},
          "execution_count": 48
        }
      ]
    },
    {
      "cell_type": "markdown",
      "source": [
        "**Insert the observed and chance agreement computed previously into the formula**."
      ],
      "metadata": {
        "id": "LWTcv9de-1XY"
      }
    },
    {
      "cell_type": "code",
      "source": [
        "(P_gamma_o - P_gamma_c )/(1 - P_gamma_c )"
      ],
      "metadata": {
        "colab": {
          "base_uri": "https://localhost:8080/"
        },
        "id": "tKoW7Hn7-x4w",
        "outputId": "adb8f0da-aeb2-4846-ef8d-b2ef3f38840f"
      },
      "execution_count": 49,
      "outputs": [
        {
          "output_type": "execute_result",
          "data": {
            "text/plain": [
              "0.5296947995219653"
            ]
          },
          "metadata": {},
          "execution_count": 49
        }
      ]
    },
    {
      "cell_type": "markdown",
      "source": [
        "### Kipendorff Alpha"
      ],
      "metadata": {
        "id": "y8BbGiRhRi0x"
      }
    },
    {
      "cell_type": "markdown",
      "source": [
        "**First transform the data into an acceptable format (same as for Scott Pi & Gwet Gamma)**"
      ],
      "metadata": {
        "id": "l6hIZVa51WQ0"
      }
    },
    {
      "cell_type": "code",
      "source": [
        "#!pip install agreement\n",
        "agr = Aggregated.copy()\n",
        "agr['id'] = range(1, 901)\n",
        "\n",
        "Aggregated_long_format = pd.melt(agr, id_vars=['id'],\n",
        "                      value_vars=['Evaluator1', 'Evaluator2'],\n",
        "                      var_name='Rater', value_name='Answer')\n",
        "\n",
        "Aggregated_long_format = Aggregated_long_format.to_numpy()\n",
        "\n",
        "\n",
        "from agreement.utils.transform import pivot_table_frequency\n",
        "\n",
        "questions_answers_table = pivot_table_frequency(Aggregated_long_format[:, 0], Aggregated_long_format[:, 2])"
      ],
      "metadata": {
        "id": "nAAu2-cXpHjS"
      },
      "execution_count": 50,
      "outputs": []
    },
    {
      "cell_type": "markdown",
      "source": [
        "**Then use \"krippendorffs_alpha\" function**"
      ],
      "metadata": {
        "id": "fE_EEm8y1bH3"
      }
    },
    {
      "cell_type": "code",
      "source": [
        "from agreement.metrics import krippendorffs_alpha\n",
        "krippendorffs_alpha(questions_answers_table)"
      ],
      "metadata": {
        "colab": {
          "base_uri": "https://localhost:8080/"
        },
        "id": "ashKFdzvNy9r",
        "outputId": "67ac944e-6472-4a69-f56c-15b86f5da4f3"
      },
      "execution_count": 51,
      "outputs": [
        {
          "output_type": "execute_result",
          "data": {
            "text/plain": [
              "0.525850130431098"
            ]
          },
          "metadata": {},
          "execution_count": 51
        }
      ]
    },
    {
      "cell_type": "markdown",
      "source": [
        "#### Kipendorff Alpha by hand 🤚"
      ],
      "metadata": {
        "id": "06YNOiK3Hkck"
      }
    },
    {
      "cell_type": "markdown",
      "source": [
        "**Approach using coincidence matrix**"
      ],
      "metadata": {
        "id": "nLeANHEM4buy"
      }
    },
    {
      "cell_type": "markdown",
      "source": [
        "First get the coincidence matrix\n",
        "\n",
        "❗Notice that this is different from the contingency table that was computed in percent agreement. It shows the number of pairable values, not the number of items labeled as such by the raters."
      ],
      "metadata": {
        "id": "z7iCeWbq1tE3"
      }
    },
    {
      "cell_type": "code",
      "source": [
        "# Convert to DataFrame\n",
        "df = pd.DataFrame(Aggregated)\n",
        "df = df.replace('*', np.nan)\n",
        "\n",
        "# Initialize the coincidence matrix with float dtype\n",
        "labels = [\"Contradiction\", \"Entailment\", \"Neutral\"]\n",
        "coincidence_matrix = pd.DataFrame(0.0, index=labels, columns=labels, dtype=float)\n",
        "\n",
        "# Iterate over each pair (i, j)\n",
        "for i in labels:\n",
        "    for j in labels:\n",
        "        if i != j:\n",
        "            # Find rows where both i and j are present in the same row\n",
        "            rows_with_ij = df[(df == i).any(axis=1) & (df == j).any(axis=1)]\n",
        "\n",
        "            # Initialize a Series to store i_j_pairs_count for each row\n",
        "            i_j_pairs_count_per_row = pd.Series(0.0, index=rows_with_ij.index)\n",
        "\n",
        "            # Iterate over each row in rows_with_ij\n",
        "            for index, row in rows_with_ij.iterrows():\n",
        "                # Count occurrences of i and j in the current row\n",
        "                count_i = row.eq(i).sum()\n",
        "                count_j = row.eq(j).sum()\n",
        "\n",
        "                # Calculate the number of i-j pairs for the current row\n",
        "                i_j_pairs_count = count_i * count_j\n",
        "\n",
        "                non_nan_counts = rows_with_ij.notna().sum(axis=1)\n",
        "                # Store the result in the Series\n",
        "                i_j_pairs_count_per_row[index] = float(i_j_pairs_count) / (non_nan_counts[index] - 1)\n",
        "\n",
        "            # Store the i_j_pairs_count_per_row in the coincidence matrix\n",
        "            coincidence_matrix.at[i, j] = float(i_j_pairs_count_per_row.sum())\n",
        "\n",
        "        else:\n",
        "            # Find rows where both i and j appear more than once in the same row\n",
        "            rows_with_iAj = df[(df == i).sum(axis=1) > 1]\n",
        "\n",
        "            # Initialize a Series to store i_A_j_pairs_count for each row\n",
        "            i_A_j_pairs_count_per_row = pd.Series(0.0, index=rows_with_iAj.index)\n",
        "\n",
        "            # Iterate over each row in rows_with_ij\n",
        "            for index, row in rows_with_iAj.iterrows():\n",
        "                # Count occurrences of i and j in the current row\n",
        "                count_i = row.eq(i).sum()\n",
        "\n",
        "                # Calculate the number of i-j pairs for the current row\n",
        "                i_A_j_pairs_count = count_i * (count_i - 1)\n",
        "\n",
        "                non_nan_counts_I = rows_with_iAj.notna().sum(axis=1)\n",
        "                # Store the result in the Series\n",
        "                i_A_j_pairs_count_per_row[index] = float(i_A_j_pairs_count) / (non_nan_counts_I[index] - 1)\n",
        "\n",
        "            # Store the i_A_j_pairs_count_per_row in the coincidence matrix\n",
        "            coincidence_matrix.at[i, j] = float(i_A_j_pairs_count_per_row.sum())\n",
        "\n",
        "# Adding totals\n",
        "coincidence_matrix[\"Total\"] = coincidence_matrix.sum(axis=1)\n",
        "coincidence_matrix.loc[\"Total\"] = coincidence_matrix.sum(axis=0)\n",
        "\n",
        "# Display the styled coincidence matrix\n",
        "display(coincidence_matrix.style.set_table_styles([{\n",
        "    'selector': 'th',\n",
        "    'props': [('background-color', 'lightgrey')]\n",
        "}]))\n"
      ],
      "metadata": {
        "colab": {
          "base_uri": "https://localhost:8080/",
          "height": 175
        },
        "id": "9m2Wu3VxaFSS",
        "outputId": "c696fa90-e185-416c-d3d7-a5ffa3673713"
      },
      "execution_count": 53,
      "outputs": [
        {
          "output_type": "display_data",
          "data": {
            "text/plain": [
              "<pandas.io.formats.style.Styler at 0x795818543c10>"
            ],
            "text/html": [
              "<style type=\"text/css\">\n",
              "#T_cceb7 th {\n",
              "  background-color: lightgrey;\n",
              "}\n",
              "</style>\n",
              "<table id=\"T_cceb7\" class=\"dataframe\">\n",
              "  <thead>\n",
              "    <tr>\n",
              "      <th class=\"blank level0\" >&nbsp;</th>\n",
              "      <th id=\"T_cceb7_level0_col0\" class=\"col_heading level0 col0\" >Contradiction</th>\n",
              "      <th id=\"T_cceb7_level0_col1\" class=\"col_heading level0 col1\" >Entailment</th>\n",
              "      <th id=\"T_cceb7_level0_col2\" class=\"col_heading level0 col2\" >Neutral</th>\n",
              "      <th id=\"T_cceb7_level0_col3\" class=\"col_heading level0 col3\" >Total</th>\n",
              "    </tr>\n",
              "  </thead>\n",
              "  <tbody>\n",
              "    <tr>\n",
              "      <th id=\"T_cceb7_level0_row0\" class=\"row_heading level0 row0\" >Contradiction</th>\n",
              "      <td id=\"T_cceb7_row0_col0\" class=\"data row0 col0\" >166.000000</td>\n",
              "      <td id=\"T_cceb7_row0_col1\" class=\"data row0 col1\" >18.500000</td>\n",
              "      <td id=\"T_cceb7_row0_col2\" class=\"data row0 col2\" >77.000000</td>\n",
              "      <td id=\"T_cceb7_row0_col3\" class=\"data row0 col3\" >261.500000</td>\n",
              "    </tr>\n",
              "    <tr>\n",
              "      <th id=\"T_cceb7_level0_row1\" class=\"row_heading level0 row1\" >Entailment</th>\n",
              "      <td id=\"T_cceb7_row1_col0\" class=\"data row1 col0\" >18.500000</td>\n",
              "      <td id=\"T_cceb7_row1_col1\" class=\"data row1 col1\" >276.000000</td>\n",
              "      <td id=\"T_cceb7_row1_col2\" class=\"data row1 col2\" >46.000000</td>\n",
              "      <td id=\"T_cceb7_row1_col3\" class=\"data row1 col3\" >340.500000</td>\n",
              "    </tr>\n",
              "    <tr>\n",
              "      <th id=\"T_cceb7_level0_row2\" class=\"row_heading level0 row2\" >Neutral</th>\n",
              "      <td id=\"T_cceb7_row2_col0\" class=\"data row2 col0\" >77.000000</td>\n",
              "      <td id=\"T_cceb7_row2_col1\" class=\"data row2 col1\" >46.000000</td>\n",
              "      <td id=\"T_cceb7_row2_col2\" class=\"data row2 col2\" >175.000000</td>\n",
              "      <td id=\"T_cceb7_row2_col3\" class=\"data row2 col3\" >298.000000</td>\n",
              "    </tr>\n",
              "    <tr>\n",
              "      <th id=\"T_cceb7_level0_row3\" class=\"row_heading level0 row3\" >Total</th>\n",
              "      <td id=\"T_cceb7_row3_col0\" class=\"data row3 col0\" >261.500000</td>\n",
              "      <td id=\"T_cceb7_row3_col1\" class=\"data row3 col1\" >340.500000</td>\n",
              "      <td id=\"T_cceb7_row3_col2\" class=\"data row3 col2\" >298.000000</td>\n",
              "      <td id=\"T_cceb7_row3_col3\" class=\"data row3 col3\" >900.000000</td>\n",
              "    </tr>\n",
              "  </tbody>\n",
              "</table>\n"
            ]
          },
          "metadata": {}
        }
      ]
    },
    {
      "cell_type": "markdown",
      "source": [
        "Then compute the observed agreement, chance agreement, and insert into the formula"
      ],
      "metadata": {
        "id": "GuLztUpo1w3O"
      }
    },
    {
      "cell_type": "markdown",
      "source": [
        "❗Notice that the numbers below are obtained by doubling the row values in the coincidence matrix"
      ],
      "metadata": {
        "id": "zO-v4RyKVMLd"
      }
    },
    {
      "cell_type": "code",
      "source": [
        "n = 2*len(Aggregated)\n",
        "ObservedAgreement = (332+552+350)/n\n",
        "ChanceAgreement = (\n",
        "    ((332 +  37 + 154) * (332 +  37 + 154 - 1) +\n",
        "     (37 + 552 + 92) * (37 + 552 + 92 - 1) +\n",
        "     (154 + 92 + 350) * (154 + 92 + 350-1)) /\n",
        "    (n * (n - 1))\n",
        ")\n",
        "(ObservedAgreement-ChanceAgreement)/(1-ChanceAgreement)"
      ],
      "metadata": {
        "colab": {
          "base_uri": "https://localhost:8080/"
        },
        "id": "GXZOG8JRuCVu",
        "outputId": "734884e3-4230-4635-e398-3adc71f40530"
      },
      "execution_count": null,
      "outputs": [
        {
          "output_type": "execute_result",
          "data": {
            "text/plain": [
              "0.525850130431098"
            ]
          },
          "metadata": {},
          "execution_count": 51
        }
      ]
    },
    {
      "cell_type": "code",
      "source": [
        "ChanceAgreement"
      ],
      "metadata": {
        "colab": {
          "base_uri": "https://localhost:8080/"
        },
        "id": "aoVgTNaYG2in",
        "outputId": "efa1c7ba-7ad3-4911-8484-a0d69c592baa"
      },
      "execution_count": null,
      "outputs": [
        {
          "output_type": "execute_result",
          "data": {
            "text/plain": [
              "0.33682477919832005"
            ]
          },
          "metadata": {},
          "execution_count": 52
        }
      ]
    },
    {
      "cell_type": "markdown",
      "source": [
        "**Approach using relative frequencies**"
      ],
      "metadata": {
        "id": "MLCTx7BYFtC_"
      }
    },
    {
      "cell_type": "markdown",
      "source": [
        "After computing the precent agreement, generate the table below"
      ],
      "metadata": {
        "id": "mmQdq6XO2TDA"
      }
    },
    {
      "cell_type": "code",
      "source": [
        "Agreement_table = pd.crosstab(Aggregated['Evaluator1'],\n",
        "                          Aggregated['Evaluator2'],\n",
        "                          margins = True)\n",
        "\n",
        "# Extract the marginal totals\n",
        "marginal_totals_evaluator2 = Agreement_table.loc['All', :]\n",
        "marginal_totals_evaluator1 = Agreement_table['All']\n",
        "\n",
        "# Form a new DataFrame with the extracted totals\n",
        "Chance_agreement_table_3 = pd.DataFrame({\n",
        "    'Evaluator1': marginal_totals_evaluator1[:-1],\n",
        "    'Evaluator2': marginal_totals_evaluator2[:-1]\n",
        "}).reset_index(drop=True)\n",
        "\n",
        "Chance_agreement_table_3.insert(0, 'Category', [\"Contradiction\", \"Entailment\", \"Neutral\"])\n",
        "\n",
        "Chance_agreement_table_3['Fqv'] = Chance_agreement_table_3[['Evaluator1', 'Evaluator2']].sum(axis=1)\n",
        "\n",
        "Chance_agreement_table_3['Fqv_Pairs'] = Chance_agreement_table_3['Fqv'] * (Chance_agreement_table_3['Fqv']-1)\n",
        "\n",
        "Chance_agreement_table_3['Relative_Fqv_Pairs'] = Chance_agreement_table_3['Fqv_Pairs']/(1800*(1800-1))\n",
        "\n",
        "display(Chance_agreement_table_3.style.set_table_styles([{\n",
        "    'selector': 'th',\n",
        "    'props': [('background-color', 'lightgrey')]\n",
        "}]))"
      ],
      "metadata": {
        "colab": {
          "base_uri": "https://localhost:8080/"
        },
        "id": "hfomAEWGF82h",
        "outputId": "fd0f7f34-5212-4bb1-d7e9-9d8f3ff96f0b"
      },
      "execution_count": null,
      "outputs": [
        {
          "output_type": "display_data",
          "data": {
            "text/plain": [
              "<pandas.io.formats.style.Styler at 0x7f69642b54b0>"
            ],
            "text/html": [
              "<style type=\"text/css\">\n",
              "#T_8649d th {\n",
              "  background-color: lightgrey;\n",
              "}\n",
              "</style>\n",
              "<table id=\"T_8649d\" class=\"dataframe\">\n",
              "  <thead>\n",
              "    <tr>\n",
              "      <th class=\"blank level0\" >&nbsp;</th>\n",
              "      <th id=\"T_8649d_level0_col0\" class=\"col_heading level0 col0\" >Category</th>\n",
              "      <th id=\"T_8649d_level0_col1\" class=\"col_heading level0 col1\" >Evaluator1</th>\n",
              "      <th id=\"T_8649d_level0_col2\" class=\"col_heading level0 col2\" >Evaluator2</th>\n",
              "      <th id=\"T_8649d_level0_col3\" class=\"col_heading level0 col3\" >Fqv</th>\n",
              "      <th id=\"T_8649d_level0_col4\" class=\"col_heading level0 col4\" >Fqv_Pairs</th>\n",
              "      <th id=\"T_8649d_level0_col5\" class=\"col_heading level0 col5\" >Relative_Fqv_Pairs</th>\n",
              "    </tr>\n",
              "  </thead>\n",
              "  <tbody>\n",
              "    <tr>\n",
              "      <th id=\"T_8649d_level0_row0\" class=\"row_heading level0 row0\" >0</th>\n",
              "      <td id=\"T_8649d_row0_col0\" class=\"data row0 col0\" >Contradiction</td>\n",
              "      <td id=\"T_8649d_row0_col1\" class=\"data row0 col1\" >202</td>\n",
              "      <td id=\"T_8649d_row0_col2\" class=\"data row0 col2\" >321</td>\n",
              "      <td id=\"T_8649d_row0_col3\" class=\"data row0 col3\" >523</td>\n",
              "      <td id=\"T_8649d_row0_col4\" class=\"data row0 col4\" >273006</td>\n",
              "      <td id=\"T_8649d_row0_col5\" class=\"data row0 col5\" >0.084308</td>\n",
              "    </tr>\n",
              "    <tr>\n",
              "      <th id=\"T_8649d_level0_row1\" class=\"row_heading level0 row1\" >1</th>\n",
              "      <td id=\"T_8649d_row1_col0\" class=\"data row1 col0\" >Entailment</td>\n",
              "      <td id=\"T_8649d_row1_col1\" class=\"data row1 col1\" >325</td>\n",
              "      <td id=\"T_8649d_row1_col2\" class=\"data row1 col2\" >356</td>\n",
              "      <td id=\"T_8649d_row1_col3\" class=\"data row1 col3\" >681</td>\n",
              "      <td id=\"T_8649d_row1_col4\" class=\"data row1 col4\" >463080</td>\n",
              "      <td id=\"T_8649d_row1_col5\" class=\"data row1 col5\" >0.143005</td>\n",
              "    </tr>\n",
              "    <tr>\n",
              "      <th id=\"T_8649d_level0_row2\" class=\"row_heading level0 row2\" >2</th>\n",
              "      <td id=\"T_8649d_row2_col0\" class=\"data row2 col0\" >Neutral</td>\n",
              "      <td id=\"T_8649d_row2_col1\" class=\"data row2 col1\" >373</td>\n",
              "      <td id=\"T_8649d_row2_col2\" class=\"data row2 col2\" >223</td>\n",
              "      <td id=\"T_8649d_row2_col3\" class=\"data row2 col3\" >596</td>\n",
              "      <td id=\"T_8649d_row2_col4\" class=\"data row2 col4\" >354620</td>\n",
              "      <td id=\"T_8649d_row2_col5\" class=\"data row2 col5\" >0.109511</td>\n",
              "    </tr>\n",
              "  </tbody>\n",
              "</table>\n"
            ]
          },
          "metadata": {}
        }
      ]
    },
    {
      "cell_type": "markdown",
      "source": [
        "Compute the chance agreement as the sum of the last column and then insert into the formula. It is the same chance agreement as in the case of the coincidence matrix approach."
      ],
      "metadata": {
        "id": "grLDoJf3HD5q"
      }
    },
    {
      "cell_type": "code",
      "source": [
        "Chance_agreement2=0.084308+0.143005+0.109511\n",
        "Chance_agreement2"
      ],
      "metadata": {
        "colab": {
          "base_uri": "https://localhost:8080/"
        },
        "id": "35YLZIgNG5dL",
        "outputId": "fe12ddba-6479-4c03-a2a5-f2f9fd329d9d"
      },
      "execution_count": null,
      "outputs": [
        {
          "output_type": "execute_result",
          "data": {
            "text/plain": [
              "0.336824"
            ]
          },
          "metadata": {},
          "execution_count": 54
        }
      ]
    },
    {
      "cell_type": "markdown",
      "source": [
        "### Fleiss Kappa (3+ raters)"
      ],
      "metadata": {
        "id": "aLoYRADObl73"
      }
    },
    {
      "cell_type": "markdown",
      "source": [
        "This is the same as doing multiple Scott's Pi for pairs of raters and averaging the results"
      ],
      "metadata": {
        "id": "lWIz0hK2b2-u"
      }
    },
    {
      "cell_type": "markdown",
      "source": [
        "**Importing data**"
      ],
      "metadata": {
        "id": "AT1OLnAv05a2"
      }
    },
    {
      "cell_type": "code",
      "source": [
        "#from google.colab import drive\n",
        "#drive.mount('/content/drive')\n",
        "Evaluator1 = pd.read_excel('/content/drive/MyDrive/Colab Notebooks/Statistics/Curs/Data_c2/SNLI_Anca.xlsx')\n",
        "Evaluator2 = pd.read_excel('/content/drive/MyDrive/Colab Notebooks/Statistics/Curs/Data_c2/SNLI_Ionut.xlsx')\n",
        "Evaluator3 = pd.read_excel('/content/drive/MyDrive/Colab Notebooks/Statistics/Curs/Data_c2/SNLI_Larisa.xlsx')"
      ],
      "metadata": {
        "id": "WiwEN6qQblHP"
      },
      "execution_count": 54,
      "outputs": []
    },
    {
      "cell_type": "code",
      "source": [
        "Aggregated_kappa = pd.concat([Evaluator1['Label'], Evaluator2['Label'], Evaluator3['Label']], axis=1)\n",
        "\n",
        "Aggregated_kappa = Aggregated_kappa.set_axis(['Evaluator1', 'Evaluator2', 'Evaluator3'], axis=1)\n",
        "\n",
        "Aggregated_kappa"
      ],
      "metadata": {
        "colab": {
          "base_uri": "https://localhost:8080/",
          "height": 424
        },
        "id": "RpIqSyU5cRvI",
        "outputId": "d2ea30c0-a484-4664-b281-3f6bc72df26c"
      },
      "execution_count": 55,
      "outputs": [
        {
          "output_type": "execute_result",
          "data": {
            "text/plain": [
              "        Evaluator1     Evaluator2     Evaluator3\n",
              "0          Neutral  Contradiction  Contradiction\n",
              "1          Neutral        Neutral        Neutral\n",
              "2       Entailment     Entailment     Entailment\n",
              "3    Contradiction  Contradiction        Neutral\n",
              "4          Neutral        Neutral     Entailment\n",
              "..             ...            ...            ...\n",
              "895     Entailment     Entailment        Neutral\n",
              "896        Neutral        Neutral     Entailment\n",
              "897        Neutral     Entailment     Entailment\n",
              "898  Contradiction  Contradiction  Contradiction\n",
              "899  Contradiction  Contradiction  Contradiction\n",
              "\n",
              "[900 rows x 3 columns]"
            ],
            "text/html": [
              "\n",
              "  <div id=\"df-99f7bd1e-4c71-421f-a727-2d1e7d12c895\" class=\"colab-df-container\">\n",
              "    <div>\n",
              "<style scoped>\n",
              "    .dataframe tbody tr th:only-of-type {\n",
              "        vertical-align: middle;\n",
              "    }\n",
              "\n",
              "    .dataframe tbody tr th {\n",
              "        vertical-align: top;\n",
              "    }\n",
              "\n",
              "    .dataframe thead th {\n",
              "        text-align: right;\n",
              "    }\n",
              "</style>\n",
              "<table border=\"1\" class=\"dataframe\">\n",
              "  <thead>\n",
              "    <tr style=\"text-align: right;\">\n",
              "      <th></th>\n",
              "      <th>Evaluator1</th>\n",
              "      <th>Evaluator2</th>\n",
              "      <th>Evaluator3</th>\n",
              "    </tr>\n",
              "  </thead>\n",
              "  <tbody>\n",
              "    <tr>\n",
              "      <th>0</th>\n",
              "      <td>Neutral</td>\n",
              "      <td>Contradiction</td>\n",
              "      <td>Contradiction</td>\n",
              "    </tr>\n",
              "    <tr>\n",
              "      <th>1</th>\n",
              "      <td>Neutral</td>\n",
              "      <td>Neutral</td>\n",
              "      <td>Neutral</td>\n",
              "    </tr>\n",
              "    <tr>\n",
              "      <th>2</th>\n",
              "      <td>Entailment</td>\n",
              "      <td>Entailment</td>\n",
              "      <td>Entailment</td>\n",
              "    </tr>\n",
              "    <tr>\n",
              "      <th>3</th>\n",
              "      <td>Contradiction</td>\n",
              "      <td>Contradiction</td>\n",
              "      <td>Neutral</td>\n",
              "    </tr>\n",
              "    <tr>\n",
              "      <th>4</th>\n",
              "      <td>Neutral</td>\n",
              "      <td>Neutral</td>\n",
              "      <td>Entailment</td>\n",
              "    </tr>\n",
              "    <tr>\n",
              "      <th>...</th>\n",
              "      <td>...</td>\n",
              "      <td>...</td>\n",
              "      <td>...</td>\n",
              "    </tr>\n",
              "    <tr>\n",
              "      <th>895</th>\n",
              "      <td>Entailment</td>\n",
              "      <td>Entailment</td>\n",
              "      <td>Neutral</td>\n",
              "    </tr>\n",
              "    <tr>\n",
              "      <th>896</th>\n",
              "      <td>Neutral</td>\n",
              "      <td>Neutral</td>\n",
              "      <td>Entailment</td>\n",
              "    </tr>\n",
              "    <tr>\n",
              "      <th>897</th>\n",
              "      <td>Neutral</td>\n",
              "      <td>Entailment</td>\n",
              "      <td>Entailment</td>\n",
              "    </tr>\n",
              "    <tr>\n",
              "      <th>898</th>\n",
              "      <td>Contradiction</td>\n",
              "      <td>Contradiction</td>\n",
              "      <td>Contradiction</td>\n",
              "    </tr>\n",
              "    <tr>\n",
              "      <th>899</th>\n",
              "      <td>Contradiction</td>\n",
              "      <td>Contradiction</td>\n",
              "      <td>Contradiction</td>\n",
              "    </tr>\n",
              "  </tbody>\n",
              "</table>\n",
              "<p>900 rows × 3 columns</p>\n",
              "</div>\n",
              "    <div class=\"colab-df-buttons\">\n",
              "\n",
              "  <div class=\"colab-df-container\">\n",
              "    <button class=\"colab-df-convert\" onclick=\"convertToInteractive('df-99f7bd1e-4c71-421f-a727-2d1e7d12c895')\"\n",
              "            title=\"Convert this dataframe to an interactive table.\"\n",
              "            style=\"display:none;\">\n",
              "\n",
              "  <svg xmlns=\"http://www.w3.org/2000/svg\" height=\"24px\" viewBox=\"0 -960 960 960\">\n",
              "    <path d=\"M120-120v-720h720v720H120Zm60-500h600v-160H180v160Zm220 220h160v-160H400v160Zm0 220h160v-160H400v160ZM180-400h160v-160H180v160Zm440 0h160v-160H620v160ZM180-180h160v-160H180v160Zm440 0h160v-160H620v160Z\"/>\n",
              "  </svg>\n",
              "    </button>\n",
              "\n",
              "  <style>\n",
              "    .colab-df-container {\n",
              "      display:flex;\n",
              "      gap: 12px;\n",
              "    }\n",
              "\n",
              "    .colab-df-convert {\n",
              "      background-color: #E8F0FE;\n",
              "      border: none;\n",
              "      border-radius: 50%;\n",
              "      cursor: pointer;\n",
              "      display: none;\n",
              "      fill: #1967D2;\n",
              "      height: 32px;\n",
              "      padding: 0 0 0 0;\n",
              "      width: 32px;\n",
              "    }\n",
              "\n",
              "    .colab-df-convert:hover {\n",
              "      background-color: #E2EBFA;\n",
              "      box-shadow: 0px 1px 2px rgba(60, 64, 67, 0.3), 0px 1px 3px 1px rgba(60, 64, 67, 0.15);\n",
              "      fill: #174EA6;\n",
              "    }\n",
              "\n",
              "    .colab-df-buttons div {\n",
              "      margin-bottom: 4px;\n",
              "    }\n",
              "\n",
              "    [theme=dark] .colab-df-convert {\n",
              "      background-color: #3B4455;\n",
              "      fill: #D2E3FC;\n",
              "    }\n",
              "\n",
              "    [theme=dark] .colab-df-convert:hover {\n",
              "      background-color: #434B5C;\n",
              "      box-shadow: 0px 1px 3px 1px rgba(0, 0, 0, 0.15);\n",
              "      filter: drop-shadow(0px 1px 2px rgba(0, 0, 0, 0.3));\n",
              "      fill: #FFFFFF;\n",
              "    }\n",
              "  </style>\n",
              "\n",
              "    <script>\n",
              "      const buttonEl =\n",
              "        document.querySelector('#df-99f7bd1e-4c71-421f-a727-2d1e7d12c895 button.colab-df-convert');\n",
              "      buttonEl.style.display =\n",
              "        google.colab.kernel.accessAllowed ? 'block' : 'none';\n",
              "\n",
              "      async function convertToInteractive(key) {\n",
              "        const element = document.querySelector('#df-99f7bd1e-4c71-421f-a727-2d1e7d12c895');\n",
              "        const dataTable =\n",
              "          await google.colab.kernel.invokeFunction('convertToInteractive',\n",
              "                                                    [key], {});\n",
              "        if (!dataTable) return;\n",
              "\n",
              "        const docLinkHtml = 'Like what you see? Visit the ' +\n",
              "          '<a target=\"_blank\" href=https://colab.research.google.com/notebooks/data_table.ipynb>data table notebook</a>'\n",
              "          + ' to learn more about interactive tables.';\n",
              "        element.innerHTML = '';\n",
              "        dataTable['output_type'] = 'display_data';\n",
              "        await google.colab.output.renderOutput(dataTable, element);\n",
              "        const docLink = document.createElement('div');\n",
              "        docLink.innerHTML = docLinkHtml;\n",
              "        element.appendChild(docLink);\n",
              "      }\n",
              "    </script>\n",
              "  </div>\n",
              "\n",
              "\n",
              "<div id=\"df-5272de6f-ba05-43d2-9054-d5d47c38f9a3\">\n",
              "  <button class=\"colab-df-quickchart\" onclick=\"quickchart('df-5272de6f-ba05-43d2-9054-d5d47c38f9a3')\"\n",
              "            title=\"Suggest charts\"\n",
              "            style=\"display:none;\">\n",
              "\n",
              "<svg xmlns=\"http://www.w3.org/2000/svg\" height=\"24px\"viewBox=\"0 0 24 24\"\n",
              "     width=\"24px\">\n",
              "    <g>\n",
              "        <path d=\"M19 3H5c-1.1 0-2 .9-2 2v14c0 1.1.9 2 2 2h14c1.1 0 2-.9 2-2V5c0-1.1-.9-2-2-2zM9 17H7v-7h2v7zm4 0h-2V7h2v10zm4 0h-2v-4h2v4z\"/>\n",
              "    </g>\n",
              "</svg>\n",
              "  </button>\n",
              "\n",
              "<style>\n",
              "  .colab-df-quickchart {\n",
              "      --bg-color: #E8F0FE;\n",
              "      --fill-color: #1967D2;\n",
              "      --hover-bg-color: #E2EBFA;\n",
              "      --hover-fill-color: #174EA6;\n",
              "      --disabled-fill-color: #AAA;\n",
              "      --disabled-bg-color: #DDD;\n",
              "  }\n",
              "\n",
              "  [theme=dark] .colab-df-quickchart {\n",
              "      --bg-color: #3B4455;\n",
              "      --fill-color: #D2E3FC;\n",
              "      --hover-bg-color: #434B5C;\n",
              "      --hover-fill-color: #FFFFFF;\n",
              "      --disabled-bg-color: #3B4455;\n",
              "      --disabled-fill-color: #666;\n",
              "  }\n",
              "\n",
              "  .colab-df-quickchart {\n",
              "    background-color: var(--bg-color);\n",
              "    border: none;\n",
              "    border-radius: 50%;\n",
              "    cursor: pointer;\n",
              "    display: none;\n",
              "    fill: var(--fill-color);\n",
              "    height: 32px;\n",
              "    padding: 0;\n",
              "    width: 32px;\n",
              "  }\n",
              "\n",
              "  .colab-df-quickchart:hover {\n",
              "    background-color: var(--hover-bg-color);\n",
              "    box-shadow: 0 1px 2px rgba(60, 64, 67, 0.3), 0 1px 3px 1px rgba(60, 64, 67, 0.15);\n",
              "    fill: var(--button-hover-fill-color);\n",
              "  }\n",
              "\n",
              "  .colab-df-quickchart-complete:disabled,\n",
              "  .colab-df-quickchart-complete:disabled:hover {\n",
              "    background-color: var(--disabled-bg-color);\n",
              "    fill: var(--disabled-fill-color);\n",
              "    box-shadow: none;\n",
              "  }\n",
              "\n",
              "  .colab-df-spinner {\n",
              "    border: 2px solid var(--fill-color);\n",
              "    border-color: transparent;\n",
              "    border-bottom-color: var(--fill-color);\n",
              "    animation:\n",
              "      spin 1s steps(1) infinite;\n",
              "  }\n",
              "\n",
              "  @keyframes spin {\n",
              "    0% {\n",
              "      border-color: transparent;\n",
              "      border-bottom-color: var(--fill-color);\n",
              "      border-left-color: var(--fill-color);\n",
              "    }\n",
              "    20% {\n",
              "      border-color: transparent;\n",
              "      border-left-color: var(--fill-color);\n",
              "      border-top-color: var(--fill-color);\n",
              "    }\n",
              "    30% {\n",
              "      border-color: transparent;\n",
              "      border-left-color: var(--fill-color);\n",
              "      border-top-color: var(--fill-color);\n",
              "      border-right-color: var(--fill-color);\n",
              "    }\n",
              "    40% {\n",
              "      border-color: transparent;\n",
              "      border-right-color: var(--fill-color);\n",
              "      border-top-color: var(--fill-color);\n",
              "    }\n",
              "    60% {\n",
              "      border-color: transparent;\n",
              "      border-right-color: var(--fill-color);\n",
              "    }\n",
              "    80% {\n",
              "      border-color: transparent;\n",
              "      border-right-color: var(--fill-color);\n",
              "      border-bottom-color: var(--fill-color);\n",
              "    }\n",
              "    90% {\n",
              "      border-color: transparent;\n",
              "      border-bottom-color: var(--fill-color);\n",
              "    }\n",
              "  }\n",
              "</style>\n",
              "\n",
              "  <script>\n",
              "    async function quickchart(key) {\n",
              "      const quickchartButtonEl =\n",
              "        document.querySelector('#' + key + ' button');\n",
              "      quickchartButtonEl.disabled = true;  // To prevent multiple clicks.\n",
              "      quickchartButtonEl.classList.add('colab-df-spinner');\n",
              "      try {\n",
              "        const charts = await google.colab.kernel.invokeFunction(\n",
              "            'suggestCharts', [key], {});\n",
              "      } catch (error) {\n",
              "        console.error('Error during call to suggestCharts:', error);\n",
              "      }\n",
              "      quickchartButtonEl.classList.remove('colab-df-spinner');\n",
              "      quickchartButtonEl.classList.add('colab-df-quickchart-complete');\n",
              "    }\n",
              "    (() => {\n",
              "      let quickchartButtonEl =\n",
              "        document.querySelector('#df-5272de6f-ba05-43d2-9054-d5d47c38f9a3 button');\n",
              "      quickchartButtonEl.style.display =\n",
              "        google.colab.kernel.accessAllowed ? 'block' : 'none';\n",
              "    })();\n",
              "  </script>\n",
              "</div>\n",
              "\n",
              "  <div id=\"id_f24a0f50-15ff-4ce8-9bfb-5212af42beda\">\n",
              "    <style>\n",
              "      .colab-df-generate {\n",
              "        background-color: #E8F0FE;\n",
              "        border: none;\n",
              "        border-radius: 50%;\n",
              "        cursor: pointer;\n",
              "        display: none;\n",
              "        fill: #1967D2;\n",
              "        height: 32px;\n",
              "        padding: 0 0 0 0;\n",
              "        width: 32px;\n",
              "      }\n",
              "\n",
              "      .colab-df-generate:hover {\n",
              "        background-color: #E2EBFA;\n",
              "        box-shadow: 0px 1px 2px rgba(60, 64, 67, 0.3), 0px 1px 3px 1px rgba(60, 64, 67, 0.15);\n",
              "        fill: #174EA6;\n",
              "      }\n",
              "\n",
              "      [theme=dark] .colab-df-generate {\n",
              "        background-color: #3B4455;\n",
              "        fill: #D2E3FC;\n",
              "      }\n",
              "\n",
              "      [theme=dark] .colab-df-generate:hover {\n",
              "        background-color: #434B5C;\n",
              "        box-shadow: 0px 1px 3px 1px rgba(0, 0, 0, 0.15);\n",
              "        filter: drop-shadow(0px 1px 2px rgba(0, 0, 0, 0.3));\n",
              "        fill: #FFFFFF;\n",
              "      }\n",
              "    </style>\n",
              "    <button class=\"colab-df-generate\" onclick=\"generateWithVariable('Aggregated_kappa')\"\n",
              "            title=\"Generate code using this dataframe.\"\n",
              "            style=\"display:none;\">\n",
              "\n",
              "  <svg xmlns=\"http://www.w3.org/2000/svg\" height=\"24px\"viewBox=\"0 0 24 24\"\n",
              "       width=\"24px\">\n",
              "    <path d=\"M7,19H8.4L18.45,9,17,7.55,7,17.6ZM5,21V16.75L18.45,3.32a2,2,0,0,1,2.83,0l1.4,1.43a1.91,1.91,0,0,1,.58,1.4,1.91,1.91,0,0,1-.58,1.4L9.25,21ZM18.45,9,17,7.55Zm-12,3A5.31,5.31,0,0,0,4.9,8.1,5.31,5.31,0,0,0,1,6.5,5.31,5.31,0,0,0,4.9,4.9,5.31,5.31,0,0,0,6.5,1,5.31,5.31,0,0,0,8.1,4.9,5.31,5.31,0,0,0,12,6.5,5.46,5.46,0,0,0,6.5,12Z\"/>\n",
              "  </svg>\n",
              "    </button>\n",
              "    <script>\n",
              "      (() => {\n",
              "      const buttonEl =\n",
              "        document.querySelector('#id_f24a0f50-15ff-4ce8-9bfb-5212af42beda button.colab-df-generate');\n",
              "      buttonEl.style.display =\n",
              "        google.colab.kernel.accessAllowed ? 'block' : 'none';\n",
              "\n",
              "      buttonEl.onclick = () => {\n",
              "        google.colab.notebook.generateWithVariable('Aggregated_kappa');\n",
              "      }\n",
              "      })();\n",
              "    </script>\n",
              "  </div>\n",
              "\n",
              "    </div>\n",
              "  </div>\n"
            ],
            "application/vnd.google.colaboratory.intrinsic+json": {
              "type": "dataframe",
              "variable_name": "Aggregated_kappa",
              "summary": "{\n  \"name\": \"Aggregated_kappa\",\n  \"rows\": 900,\n  \"fields\": [\n    {\n      \"column\": \"Evaluator1\",\n      \"properties\": {\n        \"dtype\": \"category\",\n        \"num_unique_values\": 3,\n        \"samples\": [\n          \"Neutral\",\n          \"Entailment\",\n          \"Contradiction\"\n        ],\n        \"semantic_type\": \"\",\n        \"description\": \"\"\n      }\n    },\n    {\n      \"column\": \"Evaluator2\",\n      \"properties\": {\n        \"dtype\": \"category\",\n        \"num_unique_values\": 3,\n        \"samples\": [\n          \"Contradiction\",\n          \"Neutral\",\n          \"Entailment\"\n        ],\n        \"semantic_type\": \"\",\n        \"description\": \"\"\n      }\n    },\n    {\n      \"column\": \"Evaluator3\",\n      \"properties\": {\n        \"dtype\": \"category\",\n        \"num_unique_values\": 3,\n        \"samples\": [\n          \"Contradiction\",\n          \"Neutral\",\n          \"Entailment\"\n        ],\n        \"semantic_type\": \"\",\n        \"description\": \"\"\n      }\n    }\n  ]\n}"
            }
          },
          "metadata": {},
          "execution_count": 55
        }
      ]
    },
    {
      "cell_type": "markdown",
      "source": [
        "**Turning data into an appropiate format**"
      ],
      "metadata": {
        "id": "hHvTW-tS04iy"
      }
    },
    {
      "cell_type": "code",
      "source": [
        "#!pip install statsmodels\n",
        "from statsmodels.stats.inter_rater import aggregate_raters\n",
        "Aggregated_kappa_subject_label = aggregate_raters(Aggregated_kappa, n_cat=None)\n",
        "Aggregated_kappa_subject_label\n",
        "df = pd.DataFrame(Aggregated_kappa_subject_label[0], columns=Aggregated_kappa_subject_label[1])\n",
        "df['Sentence Pair'] = [f'Sentence Pair {i+1}' for i in range(len(df))]\n",
        "\n",
        "# Reorder columns to have 'Sentence Pair' as the first column\n",
        "df = df[['Sentence Pair', 'Contradiction', 'Entailment', 'Neutral']]\n",
        "\n",
        "df"
      ],
      "metadata": {
        "colab": {
          "base_uri": "https://localhost:8080/",
          "height": 424
        },
        "id": "Wctbm7OMeUmx",
        "outputId": "67a0afe0-b966-422b-e024-5940094eb89c"
      },
      "execution_count": 56,
      "outputs": [
        {
          "output_type": "execute_result",
          "data": {
            "text/plain": [
              "         Sentence Pair  Contradiction  Entailment  Neutral\n",
              "0      Sentence Pair 1              2           0        1\n",
              "1      Sentence Pair 2              0           0        3\n",
              "2      Sentence Pair 3              0           3        0\n",
              "3      Sentence Pair 4              2           0        1\n",
              "4      Sentence Pair 5              0           1        2\n",
              "..                 ...            ...         ...      ...\n",
              "895  Sentence Pair 896              0           2        1\n",
              "896  Sentence Pair 897              0           1        2\n",
              "897  Sentence Pair 898              0           2        1\n",
              "898  Sentence Pair 899              3           0        0\n",
              "899  Sentence Pair 900              3           0        0\n",
              "\n",
              "[900 rows x 4 columns]"
            ],
            "text/html": [
              "\n",
              "  <div id=\"df-2e68dcb6-c3d3-4748-97eb-e75ca49caddc\" class=\"colab-df-container\">\n",
              "    <div>\n",
              "<style scoped>\n",
              "    .dataframe tbody tr th:only-of-type {\n",
              "        vertical-align: middle;\n",
              "    }\n",
              "\n",
              "    .dataframe tbody tr th {\n",
              "        vertical-align: top;\n",
              "    }\n",
              "\n",
              "    .dataframe thead th {\n",
              "        text-align: right;\n",
              "    }\n",
              "</style>\n",
              "<table border=\"1\" class=\"dataframe\">\n",
              "  <thead>\n",
              "    <tr style=\"text-align: right;\">\n",
              "      <th></th>\n",
              "      <th>Sentence Pair</th>\n",
              "      <th>Contradiction</th>\n",
              "      <th>Entailment</th>\n",
              "      <th>Neutral</th>\n",
              "    </tr>\n",
              "  </thead>\n",
              "  <tbody>\n",
              "    <tr>\n",
              "      <th>0</th>\n",
              "      <td>Sentence Pair 1</td>\n",
              "      <td>2</td>\n",
              "      <td>0</td>\n",
              "      <td>1</td>\n",
              "    </tr>\n",
              "    <tr>\n",
              "      <th>1</th>\n",
              "      <td>Sentence Pair 2</td>\n",
              "      <td>0</td>\n",
              "      <td>0</td>\n",
              "      <td>3</td>\n",
              "    </tr>\n",
              "    <tr>\n",
              "      <th>2</th>\n",
              "      <td>Sentence Pair 3</td>\n",
              "      <td>0</td>\n",
              "      <td>3</td>\n",
              "      <td>0</td>\n",
              "    </tr>\n",
              "    <tr>\n",
              "      <th>3</th>\n",
              "      <td>Sentence Pair 4</td>\n",
              "      <td>2</td>\n",
              "      <td>0</td>\n",
              "      <td>1</td>\n",
              "    </tr>\n",
              "    <tr>\n",
              "      <th>4</th>\n",
              "      <td>Sentence Pair 5</td>\n",
              "      <td>0</td>\n",
              "      <td>1</td>\n",
              "      <td>2</td>\n",
              "    </tr>\n",
              "    <tr>\n",
              "      <th>...</th>\n",
              "      <td>...</td>\n",
              "      <td>...</td>\n",
              "      <td>...</td>\n",
              "      <td>...</td>\n",
              "    </tr>\n",
              "    <tr>\n",
              "      <th>895</th>\n",
              "      <td>Sentence Pair 896</td>\n",
              "      <td>0</td>\n",
              "      <td>2</td>\n",
              "      <td>1</td>\n",
              "    </tr>\n",
              "    <tr>\n",
              "      <th>896</th>\n",
              "      <td>Sentence Pair 897</td>\n",
              "      <td>0</td>\n",
              "      <td>1</td>\n",
              "      <td>2</td>\n",
              "    </tr>\n",
              "    <tr>\n",
              "      <th>897</th>\n",
              "      <td>Sentence Pair 898</td>\n",
              "      <td>0</td>\n",
              "      <td>2</td>\n",
              "      <td>1</td>\n",
              "    </tr>\n",
              "    <tr>\n",
              "      <th>898</th>\n",
              "      <td>Sentence Pair 899</td>\n",
              "      <td>3</td>\n",
              "      <td>0</td>\n",
              "      <td>0</td>\n",
              "    </tr>\n",
              "    <tr>\n",
              "      <th>899</th>\n",
              "      <td>Sentence Pair 900</td>\n",
              "      <td>3</td>\n",
              "      <td>0</td>\n",
              "      <td>0</td>\n",
              "    </tr>\n",
              "  </tbody>\n",
              "</table>\n",
              "<p>900 rows × 4 columns</p>\n",
              "</div>\n",
              "    <div class=\"colab-df-buttons\">\n",
              "\n",
              "  <div class=\"colab-df-container\">\n",
              "    <button class=\"colab-df-convert\" onclick=\"convertToInteractive('df-2e68dcb6-c3d3-4748-97eb-e75ca49caddc')\"\n",
              "            title=\"Convert this dataframe to an interactive table.\"\n",
              "            style=\"display:none;\">\n",
              "\n",
              "  <svg xmlns=\"http://www.w3.org/2000/svg\" height=\"24px\" viewBox=\"0 -960 960 960\">\n",
              "    <path d=\"M120-120v-720h720v720H120Zm60-500h600v-160H180v160Zm220 220h160v-160H400v160Zm0 220h160v-160H400v160ZM180-400h160v-160H180v160Zm440 0h160v-160H620v160ZM180-180h160v-160H180v160Zm440 0h160v-160H620v160Z\"/>\n",
              "  </svg>\n",
              "    </button>\n",
              "\n",
              "  <style>\n",
              "    .colab-df-container {\n",
              "      display:flex;\n",
              "      gap: 12px;\n",
              "    }\n",
              "\n",
              "    .colab-df-convert {\n",
              "      background-color: #E8F0FE;\n",
              "      border: none;\n",
              "      border-radius: 50%;\n",
              "      cursor: pointer;\n",
              "      display: none;\n",
              "      fill: #1967D2;\n",
              "      height: 32px;\n",
              "      padding: 0 0 0 0;\n",
              "      width: 32px;\n",
              "    }\n",
              "\n",
              "    .colab-df-convert:hover {\n",
              "      background-color: #E2EBFA;\n",
              "      box-shadow: 0px 1px 2px rgba(60, 64, 67, 0.3), 0px 1px 3px 1px rgba(60, 64, 67, 0.15);\n",
              "      fill: #174EA6;\n",
              "    }\n",
              "\n",
              "    .colab-df-buttons div {\n",
              "      margin-bottom: 4px;\n",
              "    }\n",
              "\n",
              "    [theme=dark] .colab-df-convert {\n",
              "      background-color: #3B4455;\n",
              "      fill: #D2E3FC;\n",
              "    }\n",
              "\n",
              "    [theme=dark] .colab-df-convert:hover {\n",
              "      background-color: #434B5C;\n",
              "      box-shadow: 0px 1px 3px 1px rgba(0, 0, 0, 0.15);\n",
              "      filter: drop-shadow(0px 1px 2px rgba(0, 0, 0, 0.3));\n",
              "      fill: #FFFFFF;\n",
              "    }\n",
              "  </style>\n",
              "\n",
              "    <script>\n",
              "      const buttonEl =\n",
              "        document.querySelector('#df-2e68dcb6-c3d3-4748-97eb-e75ca49caddc button.colab-df-convert');\n",
              "      buttonEl.style.display =\n",
              "        google.colab.kernel.accessAllowed ? 'block' : 'none';\n",
              "\n",
              "      async function convertToInteractive(key) {\n",
              "        const element = document.querySelector('#df-2e68dcb6-c3d3-4748-97eb-e75ca49caddc');\n",
              "        const dataTable =\n",
              "          await google.colab.kernel.invokeFunction('convertToInteractive',\n",
              "                                                    [key], {});\n",
              "        if (!dataTable) return;\n",
              "\n",
              "        const docLinkHtml = 'Like what you see? Visit the ' +\n",
              "          '<a target=\"_blank\" href=https://colab.research.google.com/notebooks/data_table.ipynb>data table notebook</a>'\n",
              "          + ' to learn more about interactive tables.';\n",
              "        element.innerHTML = '';\n",
              "        dataTable['output_type'] = 'display_data';\n",
              "        await google.colab.output.renderOutput(dataTable, element);\n",
              "        const docLink = document.createElement('div');\n",
              "        docLink.innerHTML = docLinkHtml;\n",
              "        element.appendChild(docLink);\n",
              "      }\n",
              "    </script>\n",
              "  </div>\n",
              "\n",
              "\n",
              "<div id=\"df-f8fe95f4-2ac5-48ec-84bd-3d4735ed442a\">\n",
              "  <button class=\"colab-df-quickchart\" onclick=\"quickchart('df-f8fe95f4-2ac5-48ec-84bd-3d4735ed442a')\"\n",
              "            title=\"Suggest charts\"\n",
              "            style=\"display:none;\">\n",
              "\n",
              "<svg xmlns=\"http://www.w3.org/2000/svg\" height=\"24px\"viewBox=\"0 0 24 24\"\n",
              "     width=\"24px\">\n",
              "    <g>\n",
              "        <path d=\"M19 3H5c-1.1 0-2 .9-2 2v14c0 1.1.9 2 2 2h14c1.1 0 2-.9 2-2V5c0-1.1-.9-2-2-2zM9 17H7v-7h2v7zm4 0h-2V7h2v10zm4 0h-2v-4h2v4z\"/>\n",
              "    </g>\n",
              "</svg>\n",
              "  </button>\n",
              "\n",
              "<style>\n",
              "  .colab-df-quickchart {\n",
              "      --bg-color: #E8F0FE;\n",
              "      --fill-color: #1967D2;\n",
              "      --hover-bg-color: #E2EBFA;\n",
              "      --hover-fill-color: #174EA6;\n",
              "      --disabled-fill-color: #AAA;\n",
              "      --disabled-bg-color: #DDD;\n",
              "  }\n",
              "\n",
              "  [theme=dark] .colab-df-quickchart {\n",
              "      --bg-color: #3B4455;\n",
              "      --fill-color: #D2E3FC;\n",
              "      --hover-bg-color: #434B5C;\n",
              "      --hover-fill-color: #FFFFFF;\n",
              "      --disabled-bg-color: #3B4455;\n",
              "      --disabled-fill-color: #666;\n",
              "  }\n",
              "\n",
              "  .colab-df-quickchart {\n",
              "    background-color: var(--bg-color);\n",
              "    border: none;\n",
              "    border-radius: 50%;\n",
              "    cursor: pointer;\n",
              "    display: none;\n",
              "    fill: var(--fill-color);\n",
              "    height: 32px;\n",
              "    padding: 0;\n",
              "    width: 32px;\n",
              "  }\n",
              "\n",
              "  .colab-df-quickchart:hover {\n",
              "    background-color: var(--hover-bg-color);\n",
              "    box-shadow: 0 1px 2px rgba(60, 64, 67, 0.3), 0 1px 3px 1px rgba(60, 64, 67, 0.15);\n",
              "    fill: var(--button-hover-fill-color);\n",
              "  }\n",
              "\n",
              "  .colab-df-quickchart-complete:disabled,\n",
              "  .colab-df-quickchart-complete:disabled:hover {\n",
              "    background-color: var(--disabled-bg-color);\n",
              "    fill: var(--disabled-fill-color);\n",
              "    box-shadow: none;\n",
              "  }\n",
              "\n",
              "  .colab-df-spinner {\n",
              "    border: 2px solid var(--fill-color);\n",
              "    border-color: transparent;\n",
              "    border-bottom-color: var(--fill-color);\n",
              "    animation:\n",
              "      spin 1s steps(1) infinite;\n",
              "  }\n",
              "\n",
              "  @keyframes spin {\n",
              "    0% {\n",
              "      border-color: transparent;\n",
              "      border-bottom-color: var(--fill-color);\n",
              "      border-left-color: var(--fill-color);\n",
              "    }\n",
              "    20% {\n",
              "      border-color: transparent;\n",
              "      border-left-color: var(--fill-color);\n",
              "      border-top-color: var(--fill-color);\n",
              "    }\n",
              "    30% {\n",
              "      border-color: transparent;\n",
              "      border-left-color: var(--fill-color);\n",
              "      border-top-color: var(--fill-color);\n",
              "      border-right-color: var(--fill-color);\n",
              "    }\n",
              "    40% {\n",
              "      border-color: transparent;\n",
              "      border-right-color: var(--fill-color);\n",
              "      border-top-color: var(--fill-color);\n",
              "    }\n",
              "    60% {\n",
              "      border-color: transparent;\n",
              "      border-right-color: var(--fill-color);\n",
              "    }\n",
              "    80% {\n",
              "      border-color: transparent;\n",
              "      border-right-color: var(--fill-color);\n",
              "      border-bottom-color: var(--fill-color);\n",
              "    }\n",
              "    90% {\n",
              "      border-color: transparent;\n",
              "      border-bottom-color: var(--fill-color);\n",
              "    }\n",
              "  }\n",
              "</style>\n",
              "\n",
              "  <script>\n",
              "    async function quickchart(key) {\n",
              "      const quickchartButtonEl =\n",
              "        document.querySelector('#' + key + ' button');\n",
              "      quickchartButtonEl.disabled = true;  // To prevent multiple clicks.\n",
              "      quickchartButtonEl.classList.add('colab-df-spinner');\n",
              "      try {\n",
              "        const charts = await google.colab.kernel.invokeFunction(\n",
              "            'suggestCharts', [key], {});\n",
              "      } catch (error) {\n",
              "        console.error('Error during call to suggestCharts:', error);\n",
              "      }\n",
              "      quickchartButtonEl.classList.remove('colab-df-spinner');\n",
              "      quickchartButtonEl.classList.add('colab-df-quickchart-complete');\n",
              "    }\n",
              "    (() => {\n",
              "      let quickchartButtonEl =\n",
              "        document.querySelector('#df-f8fe95f4-2ac5-48ec-84bd-3d4735ed442a button');\n",
              "      quickchartButtonEl.style.display =\n",
              "        google.colab.kernel.accessAllowed ? 'block' : 'none';\n",
              "    })();\n",
              "  </script>\n",
              "</div>\n",
              "\n",
              "  <div id=\"id_5d895283-b354-4a64-a931-4a08db5bb308\">\n",
              "    <style>\n",
              "      .colab-df-generate {\n",
              "        background-color: #E8F0FE;\n",
              "        border: none;\n",
              "        border-radius: 50%;\n",
              "        cursor: pointer;\n",
              "        display: none;\n",
              "        fill: #1967D2;\n",
              "        height: 32px;\n",
              "        padding: 0 0 0 0;\n",
              "        width: 32px;\n",
              "      }\n",
              "\n",
              "      .colab-df-generate:hover {\n",
              "        background-color: #E2EBFA;\n",
              "        box-shadow: 0px 1px 2px rgba(60, 64, 67, 0.3), 0px 1px 3px 1px rgba(60, 64, 67, 0.15);\n",
              "        fill: #174EA6;\n",
              "      }\n",
              "\n",
              "      [theme=dark] .colab-df-generate {\n",
              "        background-color: #3B4455;\n",
              "        fill: #D2E3FC;\n",
              "      }\n",
              "\n",
              "      [theme=dark] .colab-df-generate:hover {\n",
              "        background-color: #434B5C;\n",
              "        box-shadow: 0px 1px 3px 1px rgba(0, 0, 0, 0.15);\n",
              "        filter: drop-shadow(0px 1px 2px rgba(0, 0, 0, 0.3));\n",
              "        fill: #FFFFFF;\n",
              "      }\n",
              "    </style>\n",
              "    <button class=\"colab-df-generate\" onclick=\"generateWithVariable('df')\"\n",
              "            title=\"Generate code using this dataframe.\"\n",
              "            style=\"display:none;\">\n",
              "\n",
              "  <svg xmlns=\"http://www.w3.org/2000/svg\" height=\"24px\"viewBox=\"0 0 24 24\"\n",
              "       width=\"24px\">\n",
              "    <path d=\"M7,19H8.4L18.45,9,17,7.55,7,17.6ZM5,21V16.75L18.45,3.32a2,2,0,0,1,2.83,0l1.4,1.43a1.91,1.91,0,0,1,.58,1.4,1.91,1.91,0,0,1-.58,1.4L9.25,21ZM18.45,9,17,7.55Zm-12,3A5.31,5.31,0,0,0,4.9,8.1,5.31,5.31,0,0,0,1,6.5,5.31,5.31,0,0,0,4.9,4.9,5.31,5.31,0,0,0,6.5,1,5.31,5.31,0,0,0,8.1,4.9,5.31,5.31,0,0,0,12,6.5,5.46,5.46,0,0,0,6.5,12Z\"/>\n",
              "  </svg>\n",
              "    </button>\n",
              "    <script>\n",
              "      (() => {\n",
              "      const buttonEl =\n",
              "        document.querySelector('#id_5d895283-b354-4a64-a931-4a08db5bb308 button.colab-df-generate');\n",
              "      buttonEl.style.display =\n",
              "        google.colab.kernel.accessAllowed ? 'block' : 'none';\n",
              "\n",
              "      buttonEl.onclick = () => {\n",
              "        google.colab.notebook.generateWithVariable('df');\n",
              "      }\n",
              "      })();\n",
              "    </script>\n",
              "  </div>\n",
              "\n",
              "    </div>\n",
              "  </div>\n"
            ],
            "application/vnd.google.colaboratory.intrinsic+json": {
              "type": "dataframe",
              "variable_name": "df",
              "summary": "{\n  \"name\": \"df\",\n  \"rows\": 900,\n  \"fields\": [\n    {\n      \"column\": \"Sentence Pair\",\n      \"properties\": {\n        \"dtype\": \"string\",\n        \"num_unique_values\": 900,\n        \"samples\": [\n          \"Sentence Pair 71\",\n          \"Sentence Pair 828\",\n          \"Sentence Pair 232\"\n        ],\n        \"semantic_type\": \"\",\n        \"description\": \"\"\n      }\n    },\n    {\n      \"column\": \"Contradiction\",\n      \"properties\": {\n        \"dtype\": \"number\",\n        \"std\": 1,\n        \"min\": 0,\n        \"max\": 3,\n        \"num_unique_values\": 4,\n        \"samples\": [\n          0,\n          1,\n          2\n        ],\n        \"semantic_type\": \"\",\n        \"description\": \"\"\n      }\n    },\n    {\n      \"column\": \"Entailment\",\n      \"properties\": {\n        \"dtype\": \"number\",\n        \"std\": 1,\n        \"min\": 0,\n        \"max\": 3,\n        \"num_unique_values\": 4,\n        \"samples\": [\n          3,\n          2,\n          0\n        ],\n        \"semantic_type\": \"\",\n        \"description\": \"\"\n      }\n    },\n    {\n      \"column\": \"Neutral\",\n      \"properties\": {\n        \"dtype\": \"number\",\n        \"std\": 1,\n        \"min\": 0,\n        \"max\": 3,\n        \"num_unique_values\": 4,\n        \"samples\": [\n          3,\n          2,\n          1\n        ],\n        \"semantic_type\": \"\",\n        \"description\": \"\"\n      }\n    }\n  ]\n}"
            }
          },
          "metadata": {},
          "execution_count": 56
        }
      ]
    },
    {
      "cell_type": "markdown",
      "source": [
        "❗ Notice that the \"aggregate_rateres\" produces a touple of two arrays so we need to select the first one"
      ],
      "metadata": {
        "id": "PU_niZV1bOm5"
      }
    },
    {
      "cell_type": "code",
      "source": [
        "Aggregated_kappa_subject_label_good = Aggregated_kappa_subject_label[0]"
      ],
      "metadata": {
        "id": "hT0erxQa3HOM"
      },
      "execution_count": 57,
      "outputs": []
    },
    {
      "cell_type": "markdown",
      "source": [
        "**Compute Fleiss Kappa**"
      ],
      "metadata": {
        "id": "aAfJW4jS09-6"
      }
    },
    {
      "cell_type": "code",
      "source": [
        "#!pip install statsmodels\n",
        "from statsmodels.stats.inter_rater import fleiss_kappa\n",
        "fleiss_kappa(Aggregated_kappa_subject_label_good, method='fleiss')"
      ],
      "metadata": {
        "colab": {
          "base_uri": "https://localhost:8080/"
        },
        "id": "vExafnPtdTUg",
        "outputId": "acc945ba-37cc-408a-b59e-e95d4864f3f7"
      },
      "execution_count": null,
      "outputs": [
        {
          "output_type": "execute_result",
          "data": {
            "text/plain": [
              "0.49906026144937043"
            ]
          },
          "metadata": {},
          "execution_count": 6
        }
      ]
    },
    {
      "cell_type": "markdown",
      "source": [
        "#### Fleiss Kappa with missing data ❓"
      ],
      "metadata": {
        "id": "ssqbmzQhUi2W"
      }
    },
    {
      "cell_type": "markdown",
      "source": [
        "Assuming a table with evaluated objects on rows and raters on columns.\n",
        "Missing values coded as Nan"
      ],
      "metadata": {
        "id": "jesyFf1QPDyV"
      }
    },
    {
      "cell_type": "code",
      "source": [
        "#from google.colab import drive\n",
        "#drive.mount('/content/drive')\n",
        "Evaluator1_Missing = pd.read_excel('/content/drive/MyDrive/Colab Notebooks/Statistics/Curs/Data_c2/Missing_SNLI_Anca.xlsx')\n",
        "Evaluator2_Missing = pd.read_excel('/content/drive/MyDrive/Colab Notebooks/Statistics/Curs/Data_c2/Missing_SNLI_Ionut.xlsx')\n",
        "Evaluator3_Missing = pd.read_excel('/content/drive/MyDrive/Colab Notebooks/Statistics/Curs/Data_c2/Missing_SNLI_Larisa.xlsx')\n",
        "Aggregated_Missing_3 = pd.concat([Evaluator1_Missing['Label'],Evaluator2_Missing['Label'],Evaluator3_Missing['Label']], axis=1)\n",
        "\n",
        "Aggregated_Missing_3 = Aggregated_Missing_3.set_axis([ 'Evaluator1', 'Evaluator2', 'Evaluator3'], axis=1)\n",
        "Aggregated_Missing_3"
      ],
      "metadata": {
        "colab": {
          "base_uri": "https://localhost:8080/",
          "height": 424
        },
        "id": "bM5n4oVSSBrQ",
        "outputId": "a43c8189-69f8-40bf-8ea5-050da10d84c9"
      },
      "execution_count": 58,
      "outputs": [
        {
          "output_type": "execute_result",
          "data": {
            "text/plain": [
              "        Evaluator1     Evaluator2     Evaluator3\n",
              "0          Neutral  Contradiction  Contradiction\n",
              "1          Neutral        Neutral        Neutral\n",
              "2       Entailment     Entailment     Entailment\n",
              "3    Contradiction  Contradiction        Neutral\n",
              "4          Neutral        Neutral     Entailment\n",
              "..             ...            ...            ...\n",
              "895     Entailment     Entailment        Neutral\n",
              "896        Neutral        Neutral     Entailment\n",
              "897        Neutral     Entailment     Entailment\n",
              "898  Contradiction  Contradiction  Contradiction\n",
              "899  Contradiction  Contradiction  Contradiction\n",
              "\n",
              "[900 rows x 3 columns]"
            ],
            "text/html": [
              "\n",
              "  <div id=\"df-fd8050e9-370f-4aa8-9062-ff92ea8296b1\" class=\"colab-df-container\">\n",
              "    <div>\n",
              "<style scoped>\n",
              "    .dataframe tbody tr th:only-of-type {\n",
              "        vertical-align: middle;\n",
              "    }\n",
              "\n",
              "    .dataframe tbody tr th {\n",
              "        vertical-align: top;\n",
              "    }\n",
              "\n",
              "    .dataframe thead th {\n",
              "        text-align: right;\n",
              "    }\n",
              "</style>\n",
              "<table border=\"1\" class=\"dataframe\">\n",
              "  <thead>\n",
              "    <tr style=\"text-align: right;\">\n",
              "      <th></th>\n",
              "      <th>Evaluator1</th>\n",
              "      <th>Evaluator2</th>\n",
              "      <th>Evaluator3</th>\n",
              "    </tr>\n",
              "  </thead>\n",
              "  <tbody>\n",
              "    <tr>\n",
              "      <th>0</th>\n",
              "      <td>Neutral</td>\n",
              "      <td>Contradiction</td>\n",
              "      <td>Contradiction</td>\n",
              "    </tr>\n",
              "    <tr>\n",
              "      <th>1</th>\n",
              "      <td>Neutral</td>\n",
              "      <td>Neutral</td>\n",
              "      <td>Neutral</td>\n",
              "    </tr>\n",
              "    <tr>\n",
              "      <th>2</th>\n",
              "      <td>Entailment</td>\n",
              "      <td>Entailment</td>\n",
              "      <td>Entailment</td>\n",
              "    </tr>\n",
              "    <tr>\n",
              "      <th>3</th>\n",
              "      <td>Contradiction</td>\n",
              "      <td>Contradiction</td>\n",
              "      <td>Neutral</td>\n",
              "    </tr>\n",
              "    <tr>\n",
              "      <th>4</th>\n",
              "      <td>Neutral</td>\n",
              "      <td>Neutral</td>\n",
              "      <td>Entailment</td>\n",
              "    </tr>\n",
              "    <tr>\n",
              "      <th>...</th>\n",
              "      <td>...</td>\n",
              "      <td>...</td>\n",
              "      <td>...</td>\n",
              "    </tr>\n",
              "    <tr>\n",
              "      <th>895</th>\n",
              "      <td>Entailment</td>\n",
              "      <td>Entailment</td>\n",
              "      <td>Neutral</td>\n",
              "    </tr>\n",
              "    <tr>\n",
              "      <th>896</th>\n",
              "      <td>Neutral</td>\n",
              "      <td>Neutral</td>\n",
              "      <td>Entailment</td>\n",
              "    </tr>\n",
              "    <tr>\n",
              "      <th>897</th>\n",
              "      <td>Neutral</td>\n",
              "      <td>Entailment</td>\n",
              "      <td>Entailment</td>\n",
              "    </tr>\n",
              "    <tr>\n",
              "      <th>898</th>\n",
              "      <td>Contradiction</td>\n",
              "      <td>Contradiction</td>\n",
              "      <td>Contradiction</td>\n",
              "    </tr>\n",
              "    <tr>\n",
              "      <th>899</th>\n",
              "      <td>Contradiction</td>\n",
              "      <td>Contradiction</td>\n",
              "      <td>Contradiction</td>\n",
              "    </tr>\n",
              "  </tbody>\n",
              "</table>\n",
              "<p>900 rows × 3 columns</p>\n",
              "</div>\n",
              "    <div class=\"colab-df-buttons\">\n",
              "\n",
              "  <div class=\"colab-df-container\">\n",
              "    <button class=\"colab-df-convert\" onclick=\"convertToInteractive('df-fd8050e9-370f-4aa8-9062-ff92ea8296b1')\"\n",
              "            title=\"Convert this dataframe to an interactive table.\"\n",
              "            style=\"display:none;\">\n",
              "\n",
              "  <svg xmlns=\"http://www.w3.org/2000/svg\" height=\"24px\" viewBox=\"0 -960 960 960\">\n",
              "    <path d=\"M120-120v-720h720v720H120Zm60-500h600v-160H180v160Zm220 220h160v-160H400v160Zm0 220h160v-160H400v160ZM180-400h160v-160H180v160Zm440 0h160v-160H620v160ZM180-180h160v-160H180v160Zm440 0h160v-160H620v160Z\"/>\n",
              "  </svg>\n",
              "    </button>\n",
              "\n",
              "  <style>\n",
              "    .colab-df-container {\n",
              "      display:flex;\n",
              "      gap: 12px;\n",
              "    }\n",
              "\n",
              "    .colab-df-convert {\n",
              "      background-color: #E8F0FE;\n",
              "      border: none;\n",
              "      border-radius: 50%;\n",
              "      cursor: pointer;\n",
              "      display: none;\n",
              "      fill: #1967D2;\n",
              "      height: 32px;\n",
              "      padding: 0 0 0 0;\n",
              "      width: 32px;\n",
              "    }\n",
              "\n",
              "    .colab-df-convert:hover {\n",
              "      background-color: #E2EBFA;\n",
              "      box-shadow: 0px 1px 2px rgba(60, 64, 67, 0.3), 0px 1px 3px 1px rgba(60, 64, 67, 0.15);\n",
              "      fill: #174EA6;\n",
              "    }\n",
              "\n",
              "    .colab-df-buttons div {\n",
              "      margin-bottom: 4px;\n",
              "    }\n",
              "\n",
              "    [theme=dark] .colab-df-convert {\n",
              "      background-color: #3B4455;\n",
              "      fill: #D2E3FC;\n",
              "    }\n",
              "\n",
              "    [theme=dark] .colab-df-convert:hover {\n",
              "      background-color: #434B5C;\n",
              "      box-shadow: 0px 1px 3px 1px rgba(0, 0, 0, 0.15);\n",
              "      filter: drop-shadow(0px 1px 2px rgba(0, 0, 0, 0.3));\n",
              "      fill: #FFFFFF;\n",
              "    }\n",
              "  </style>\n",
              "\n",
              "    <script>\n",
              "      const buttonEl =\n",
              "        document.querySelector('#df-fd8050e9-370f-4aa8-9062-ff92ea8296b1 button.colab-df-convert');\n",
              "      buttonEl.style.display =\n",
              "        google.colab.kernel.accessAllowed ? 'block' : 'none';\n",
              "\n",
              "      async function convertToInteractive(key) {\n",
              "        const element = document.querySelector('#df-fd8050e9-370f-4aa8-9062-ff92ea8296b1');\n",
              "        const dataTable =\n",
              "          await google.colab.kernel.invokeFunction('convertToInteractive',\n",
              "                                                    [key], {});\n",
              "        if (!dataTable) return;\n",
              "\n",
              "        const docLinkHtml = 'Like what you see? Visit the ' +\n",
              "          '<a target=\"_blank\" href=https://colab.research.google.com/notebooks/data_table.ipynb>data table notebook</a>'\n",
              "          + ' to learn more about interactive tables.';\n",
              "        element.innerHTML = '';\n",
              "        dataTable['output_type'] = 'display_data';\n",
              "        await google.colab.output.renderOutput(dataTable, element);\n",
              "        const docLink = document.createElement('div');\n",
              "        docLink.innerHTML = docLinkHtml;\n",
              "        element.appendChild(docLink);\n",
              "      }\n",
              "    </script>\n",
              "  </div>\n",
              "\n",
              "\n",
              "<div id=\"df-4a359aa9-b6ae-4b01-a228-edef31f3988a\">\n",
              "  <button class=\"colab-df-quickchart\" onclick=\"quickchart('df-4a359aa9-b6ae-4b01-a228-edef31f3988a')\"\n",
              "            title=\"Suggest charts\"\n",
              "            style=\"display:none;\">\n",
              "\n",
              "<svg xmlns=\"http://www.w3.org/2000/svg\" height=\"24px\"viewBox=\"0 0 24 24\"\n",
              "     width=\"24px\">\n",
              "    <g>\n",
              "        <path d=\"M19 3H5c-1.1 0-2 .9-2 2v14c0 1.1.9 2 2 2h14c1.1 0 2-.9 2-2V5c0-1.1-.9-2-2-2zM9 17H7v-7h2v7zm4 0h-2V7h2v10zm4 0h-2v-4h2v4z\"/>\n",
              "    </g>\n",
              "</svg>\n",
              "  </button>\n",
              "\n",
              "<style>\n",
              "  .colab-df-quickchart {\n",
              "      --bg-color: #E8F0FE;\n",
              "      --fill-color: #1967D2;\n",
              "      --hover-bg-color: #E2EBFA;\n",
              "      --hover-fill-color: #174EA6;\n",
              "      --disabled-fill-color: #AAA;\n",
              "      --disabled-bg-color: #DDD;\n",
              "  }\n",
              "\n",
              "  [theme=dark] .colab-df-quickchart {\n",
              "      --bg-color: #3B4455;\n",
              "      --fill-color: #D2E3FC;\n",
              "      --hover-bg-color: #434B5C;\n",
              "      --hover-fill-color: #FFFFFF;\n",
              "      --disabled-bg-color: #3B4455;\n",
              "      --disabled-fill-color: #666;\n",
              "  }\n",
              "\n",
              "  .colab-df-quickchart {\n",
              "    background-color: var(--bg-color);\n",
              "    border: none;\n",
              "    border-radius: 50%;\n",
              "    cursor: pointer;\n",
              "    display: none;\n",
              "    fill: var(--fill-color);\n",
              "    height: 32px;\n",
              "    padding: 0;\n",
              "    width: 32px;\n",
              "  }\n",
              "\n",
              "  .colab-df-quickchart:hover {\n",
              "    background-color: var(--hover-bg-color);\n",
              "    box-shadow: 0 1px 2px rgba(60, 64, 67, 0.3), 0 1px 3px 1px rgba(60, 64, 67, 0.15);\n",
              "    fill: var(--button-hover-fill-color);\n",
              "  }\n",
              "\n",
              "  .colab-df-quickchart-complete:disabled,\n",
              "  .colab-df-quickchart-complete:disabled:hover {\n",
              "    background-color: var(--disabled-bg-color);\n",
              "    fill: var(--disabled-fill-color);\n",
              "    box-shadow: none;\n",
              "  }\n",
              "\n",
              "  .colab-df-spinner {\n",
              "    border: 2px solid var(--fill-color);\n",
              "    border-color: transparent;\n",
              "    border-bottom-color: var(--fill-color);\n",
              "    animation:\n",
              "      spin 1s steps(1) infinite;\n",
              "  }\n",
              "\n",
              "  @keyframes spin {\n",
              "    0% {\n",
              "      border-color: transparent;\n",
              "      border-bottom-color: var(--fill-color);\n",
              "      border-left-color: var(--fill-color);\n",
              "    }\n",
              "    20% {\n",
              "      border-color: transparent;\n",
              "      border-left-color: var(--fill-color);\n",
              "      border-top-color: var(--fill-color);\n",
              "    }\n",
              "    30% {\n",
              "      border-color: transparent;\n",
              "      border-left-color: var(--fill-color);\n",
              "      border-top-color: var(--fill-color);\n",
              "      border-right-color: var(--fill-color);\n",
              "    }\n",
              "    40% {\n",
              "      border-color: transparent;\n",
              "      border-right-color: var(--fill-color);\n",
              "      border-top-color: var(--fill-color);\n",
              "    }\n",
              "    60% {\n",
              "      border-color: transparent;\n",
              "      border-right-color: var(--fill-color);\n",
              "    }\n",
              "    80% {\n",
              "      border-color: transparent;\n",
              "      border-right-color: var(--fill-color);\n",
              "      border-bottom-color: var(--fill-color);\n",
              "    }\n",
              "    90% {\n",
              "      border-color: transparent;\n",
              "      border-bottom-color: var(--fill-color);\n",
              "    }\n",
              "  }\n",
              "</style>\n",
              "\n",
              "  <script>\n",
              "    async function quickchart(key) {\n",
              "      const quickchartButtonEl =\n",
              "        document.querySelector('#' + key + ' button');\n",
              "      quickchartButtonEl.disabled = true;  // To prevent multiple clicks.\n",
              "      quickchartButtonEl.classList.add('colab-df-spinner');\n",
              "      try {\n",
              "        const charts = await google.colab.kernel.invokeFunction(\n",
              "            'suggestCharts', [key], {});\n",
              "      } catch (error) {\n",
              "        console.error('Error during call to suggestCharts:', error);\n",
              "      }\n",
              "      quickchartButtonEl.classList.remove('colab-df-spinner');\n",
              "      quickchartButtonEl.classList.add('colab-df-quickchart-complete');\n",
              "    }\n",
              "    (() => {\n",
              "      let quickchartButtonEl =\n",
              "        document.querySelector('#df-4a359aa9-b6ae-4b01-a228-edef31f3988a button');\n",
              "      quickchartButtonEl.style.display =\n",
              "        google.colab.kernel.accessAllowed ? 'block' : 'none';\n",
              "    })();\n",
              "  </script>\n",
              "</div>\n",
              "\n",
              "  <div id=\"id_508abbac-77b0-43da-81b1-d3d93ae24963\">\n",
              "    <style>\n",
              "      .colab-df-generate {\n",
              "        background-color: #E8F0FE;\n",
              "        border: none;\n",
              "        border-radius: 50%;\n",
              "        cursor: pointer;\n",
              "        display: none;\n",
              "        fill: #1967D2;\n",
              "        height: 32px;\n",
              "        padding: 0 0 0 0;\n",
              "        width: 32px;\n",
              "      }\n",
              "\n",
              "      .colab-df-generate:hover {\n",
              "        background-color: #E2EBFA;\n",
              "        box-shadow: 0px 1px 2px rgba(60, 64, 67, 0.3), 0px 1px 3px 1px rgba(60, 64, 67, 0.15);\n",
              "        fill: #174EA6;\n",
              "      }\n",
              "\n",
              "      [theme=dark] .colab-df-generate {\n",
              "        background-color: #3B4455;\n",
              "        fill: #D2E3FC;\n",
              "      }\n",
              "\n",
              "      [theme=dark] .colab-df-generate:hover {\n",
              "        background-color: #434B5C;\n",
              "        box-shadow: 0px 1px 3px 1px rgba(0, 0, 0, 0.15);\n",
              "        filter: drop-shadow(0px 1px 2px rgba(0, 0, 0, 0.3));\n",
              "        fill: #FFFFFF;\n",
              "      }\n",
              "    </style>\n",
              "    <button class=\"colab-df-generate\" onclick=\"generateWithVariable('Aggregated_Missing_3')\"\n",
              "            title=\"Generate code using this dataframe.\"\n",
              "            style=\"display:none;\">\n",
              "\n",
              "  <svg xmlns=\"http://www.w3.org/2000/svg\" height=\"24px\"viewBox=\"0 0 24 24\"\n",
              "       width=\"24px\">\n",
              "    <path d=\"M7,19H8.4L18.45,9,17,7.55,7,17.6ZM5,21V16.75L18.45,3.32a2,2,0,0,1,2.83,0l1.4,1.43a1.91,1.91,0,0,1,.58,1.4,1.91,1.91,0,0,1-.58,1.4L9.25,21ZM18.45,9,17,7.55Zm-12,3A5.31,5.31,0,0,0,4.9,8.1,5.31,5.31,0,0,0,1,6.5,5.31,5.31,0,0,0,4.9,4.9,5.31,5.31,0,0,0,6.5,1,5.31,5.31,0,0,0,8.1,4.9,5.31,5.31,0,0,0,12,6.5,5.46,5.46,0,0,0,6.5,12Z\"/>\n",
              "  </svg>\n",
              "    </button>\n",
              "    <script>\n",
              "      (() => {\n",
              "      const buttonEl =\n",
              "        document.querySelector('#id_508abbac-77b0-43da-81b1-d3d93ae24963 button.colab-df-generate');\n",
              "      buttonEl.style.display =\n",
              "        google.colab.kernel.accessAllowed ? 'block' : 'none';\n",
              "\n",
              "      buttonEl.onclick = () => {\n",
              "        google.colab.notebook.generateWithVariable('Aggregated_Missing_3');\n",
              "      }\n",
              "      })();\n",
              "    </script>\n",
              "  </div>\n",
              "\n",
              "    </div>\n",
              "  </div>\n"
            ],
            "application/vnd.google.colaboratory.intrinsic+json": {
              "type": "dataframe",
              "variable_name": "Aggregated_Missing_3",
              "summary": "{\n  \"name\": \"Aggregated_Missing_3\",\n  \"rows\": 900,\n  \"fields\": [\n    {\n      \"column\": \"Evaluator1\",\n      \"properties\": {\n        \"dtype\": \"category\",\n        \"num_unique_values\": 3,\n        \"samples\": [\n          \"Neutral\",\n          \"Entailment\",\n          \"Contradiction\"\n        ],\n        \"semantic_type\": \"\",\n        \"description\": \"\"\n      }\n    },\n    {\n      \"column\": \"Evaluator2\",\n      \"properties\": {\n        \"dtype\": \"category\",\n        \"num_unique_values\": 3,\n        \"samples\": [\n          \"Contradiction\",\n          \"Neutral\",\n          \"Entailment\"\n        ],\n        \"semantic_type\": \"\",\n        \"description\": \"\"\n      }\n    },\n    {\n      \"column\": \"Evaluator3\",\n      \"properties\": {\n        \"dtype\": \"category\",\n        \"num_unique_values\": 3,\n        \"samples\": [\n          \"Contradiction\",\n          \"Neutral\",\n          \"Entailment\"\n        ],\n        \"semantic_type\": \"\",\n        \"description\": \"\"\n      }\n    }\n  ]\n}"
            }
          },
          "metadata": {},
          "execution_count": 58
        }
      ]
    },
    {
      "cell_type": "markdown",
      "source": [
        "**Check missing and replace with a string**"
      ],
      "metadata": {
        "id": "W7eS74MvUs19"
      }
    },
    {
      "cell_type": "code",
      "source": [
        "Aggregated_Missing_3.isna().sum()"
      ],
      "metadata": {
        "colab": {
          "base_uri": "https://localhost:8080/",
          "height": 178
        },
        "id": "4OV9g0oASgK-",
        "outputId": "54c71930-6189-4edf-ff18-0bb42724480a"
      },
      "execution_count": 59,
      "outputs": [
        {
          "output_type": "execute_result",
          "data": {
            "text/plain": [
              "Evaluator1    15\n",
              "Evaluator2    15\n",
              "Evaluator3     8\n",
              "dtype: int64"
            ],
            "text/html": [
              "<div>\n",
              "<style scoped>\n",
              "    .dataframe tbody tr th:only-of-type {\n",
              "        vertical-align: middle;\n",
              "    }\n",
              "\n",
              "    .dataframe tbody tr th {\n",
              "        vertical-align: top;\n",
              "    }\n",
              "\n",
              "    .dataframe thead th {\n",
              "        text-align: right;\n",
              "    }\n",
              "</style>\n",
              "<table border=\"1\" class=\"dataframe\">\n",
              "  <thead>\n",
              "    <tr style=\"text-align: right;\">\n",
              "      <th></th>\n",
              "      <th>0</th>\n",
              "    </tr>\n",
              "  </thead>\n",
              "  <tbody>\n",
              "    <tr>\n",
              "      <th>Evaluator1</th>\n",
              "      <td>15</td>\n",
              "    </tr>\n",
              "    <tr>\n",
              "      <th>Evaluator2</th>\n",
              "      <td>15</td>\n",
              "    </tr>\n",
              "    <tr>\n",
              "      <th>Evaluator3</th>\n",
              "      <td>8</td>\n",
              "    </tr>\n",
              "  </tbody>\n",
              "</table>\n",
              "</div><br><label><b>dtype:</b> int64</label>"
            ]
          },
          "metadata": {},
          "execution_count": 59
        }
      ]
    },
    {
      "cell_type": "code",
      "source": [
        "Aggregated_Missing_3.fillna('Missing', inplace=True)"
      ],
      "metadata": {
        "id": "YnIBLR22RCNv"
      },
      "execution_count": 60,
      "outputs": []
    },
    {
      "cell_type": "markdown",
      "source": [
        "**Get rid of the missing column and turn data into an appropiate format**"
      ],
      "metadata": {
        "id": "UN3rcVNfUzIz"
      }
    },
    {
      "cell_type": "code",
      "source": [
        "#!pip install statsmodels\n",
        "from statsmodels.stats.inter_rater import aggregate_raters\n",
        "Formated = aggregate_raters(Aggregated_Missing_3, n_cat=None)\n",
        "Formated"
      ],
      "metadata": {
        "colab": {
          "base_uri": "https://localhost:8080/"
        },
        "id": "Ga6C8H5oQY5D",
        "outputId": "ff039215-182b-4ee6-a06c-27625ebe6ac4"
      },
      "execution_count": 61,
      "outputs": [
        {
          "output_type": "execute_result",
          "data": {
            "text/plain": [
              "(array([[2, 0, 0, 1],\n",
              "        [0, 0, 0, 3],\n",
              "        [0, 3, 0, 0],\n",
              "        ...,\n",
              "        [0, 2, 0, 1],\n",
              "        [3, 0, 0, 0],\n",
              "        [3, 0, 0, 0]]),\n",
              " array(['Contradiction', 'Entailment', 'Missing', 'Neutral'], dtype=object))"
            ]
          },
          "metadata": {},
          "execution_count": 61
        }
      ]
    },
    {
      "cell_type": "code",
      "source": [
        "missing_index = np.where(Formated[1] == 'Missing')[0][0]\n",
        "Aggregated_Missing_3_formated = np.delete(Formated [0], missing_index, axis=1)\n",
        "Aggregated_Missing_3_formated"
      ],
      "metadata": {
        "colab": {
          "base_uri": "https://localhost:8080/"
        },
        "id": "tKsQUjlBUL7g",
        "outputId": "d1570928-35cd-4da3-b739-9973acdca2ce"
      },
      "execution_count": 62,
      "outputs": [
        {
          "output_type": "execute_result",
          "data": {
            "text/plain": [
              "array([[2, 0, 1],\n",
              "       [0, 0, 3],\n",
              "       [0, 3, 0],\n",
              "       ...,\n",
              "       [0, 2, 1],\n",
              "       [3, 0, 0],\n",
              "       [3, 0, 0]])"
            ]
          },
          "metadata": {},
          "execution_count": 62
        }
      ]
    },
    {
      "cell_type": "markdown",
      "source": [
        "**Define a new function that only considers subjects that have at least 2 raters**\n",
        "\n",
        "This is required as getting rid the \"Missing\" column above may leave subjects which are rated by only 1 or 0 raters"
      ],
      "metadata": {
        "id": "8RSgiurTVGlh"
      }
    },
    {
      "cell_type": "code",
      "source": [
        "def fleiss_kappa_missing(table, method='fleiss'):\n",
        "\n",
        "    table = 1.0 * np.asarray(table)   #avoid integer division\n",
        "    n_sub, n_cat =  table.shape\n",
        "    n_total = table.sum()\n",
        "\n",
        "    #marginal frequency  of categories\n",
        "    p_cat = table.sum(0) / n_total\n",
        "\n",
        "\n",
        "    row_sums = table.sum(1)\n",
        "    valid_rows = row_sums >= 2\n",
        "    filtered_table = table[valid_rows]\n",
        "    table2 = filtered_table * filtered_table\n",
        "    p_rat = (table2.sum(1) - filtered_table.sum(1)) / (filtered_table.sum(1)*(filtered_table.sum(1)-1))\n",
        "    p_mean = p_rat.mean()\n",
        "\n",
        "    if method == 'fleiss':\n",
        "        p_mean_exp = (p_cat*p_cat).sum()\n",
        "    elif method.startswith('rand') or method.startswith('unif'):\n",
        "        p_mean_exp = 1 / n_cat\n",
        "\n",
        "    kappa = (p_mean - p_mean_exp) / (1- p_mean_exp)\n",
        "    return kappa"
      ],
      "metadata": {
        "id": "DVju_g8SPGuC"
      },
      "execution_count": 63,
      "outputs": []
    },
    {
      "cell_type": "markdown",
      "source": [
        "**Compute Fleiss Kappa with missing data**"
      ],
      "metadata": {
        "id": "MNdlVPiBV8qs"
      }
    },
    {
      "cell_type": "code",
      "source": [
        "fleiss_kappa_missing(Aggregated_Missing_3_formated, method='fleiss')"
      ],
      "metadata": {
        "colab": {
          "base_uri": "https://localhost:8080/"
        },
        "id": "-CkmCa17VyGM",
        "outputId": "8130785e-0fc2-4f57-835c-63b58fd0809c"
      },
      "execution_count": 64,
      "outputs": [
        {
          "output_type": "execute_result",
          "data": {
            "text/plain": [
              "0.5012577287595372"
            ]
          },
          "metadata": {},
          "execution_count": 64
        }
      ]
    },
    {
      "cell_type": "markdown",
      "source": [
        "**Easier alternative** 🪶\n",
        "\n",
        "Notice however that here we treat missing as a category\n"
      ],
      "metadata": {
        "id": "c0WKQYA1ngRN"
      }
    },
    {
      "cell_type": "code",
      "source": [
        "!pip install irrCAC"
      ],
      "metadata": {
        "colab": {
          "base_uri": "https://localhost:8080/"
        },
        "id": "saGhLxuF0PYk",
        "outputId": "bb145dd3-2609-45b9-de14-c2664e5d8df2"
      },
      "execution_count": 65,
      "outputs": [
        {
          "output_type": "stream",
          "name": "stdout",
          "text": [
            "Collecting irrCAC\n",
            "  Downloading irrcac-0.4.3-py3-none-any.whl.metadata (3.6 kB)\n",
            "Collecting coverage<7.0,>=6.2 (from irrCAC)\n",
            "  Downloading coverage-6.5.0-cp310-cp310-manylinux_2_5_x86_64.manylinux1_x86_64.manylinux_2_17_x86_64.manylinux2014_x86_64.whl.metadata (8.8 kB)\n",
            "Requirement already satisfied: pandas<3.0.0,>=2.2.2 in /usr/local/lib/python3.10/dist-packages (from irrCAC) (2.2.2)\n",
            "Collecting scipy==1.12.0 (from irrCAC)\n",
            "  Downloading scipy-1.12.0-cp310-cp310-manylinux_2_17_x86_64.manylinux2014_x86_64.whl.metadata (60 kB)\n",
            "\u001b[2K     \u001b[90m━━━━━━━━━━━━━━━━━━━━━━━━━━━━━━━━━━━━━━━━\u001b[0m \u001b[32m60.4/60.4 kB\u001b[0m \u001b[31m2.3 MB/s\u001b[0m eta \u001b[36m0:00:00\u001b[0m\n",
            "\u001b[?25hRequirement already satisfied: numpy<1.29.0,>=1.22.4 in /usr/local/lib/python3.10/dist-packages (from scipy==1.12.0->irrCAC) (1.26.4)\n",
            "Requirement already satisfied: python-dateutil>=2.8.2 in /usr/local/lib/python3.10/dist-packages (from pandas<3.0.0,>=2.2.2->irrCAC) (2.8.2)\n",
            "Requirement already satisfied: pytz>=2020.1 in /usr/local/lib/python3.10/dist-packages (from pandas<3.0.0,>=2.2.2->irrCAC) (2024.2)\n",
            "Requirement already satisfied: tzdata>=2022.7 in /usr/local/lib/python3.10/dist-packages (from pandas<3.0.0,>=2.2.2->irrCAC) (2024.2)\n",
            "Requirement already satisfied: six>=1.5 in /usr/local/lib/python3.10/dist-packages (from python-dateutil>=2.8.2->pandas<3.0.0,>=2.2.2->irrCAC) (1.16.0)\n",
            "Downloading irrcac-0.4.3-py3-none-any.whl (21 kB)\n",
            "Downloading scipy-1.12.0-cp310-cp310-manylinux_2_17_x86_64.manylinux2014_x86_64.whl (38.4 MB)\n",
            "\u001b[2K   \u001b[90m━━━━━━━━━━━━━━━━━━━━━━━━━━━━━━━━━━━━━━━━\u001b[0m \u001b[32m38.4/38.4 MB\u001b[0m \u001b[31m34.2 MB/s\u001b[0m eta \u001b[36m0:00:00\u001b[0m\n",
            "\u001b[?25hDownloading coverage-6.5.0-cp310-cp310-manylinux_2_5_x86_64.manylinux1_x86_64.manylinux_2_17_x86_64.manylinux2014_x86_64.whl (213 kB)\n",
            "\u001b[2K   \u001b[90m━━━━━━━━━━━━━━━━━━━━━━━━━━━━━━━━━━━━━━━━\u001b[0m \u001b[32m213.3/213.3 kB\u001b[0m \u001b[31m13.1 MB/s\u001b[0m eta \u001b[36m0:00:00\u001b[0m\n",
            "\u001b[?25hInstalling collected packages: scipy, coverage, irrCAC\n",
            "  Attempting uninstall: scipy\n",
            "    Found existing installation: scipy 1.13.1\n",
            "    Uninstalling scipy-1.13.1:\n",
            "      Successfully uninstalled scipy-1.13.1\n",
            "Successfully installed coverage-6.5.0 irrCAC-0.4.3 scipy-1.12.0\n"
          ]
        }
      ]
    },
    {
      "cell_type": "code",
      "source": [
        "from irrCAC.raw import CAC\n",
        "cac_3raters_missing = CAC(Aggregated_Missing_3)\n",
        "cac_3raters_missing.fleiss()"
      ],
      "metadata": {
        "colab": {
          "base_uri": "https://localhost:8080/"
        },
        "id": "PWGOILx0nGHx",
        "outputId": "ae6d3001-0fdb-4b63-be73-c94c4127b68f"
      },
      "execution_count": 66,
      "outputs": [
        {
          "output_type": "execute_result",
          "data": {
            "text/plain": [
              "{'est': {'coefficient_value': 0.48703,\n",
              "  'coefficient_name': \"Fleiss' kappa\",\n",
              "  'confidence_interval': (0.45269, 0.52136),\n",
              "  'p_value': 0.0,\n",
              "  'z': 27.83913,\n",
              "  'se': 0.01749,\n",
              "  'pa': 0.66296,\n",
              "  'pe': 0.34297},\n",
              " 'weights': array([[1., 0., 0., 0.],\n",
              "        [0., 1., 0., 0.],\n",
              "        [0., 0., 1., 0.],\n",
              "        [0., 0., 0., 1.]]),\n",
              " 'categories': ['Contradiction', 'Entailment', 'Missing', 'Neutral']}"
            ]
          },
          "metadata": {},
          "execution_count": 66
        }
      ]
    },
    {
      "cell_type": "markdown",
      "source": [
        "### Cronger's Kappa (3+ raters)"
      ],
      "metadata": {
        "id": "NkPARKLIk2mh"
      }
    },
    {
      "cell_type": "markdown",
      "source": [
        "This is the same as doing multiple Cohen's Kappa for pairs of raters and averaging the results"
      ],
      "metadata": {
        "id": "1-1H68cqcAEE"
      }
    },
    {
      "cell_type": "markdown",
      "source": [
        "**Import data**"
      ],
      "metadata": {
        "id": "T5O1FwwR8Aj5"
      }
    },
    {
      "cell_type": "code",
      "source": [
        "#from google.colab import drive\n",
        "#drive.mount('/content/drive')\n",
        "Evaluator1 = pd.read_excel('/content/drive/MyDrive/Colab Notebooks/Statistics/Curs/Data_c2/SNLI_Anca.xlsx')\n",
        "Evaluator2 = pd.read_excel('/content/drive/MyDrive/Colab Notebooks/Statistics/Curs/Data_c2/SNLI_Ionut.xlsx')\n",
        "Evaluator3 = pd.read_excel('/content/drive/MyDrive/Colab Notebooks/Statistics/Curs/Data_c2/SNLI_Larisa.xlsx')\n",
        "Aggregated_cronger = pd.concat([Evaluator1['Label'], Evaluator2['Label'], Evaluator3['Label']], axis=1)\n",
        "\n",
        "Aggregated_cronger = Aggregated_cronger.set_axis(['Evaluator1', 'Evaluator2', 'Evaluator3'], axis=1)\n",
        "\n",
        "Aggregated_cronger"
      ],
      "metadata": {
        "colab": {
          "base_uri": "https://localhost:8080/",
          "height": 423
        },
        "id": "iGyGtlSFmOWU",
        "outputId": "8cc9b918-cfd9-4198-89cd-93fa8d0f0fbc"
      },
      "execution_count": null,
      "outputs": [
        {
          "output_type": "execute_result",
          "data": {
            "text/plain": [
              "        Evaluator1     Evaluator2     Evaluator3\n",
              "0          Neutral  Contradiction  Contradiction\n",
              "1          Neutral        Neutral        Neutral\n",
              "2       Entailment     Entailment     Entailment\n",
              "3    Contradiction  Contradiction        Neutral\n",
              "4          Neutral        Neutral     Entailment\n",
              "..             ...            ...            ...\n",
              "895     Entailment     Entailment        Neutral\n",
              "896        Neutral        Neutral     Entailment\n",
              "897        Neutral     Entailment     Entailment\n",
              "898  Contradiction  Contradiction  Contradiction\n",
              "899  Contradiction  Contradiction  Contradiction\n",
              "\n",
              "[900 rows x 3 columns]"
            ],
            "text/html": [
              "\n",
              "  <div id=\"df-06af7358-9a1e-41dd-ab10-0af86c7e9b6a\" class=\"colab-df-container\">\n",
              "    <div>\n",
              "<style scoped>\n",
              "    .dataframe tbody tr th:only-of-type {\n",
              "        vertical-align: middle;\n",
              "    }\n",
              "\n",
              "    .dataframe tbody tr th {\n",
              "        vertical-align: top;\n",
              "    }\n",
              "\n",
              "    .dataframe thead th {\n",
              "        text-align: right;\n",
              "    }\n",
              "</style>\n",
              "<table border=\"1\" class=\"dataframe\">\n",
              "  <thead>\n",
              "    <tr style=\"text-align: right;\">\n",
              "      <th></th>\n",
              "      <th>Evaluator1</th>\n",
              "      <th>Evaluator2</th>\n",
              "      <th>Evaluator3</th>\n",
              "    </tr>\n",
              "  </thead>\n",
              "  <tbody>\n",
              "    <tr>\n",
              "      <th>0</th>\n",
              "      <td>Neutral</td>\n",
              "      <td>Contradiction</td>\n",
              "      <td>Contradiction</td>\n",
              "    </tr>\n",
              "    <tr>\n",
              "      <th>1</th>\n",
              "      <td>Neutral</td>\n",
              "      <td>Neutral</td>\n",
              "      <td>Neutral</td>\n",
              "    </tr>\n",
              "    <tr>\n",
              "      <th>2</th>\n",
              "      <td>Entailment</td>\n",
              "      <td>Entailment</td>\n",
              "      <td>Entailment</td>\n",
              "    </tr>\n",
              "    <tr>\n",
              "      <th>3</th>\n",
              "      <td>Contradiction</td>\n",
              "      <td>Contradiction</td>\n",
              "      <td>Neutral</td>\n",
              "    </tr>\n",
              "    <tr>\n",
              "      <th>4</th>\n",
              "      <td>Neutral</td>\n",
              "      <td>Neutral</td>\n",
              "      <td>Entailment</td>\n",
              "    </tr>\n",
              "    <tr>\n",
              "      <th>...</th>\n",
              "      <td>...</td>\n",
              "      <td>...</td>\n",
              "      <td>...</td>\n",
              "    </tr>\n",
              "    <tr>\n",
              "      <th>895</th>\n",
              "      <td>Entailment</td>\n",
              "      <td>Entailment</td>\n",
              "      <td>Neutral</td>\n",
              "    </tr>\n",
              "    <tr>\n",
              "      <th>896</th>\n",
              "      <td>Neutral</td>\n",
              "      <td>Neutral</td>\n",
              "      <td>Entailment</td>\n",
              "    </tr>\n",
              "    <tr>\n",
              "      <th>897</th>\n",
              "      <td>Neutral</td>\n",
              "      <td>Entailment</td>\n",
              "      <td>Entailment</td>\n",
              "    </tr>\n",
              "    <tr>\n",
              "      <th>898</th>\n",
              "      <td>Contradiction</td>\n",
              "      <td>Contradiction</td>\n",
              "      <td>Contradiction</td>\n",
              "    </tr>\n",
              "    <tr>\n",
              "      <th>899</th>\n",
              "      <td>Contradiction</td>\n",
              "      <td>Contradiction</td>\n",
              "      <td>Contradiction</td>\n",
              "    </tr>\n",
              "  </tbody>\n",
              "</table>\n",
              "<p>900 rows × 3 columns</p>\n",
              "</div>\n",
              "    <div class=\"colab-df-buttons\">\n",
              "\n",
              "  <div class=\"colab-df-container\">\n",
              "    <button class=\"colab-df-convert\" onclick=\"convertToInteractive('df-06af7358-9a1e-41dd-ab10-0af86c7e9b6a')\"\n",
              "            title=\"Convert this dataframe to an interactive table.\"\n",
              "            style=\"display:none;\">\n",
              "\n",
              "  <svg xmlns=\"http://www.w3.org/2000/svg\" height=\"24px\" viewBox=\"0 -960 960 960\">\n",
              "    <path d=\"M120-120v-720h720v720H120Zm60-500h600v-160H180v160Zm220 220h160v-160H400v160Zm0 220h160v-160H400v160ZM180-400h160v-160H180v160Zm440 0h160v-160H620v160ZM180-180h160v-160H180v160Zm440 0h160v-160H620v160Z\"/>\n",
              "  </svg>\n",
              "    </button>\n",
              "\n",
              "  <style>\n",
              "    .colab-df-container {\n",
              "      display:flex;\n",
              "      gap: 12px;\n",
              "    }\n",
              "\n",
              "    .colab-df-convert {\n",
              "      background-color: #E8F0FE;\n",
              "      border: none;\n",
              "      border-radius: 50%;\n",
              "      cursor: pointer;\n",
              "      display: none;\n",
              "      fill: #1967D2;\n",
              "      height: 32px;\n",
              "      padding: 0 0 0 0;\n",
              "      width: 32px;\n",
              "    }\n",
              "\n",
              "    .colab-df-convert:hover {\n",
              "      background-color: #E2EBFA;\n",
              "      box-shadow: 0px 1px 2px rgba(60, 64, 67, 0.3), 0px 1px 3px 1px rgba(60, 64, 67, 0.15);\n",
              "      fill: #174EA6;\n",
              "    }\n",
              "\n",
              "    .colab-df-buttons div {\n",
              "      margin-bottom: 4px;\n",
              "    }\n",
              "\n",
              "    [theme=dark] .colab-df-convert {\n",
              "      background-color: #3B4455;\n",
              "      fill: #D2E3FC;\n",
              "    }\n",
              "\n",
              "    [theme=dark] .colab-df-convert:hover {\n",
              "      background-color: #434B5C;\n",
              "      box-shadow: 0px 1px 3px 1px rgba(0, 0, 0, 0.15);\n",
              "      filter: drop-shadow(0px 1px 2px rgba(0, 0, 0, 0.3));\n",
              "      fill: #FFFFFF;\n",
              "    }\n",
              "  </style>\n",
              "\n",
              "    <script>\n",
              "      const buttonEl =\n",
              "        document.querySelector('#df-06af7358-9a1e-41dd-ab10-0af86c7e9b6a button.colab-df-convert');\n",
              "      buttonEl.style.display =\n",
              "        google.colab.kernel.accessAllowed ? 'block' : 'none';\n",
              "\n",
              "      async function convertToInteractive(key) {\n",
              "        const element = document.querySelector('#df-06af7358-9a1e-41dd-ab10-0af86c7e9b6a');\n",
              "        const dataTable =\n",
              "          await google.colab.kernel.invokeFunction('convertToInteractive',\n",
              "                                                    [key], {});\n",
              "        if (!dataTable) return;\n",
              "\n",
              "        const docLinkHtml = 'Like what you see? Visit the ' +\n",
              "          '<a target=\"_blank\" href=https://colab.research.google.com/notebooks/data_table.ipynb>data table notebook</a>'\n",
              "          + ' to learn more about interactive tables.';\n",
              "        element.innerHTML = '';\n",
              "        dataTable['output_type'] = 'display_data';\n",
              "        await google.colab.output.renderOutput(dataTable, element);\n",
              "        const docLink = document.createElement('div');\n",
              "        docLink.innerHTML = docLinkHtml;\n",
              "        element.appendChild(docLink);\n",
              "      }\n",
              "    </script>\n",
              "  </div>\n",
              "\n",
              "\n",
              "<div id=\"df-3feaffbf-80d1-438b-a11e-4d0ca4986cf1\">\n",
              "  <button class=\"colab-df-quickchart\" onclick=\"quickchart('df-3feaffbf-80d1-438b-a11e-4d0ca4986cf1')\"\n",
              "            title=\"Suggest charts\"\n",
              "            style=\"display:none;\">\n",
              "\n",
              "<svg xmlns=\"http://www.w3.org/2000/svg\" height=\"24px\"viewBox=\"0 0 24 24\"\n",
              "     width=\"24px\">\n",
              "    <g>\n",
              "        <path d=\"M19 3H5c-1.1 0-2 .9-2 2v14c0 1.1.9 2 2 2h14c1.1 0 2-.9 2-2V5c0-1.1-.9-2-2-2zM9 17H7v-7h2v7zm4 0h-2V7h2v10zm4 0h-2v-4h2v4z\"/>\n",
              "    </g>\n",
              "</svg>\n",
              "  </button>\n",
              "\n",
              "<style>\n",
              "  .colab-df-quickchart {\n",
              "      --bg-color: #E8F0FE;\n",
              "      --fill-color: #1967D2;\n",
              "      --hover-bg-color: #E2EBFA;\n",
              "      --hover-fill-color: #174EA6;\n",
              "      --disabled-fill-color: #AAA;\n",
              "      --disabled-bg-color: #DDD;\n",
              "  }\n",
              "\n",
              "  [theme=dark] .colab-df-quickchart {\n",
              "      --bg-color: #3B4455;\n",
              "      --fill-color: #D2E3FC;\n",
              "      --hover-bg-color: #434B5C;\n",
              "      --hover-fill-color: #FFFFFF;\n",
              "      --disabled-bg-color: #3B4455;\n",
              "      --disabled-fill-color: #666;\n",
              "  }\n",
              "\n",
              "  .colab-df-quickchart {\n",
              "    background-color: var(--bg-color);\n",
              "    border: none;\n",
              "    border-radius: 50%;\n",
              "    cursor: pointer;\n",
              "    display: none;\n",
              "    fill: var(--fill-color);\n",
              "    height: 32px;\n",
              "    padding: 0;\n",
              "    width: 32px;\n",
              "  }\n",
              "\n",
              "  .colab-df-quickchart:hover {\n",
              "    background-color: var(--hover-bg-color);\n",
              "    box-shadow: 0 1px 2px rgba(60, 64, 67, 0.3), 0 1px 3px 1px rgba(60, 64, 67, 0.15);\n",
              "    fill: var(--button-hover-fill-color);\n",
              "  }\n",
              "\n",
              "  .colab-df-quickchart-complete:disabled,\n",
              "  .colab-df-quickchart-complete:disabled:hover {\n",
              "    background-color: var(--disabled-bg-color);\n",
              "    fill: var(--disabled-fill-color);\n",
              "    box-shadow: none;\n",
              "  }\n",
              "\n",
              "  .colab-df-spinner {\n",
              "    border: 2px solid var(--fill-color);\n",
              "    border-color: transparent;\n",
              "    border-bottom-color: var(--fill-color);\n",
              "    animation:\n",
              "      spin 1s steps(1) infinite;\n",
              "  }\n",
              "\n",
              "  @keyframes spin {\n",
              "    0% {\n",
              "      border-color: transparent;\n",
              "      border-bottom-color: var(--fill-color);\n",
              "      border-left-color: var(--fill-color);\n",
              "    }\n",
              "    20% {\n",
              "      border-color: transparent;\n",
              "      border-left-color: var(--fill-color);\n",
              "      border-top-color: var(--fill-color);\n",
              "    }\n",
              "    30% {\n",
              "      border-color: transparent;\n",
              "      border-left-color: var(--fill-color);\n",
              "      border-top-color: var(--fill-color);\n",
              "      border-right-color: var(--fill-color);\n",
              "    }\n",
              "    40% {\n",
              "      border-color: transparent;\n",
              "      border-right-color: var(--fill-color);\n",
              "      border-top-color: var(--fill-color);\n",
              "    }\n",
              "    60% {\n",
              "      border-color: transparent;\n",
              "      border-right-color: var(--fill-color);\n",
              "    }\n",
              "    80% {\n",
              "      border-color: transparent;\n",
              "      border-right-color: var(--fill-color);\n",
              "      border-bottom-color: var(--fill-color);\n",
              "    }\n",
              "    90% {\n",
              "      border-color: transparent;\n",
              "      border-bottom-color: var(--fill-color);\n",
              "    }\n",
              "  }\n",
              "</style>\n",
              "\n",
              "  <script>\n",
              "    async function quickchart(key) {\n",
              "      const quickchartButtonEl =\n",
              "        document.querySelector('#' + key + ' button');\n",
              "      quickchartButtonEl.disabled = true;  // To prevent multiple clicks.\n",
              "      quickchartButtonEl.classList.add('colab-df-spinner');\n",
              "      try {\n",
              "        const charts = await google.colab.kernel.invokeFunction(\n",
              "            'suggestCharts', [key], {});\n",
              "      } catch (error) {\n",
              "        console.error('Error during call to suggestCharts:', error);\n",
              "      }\n",
              "      quickchartButtonEl.classList.remove('colab-df-spinner');\n",
              "      quickchartButtonEl.classList.add('colab-df-quickchart-complete');\n",
              "    }\n",
              "    (() => {\n",
              "      let quickchartButtonEl =\n",
              "        document.querySelector('#df-3feaffbf-80d1-438b-a11e-4d0ca4986cf1 button');\n",
              "      quickchartButtonEl.style.display =\n",
              "        google.colab.kernel.accessAllowed ? 'block' : 'none';\n",
              "    })();\n",
              "  </script>\n",
              "</div>\n",
              "\n",
              "  <div id=\"id_64bfaecc-2893-488e-a5d4-5ea8011d3a9d\">\n",
              "    <style>\n",
              "      .colab-df-generate {\n",
              "        background-color: #E8F0FE;\n",
              "        border: none;\n",
              "        border-radius: 50%;\n",
              "        cursor: pointer;\n",
              "        display: none;\n",
              "        fill: #1967D2;\n",
              "        height: 32px;\n",
              "        padding: 0 0 0 0;\n",
              "        width: 32px;\n",
              "      }\n",
              "\n",
              "      .colab-df-generate:hover {\n",
              "        background-color: #E2EBFA;\n",
              "        box-shadow: 0px 1px 2px rgba(60, 64, 67, 0.3), 0px 1px 3px 1px rgba(60, 64, 67, 0.15);\n",
              "        fill: #174EA6;\n",
              "      }\n",
              "\n",
              "      [theme=dark] .colab-df-generate {\n",
              "        background-color: #3B4455;\n",
              "        fill: #D2E3FC;\n",
              "      }\n",
              "\n",
              "      [theme=dark] .colab-df-generate:hover {\n",
              "        background-color: #434B5C;\n",
              "        box-shadow: 0px 1px 3px 1px rgba(0, 0, 0, 0.15);\n",
              "        filter: drop-shadow(0px 1px 2px rgba(0, 0, 0, 0.3));\n",
              "        fill: #FFFFFF;\n",
              "      }\n",
              "    </style>\n",
              "    <button class=\"colab-df-generate\" onclick=\"generateWithVariable('Aggregated_cronger')\"\n",
              "            title=\"Generate code using this dataframe.\"\n",
              "            style=\"display:none;\">\n",
              "\n",
              "  <svg xmlns=\"http://www.w3.org/2000/svg\" height=\"24px\"viewBox=\"0 0 24 24\"\n",
              "       width=\"24px\">\n",
              "    <path d=\"M7,19H8.4L18.45,9,17,7.55,7,17.6ZM5,21V16.75L18.45,3.32a2,2,0,0,1,2.83,0l1.4,1.43a1.91,1.91,0,0,1,.58,1.4,1.91,1.91,0,0,1-.58,1.4L9.25,21ZM18.45,9,17,7.55Zm-12,3A5.31,5.31,0,0,0,4.9,8.1,5.31,5.31,0,0,0,1,6.5,5.31,5.31,0,0,0,4.9,4.9,5.31,5.31,0,0,0,6.5,1,5.31,5.31,0,0,0,8.1,4.9,5.31,5.31,0,0,0,12,6.5,5.46,5.46,0,0,0,6.5,12Z\"/>\n",
              "  </svg>\n",
              "    </button>\n",
              "    <script>\n",
              "      (() => {\n",
              "      const buttonEl =\n",
              "        document.querySelector('#id_64bfaecc-2893-488e-a5d4-5ea8011d3a9d button.colab-df-generate');\n",
              "      buttonEl.style.display =\n",
              "        google.colab.kernel.accessAllowed ? 'block' : 'none';\n",
              "\n",
              "      buttonEl.onclick = () => {\n",
              "        google.colab.notebook.generateWithVariable('Aggregated_cronger');\n",
              "      }\n",
              "      })();\n",
              "    </script>\n",
              "  </div>\n",
              "\n",
              "    </div>\n",
              "  </div>\n"
            ],
            "application/vnd.google.colaboratory.intrinsic+json": {
              "type": "dataframe",
              "variable_name": "Aggregated_cronger",
              "summary": "{\n  \"name\": \"Aggregated_cronger\",\n  \"rows\": 900,\n  \"fields\": [\n    {\n      \"column\": \"Evaluator1\",\n      \"properties\": {\n        \"dtype\": \"category\",\n        \"num_unique_values\": 3,\n        \"samples\": [\n          \"Neutral\",\n          \"Entailment\",\n          \"Contradiction\"\n        ],\n        \"semantic_type\": \"\",\n        \"description\": \"\"\n      }\n    },\n    {\n      \"column\": \"Evaluator2\",\n      \"properties\": {\n        \"dtype\": \"category\",\n        \"num_unique_values\": 3,\n        \"samples\": [\n          \"Contradiction\",\n          \"Neutral\",\n          \"Entailment\"\n        ],\n        \"semantic_type\": \"\",\n        \"description\": \"\"\n      }\n    },\n    {\n      \"column\": \"Evaluator3\",\n      \"properties\": {\n        \"dtype\": \"category\",\n        \"num_unique_values\": 3,\n        \"samples\": [\n          \"Contradiction\",\n          \"Neutral\",\n          \"Entailment\"\n        ],\n        \"semantic_type\": \"\",\n        \"description\": \"\"\n      }\n    }\n  ]\n}"
            }
          },
          "metadata": {},
          "execution_count": 21
        }
      ]
    },
    {
      "cell_type": "code",
      "source": [
        "#!pip install irrCAC\n",
        "from irrCAC.raw import CAC\n",
        "cac_3raters = CAC(Aggregated_cronger)\n",
        "cac_3raters.conger()"
      ],
      "metadata": {
        "colab": {
          "base_uri": "https://localhost:8080/"
        },
        "id": "UYLlcoyvk1Q1",
        "outputId": "4dbd732f-b71a-484a-ef81-3010a09b1737"
      },
      "execution_count": null,
      "outputs": [
        {
          "output_type": "execute_result",
          "data": {
            "text/plain": [
              "{'est': {'coefficient_value': 0.50742,\n",
              "  'coefficient_name': \"Conger's kappa\",\n",
              "  'confidence_interval': (0.47426, 0.54058),\n",
              "  'p_value': 0.0,\n",
              "  'z': 30.03057,\n",
              "  'se': 0.0169,\n",
              "  'pa': 0.67556,\n",
              "  'pe': 0.34134},\n",
              " 'weights': array([[1., 0., 0.],\n",
              "        [0., 1., 0.],\n",
              "        [0., 0., 1.]]),\n",
              " 'categories': ['Contradiction', 'Entailment', 'Neutral']}"
            ]
          },
          "metadata": {},
          "execution_count": 22
        }
      ]
    },
    {
      "cell_type": "markdown",
      "source": [
        "#### Cronger's Kappa by hand 🤚"
      ],
      "metadata": {
        "id": "ABUkZj6AqjFJ"
      }
    },
    {
      "cell_type": "markdown",
      "source": [
        "Here we show that chance agreement can be computed via a shortcurt using the average relative frequency and variance of each category."
      ],
      "metadata": {
        "id": "gLrawoE0cD2s"
      }
    },
    {
      "cell_type": "markdown",
      "source": [
        "**Percent agreement**\n"
      ],
      "metadata": {
        "id": "P7cGlaOybwss"
      }
    },
    {
      "cell_type": "code",
      "source": [
        "from statsmodels.stats.inter_rater import aggregate_raters\n",
        "Aggregated_subject_label = aggregate_raters(Aggregated_cronger, n_cat=None)\n",
        "Aggregated_subject_label\n",
        "df_subject_label = pd.DataFrame(Aggregated_subject_label[0], columns=Aggregated_subject_label[1])\n",
        "df_subject_label['Sentence Pair'] = [f'Sentence Pair {i+1}' for i in range(len(df_subject_label))]\n",
        "\n",
        "# Reorder columns to have 'Sentence Pair' as the first column\n",
        "df_subject_label = df_subject_label[['Sentence Pair', 'Contradiction', 'Entailment', 'Neutral']]\n",
        "\n",
        "df_subject_label"
      ],
      "metadata": {
        "colab": {
          "base_uri": "https://localhost:8080/",
          "height": 423
        },
        "id": "C8NauMhwqddi",
        "outputId": "11ea4905-c081-4ff1-dc47-2e82cd710504"
      },
      "execution_count": null,
      "outputs": [
        {
          "output_type": "execute_result",
          "data": {
            "text/plain": [
              "         Sentence Pair  Contradiction  Entailment  Neutral\n",
              "0      Sentence Pair 1              2           0        1\n",
              "1      Sentence Pair 2              0           0        3\n",
              "2      Sentence Pair 3              0           3        0\n",
              "3      Sentence Pair 4              2           0        1\n",
              "4      Sentence Pair 5              0           1        2\n",
              "..                 ...            ...         ...      ...\n",
              "895  Sentence Pair 896              0           2        1\n",
              "896  Sentence Pair 897              0           1        2\n",
              "897  Sentence Pair 898              0           2        1\n",
              "898  Sentence Pair 899              3           0        0\n",
              "899  Sentence Pair 900              3           0        0\n",
              "\n",
              "[900 rows x 4 columns]"
            ],
            "text/html": [
              "\n",
              "  <div id=\"df-016337b2-cee5-4b48-83ab-7b7a2e1fbd6d\" class=\"colab-df-container\">\n",
              "    <div>\n",
              "<style scoped>\n",
              "    .dataframe tbody tr th:only-of-type {\n",
              "        vertical-align: middle;\n",
              "    }\n",
              "\n",
              "    .dataframe tbody tr th {\n",
              "        vertical-align: top;\n",
              "    }\n",
              "\n",
              "    .dataframe thead th {\n",
              "        text-align: right;\n",
              "    }\n",
              "</style>\n",
              "<table border=\"1\" class=\"dataframe\">\n",
              "  <thead>\n",
              "    <tr style=\"text-align: right;\">\n",
              "      <th></th>\n",
              "      <th>Sentence Pair</th>\n",
              "      <th>Contradiction</th>\n",
              "      <th>Entailment</th>\n",
              "      <th>Neutral</th>\n",
              "    </tr>\n",
              "  </thead>\n",
              "  <tbody>\n",
              "    <tr>\n",
              "      <th>0</th>\n",
              "      <td>Sentence Pair 1</td>\n",
              "      <td>2</td>\n",
              "      <td>0</td>\n",
              "      <td>1</td>\n",
              "    </tr>\n",
              "    <tr>\n",
              "      <th>1</th>\n",
              "      <td>Sentence Pair 2</td>\n",
              "      <td>0</td>\n",
              "      <td>0</td>\n",
              "      <td>3</td>\n",
              "    </tr>\n",
              "    <tr>\n",
              "      <th>2</th>\n",
              "      <td>Sentence Pair 3</td>\n",
              "      <td>0</td>\n",
              "      <td>3</td>\n",
              "      <td>0</td>\n",
              "    </tr>\n",
              "    <tr>\n",
              "      <th>3</th>\n",
              "      <td>Sentence Pair 4</td>\n",
              "      <td>2</td>\n",
              "      <td>0</td>\n",
              "      <td>1</td>\n",
              "    </tr>\n",
              "    <tr>\n",
              "      <th>4</th>\n",
              "      <td>Sentence Pair 5</td>\n",
              "      <td>0</td>\n",
              "      <td>1</td>\n",
              "      <td>2</td>\n",
              "    </tr>\n",
              "    <tr>\n",
              "      <th>...</th>\n",
              "      <td>...</td>\n",
              "      <td>...</td>\n",
              "      <td>...</td>\n",
              "      <td>...</td>\n",
              "    </tr>\n",
              "    <tr>\n",
              "      <th>895</th>\n",
              "      <td>Sentence Pair 896</td>\n",
              "      <td>0</td>\n",
              "      <td>2</td>\n",
              "      <td>1</td>\n",
              "    </tr>\n",
              "    <tr>\n",
              "      <th>896</th>\n",
              "      <td>Sentence Pair 897</td>\n",
              "      <td>0</td>\n",
              "      <td>1</td>\n",
              "      <td>2</td>\n",
              "    </tr>\n",
              "    <tr>\n",
              "      <th>897</th>\n",
              "      <td>Sentence Pair 898</td>\n",
              "      <td>0</td>\n",
              "      <td>2</td>\n",
              "      <td>1</td>\n",
              "    </tr>\n",
              "    <tr>\n",
              "      <th>898</th>\n",
              "      <td>Sentence Pair 899</td>\n",
              "      <td>3</td>\n",
              "      <td>0</td>\n",
              "      <td>0</td>\n",
              "    </tr>\n",
              "    <tr>\n",
              "      <th>899</th>\n",
              "      <td>Sentence Pair 900</td>\n",
              "      <td>3</td>\n",
              "      <td>0</td>\n",
              "      <td>0</td>\n",
              "    </tr>\n",
              "  </tbody>\n",
              "</table>\n",
              "<p>900 rows × 4 columns</p>\n",
              "</div>\n",
              "    <div class=\"colab-df-buttons\">\n",
              "\n",
              "  <div class=\"colab-df-container\">\n",
              "    <button class=\"colab-df-convert\" onclick=\"convertToInteractive('df-016337b2-cee5-4b48-83ab-7b7a2e1fbd6d')\"\n",
              "            title=\"Convert this dataframe to an interactive table.\"\n",
              "            style=\"display:none;\">\n",
              "\n",
              "  <svg xmlns=\"http://www.w3.org/2000/svg\" height=\"24px\" viewBox=\"0 -960 960 960\">\n",
              "    <path d=\"M120-120v-720h720v720H120Zm60-500h600v-160H180v160Zm220 220h160v-160H400v160Zm0 220h160v-160H400v160ZM180-400h160v-160H180v160Zm440 0h160v-160H620v160ZM180-180h160v-160H180v160Zm440 0h160v-160H620v160Z\"/>\n",
              "  </svg>\n",
              "    </button>\n",
              "\n",
              "  <style>\n",
              "    .colab-df-container {\n",
              "      display:flex;\n",
              "      gap: 12px;\n",
              "    }\n",
              "\n",
              "    .colab-df-convert {\n",
              "      background-color: #E8F0FE;\n",
              "      border: none;\n",
              "      border-radius: 50%;\n",
              "      cursor: pointer;\n",
              "      display: none;\n",
              "      fill: #1967D2;\n",
              "      height: 32px;\n",
              "      padding: 0 0 0 0;\n",
              "      width: 32px;\n",
              "    }\n",
              "\n",
              "    .colab-df-convert:hover {\n",
              "      background-color: #E2EBFA;\n",
              "      box-shadow: 0px 1px 2px rgba(60, 64, 67, 0.3), 0px 1px 3px 1px rgba(60, 64, 67, 0.15);\n",
              "      fill: #174EA6;\n",
              "    }\n",
              "\n",
              "    .colab-df-buttons div {\n",
              "      margin-bottom: 4px;\n",
              "    }\n",
              "\n",
              "    [theme=dark] .colab-df-convert {\n",
              "      background-color: #3B4455;\n",
              "      fill: #D2E3FC;\n",
              "    }\n",
              "\n",
              "    [theme=dark] .colab-df-convert:hover {\n",
              "      background-color: #434B5C;\n",
              "      box-shadow: 0px 1px 3px 1px rgba(0, 0, 0, 0.15);\n",
              "      filter: drop-shadow(0px 1px 2px rgba(0, 0, 0, 0.3));\n",
              "      fill: #FFFFFF;\n",
              "    }\n",
              "  </style>\n",
              "\n",
              "    <script>\n",
              "      const buttonEl =\n",
              "        document.querySelector('#df-016337b2-cee5-4b48-83ab-7b7a2e1fbd6d button.colab-df-convert');\n",
              "      buttonEl.style.display =\n",
              "        google.colab.kernel.accessAllowed ? 'block' : 'none';\n",
              "\n",
              "      async function convertToInteractive(key) {\n",
              "        const element = document.querySelector('#df-016337b2-cee5-4b48-83ab-7b7a2e1fbd6d');\n",
              "        const dataTable =\n",
              "          await google.colab.kernel.invokeFunction('convertToInteractive',\n",
              "                                                    [key], {});\n",
              "        if (!dataTable) return;\n",
              "\n",
              "        const docLinkHtml = 'Like what you see? Visit the ' +\n",
              "          '<a target=\"_blank\" href=https://colab.research.google.com/notebooks/data_table.ipynb>data table notebook</a>'\n",
              "          + ' to learn more about interactive tables.';\n",
              "        element.innerHTML = '';\n",
              "        dataTable['output_type'] = 'display_data';\n",
              "        await google.colab.output.renderOutput(dataTable, element);\n",
              "        const docLink = document.createElement('div');\n",
              "        docLink.innerHTML = docLinkHtml;\n",
              "        element.appendChild(docLink);\n",
              "      }\n",
              "    </script>\n",
              "  </div>\n",
              "\n",
              "\n",
              "<div id=\"df-38b65e4d-d6fe-4e86-bef1-b7cf7995dc9d\">\n",
              "  <button class=\"colab-df-quickchart\" onclick=\"quickchart('df-38b65e4d-d6fe-4e86-bef1-b7cf7995dc9d')\"\n",
              "            title=\"Suggest charts\"\n",
              "            style=\"display:none;\">\n",
              "\n",
              "<svg xmlns=\"http://www.w3.org/2000/svg\" height=\"24px\"viewBox=\"0 0 24 24\"\n",
              "     width=\"24px\">\n",
              "    <g>\n",
              "        <path d=\"M19 3H5c-1.1 0-2 .9-2 2v14c0 1.1.9 2 2 2h14c1.1 0 2-.9 2-2V5c0-1.1-.9-2-2-2zM9 17H7v-7h2v7zm4 0h-2V7h2v10zm4 0h-2v-4h2v4z\"/>\n",
              "    </g>\n",
              "</svg>\n",
              "  </button>\n",
              "\n",
              "<style>\n",
              "  .colab-df-quickchart {\n",
              "      --bg-color: #E8F0FE;\n",
              "      --fill-color: #1967D2;\n",
              "      --hover-bg-color: #E2EBFA;\n",
              "      --hover-fill-color: #174EA6;\n",
              "      --disabled-fill-color: #AAA;\n",
              "      --disabled-bg-color: #DDD;\n",
              "  }\n",
              "\n",
              "  [theme=dark] .colab-df-quickchart {\n",
              "      --bg-color: #3B4455;\n",
              "      --fill-color: #D2E3FC;\n",
              "      --hover-bg-color: #434B5C;\n",
              "      --hover-fill-color: #FFFFFF;\n",
              "      --disabled-bg-color: #3B4455;\n",
              "      --disabled-fill-color: #666;\n",
              "  }\n",
              "\n",
              "  .colab-df-quickchart {\n",
              "    background-color: var(--bg-color);\n",
              "    border: none;\n",
              "    border-radius: 50%;\n",
              "    cursor: pointer;\n",
              "    display: none;\n",
              "    fill: var(--fill-color);\n",
              "    height: 32px;\n",
              "    padding: 0;\n",
              "    width: 32px;\n",
              "  }\n",
              "\n",
              "  .colab-df-quickchart:hover {\n",
              "    background-color: var(--hover-bg-color);\n",
              "    box-shadow: 0 1px 2px rgba(60, 64, 67, 0.3), 0 1px 3px 1px rgba(60, 64, 67, 0.15);\n",
              "    fill: var(--button-hover-fill-color);\n",
              "  }\n",
              "\n",
              "  .colab-df-quickchart-complete:disabled,\n",
              "  .colab-df-quickchart-complete:disabled:hover {\n",
              "    background-color: var(--disabled-bg-color);\n",
              "    fill: var(--disabled-fill-color);\n",
              "    box-shadow: none;\n",
              "  }\n",
              "\n",
              "  .colab-df-spinner {\n",
              "    border: 2px solid var(--fill-color);\n",
              "    border-color: transparent;\n",
              "    border-bottom-color: var(--fill-color);\n",
              "    animation:\n",
              "      spin 1s steps(1) infinite;\n",
              "  }\n",
              "\n",
              "  @keyframes spin {\n",
              "    0% {\n",
              "      border-color: transparent;\n",
              "      border-bottom-color: var(--fill-color);\n",
              "      border-left-color: var(--fill-color);\n",
              "    }\n",
              "    20% {\n",
              "      border-color: transparent;\n",
              "      border-left-color: var(--fill-color);\n",
              "      border-top-color: var(--fill-color);\n",
              "    }\n",
              "    30% {\n",
              "      border-color: transparent;\n",
              "      border-left-color: var(--fill-color);\n",
              "      border-top-color: var(--fill-color);\n",
              "      border-right-color: var(--fill-color);\n",
              "    }\n",
              "    40% {\n",
              "      border-color: transparent;\n",
              "      border-right-color: var(--fill-color);\n",
              "      border-top-color: var(--fill-color);\n",
              "    }\n",
              "    60% {\n",
              "      border-color: transparent;\n",
              "      border-right-color: var(--fill-color);\n",
              "    }\n",
              "    80% {\n",
              "      border-color: transparent;\n",
              "      border-right-color: var(--fill-color);\n",
              "      border-bottom-color: var(--fill-color);\n",
              "    }\n",
              "    90% {\n",
              "      border-color: transparent;\n",
              "      border-bottom-color: var(--fill-color);\n",
              "    }\n",
              "  }\n",
              "</style>\n",
              "\n",
              "  <script>\n",
              "    async function quickchart(key) {\n",
              "      const quickchartButtonEl =\n",
              "        document.querySelector('#' + key + ' button');\n",
              "      quickchartButtonEl.disabled = true;  // To prevent multiple clicks.\n",
              "      quickchartButtonEl.classList.add('colab-df-spinner');\n",
              "      try {\n",
              "        const charts = await google.colab.kernel.invokeFunction(\n",
              "            'suggestCharts', [key], {});\n",
              "      } catch (error) {\n",
              "        console.error('Error during call to suggestCharts:', error);\n",
              "      }\n",
              "      quickchartButtonEl.classList.remove('colab-df-spinner');\n",
              "      quickchartButtonEl.classList.add('colab-df-quickchart-complete');\n",
              "    }\n",
              "    (() => {\n",
              "      let quickchartButtonEl =\n",
              "        document.querySelector('#df-38b65e4d-d6fe-4e86-bef1-b7cf7995dc9d button');\n",
              "      quickchartButtonEl.style.display =\n",
              "        google.colab.kernel.accessAllowed ? 'block' : 'none';\n",
              "    })();\n",
              "  </script>\n",
              "</div>\n",
              "\n",
              "  <div id=\"id_779eb97e-c6fd-44da-b09a-3f1afe42205d\">\n",
              "    <style>\n",
              "      .colab-df-generate {\n",
              "        background-color: #E8F0FE;\n",
              "        border: none;\n",
              "        border-radius: 50%;\n",
              "        cursor: pointer;\n",
              "        display: none;\n",
              "        fill: #1967D2;\n",
              "        height: 32px;\n",
              "        padding: 0 0 0 0;\n",
              "        width: 32px;\n",
              "      }\n",
              "\n",
              "      .colab-df-generate:hover {\n",
              "        background-color: #E2EBFA;\n",
              "        box-shadow: 0px 1px 2px rgba(60, 64, 67, 0.3), 0px 1px 3px 1px rgba(60, 64, 67, 0.15);\n",
              "        fill: #174EA6;\n",
              "      }\n",
              "\n",
              "      [theme=dark] .colab-df-generate {\n",
              "        background-color: #3B4455;\n",
              "        fill: #D2E3FC;\n",
              "      }\n",
              "\n",
              "      [theme=dark] .colab-df-generate:hover {\n",
              "        background-color: #434B5C;\n",
              "        box-shadow: 0px 1px 3px 1px rgba(0, 0, 0, 0.15);\n",
              "        filter: drop-shadow(0px 1px 2px rgba(0, 0, 0, 0.3));\n",
              "        fill: #FFFFFF;\n",
              "      }\n",
              "    </style>\n",
              "    <button class=\"colab-df-generate\" onclick=\"generateWithVariable('df_subject_label')\"\n",
              "            title=\"Generate code using this dataframe.\"\n",
              "            style=\"display:none;\">\n",
              "\n",
              "  <svg xmlns=\"http://www.w3.org/2000/svg\" height=\"24px\"viewBox=\"0 0 24 24\"\n",
              "       width=\"24px\">\n",
              "    <path d=\"M7,19H8.4L18.45,9,17,7.55,7,17.6ZM5,21V16.75L18.45,3.32a2,2,0,0,1,2.83,0l1.4,1.43a1.91,1.91,0,0,1,.58,1.4,1.91,1.91,0,0,1-.58,1.4L9.25,21ZM18.45,9,17,7.55Zm-12,3A5.31,5.31,0,0,0,4.9,8.1,5.31,5.31,0,0,0,1,6.5,5.31,5.31,0,0,0,4.9,4.9,5.31,5.31,0,0,0,6.5,1,5.31,5.31,0,0,0,8.1,4.9,5.31,5.31,0,0,0,12,6.5,5.46,5.46,0,0,0,6.5,12Z\"/>\n",
              "  </svg>\n",
              "    </button>\n",
              "    <script>\n",
              "      (() => {\n",
              "      const buttonEl =\n",
              "        document.querySelector('#id_779eb97e-c6fd-44da-b09a-3f1afe42205d button.colab-df-generate');\n",
              "      buttonEl.style.display =\n",
              "        google.colab.kernel.accessAllowed ? 'block' : 'none';\n",
              "\n",
              "      buttonEl.onclick = () => {\n",
              "        google.colab.notebook.generateWithVariable('df_subject_label');\n",
              "      }\n",
              "      })();\n",
              "    </script>\n",
              "  </div>\n",
              "\n",
              "    </div>\n",
              "  </div>\n"
            ],
            "application/vnd.google.colaboratory.intrinsic+json": {
              "type": "dataframe",
              "variable_name": "df_subject_label",
              "summary": "{\n  \"name\": \"df_subject_label\",\n  \"rows\": 900,\n  \"fields\": [\n    {\n      \"column\": \"Sentence Pair\",\n      \"properties\": {\n        \"dtype\": \"string\",\n        \"num_unique_values\": 900,\n        \"samples\": [\n          \"Sentence Pair 71\",\n          \"Sentence Pair 828\",\n          \"Sentence Pair 232\"\n        ],\n        \"semantic_type\": \"\",\n        \"description\": \"\"\n      }\n    },\n    {\n      \"column\": \"Contradiction\",\n      \"properties\": {\n        \"dtype\": \"number\",\n        \"std\": 1,\n        \"min\": 0,\n        \"max\": 3,\n        \"num_unique_values\": 4,\n        \"samples\": [\n          0,\n          1,\n          2\n        ],\n        \"semantic_type\": \"\",\n        \"description\": \"\"\n      }\n    },\n    {\n      \"column\": \"Entailment\",\n      \"properties\": {\n        \"dtype\": \"number\",\n        \"std\": 1,\n        \"min\": 0,\n        \"max\": 3,\n        \"num_unique_values\": 4,\n        \"samples\": [\n          3,\n          2,\n          0\n        ],\n        \"semantic_type\": \"\",\n        \"description\": \"\"\n      }\n    },\n    {\n      \"column\": \"Neutral\",\n      \"properties\": {\n        \"dtype\": \"number\",\n        \"std\": 1,\n        \"min\": 0,\n        \"max\": 3,\n        \"num_unique_values\": 4,\n        \"samples\": [\n          3,\n          2,\n          1\n        ],\n        \"semantic_type\": \"\",\n        \"description\": \"\"\n      }\n    }\n  ]\n}"
            }
          },
          "metadata": {},
          "execution_count": 7
        }
      ]
    },
    {
      "cell_type": "markdown",
      "source": [
        "This is a function to compute precent agreement in cases of 3+ raters with missing data"
      ],
      "metadata": {
        "id": "6HvuFFEcb26e"
      }
    },
    {
      "cell_type": "code",
      "source": [
        "data = df_subject_label.copy()\n",
        "\n",
        "# Create a DataFrame\n",
        "df = pd.DataFrame(data)\n",
        "\n",
        "# Calculate the number of sentence pairs with at least two ratings\n",
        "n_prime = (df[['Contradiction', 'Entailment', 'Neutral']].sum(axis=1) >= 2).sum()\n",
        "\n",
        "# Initialize Po sum\n",
        "Po_sum = 0\n",
        "\n",
        "# Iterate over each sentence pair\n",
        "for i, row in df.iterrows():\n",
        "    # Initialize r_i sum for the current row\n",
        "    r_i_sum = row['Contradiction'] + row['Entailment'] + row['Neutral']\n",
        "\n",
        "    # Skip if r_i is less than 2\n",
        "    if r_i_sum < 2:\n",
        "        continue\n",
        "\n",
        "    # Initialize sum for the current sentence pair\n",
        "    pair_sum = 0\n",
        "\n",
        "    # Iterate over each category (Contradiction, Entailment, Neutral)\n",
        "    for k in ['Contradiction', 'Entailment', 'Neutral']:\n",
        "        r_ik = row[k]\n",
        "\n",
        "        # Calculate the inner sum for the current category\n",
        "        if r_i_sum > 1:\n",
        "            inner_sum = (r_ik * (r_ik - 1)) / (r_i_sum * (r_i_sum - 1))\n",
        "        else:\n",
        "            inner_sum = 0\n",
        "\n",
        "        pair_sum += inner_sum\n",
        "\n",
        "    # Add the pair_sum to Po_sum\n",
        "    Po_sum += pair_sum\n",
        "\n",
        "# Calculate Po\n",
        "Po = Po_sum / n_prime\n",
        "\n",
        "print(f'Po: {Po}')\n"
      ],
      "metadata": {
        "colab": {
          "base_uri": "https://localhost:8080/"
        },
        "id": "zKskN8MFZ9WC",
        "outputId": "aa77eb2c-9dfa-4893-c5e0-8048f9989701"
      },
      "execution_count": null,
      "outputs": [
        {
          "output_type": "stream",
          "name": "stdout",
          "text": [
            "Po: 0.6755555555555548\n"
          ]
        }
      ]
    },
    {
      "cell_type": "markdown",
      "source": [
        "**Chance Agreement**"
      ],
      "metadata": {
        "id": "aoDsmZjLb9aq"
      }
    },
    {
      "cell_type": "code",
      "source": [
        "counts = Aggregated_cronger.apply(pd.Series.value_counts).fillna(0).astype(int)\n",
        "\n",
        "categories = ['Contradiction', 'Neutral', 'Entailment']\n",
        "counts = counts.reindex(categories).fillna(0).astype(int)\n",
        "counts = counts.transpose()\n",
        "counts"
      ],
      "metadata": {
        "colab": {
          "base_uri": "https://localhost:8080/",
          "height": 143
        },
        "id": "_bLaiSzDsT7s",
        "outputId": "385fd242-7c17-45ec-a6ee-e941eb0b1bf9"
      },
      "execution_count": null,
      "outputs": [
        {
          "output_type": "execute_result",
          "data": {
            "text/plain": [
              "            Contradiction  Neutral  Entailment\n",
              "Evaluator1            202      373         325\n",
              "Evaluator2            321      223         356\n",
              "Evaluator3            206      172         522"
            ],
            "text/html": [
              "\n",
              "  <div id=\"df-7aeda88e-1d4a-4f24-b3a9-94b8b31ed1bf\" class=\"colab-df-container\">\n",
              "    <div>\n",
              "<style scoped>\n",
              "    .dataframe tbody tr th:only-of-type {\n",
              "        vertical-align: middle;\n",
              "    }\n",
              "\n",
              "    .dataframe tbody tr th {\n",
              "        vertical-align: top;\n",
              "    }\n",
              "\n",
              "    .dataframe thead th {\n",
              "        text-align: right;\n",
              "    }\n",
              "</style>\n",
              "<table border=\"1\" class=\"dataframe\">\n",
              "  <thead>\n",
              "    <tr style=\"text-align: right;\">\n",
              "      <th></th>\n",
              "      <th>Contradiction</th>\n",
              "      <th>Neutral</th>\n",
              "      <th>Entailment</th>\n",
              "    </tr>\n",
              "  </thead>\n",
              "  <tbody>\n",
              "    <tr>\n",
              "      <th>Evaluator1</th>\n",
              "      <td>202</td>\n",
              "      <td>373</td>\n",
              "      <td>325</td>\n",
              "    </tr>\n",
              "    <tr>\n",
              "      <th>Evaluator2</th>\n",
              "      <td>321</td>\n",
              "      <td>223</td>\n",
              "      <td>356</td>\n",
              "    </tr>\n",
              "    <tr>\n",
              "      <th>Evaluator3</th>\n",
              "      <td>206</td>\n",
              "      <td>172</td>\n",
              "      <td>522</td>\n",
              "    </tr>\n",
              "  </tbody>\n",
              "</table>\n",
              "</div>\n",
              "    <div class=\"colab-df-buttons\">\n",
              "\n",
              "  <div class=\"colab-df-container\">\n",
              "    <button class=\"colab-df-convert\" onclick=\"convertToInteractive('df-7aeda88e-1d4a-4f24-b3a9-94b8b31ed1bf')\"\n",
              "            title=\"Convert this dataframe to an interactive table.\"\n",
              "            style=\"display:none;\">\n",
              "\n",
              "  <svg xmlns=\"http://www.w3.org/2000/svg\" height=\"24px\" viewBox=\"0 -960 960 960\">\n",
              "    <path d=\"M120-120v-720h720v720H120Zm60-500h600v-160H180v160Zm220 220h160v-160H400v160Zm0 220h160v-160H400v160ZM180-400h160v-160H180v160Zm440 0h160v-160H620v160ZM180-180h160v-160H180v160Zm440 0h160v-160H620v160Z\"/>\n",
              "  </svg>\n",
              "    </button>\n",
              "\n",
              "  <style>\n",
              "    .colab-df-container {\n",
              "      display:flex;\n",
              "      gap: 12px;\n",
              "    }\n",
              "\n",
              "    .colab-df-convert {\n",
              "      background-color: #E8F0FE;\n",
              "      border: none;\n",
              "      border-radius: 50%;\n",
              "      cursor: pointer;\n",
              "      display: none;\n",
              "      fill: #1967D2;\n",
              "      height: 32px;\n",
              "      padding: 0 0 0 0;\n",
              "      width: 32px;\n",
              "    }\n",
              "\n",
              "    .colab-df-convert:hover {\n",
              "      background-color: #E2EBFA;\n",
              "      box-shadow: 0px 1px 2px rgba(60, 64, 67, 0.3), 0px 1px 3px 1px rgba(60, 64, 67, 0.15);\n",
              "      fill: #174EA6;\n",
              "    }\n",
              "\n",
              "    .colab-df-buttons div {\n",
              "      margin-bottom: 4px;\n",
              "    }\n",
              "\n",
              "    [theme=dark] .colab-df-convert {\n",
              "      background-color: #3B4455;\n",
              "      fill: #D2E3FC;\n",
              "    }\n",
              "\n",
              "    [theme=dark] .colab-df-convert:hover {\n",
              "      background-color: #434B5C;\n",
              "      box-shadow: 0px 1px 3px 1px rgba(0, 0, 0, 0.15);\n",
              "      filter: drop-shadow(0px 1px 2px rgba(0, 0, 0, 0.3));\n",
              "      fill: #FFFFFF;\n",
              "    }\n",
              "  </style>\n",
              "\n",
              "    <script>\n",
              "      const buttonEl =\n",
              "        document.querySelector('#df-7aeda88e-1d4a-4f24-b3a9-94b8b31ed1bf button.colab-df-convert');\n",
              "      buttonEl.style.display =\n",
              "        google.colab.kernel.accessAllowed ? 'block' : 'none';\n",
              "\n",
              "      async function convertToInteractive(key) {\n",
              "        const element = document.querySelector('#df-7aeda88e-1d4a-4f24-b3a9-94b8b31ed1bf');\n",
              "        const dataTable =\n",
              "          await google.colab.kernel.invokeFunction('convertToInteractive',\n",
              "                                                    [key], {});\n",
              "        if (!dataTable) return;\n",
              "\n",
              "        const docLinkHtml = 'Like what you see? Visit the ' +\n",
              "          '<a target=\"_blank\" href=https://colab.research.google.com/notebooks/data_table.ipynb>data table notebook</a>'\n",
              "          + ' to learn more about interactive tables.';\n",
              "        element.innerHTML = '';\n",
              "        dataTable['output_type'] = 'display_data';\n",
              "        await google.colab.output.renderOutput(dataTable, element);\n",
              "        const docLink = document.createElement('div');\n",
              "        docLink.innerHTML = docLinkHtml;\n",
              "        element.appendChild(docLink);\n",
              "      }\n",
              "    </script>\n",
              "  </div>\n",
              "\n",
              "\n",
              "<div id=\"df-e4aa9665-9f3b-4c5a-a758-1769e21036c5\">\n",
              "  <button class=\"colab-df-quickchart\" onclick=\"quickchart('df-e4aa9665-9f3b-4c5a-a758-1769e21036c5')\"\n",
              "            title=\"Suggest charts\"\n",
              "            style=\"display:none;\">\n",
              "\n",
              "<svg xmlns=\"http://www.w3.org/2000/svg\" height=\"24px\"viewBox=\"0 0 24 24\"\n",
              "     width=\"24px\">\n",
              "    <g>\n",
              "        <path d=\"M19 3H5c-1.1 0-2 .9-2 2v14c0 1.1.9 2 2 2h14c1.1 0 2-.9 2-2V5c0-1.1-.9-2-2-2zM9 17H7v-7h2v7zm4 0h-2V7h2v10zm4 0h-2v-4h2v4z\"/>\n",
              "    </g>\n",
              "</svg>\n",
              "  </button>\n",
              "\n",
              "<style>\n",
              "  .colab-df-quickchart {\n",
              "      --bg-color: #E8F0FE;\n",
              "      --fill-color: #1967D2;\n",
              "      --hover-bg-color: #E2EBFA;\n",
              "      --hover-fill-color: #174EA6;\n",
              "      --disabled-fill-color: #AAA;\n",
              "      --disabled-bg-color: #DDD;\n",
              "  }\n",
              "\n",
              "  [theme=dark] .colab-df-quickchart {\n",
              "      --bg-color: #3B4455;\n",
              "      --fill-color: #D2E3FC;\n",
              "      --hover-bg-color: #434B5C;\n",
              "      --hover-fill-color: #FFFFFF;\n",
              "      --disabled-bg-color: #3B4455;\n",
              "      --disabled-fill-color: #666;\n",
              "  }\n",
              "\n",
              "  .colab-df-quickchart {\n",
              "    background-color: var(--bg-color);\n",
              "    border: none;\n",
              "    border-radius: 50%;\n",
              "    cursor: pointer;\n",
              "    display: none;\n",
              "    fill: var(--fill-color);\n",
              "    height: 32px;\n",
              "    padding: 0;\n",
              "    width: 32px;\n",
              "  }\n",
              "\n",
              "  .colab-df-quickchart:hover {\n",
              "    background-color: var(--hover-bg-color);\n",
              "    box-shadow: 0 1px 2px rgba(60, 64, 67, 0.3), 0 1px 3px 1px rgba(60, 64, 67, 0.15);\n",
              "    fill: var(--button-hover-fill-color);\n",
              "  }\n",
              "\n",
              "  .colab-df-quickchart-complete:disabled,\n",
              "  .colab-df-quickchart-complete:disabled:hover {\n",
              "    background-color: var(--disabled-bg-color);\n",
              "    fill: var(--disabled-fill-color);\n",
              "    box-shadow: none;\n",
              "  }\n",
              "\n",
              "  .colab-df-spinner {\n",
              "    border: 2px solid var(--fill-color);\n",
              "    border-color: transparent;\n",
              "    border-bottom-color: var(--fill-color);\n",
              "    animation:\n",
              "      spin 1s steps(1) infinite;\n",
              "  }\n",
              "\n",
              "  @keyframes spin {\n",
              "    0% {\n",
              "      border-color: transparent;\n",
              "      border-bottom-color: var(--fill-color);\n",
              "      border-left-color: var(--fill-color);\n",
              "    }\n",
              "    20% {\n",
              "      border-color: transparent;\n",
              "      border-left-color: var(--fill-color);\n",
              "      border-top-color: var(--fill-color);\n",
              "    }\n",
              "    30% {\n",
              "      border-color: transparent;\n",
              "      border-left-color: var(--fill-color);\n",
              "      border-top-color: var(--fill-color);\n",
              "      border-right-color: var(--fill-color);\n",
              "    }\n",
              "    40% {\n",
              "      border-color: transparent;\n",
              "      border-right-color: var(--fill-color);\n",
              "      border-top-color: var(--fill-color);\n",
              "    }\n",
              "    60% {\n",
              "      border-color: transparent;\n",
              "      border-right-color: var(--fill-color);\n",
              "    }\n",
              "    80% {\n",
              "      border-color: transparent;\n",
              "      border-right-color: var(--fill-color);\n",
              "      border-bottom-color: var(--fill-color);\n",
              "    }\n",
              "    90% {\n",
              "      border-color: transparent;\n",
              "      border-bottom-color: var(--fill-color);\n",
              "    }\n",
              "  }\n",
              "</style>\n",
              "\n",
              "  <script>\n",
              "    async function quickchart(key) {\n",
              "      const quickchartButtonEl =\n",
              "        document.querySelector('#' + key + ' button');\n",
              "      quickchartButtonEl.disabled = true;  // To prevent multiple clicks.\n",
              "      quickchartButtonEl.classList.add('colab-df-spinner');\n",
              "      try {\n",
              "        const charts = await google.colab.kernel.invokeFunction(\n",
              "            'suggestCharts', [key], {});\n",
              "      } catch (error) {\n",
              "        console.error('Error during call to suggestCharts:', error);\n",
              "      }\n",
              "      quickchartButtonEl.classList.remove('colab-df-spinner');\n",
              "      quickchartButtonEl.classList.add('colab-df-quickchart-complete');\n",
              "    }\n",
              "    (() => {\n",
              "      let quickchartButtonEl =\n",
              "        document.querySelector('#df-e4aa9665-9f3b-4c5a-a758-1769e21036c5 button');\n",
              "      quickchartButtonEl.style.display =\n",
              "        google.colab.kernel.accessAllowed ? 'block' : 'none';\n",
              "    })();\n",
              "  </script>\n",
              "</div>\n",
              "\n",
              "  <div id=\"id_3e1c3579-8d95-4c65-b52c-0f2ed9e30ea8\">\n",
              "    <style>\n",
              "      .colab-df-generate {\n",
              "        background-color: #E8F0FE;\n",
              "        border: none;\n",
              "        border-radius: 50%;\n",
              "        cursor: pointer;\n",
              "        display: none;\n",
              "        fill: #1967D2;\n",
              "        height: 32px;\n",
              "        padding: 0 0 0 0;\n",
              "        width: 32px;\n",
              "      }\n",
              "\n",
              "      .colab-df-generate:hover {\n",
              "        background-color: #E2EBFA;\n",
              "        box-shadow: 0px 1px 2px rgba(60, 64, 67, 0.3), 0px 1px 3px 1px rgba(60, 64, 67, 0.15);\n",
              "        fill: #174EA6;\n",
              "      }\n",
              "\n",
              "      [theme=dark] .colab-df-generate {\n",
              "        background-color: #3B4455;\n",
              "        fill: #D2E3FC;\n",
              "      }\n",
              "\n",
              "      [theme=dark] .colab-df-generate:hover {\n",
              "        background-color: #434B5C;\n",
              "        box-shadow: 0px 1px 3px 1px rgba(0, 0, 0, 0.15);\n",
              "        filter: drop-shadow(0px 1px 2px rgba(0, 0, 0, 0.3));\n",
              "        fill: #FFFFFF;\n",
              "      }\n",
              "    </style>\n",
              "    <button class=\"colab-df-generate\" onclick=\"generateWithVariable('counts')\"\n",
              "            title=\"Generate code using this dataframe.\"\n",
              "            style=\"display:none;\">\n",
              "\n",
              "  <svg xmlns=\"http://www.w3.org/2000/svg\" height=\"24px\"viewBox=\"0 0 24 24\"\n",
              "       width=\"24px\">\n",
              "    <path d=\"M7,19H8.4L18.45,9,17,7.55,7,17.6ZM5,21V16.75L18.45,3.32a2,2,0,0,1,2.83,0l1.4,1.43a1.91,1.91,0,0,1,.58,1.4,1.91,1.91,0,0,1-.58,1.4L9.25,21ZM18.45,9,17,7.55Zm-12,3A5.31,5.31,0,0,0,4.9,8.1,5.31,5.31,0,0,0,1,6.5,5.31,5.31,0,0,0,4.9,4.9,5.31,5.31,0,0,0,6.5,1,5.31,5.31,0,0,0,8.1,4.9,5.31,5.31,0,0,0,12,6.5,5.46,5.46,0,0,0,6.5,12Z\"/>\n",
              "  </svg>\n",
              "    </button>\n",
              "    <script>\n",
              "      (() => {\n",
              "      const buttonEl =\n",
              "        document.querySelector('#id_3e1c3579-8d95-4c65-b52c-0f2ed9e30ea8 button.colab-df-generate');\n",
              "      buttonEl.style.display =\n",
              "        google.colab.kernel.accessAllowed ? 'block' : 'none';\n",
              "\n",
              "      buttonEl.onclick = () => {\n",
              "        google.colab.notebook.generateWithVariable('counts');\n",
              "      }\n",
              "      })();\n",
              "    </script>\n",
              "  </div>\n",
              "\n",
              "    </div>\n",
              "  </div>\n"
            ],
            "application/vnd.google.colaboratory.intrinsic+json": {
              "type": "dataframe",
              "variable_name": "counts",
              "summary": "{\n  \"name\": \"counts\",\n  \"rows\": 3,\n  \"fields\": [\n    {\n      \"column\": \"Contradiction\",\n      \"properties\": {\n        \"dtype\": \"number\",\n        \"std\": 67,\n        \"min\": 202,\n        \"max\": 321,\n        \"num_unique_values\": 3,\n        \"samples\": [\n          202,\n          321,\n          206\n        ],\n        \"semantic_type\": \"\",\n        \"description\": \"\"\n      }\n    },\n    {\n      \"column\": \"Neutral\",\n      \"properties\": {\n        \"dtype\": \"number\",\n        \"std\": 104,\n        \"min\": 172,\n        \"max\": 373,\n        \"num_unique_values\": 3,\n        \"samples\": [\n          373,\n          223,\n          172\n        ],\n        \"semantic_type\": \"\",\n        \"description\": \"\"\n      }\n    },\n    {\n      \"column\": \"Entailment\",\n      \"properties\": {\n        \"dtype\": \"number\",\n        \"std\": 105,\n        \"min\": 325,\n        \"max\": 522,\n        \"num_unique_values\": 3,\n        \"samples\": [\n          325,\n          356,\n          522\n        ],\n        \"semantic_type\": \"\",\n        \"description\": \"\"\n      }\n    }\n  ]\n}"
            }
          },
          "metadata": {},
          "execution_count": 6
        }
      ]
    },
    {
      "cell_type": "markdown",
      "source": [
        "Get the average probability for each category"
      ],
      "metadata": {
        "id": "CuL159KckRWv"
      }
    },
    {
      "cell_type": "code",
      "source": [
        "relative_counts = counts/900\n",
        "averages = relative_counts.mean()\n",
        "averages"
      ],
      "metadata": {
        "id": "Audui9YKrvNf",
        "colab": {
          "base_uri": "https://localhost:8080/"
        },
        "outputId": "81650850-3d55-49b1-9da0-ecaeeca15385"
      },
      "execution_count": null,
      "outputs": [
        {
          "output_type": "execute_result",
          "data": {
            "text/plain": [
              "Contradiction    0.270000\n",
              "Neutral          0.284444\n",
              "Entailment       0.445556\n",
              "dtype: float64"
            ]
          },
          "metadata": {},
          "execution_count": 19
        }
      ]
    },
    {
      "cell_type": "markdown",
      "source": [
        "Get the variace for each category"
      ],
      "metadata": {
        "id": "F0GOqIKoktPs"
      }
    },
    {
      "cell_type": "code",
      "source": [
        "variances_table = relative_counts.sub(averages).pow(2)\n",
        "variances = variances_table.sum()/2\n",
        "variances"
      ],
      "metadata": {
        "colab": {
          "base_uri": "https://localhost:8080/"
        },
        "id": "1oWEeX7nhVxm",
        "outputId": "8eea12b8-6227-44f0-c035-bcbf68a4be9c"
      },
      "execution_count": null,
      "outputs": [
        {
          "output_type": "execute_result",
          "data": {
            "text/plain": [
              "Contradiction    0.005638\n",
              "Neutral          0.013478\n",
              "Entailment       0.013853\n",
              "dtype: float64"
            ]
          },
          "metadata": {},
          "execution_count": 43
        }
      ]
    },
    {
      "cell_type": "markdown",
      "source": [
        "Compute chance agreement"
      ],
      "metadata": {
        "id": "cWOLRnjTl1cA"
      }
    },
    {
      "cell_type": "code",
      "source": [
        "Pe = averages.pow(2).sum() - (variances/3).sum() #3 is the number of raters"
      ],
      "metadata": {
        "id": "e5xx7JZ9l5nR"
      },
      "execution_count": null,
      "outputs": []
    },
    {
      "cell_type": "markdown",
      "source": [
        "**Plug in into formula**"
      ],
      "metadata": {
        "id": "uaeupIA-m7kO"
      }
    },
    {
      "cell_type": "markdown",
      "source": [
        "Small difference due to approximations"
      ],
      "metadata": {
        "id": "JPBn6CH-m-Iz"
      }
    },
    {
      "cell_type": "code",
      "source": [
        "(Po-Pe)/(1-Pe)"
      ],
      "metadata": {
        "colab": {
          "base_uri": "https://localhost:8080/"
        },
        "id": "9kjBzMTfmg81",
        "outputId": "6af114b5-0512-4704-c053-d01c3ccb02dc"
      },
      "execution_count": null,
      "outputs": [
        {
          "output_type": "execute_result",
          "data": {
            "text/plain": [
              "0.5046635180031721"
            ]
          },
          "metadata": {},
          "execution_count": 42
        }
      ]
    },
    {
      "cell_type": "markdown",
      "source": [
        "### Intra-class correlation"
      ],
      "metadata": {
        "id": "i-Zbo1zszy-j"
      }
    },
    {
      "cell_type": "markdown",
      "source": [
        "**Preparing the data**"
      ],
      "metadata": {
        "id": "sNkONQz6xDvV"
      }
    },
    {
      "cell_type": "code",
      "source": [
        "electro_dataset = pd.read_csv('/content/drive/MyDrive/Colab Notebooks/Statistics/Curs/Data_c2/electromyography.csv')"
      ],
      "metadata": {
        "id": "GZzdhr_vv5g1"
      },
      "execution_count": 67,
      "outputs": []
    },
    {
      "cell_type": "code",
      "source": [
        "electro_dataset"
      ],
      "metadata": {
        "id": "vnu5UEHtSbm3",
        "colab": {
          "base_uri": "https://localhost:8080/",
          "height": 363
        },
        "outputId": "36747f0f-2d79-4537-ea9b-6e7671987860"
      },
      "execution_count": 68,
      "outputs": [
        {
          "output_type": "execute_result",
          "data": {
            "text/plain": [
              "   Subject  Day 1  Day 2  Day 3\n",
              "0        1   59.9   67.7   72.2\n",
              "1        2   62.9   66.5   67.9\n",
              "2        3   58.9   50.1   47.9\n",
              "3        4   46.8   50.0   53.9\n",
              "4        5   62.5   67.8   62.6\n",
              "5        6   44.8   42.7   48.4\n",
              "6        7   57.3   49.6   48.0\n",
              "7        8   49.0   45.2   57.5\n",
              "8        9   43.5   41.5   47.4\n",
              "9       10   39.2   50.9   56.3"
            ],
            "text/html": [
              "\n",
              "  <div id=\"df-3f80c691-8a91-4eeb-879d-9a074ab036c4\" class=\"colab-df-container\">\n",
              "    <div>\n",
              "<style scoped>\n",
              "    .dataframe tbody tr th:only-of-type {\n",
              "        vertical-align: middle;\n",
              "    }\n",
              "\n",
              "    .dataframe tbody tr th {\n",
              "        vertical-align: top;\n",
              "    }\n",
              "\n",
              "    .dataframe thead th {\n",
              "        text-align: right;\n",
              "    }\n",
              "</style>\n",
              "<table border=\"1\" class=\"dataframe\">\n",
              "  <thead>\n",
              "    <tr style=\"text-align: right;\">\n",
              "      <th></th>\n",
              "      <th>Subject</th>\n",
              "      <th>Day 1</th>\n",
              "      <th>Day 2</th>\n",
              "      <th>Day 3</th>\n",
              "    </tr>\n",
              "  </thead>\n",
              "  <tbody>\n",
              "    <tr>\n",
              "      <th>0</th>\n",
              "      <td>1</td>\n",
              "      <td>59.9</td>\n",
              "      <td>67.7</td>\n",
              "      <td>72.2</td>\n",
              "    </tr>\n",
              "    <tr>\n",
              "      <th>1</th>\n",
              "      <td>2</td>\n",
              "      <td>62.9</td>\n",
              "      <td>66.5</td>\n",
              "      <td>67.9</td>\n",
              "    </tr>\n",
              "    <tr>\n",
              "      <th>2</th>\n",
              "      <td>3</td>\n",
              "      <td>58.9</td>\n",
              "      <td>50.1</td>\n",
              "      <td>47.9</td>\n",
              "    </tr>\n",
              "    <tr>\n",
              "      <th>3</th>\n",
              "      <td>4</td>\n",
              "      <td>46.8</td>\n",
              "      <td>50.0</td>\n",
              "      <td>53.9</td>\n",
              "    </tr>\n",
              "    <tr>\n",
              "      <th>4</th>\n",
              "      <td>5</td>\n",
              "      <td>62.5</td>\n",
              "      <td>67.8</td>\n",
              "      <td>62.6</td>\n",
              "    </tr>\n",
              "    <tr>\n",
              "      <th>5</th>\n",
              "      <td>6</td>\n",
              "      <td>44.8</td>\n",
              "      <td>42.7</td>\n",
              "      <td>48.4</td>\n",
              "    </tr>\n",
              "    <tr>\n",
              "      <th>6</th>\n",
              "      <td>7</td>\n",
              "      <td>57.3</td>\n",
              "      <td>49.6</td>\n",
              "      <td>48.0</td>\n",
              "    </tr>\n",
              "    <tr>\n",
              "      <th>7</th>\n",
              "      <td>8</td>\n",
              "      <td>49.0</td>\n",
              "      <td>45.2</td>\n",
              "      <td>57.5</td>\n",
              "    </tr>\n",
              "    <tr>\n",
              "      <th>8</th>\n",
              "      <td>9</td>\n",
              "      <td>43.5</td>\n",
              "      <td>41.5</td>\n",
              "      <td>47.4</td>\n",
              "    </tr>\n",
              "    <tr>\n",
              "      <th>9</th>\n",
              "      <td>10</td>\n",
              "      <td>39.2</td>\n",
              "      <td>50.9</td>\n",
              "      <td>56.3</td>\n",
              "    </tr>\n",
              "  </tbody>\n",
              "</table>\n",
              "</div>\n",
              "    <div class=\"colab-df-buttons\">\n",
              "\n",
              "  <div class=\"colab-df-container\">\n",
              "    <button class=\"colab-df-convert\" onclick=\"convertToInteractive('df-3f80c691-8a91-4eeb-879d-9a074ab036c4')\"\n",
              "            title=\"Convert this dataframe to an interactive table.\"\n",
              "            style=\"display:none;\">\n",
              "\n",
              "  <svg xmlns=\"http://www.w3.org/2000/svg\" height=\"24px\" viewBox=\"0 -960 960 960\">\n",
              "    <path d=\"M120-120v-720h720v720H120Zm60-500h600v-160H180v160Zm220 220h160v-160H400v160Zm0 220h160v-160H400v160ZM180-400h160v-160H180v160Zm440 0h160v-160H620v160ZM180-180h160v-160H180v160Zm440 0h160v-160H620v160Z\"/>\n",
              "  </svg>\n",
              "    </button>\n",
              "\n",
              "  <style>\n",
              "    .colab-df-container {\n",
              "      display:flex;\n",
              "      gap: 12px;\n",
              "    }\n",
              "\n",
              "    .colab-df-convert {\n",
              "      background-color: #E8F0FE;\n",
              "      border: none;\n",
              "      border-radius: 50%;\n",
              "      cursor: pointer;\n",
              "      display: none;\n",
              "      fill: #1967D2;\n",
              "      height: 32px;\n",
              "      padding: 0 0 0 0;\n",
              "      width: 32px;\n",
              "    }\n",
              "\n",
              "    .colab-df-convert:hover {\n",
              "      background-color: #E2EBFA;\n",
              "      box-shadow: 0px 1px 2px rgba(60, 64, 67, 0.3), 0px 1px 3px 1px rgba(60, 64, 67, 0.15);\n",
              "      fill: #174EA6;\n",
              "    }\n",
              "\n",
              "    .colab-df-buttons div {\n",
              "      margin-bottom: 4px;\n",
              "    }\n",
              "\n",
              "    [theme=dark] .colab-df-convert {\n",
              "      background-color: #3B4455;\n",
              "      fill: #D2E3FC;\n",
              "    }\n",
              "\n",
              "    [theme=dark] .colab-df-convert:hover {\n",
              "      background-color: #434B5C;\n",
              "      box-shadow: 0px 1px 3px 1px rgba(0, 0, 0, 0.15);\n",
              "      filter: drop-shadow(0px 1px 2px rgba(0, 0, 0, 0.3));\n",
              "      fill: #FFFFFF;\n",
              "    }\n",
              "  </style>\n",
              "\n",
              "    <script>\n",
              "      const buttonEl =\n",
              "        document.querySelector('#df-3f80c691-8a91-4eeb-879d-9a074ab036c4 button.colab-df-convert');\n",
              "      buttonEl.style.display =\n",
              "        google.colab.kernel.accessAllowed ? 'block' : 'none';\n",
              "\n",
              "      async function convertToInteractive(key) {\n",
              "        const element = document.querySelector('#df-3f80c691-8a91-4eeb-879d-9a074ab036c4');\n",
              "        const dataTable =\n",
              "          await google.colab.kernel.invokeFunction('convertToInteractive',\n",
              "                                                    [key], {});\n",
              "        if (!dataTable) return;\n",
              "\n",
              "        const docLinkHtml = 'Like what you see? Visit the ' +\n",
              "          '<a target=\"_blank\" href=https://colab.research.google.com/notebooks/data_table.ipynb>data table notebook</a>'\n",
              "          + ' to learn more about interactive tables.';\n",
              "        element.innerHTML = '';\n",
              "        dataTable['output_type'] = 'display_data';\n",
              "        await google.colab.output.renderOutput(dataTable, element);\n",
              "        const docLink = document.createElement('div');\n",
              "        docLink.innerHTML = docLinkHtml;\n",
              "        element.appendChild(docLink);\n",
              "      }\n",
              "    </script>\n",
              "  </div>\n",
              "\n",
              "\n",
              "<div id=\"df-48e4db13-68ea-4b18-a409-77cf3083f3ee\">\n",
              "  <button class=\"colab-df-quickchart\" onclick=\"quickchart('df-48e4db13-68ea-4b18-a409-77cf3083f3ee')\"\n",
              "            title=\"Suggest charts\"\n",
              "            style=\"display:none;\">\n",
              "\n",
              "<svg xmlns=\"http://www.w3.org/2000/svg\" height=\"24px\"viewBox=\"0 0 24 24\"\n",
              "     width=\"24px\">\n",
              "    <g>\n",
              "        <path d=\"M19 3H5c-1.1 0-2 .9-2 2v14c0 1.1.9 2 2 2h14c1.1 0 2-.9 2-2V5c0-1.1-.9-2-2-2zM9 17H7v-7h2v7zm4 0h-2V7h2v10zm4 0h-2v-4h2v4z\"/>\n",
              "    </g>\n",
              "</svg>\n",
              "  </button>\n",
              "\n",
              "<style>\n",
              "  .colab-df-quickchart {\n",
              "      --bg-color: #E8F0FE;\n",
              "      --fill-color: #1967D2;\n",
              "      --hover-bg-color: #E2EBFA;\n",
              "      --hover-fill-color: #174EA6;\n",
              "      --disabled-fill-color: #AAA;\n",
              "      --disabled-bg-color: #DDD;\n",
              "  }\n",
              "\n",
              "  [theme=dark] .colab-df-quickchart {\n",
              "      --bg-color: #3B4455;\n",
              "      --fill-color: #D2E3FC;\n",
              "      --hover-bg-color: #434B5C;\n",
              "      --hover-fill-color: #FFFFFF;\n",
              "      --disabled-bg-color: #3B4455;\n",
              "      --disabled-fill-color: #666;\n",
              "  }\n",
              "\n",
              "  .colab-df-quickchart {\n",
              "    background-color: var(--bg-color);\n",
              "    border: none;\n",
              "    border-radius: 50%;\n",
              "    cursor: pointer;\n",
              "    display: none;\n",
              "    fill: var(--fill-color);\n",
              "    height: 32px;\n",
              "    padding: 0;\n",
              "    width: 32px;\n",
              "  }\n",
              "\n",
              "  .colab-df-quickchart:hover {\n",
              "    background-color: var(--hover-bg-color);\n",
              "    box-shadow: 0 1px 2px rgba(60, 64, 67, 0.3), 0 1px 3px 1px rgba(60, 64, 67, 0.15);\n",
              "    fill: var(--button-hover-fill-color);\n",
              "  }\n",
              "\n",
              "  .colab-df-quickchart-complete:disabled,\n",
              "  .colab-df-quickchart-complete:disabled:hover {\n",
              "    background-color: var(--disabled-bg-color);\n",
              "    fill: var(--disabled-fill-color);\n",
              "    box-shadow: none;\n",
              "  }\n",
              "\n",
              "  .colab-df-spinner {\n",
              "    border: 2px solid var(--fill-color);\n",
              "    border-color: transparent;\n",
              "    border-bottom-color: var(--fill-color);\n",
              "    animation:\n",
              "      spin 1s steps(1) infinite;\n",
              "  }\n",
              "\n",
              "  @keyframes spin {\n",
              "    0% {\n",
              "      border-color: transparent;\n",
              "      border-bottom-color: var(--fill-color);\n",
              "      border-left-color: var(--fill-color);\n",
              "    }\n",
              "    20% {\n",
              "      border-color: transparent;\n",
              "      border-left-color: var(--fill-color);\n",
              "      border-top-color: var(--fill-color);\n",
              "    }\n",
              "    30% {\n",
              "      border-color: transparent;\n",
              "      border-left-color: var(--fill-color);\n",
              "      border-top-color: var(--fill-color);\n",
              "      border-right-color: var(--fill-color);\n",
              "    }\n",
              "    40% {\n",
              "      border-color: transparent;\n",
              "      border-right-color: var(--fill-color);\n",
              "      border-top-color: var(--fill-color);\n",
              "    }\n",
              "    60% {\n",
              "      border-color: transparent;\n",
              "      border-right-color: var(--fill-color);\n",
              "    }\n",
              "    80% {\n",
              "      border-color: transparent;\n",
              "      border-right-color: var(--fill-color);\n",
              "      border-bottom-color: var(--fill-color);\n",
              "    }\n",
              "    90% {\n",
              "      border-color: transparent;\n",
              "      border-bottom-color: var(--fill-color);\n",
              "    }\n",
              "  }\n",
              "</style>\n",
              "\n",
              "  <script>\n",
              "    async function quickchart(key) {\n",
              "      const quickchartButtonEl =\n",
              "        document.querySelector('#' + key + ' button');\n",
              "      quickchartButtonEl.disabled = true;  // To prevent multiple clicks.\n",
              "      quickchartButtonEl.classList.add('colab-df-spinner');\n",
              "      try {\n",
              "        const charts = await google.colab.kernel.invokeFunction(\n",
              "            'suggestCharts', [key], {});\n",
              "      } catch (error) {\n",
              "        console.error('Error during call to suggestCharts:', error);\n",
              "      }\n",
              "      quickchartButtonEl.classList.remove('colab-df-spinner');\n",
              "      quickchartButtonEl.classList.add('colab-df-quickchart-complete');\n",
              "    }\n",
              "    (() => {\n",
              "      let quickchartButtonEl =\n",
              "        document.querySelector('#df-48e4db13-68ea-4b18-a409-77cf3083f3ee button');\n",
              "      quickchartButtonEl.style.display =\n",
              "        google.colab.kernel.accessAllowed ? 'block' : 'none';\n",
              "    })();\n",
              "  </script>\n",
              "</div>\n",
              "\n",
              "  <div id=\"id_8da26c4c-c979-4f1e-9262-f08f90af7307\">\n",
              "    <style>\n",
              "      .colab-df-generate {\n",
              "        background-color: #E8F0FE;\n",
              "        border: none;\n",
              "        border-radius: 50%;\n",
              "        cursor: pointer;\n",
              "        display: none;\n",
              "        fill: #1967D2;\n",
              "        height: 32px;\n",
              "        padding: 0 0 0 0;\n",
              "        width: 32px;\n",
              "      }\n",
              "\n",
              "      .colab-df-generate:hover {\n",
              "        background-color: #E2EBFA;\n",
              "        box-shadow: 0px 1px 2px rgba(60, 64, 67, 0.3), 0px 1px 3px 1px rgba(60, 64, 67, 0.15);\n",
              "        fill: #174EA6;\n",
              "      }\n",
              "\n",
              "      [theme=dark] .colab-df-generate {\n",
              "        background-color: #3B4455;\n",
              "        fill: #D2E3FC;\n",
              "      }\n",
              "\n",
              "      [theme=dark] .colab-df-generate:hover {\n",
              "        background-color: #434B5C;\n",
              "        box-shadow: 0px 1px 3px 1px rgba(0, 0, 0, 0.15);\n",
              "        filter: drop-shadow(0px 1px 2px rgba(0, 0, 0, 0.3));\n",
              "        fill: #FFFFFF;\n",
              "      }\n",
              "    </style>\n",
              "    <button class=\"colab-df-generate\" onclick=\"generateWithVariable('electro_dataset')\"\n",
              "            title=\"Generate code using this dataframe.\"\n",
              "            style=\"display:none;\">\n",
              "\n",
              "  <svg xmlns=\"http://www.w3.org/2000/svg\" height=\"24px\"viewBox=\"0 0 24 24\"\n",
              "       width=\"24px\">\n",
              "    <path d=\"M7,19H8.4L18.45,9,17,7.55,7,17.6ZM5,21V16.75L18.45,3.32a2,2,0,0,1,2.83,0l1.4,1.43a1.91,1.91,0,0,1,.58,1.4,1.91,1.91,0,0,1-.58,1.4L9.25,21ZM18.45,9,17,7.55Zm-12,3A5.31,5.31,0,0,0,4.9,8.1,5.31,5.31,0,0,0,1,6.5,5.31,5.31,0,0,0,4.9,4.9,5.31,5.31,0,0,0,6.5,1,5.31,5.31,0,0,0,8.1,4.9,5.31,5.31,0,0,0,12,6.5,5.46,5.46,0,0,0,6.5,12Z\"/>\n",
              "  </svg>\n",
              "    </button>\n",
              "    <script>\n",
              "      (() => {\n",
              "      const buttonEl =\n",
              "        document.querySelector('#id_8da26c4c-c979-4f1e-9262-f08f90af7307 button.colab-df-generate');\n",
              "      buttonEl.style.display =\n",
              "        google.colab.kernel.accessAllowed ? 'block' : 'none';\n",
              "\n",
              "      buttonEl.onclick = () => {\n",
              "        google.colab.notebook.generateWithVariable('electro_dataset');\n",
              "      }\n",
              "      })();\n",
              "    </script>\n",
              "  </div>\n",
              "\n",
              "    </div>\n",
              "  </div>\n"
            ],
            "application/vnd.google.colaboratory.intrinsic+json": {
              "type": "dataframe",
              "variable_name": "electro_dataset",
              "summary": "{\n  \"name\": \"electro_dataset\",\n  \"rows\": 10,\n  \"fields\": [\n    {\n      \"column\": \"Subject\",\n      \"properties\": {\n        \"dtype\": \"number\",\n        \"std\": 3,\n        \"min\": 1,\n        \"max\": 10,\n        \"num_unique_values\": 10,\n        \"samples\": [\n          9,\n          2,\n          6\n        ],\n        \"semantic_type\": \"\",\n        \"description\": \"\"\n      }\n    },\n    {\n      \"column\": \"Day 1\",\n      \"properties\": {\n        \"dtype\": \"number\",\n        \"std\": 8.74856178656431,\n        \"min\": 39.2,\n        \"max\": 62.9,\n        \"num_unique_values\": 10,\n        \"samples\": [\n          43.5,\n          62.9,\n          44.8\n        ],\n        \"semantic_type\": \"\",\n        \"description\": \"\"\n      }\n    },\n    {\n      \"column\": \"Day 2\",\n      \"properties\": {\n        \"dtype\": \"number\",\n        \"std\": 10.271535641978975,\n        \"min\": 41.5,\n        \"max\": 67.8,\n        \"num_unique_values\": 10,\n        \"samples\": [\n          41.5,\n          66.5,\n          42.7\n        ],\n        \"semantic_type\": \"\",\n        \"description\": \"\"\n      }\n    },\n    {\n      \"column\": \"Day 3\",\n      \"properties\": {\n        \"dtype\": \"number\",\n        \"std\": 8.914713181651507,\n        \"min\": 47.4,\n        \"max\": 72.2,\n        \"num_unique_values\": 10,\n        \"samples\": [\n          47.4,\n          67.9,\n          48.4\n        ],\n        \"semantic_type\": \"\",\n        \"description\": \"\"\n      }\n    }\n  ]\n}"
            }
          },
          "metadata": {},
          "execution_count": 68
        }
      ]
    },
    {
      "cell_type": "code",
      "source": [
        "long_format_electro_dataset = pd.melt(electro_dataset, id_vars=['Subject'], var_name='Day', value_name='Value')\n",
        "long_format_electro_dataset.head(15)"
      ],
      "metadata": {
        "colab": {
          "base_uri": "https://localhost:8080/",
          "height": 520
        },
        "id": "xCBz_fbD9Bt6",
        "outputId": "a769e4e1-c9ad-4409-f5a2-a10bebb68d50"
      },
      "execution_count": 69,
      "outputs": [
        {
          "output_type": "execute_result",
          "data": {
            "text/plain": [
              "    Subject    Day  Value\n",
              "0         1  Day 1   59.9\n",
              "1         2  Day 1   62.9\n",
              "2         3  Day 1   58.9\n",
              "3         4  Day 1   46.8\n",
              "4         5  Day 1   62.5\n",
              "5         6  Day 1   44.8\n",
              "6         7  Day 1   57.3\n",
              "7         8  Day 1   49.0\n",
              "8         9  Day 1   43.5\n",
              "9        10  Day 1   39.2\n",
              "10        1  Day 2   67.7\n",
              "11        2  Day 2   66.5\n",
              "12        3  Day 2   50.1\n",
              "13        4  Day 2   50.0\n",
              "14        5  Day 2   67.8"
            ],
            "text/html": [
              "\n",
              "  <div id=\"df-aae7d2e9-3186-4ecc-8d8c-2b73f6956aea\" class=\"colab-df-container\">\n",
              "    <div>\n",
              "<style scoped>\n",
              "    .dataframe tbody tr th:only-of-type {\n",
              "        vertical-align: middle;\n",
              "    }\n",
              "\n",
              "    .dataframe tbody tr th {\n",
              "        vertical-align: top;\n",
              "    }\n",
              "\n",
              "    .dataframe thead th {\n",
              "        text-align: right;\n",
              "    }\n",
              "</style>\n",
              "<table border=\"1\" class=\"dataframe\">\n",
              "  <thead>\n",
              "    <tr style=\"text-align: right;\">\n",
              "      <th></th>\n",
              "      <th>Subject</th>\n",
              "      <th>Day</th>\n",
              "      <th>Value</th>\n",
              "    </tr>\n",
              "  </thead>\n",
              "  <tbody>\n",
              "    <tr>\n",
              "      <th>0</th>\n",
              "      <td>1</td>\n",
              "      <td>Day 1</td>\n",
              "      <td>59.9</td>\n",
              "    </tr>\n",
              "    <tr>\n",
              "      <th>1</th>\n",
              "      <td>2</td>\n",
              "      <td>Day 1</td>\n",
              "      <td>62.9</td>\n",
              "    </tr>\n",
              "    <tr>\n",
              "      <th>2</th>\n",
              "      <td>3</td>\n",
              "      <td>Day 1</td>\n",
              "      <td>58.9</td>\n",
              "    </tr>\n",
              "    <tr>\n",
              "      <th>3</th>\n",
              "      <td>4</td>\n",
              "      <td>Day 1</td>\n",
              "      <td>46.8</td>\n",
              "    </tr>\n",
              "    <tr>\n",
              "      <th>4</th>\n",
              "      <td>5</td>\n",
              "      <td>Day 1</td>\n",
              "      <td>62.5</td>\n",
              "    </tr>\n",
              "    <tr>\n",
              "      <th>5</th>\n",
              "      <td>6</td>\n",
              "      <td>Day 1</td>\n",
              "      <td>44.8</td>\n",
              "    </tr>\n",
              "    <tr>\n",
              "      <th>6</th>\n",
              "      <td>7</td>\n",
              "      <td>Day 1</td>\n",
              "      <td>57.3</td>\n",
              "    </tr>\n",
              "    <tr>\n",
              "      <th>7</th>\n",
              "      <td>8</td>\n",
              "      <td>Day 1</td>\n",
              "      <td>49.0</td>\n",
              "    </tr>\n",
              "    <tr>\n",
              "      <th>8</th>\n",
              "      <td>9</td>\n",
              "      <td>Day 1</td>\n",
              "      <td>43.5</td>\n",
              "    </tr>\n",
              "    <tr>\n",
              "      <th>9</th>\n",
              "      <td>10</td>\n",
              "      <td>Day 1</td>\n",
              "      <td>39.2</td>\n",
              "    </tr>\n",
              "    <tr>\n",
              "      <th>10</th>\n",
              "      <td>1</td>\n",
              "      <td>Day 2</td>\n",
              "      <td>67.7</td>\n",
              "    </tr>\n",
              "    <tr>\n",
              "      <th>11</th>\n",
              "      <td>2</td>\n",
              "      <td>Day 2</td>\n",
              "      <td>66.5</td>\n",
              "    </tr>\n",
              "    <tr>\n",
              "      <th>12</th>\n",
              "      <td>3</td>\n",
              "      <td>Day 2</td>\n",
              "      <td>50.1</td>\n",
              "    </tr>\n",
              "    <tr>\n",
              "      <th>13</th>\n",
              "      <td>4</td>\n",
              "      <td>Day 2</td>\n",
              "      <td>50.0</td>\n",
              "    </tr>\n",
              "    <tr>\n",
              "      <th>14</th>\n",
              "      <td>5</td>\n",
              "      <td>Day 2</td>\n",
              "      <td>67.8</td>\n",
              "    </tr>\n",
              "  </tbody>\n",
              "</table>\n",
              "</div>\n",
              "    <div class=\"colab-df-buttons\">\n",
              "\n",
              "  <div class=\"colab-df-container\">\n",
              "    <button class=\"colab-df-convert\" onclick=\"convertToInteractive('df-aae7d2e9-3186-4ecc-8d8c-2b73f6956aea')\"\n",
              "            title=\"Convert this dataframe to an interactive table.\"\n",
              "            style=\"display:none;\">\n",
              "\n",
              "  <svg xmlns=\"http://www.w3.org/2000/svg\" height=\"24px\" viewBox=\"0 -960 960 960\">\n",
              "    <path d=\"M120-120v-720h720v720H120Zm60-500h600v-160H180v160Zm220 220h160v-160H400v160Zm0 220h160v-160H400v160ZM180-400h160v-160H180v160Zm440 0h160v-160H620v160ZM180-180h160v-160H180v160Zm440 0h160v-160H620v160Z\"/>\n",
              "  </svg>\n",
              "    </button>\n",
              "\n",
              "  <style>\n",
              "    .colab-df-container {\n",
              "      display:flex;\n",
              "      gap: 12px;\n",
              "    }\n",
              "\n",
              "    .colab-df-convert {\n",
              "      background-color: #E8F0FE;\n",
              "      border: none;\n",
              "      border-radius: 50%;\n",
              "      cursor: pointer;\n",
              "      display: none;\n",
              "      fill: #1967D2;\n",
              "      height: 32px;\n",
              "      padding: 0 0 0 0;\n",
              "      width: 32px;\n",
              "    }\n",
              "\n",
              "    .colab-df-convert:hover {\n",
              "      background-color: #E2EBFA;\n",
              "      box-shadow: 0px 1px 2px rgba(60, 64, 67, 0.3), 0px 1px 3px 1px rgba(60, 64, 67, 0.15);\n",
              "      fill: #174EA6;\n",
              "    }\n",
              "\n",
              "    .colab-df-buttons div {\n",
              "      margin-bottom: 4px;\n",
              "    }\n",
              "\n",
              "    [theme=dark] .colab-df-convert {\n",
              "      background-color: #3B4455;\n",
              "      fill: #D2E3FC;\n",
              "    }\n",
              "\n",
              "    [theme=dark] .colab-df-convert:hover {\n",
              "      background-color: #434B5C;\n",
              "      box-shadow: 0px 1px 3px 1px rgba(0, 0, 0, 0.15);\n",
              "      filter: drop-shadow(0px 1px 2px rgba(0, 0, 0, 0.3));\n",
              "      fill: #FFFFFF;\n",
              "    }\n",
              "  </style>\n",
              "\n",
              "    <script>\n",
              "      const buttonEl =\n",
              "        document.querySelector('#df-aae7d2e9-3186-4ecc-8d8c-2b73f6956aea button.colab-df-convert');\n",
              "      buttonEl.style.display =\n",
              "        google.colab.kernel.accessAllowed ? 'block' : 'none';\n",
              "\n",
              "      async function convertToInteractive(key) {\n",
              "        const element = document.querySelector('#df-aae7d2e9-3186-4ecc-8d8c-2b73f6956aea');\n",
              "        const dataTable =\n",
              "          await google.colab.kernel.invokeFunction('convertToInteractive',\n",
              "                                                    [key], {});\n",
              "        if (!dataTable) return;\n",
              "\n",
              "        const docLinkHtml = 'Like what you see? Visit the ' +\n",
              "          '<a target=\"_blank\" href=https://colab.research.google.com/notebooks/data_table.ipynb>data table notebook</a>'\n",
              "          + ' to learn more about interactive tables.';\n",
              "        element.innerHTML = '';\n",
              "        dataTable['output_type'] = 'display_data';\n",
              "        await google.colab.output.renderOutput(dataTable, element);\n",
              "        const docLink = document.createElement('div');\n",
              "        docLink.innerHTML = docLinkHtml;\n",
              "        element.appendChild(docLink);\n",
              "      }\n",
              "    </script>\n",
              "  </div>\n",
              "\n",
              "\n",
              "<div id=\"df-7238385f-041c-4fe9-956b-1437989d60da\">\n",
              "  <button class=\"colab-df-quickchart\" onclick=\"quickchart('df-7238385f-041c-4fe9-956b-1437989d60da')\"\n",
              "            title=\"Suggest charts\"\n",
              "            style=\"display:none;\">\n",
              "\n",
              "<svg xmlns=\"http://www.w3.org/2000/svg\" height=\"24px\"viewBox=\"0 0 24 24\"\n",
              "     width=\"24px\">\n",
              "    <g>\n",
              "        <path d=\"M19 3H5c-1.1 0-2 .9-2 2v14c0 1.1.9 2 2 2h14c1.1 0 2-.9 2-2V5c0-1.1-.9-2-2-2zM9 17H7v-7h2v7zm4 0h-2V7h2v10zm4 0h-2v-4h2v4z\"/>\n",
              "    </g>\n",
              "</svg>\n",
              "  </button>\n",
              "\n",
              "<style>\n",
              "  .colab-df-quickchart {\n",
              "      --bg-color: #E8F0FE;\n",
              "      --fill-color: #1967D2;\n",
              "      --hover-bg-color: #E2EBFA;\n",
              "      --hover-fill-color: #174EA6;\n",
              "      --disabled-fill-color: #AAA;\n",
              "      --disabled-bg-color: #DDD;\n",
              "  }\n",
              "\n",
              "  [theme=dark] .colab-df-quickchart {\n",
              "      --bg-color: #3B4455;\n",
              "      --fill-color: #D2E3FC;\n",
              "      --hover-bg-color: #434B5C;\n",
              "      --hover-fill-color: #FFFFFF;\n",
              "      --disabled-bg-color: #3B4455;\n",
              "      --disabled-fill-color: #666;\n",
              "  }\n",
              "\n",
              "  .colab-df-quickchart {\n",
              "    background-color: var(--bg-color);\n",
              "    border: none;\n",
              "    border-radius: 50%;\n",
              "    cursor: pointer;\n",
              "    display: none;\n",
              "    fill: var(--fill-color);\n",
              "    height: 32px;\n",
              "    padding: 0;\n",
              "    width: 32px;\n",
              "  }\n",
              "\n",
              "  .colab-df-quickchart:hover {\n",
              "    background-color: var(--hover-bg-color);\n",
              "    box-shadow: 0 1px 2px rgba(60, 64, 67, 0.3), 0 1px 3px 1px rgba(60, 64, 67, 0.15);\n",
              "    fill: var(--button-hover-fill-color);\n",
              "  }\n",
              "\n",
              "  .colab-df-quickchart-complete:disabled,\n",
              "  .colab-df-quickchart-complete:disabled:hover {\n",
              "    background-color: var(--disabled-bg-color);\n",
              "    fill: var(--disabled-fill-color);\n",
              "    box-shadow: none;\n",
              "  }\n",
              "\n",
              "  .colab-df-spinner {\n",
              "    border: 2px solid var(--fill-color);\n",
              "    border-color: transparent;\n",
              "    border-bottom-color: var(--fill-color);\n",
              "    animation:\n",
              "      spin 1s steps(1) infinite;\n",
              "  }\n",
              "\n",
              "  @keyframes spin {\n",
              "    0% {\n",
              "      border-color: transparent;\n",
              "      border-bottom-color: var(--fill-color);\n",
              "      border-left-color: var(--fill-color);\n",
              "    }\n",
              "    20% {\n",
              "      border-color: transparent;\n",
              "      border-left-color: var(--fill-color);\n",
              "      border-top-color: var(--fill-color);\n",
              "    }\n",
              "    30% {\n",
              "      border-color: transparent;\n",
              "      border-left-color: var(--fill-color);\n",
              "      border-top-color: var(--fill-color);\n",
              "      border-right-color: var(--fill-color);\n",
              "    }\n",
              "    40% {\n",
              "      border-color: transparent;\n",
              "      border-right-color: var(--fill-color);\n",
              "      border-top-color: var(--fill-color);\n",
              "    }\n",
              "    60% {\n",
              "      border-color: transparent;\n",
              "      border-right-color: var(--fill-color);\n",
              "    }\n",
              "    80% {\n",
              "      border-color: transparent;\n",
              "      border-right-color: var(--fill-color);\n",
              "      border-bottom-color: var(--fill-color);\n",
              "    }\n",
              "    90% {\n",
              "      border-color: transparent;\n",
              "      border-bottom-color: var(--fill-color);\n",
              "    }\n",
              "  }\n",
              "</style>\n",
              "\n",
              "  <script>\n",
              "    async function quickchart(key) {\n",
              "      const quickchartButtonEl =\n",
              "        document.querySelector('#' + key + ' button');\n",
              "      quickchartButtonEl.disabled = true;  // To prevent multiple clicks.\n",
              "      quickchartButtonEl.classList.add('colab-df-spinner');\n",
              "      try {\n",
              "        const charts = await google.colab.kernel.invokeFunction(\n",
              "            'suggestCharts', [key], {});\n",
              "      } catch (error) {\n",
              "        console.error('Error during call to suggestCharts:', error);\n",
              "      }\n",
              "      quickchartButtonEl.classList.remove('colab-df-spinner');\n",
              "      quickchartButtonEl.classList.add('colab-df-quickchart-complete');\n",
              "    }\n",
              "    (() => {\n",
              "      let quickchartButtonEl =\n",
              "        document.querySelector('#df-7238385f-041c-4fe9-956b-1437989d60da button');\n",
              "      quickchartButtonEl.style.display =\n",
              "        google.colab.kernel.accessAllowed ? 'block' : 'none';\n",
              "    })();\n",
              "  </script>\n",
              "</div>\n",
              "\n",
              "    </div>\n",
              "  </div>\n"
            ],
            "application/vnd.google.colaboratory.intrinsic+json": {
              "type": "dataframe",
              "variable_name": "long_format_electro_dataset",
              "summary": "{\n  \"name\": \"long_format_electro_dataset\",\n  \"rows\": 30,\n  \"fields\": [\n    {\n      \"column\": \"Subject\",\n      \"properties\": {\n        \"dtype\": \"number\",\n        \"std\": 2,\n        \"min\": 1,\n        \"max\": 10,\n        \"num_unique_values\": 10,\n        \"samples\": [\n          9,\n          2,\n          6\n        ],\n        \"semantic_type\": \"\",\n        \"description\": \"\"\n      }\n    },\n    {\n      \"column\": \"Day\",\n      \"properties\": {\n        \"dtype\": \"category\",\n        \"num_unique_values\": 3,\n        \"samples\": [\n          \"Day 1\",\n          \"Day 2\",\n          \"Day 3\"\n        ],\n        \"semantic_type\": \"\",\n        \"description\": \"\"\n      }\n    },\n    {\n      \"column\": \"Value\",\n      \"properties\": {\n        \"dtype\": \"number\",\n        \"std\": 9.157491123564409,\n        \"min\": 39.2,\n        \"max\": 72.2,\n        \"num_unique_values\": 30,\n        \"samples\": [\n          57.5,\n          42.7,\n          53.9\n        ],\n        \"semantic_type\": \"\",\n        \"description\": \"\"\n      }\n    }\n  ]\n}"
            }
          },
          "metadata": {},
          "execution_count": 69
        }
      ]
    },
    {
      "cell_type": "markdown",
      "source": [
        "**Applying the ICC**"
      ],
      "metadata": {
        "id": "HYZ4yQTUAi3D"
      }
    },
    {
      "cell_type": "code",
      "source": [
        "!pip install pingouin\n",
        "import pingouin as pg\n",
        "icc = pg.intraclass_corr(data=long_format_electro_dataset, targets='Subject', raters='Day',\n",
        "                         ratings='Value').round(3)"
      ],
      "metadata": {
        "id": "Phop5ENcsguc",
        "colab": {
          "base_uri": "https://localhost:8080/"
        },
        "outputId": "001e53fd-8e9f-4743-cd81-04f4e87ff709"
      },
      "execution_count": 70,
      "outputs": [
        {
          "output_type": "stream",
          "name": "stdout",
          "text": [
            "Collecting pingouin\n",
            "  Downloading pingouin-0.5.5-py3-none-any.whl.metadata (19 kB)\n",
            "Requirement already satisfied: matplotlib in /usr/local/lib/python3.10/dist-packages (from pingouin) (3.8.0)\n",
            "Requirement already satisfied: numpy in /usr/local/lib/python3.10/dist-packages (from pingouin) (1.26.4)\n",
            "Requirement already satisfied: pandas>=1.5 in /usr/local/lib/python3.10/dist-packages (from pingouin) (2.2.2)\n",
            "Collecting pandas-flavor (from pingouin)\n",
            "  Downloading pandas_flavor-0.6.0-py3-none-any.whl.metadata (6.3 kB)\n",
            "Requirement already satisfied: scikit-learn>=1.2 in /usr/local/lib/python3.10/dist-packages (from pingouin) (1.5.2)\n",
            "Requirement already satisfied: scipy in /usr/local/lib/python3.10/dist-packages (from pingouin) (1.12.0)\n",
            "Requirement already satisfied: seaborn in /usr/local/lib/python3.10/dist-packages (from pingouin) (0.13.2)\n",
            "Requirement already satisfied: statsmodels in /usr/local/lib/python3.10/dist-packages (from pingouin) (0.14.4)\n",
            "Requirement already satisfied: tabulate in /usr/local/lib/python3.10/dist-packages (from pingouin) (0.9.0)\n",
            "Requirement already satisfied: python-dateutil>=2.8.2 in /usr/local/lib/python3.10/dist-packages (from pandas>=1.5->pingouin) (2.8.2)\n",
            "Requirement already satisfied: pytz>=2020.1 in /usr/local/lib/python3.10/dist-packages (from pandas>=1.5->pingouin) (2024.2)\n",
            "Requirement already satisfied: tzdata>=2022.7 in /usr/local/lib/python3.10/dist-packages (from pandas>=1.5->pingouin) (2024.2)\n",
            "Requirement already satisfied: joblib>=1.2.0 in /usr/local/lib/python3.10/dist-packages (from scikit-learn>=1.2->pingouin) (1.4.2)\n",
            "Requirement already satisfied: threadpoolctl>=3.1.0 in /usr/local/lib/python3.10/dist-packages (from scikit-learn>=1.2->pingouin) (3.5.0)\n",
            "Requirement already satisfied: contourpy>=1.0.1 in /usr/local/lib/python3.10/dist-packages (from matplotlib->pingouin) (1.3.0)\n",
            "Requirement already satisfied: cycler>=0.10 in /usr/local/lib/python3.10/dist-packages (from matplotlib->pingouin) (0.12.1)\n",
            "Requirement already satisfied: fonttools>=4.22.0 in /usr/local/lib/python3.10/dist-packages (from matplotlib->pingouin) (4.54.1)\n",
            "Requirement already satisfied: kiwisolver>=1.0.1 in /usr/local/lib/python3.10/dist-packages (from matplotlib->pingouin) (1.4.7)\n",
            "Requirement already satisfied: packaging>=20.0 in /usr/local/lib/python3.10/dist-packages (from matplotlib->pingouin) (24.1)\n",
            "Requirement already satisfied: pillow>=6.2.0 in /usr/local/lib/python3.10/dist-packages (from matplotlib->pingouin) (10.4.0)\n",
            "Requirement already satisfied: pyparsing>=2.3.1 in /usr/local/lib/python3.10/dist-packages (from matplotlib->pingouin) (3.2.0)\n",
            "Requirement already satisfied: xarray in /usr/local/lib/python3.10/dist-packages (from pandas-flavor->pingouin) (2024.10.0)\n",
            "Requirement already satisfied: patsy>=0.5.6 in /usr/local/lib/python3.10/dist-packages (from statsmodels->pingouin) (0.5.6)\n",
            "Requirement already satisfied: six in /usr/local/lib/python3.10/dist-packages (from patsy>=0.5.6->statsmodels->pingouin) (1.16.0)\n",
            "Downloading pingouin-0.5.5-py3-none-any.whl (204 kB)\n",
            "\u001b[2K   \u001b[90m━━━━━━━━━━━━━━━━━━━━━━━━━━━━━━━━━━━━━━━━\u001b[0m \u001b[32m204.4/204.4 kB\u001b[0m \u001b[31m5.2 MB/s\u001b[0m eta \u001b[36m0:00:00\u001b[0m\n",
            "\u001b[?25hDownloading pandas_flavor-0.6.0-py3-none-any.whl (7.2 kB)\n",
            "Installing collected packages: pandas-flavor, pingouin\n",
            "Successfully installed pandas-flavor-0.6.0 pingouin-0.5.5\n"
          ]
        }
      ]
    },
    {
      "cell_type": "code",
      "source": [
        "icc"
      ],
      "metadata": {
        "colab": {
          "base_uri": "https://localhost:8080/",
          "height": 238
        },
        "id": "9VGHbo1wto-_",
        "outputId": "6222e5a2-62d1-41d8-d10f-c6e01bb9b78c"
      },
      "execution_count": 71,
      "outputs": [
        {
          "output_type": "execute_result",
          "data": {
            "text/plain": [
              "    Type              Description    ICC      F  df1  df2  pval         CI95%\n",
              "0   ICC1   Single raters absolute  0.706  8.202    9   20   0.0  [0.39, 0.91]\n",
              "1   ICC2     Single random raters  0.708  8.696    9   18   0.0  [0.39, 0.91]\n",
              "2   ICC3      Single fixed raters  0.720  8.696    9   18   0.0   [0.4, 0.91]\n",
              "3  ICC1k  Average raters absolute  0.878  8.202    9   20   0.0  [0.65, 0.97]\n",
              "4  ICC2k    Average random raters  0.879  8.696    9   18   0.0  [0.66, 0.97]\n",
              "5  ICC3k     Average fixed raters  0.885  8.696    9   18   0.0  [0.66, 0.97]"
            ],
            "text/html": [
              "\n",
              "  <div id=\"df-7fb0a2ca-14da-4f27-b01a-639a2c37dad7\" class=\"colab-df-container\">\n",
              "    <div>\n",
              "<style scoped>\n",
              "    .dataframe tbody tr th:only-of-type {\n",
              "        vertical-align: middle;\n",
              "    }\n",
              "\n",
              "    .dataframe tbody tr th {\n",
              "        vertical-align: top;\n",
              "    }\n",
              "\n",
              "    .dataframe thead th {\n",
              "        text-align: right;\n",
              "    }\n",
              "</style>\n",
              "<table border=\"1\" class=\"dataframe\">\n",
              "  <thead>\n",
              "    <tr style=\"text-align: right;\">\n",
              "      <th></th>\n",
              "      <th>Type</th>\n",
              "      <th>Description</th>\n",
              "      <th>ICC</th>\n",
              "      <th>F</th>\n",
              "      <th>df1</th>\n",
              "      <th>df2</th>\n",
              "      <th>pval</th>\n",
              "      <th>CI95%</th>\n",
              "    </tr>\n",
              "  </thead>\n",
              "  <tbody>\n",
              "    <tr>\n",
              "      <th>0</th>\n",
              "      <td>ICC1</td>\n",
              "      <td>Single raters absolute</td>\n",
              "      <td>0.706</td>\n",
              "      <td>8.202</td>\n",
              "      <td>9</td>\n",
              "      <td>20</td>\n",
              "      <td>0.0</td>\n",
              "      <td>[0.39, 0.91]</td>\n",
              "    </tr>\n",
              "    <tr>\n",
              "      <th>1</th>\n",
              "      <td>ICC2</td>\n",
              "      <td>Single random raters</td>\n",
              "      <td>0.708</td>\n",
              "      <td>8.696</td>\n",
              "      <td>9</td>\n",
              "      <td>18</td>\n",
              "      <td>0.0</td>\n",
              "      <td>[0.39, 0.91]</td>\n",
              "    </tr>\n",
              "    <tr>\n",
              "      <th>2</th>\n",
              "      <td>ICC3</td>\n",
              "      <td>Single fixed raters</td>\n",
              "      <td>0.720</td>\n",
              "      <td>8.696</td>\n",
              "      <td>9</td>\n",
              "      <td>18</td>\n",
              "      <td>0.0</td>\n",
              "      <td>[0.4, 0.91]</td>\n",
              "    </tr>\n",
              "    <tr>\n",
              "      <th>3</th>\n",
              "      <td>ICC1k</td>\n",
              "      <td>Average raters absolute</td>\n",
              "      <td>0.878</td>\n",
              "      <td>8.202</td>\n",
              "      <td>9</td>\n",
              "      <td>20</td>\n",
              "      <td>0.0</td>\n",
              "      <td>[0.65, 0.97]</td>\n",
              "    </tr>\n",
              "    <tr>\n",
              "      <th>4</th>\n",
              "      <td>ICC2k</td>\n",
              "      <td>Average random raters</td>\n",
              "      <td>0.879</td>\n",
              "      <td>8.696</td>\n",
              "      <td>9</td>\n",
              "      <td>18</td>\n",
              "      <td>0.0</td>\n",
              "      <td>[0.66, 0.97]</td>\n",
              "    </tr>\n",
              "    <tr>\n",
              "      <th>5</th>\n",
              "      <td>ICC3k</td>\n",
              "      <td>Average fixed raters</td>\n",
              "      <td>0.885</td>\n",
              "      <td>8.696</td>\n",
              "      <td>9</td>\n",
              "      <td>18</td>\n",
              "      <td>0.0</td>\n",
              "      <td>[0.66, 0.97]</td>\n",
              "    </tr>\n",
              "  </tbody>\n",
              "</table>\n",
              "</div>\n",
              "    <div class=\"colab-df-buttons\">\n",
              "\n",
              "  <div class=\"colab-df-container\">\n",
              "    <button class=\"colab-df-convert\" onclick=\"convertToInteractive('df-7fb0a2ca-14da-4f27-b01a-639a2c37dad7')\"\n",
              "            title=\"Convert this dataframe to an interactive table.\"\n",
              "            style=\"display:none;\">\n",
              "\n",
              "  <svg xmlns=\"http://www.w3.org/2000/svg\" height=\"24px\" viewBox=\"0 -960 960 960\">\n",
              "    <path d=\"M120-120v-720h720v720H120Zm60-500h600v-160H180v160Zm220 220h160v-160H400v160Zm0 220h160v-160H400v160ZM180-400h160v-160H180v160Zm440 0h160v-160H620v160ZM180-180h160v-160H180v160Zm440 0h160v-160H620v160Z\"/>\n",
              "  </svg>\n",
              "    </button>\n",
              "\n",
              "  <style>\n",
              "    .colab-df-container {\n",
              "      display:flex;\n",
              "      gap: 12px;\n",
              "    }\n",
              "\n",
              "    .colab-df-convert {\n",
              "      background-color: #E8F0FE;\n",
              "      border: none;\n",
              "      border-radius: 50%;\n",
              "      cursor: pointer;\n",
              "      display: none;\n",
              "      fill: #1967D2;\n",
              "      height: 32px;\n",
              "      padding: 0 0 0 0;\n",
              "      width: 32px;\n",
              "    }\n",
              "\n",
              "    .colab-df-convert:hover {\n",
              "      background-color: #E2EBFA;\n",
              "      box-shadow: 0px 1px 2px rgba(60, 64, 67, 0.3), 0px 1px 3px 1px rgba(60, 64, 67, 0.15);\n",
              "      fill: #174EA6;\n",
              "    }\n",
              "\n",
              "    .colab-df-buttons div {\n",
              "      margin-bottom: 4px;\n",
              "    }\n",
              "\n",
              "    [theme=dark] .colab-df-convert {\n",
              "      background-color: #3B4455;\n",
              "      fill: #D2E3FC;\n",
              "    }\n",
              "\n",
              "    [theme=dark] .colab-df-convert:hover {\n",
              "      background-color: #434B5C;\n",
              "      box-shadow: 0px 1px 3px 1px rgba(0, 0, 0, 0.15);\n",
              "      filter: drop-shadow(0px 1px 2px rgba(0, 0, 0, 0.3));\n",
              "      fill: #FFFFFF;\n",
              "    }\n",
              "  </style>\n",
              "\n",
              "    <script>\n",
              "      const buttonEl =\n",
              "        document.querySelector('#df-7fb0a2ca-14da-4f27-b01a-639a2c37dad7 button.colab-df-convert');\n",
              "      buttonEl.style.display =\n",
              "        google.colab.kernel.accessAllowed ? 'block' : 'none';\n",
              "\n",
              "      async function convertToInteractive(key) {\n",
              "        const element = document.querySelector('#df-7fb0a2ca-14da-4f27-b01a-639a2c37dad7');\n",
              "        const dataTable =\n",
              "          await google.colab.kernel.invokeFunction('convertToInteractive',\n",
              "                                                    [key], {});\n",
              "        if (!dataTable) return;\n",
              "\n",
              "        const docLinkHtml = 'Like what you see? Visit the ' +\n",
              "          '<a target=\"_blank\" href=https://colab.research.google.com/notebooks/data_table.ipynb>data table notebook</a>'\n",
              "          + ' to learn more about interactive tables.';\n",
              "        element.innerHTML = '';\n",
              "        dataTable['output_type'] = 'display_data';\n",
              "        await google.colab.output.renderOutput(dataTable, element);\n",
              "        const docLink = document.createElement('div');\n",
              "        docLink.innerHTML = docLinkHtml;\n",
              "        element.appendChild(docLink);\n",
              "      }\n",
              "    </script>\n",
              "  </div>\n",
              "\n",
              "\n",
              "<div id=\"df-151482df-3625-4b3b-9edd-ccf9c1f85e65\">\n",
              "  <button class=\"colab-df-quickchart\" onclick=\"quickchart('df-151482df-3625-4b3b-9edd-ccf9c1f85e65')\"\n",
              "            title=\"Suggest charts\"\n",
              "            style=\"display:none;\">\n",
              "\n",
              "<svg xmlns=\"http://www.w3.org/2000/svg\" height=\"24px\"viewBox=\"0 0 24 24\"\n",
              "     width=\"24px\">\n",
              "    <g>\n",
              "        <path d=\"M19 3H5c-1.1 0-2 .9-2 2v14c0 1.1.9 2 2 2h14c1.1 0 2-.9 2-2V5c0-1.1-.9-2-2-2zM9 17H7v-7h2v7zm4 0h-2V7h2v10zm4 0h-2v-4h2v4z\"/>\n",
              "    </g>\n",
              "</svg>\n",
              "  </button>\n",
              "\n",
              "<style>\n",
              "  .colab-df-quickchart {\n",
              "      --bg-color: #E8F0FE;\n",
              "      --fill-color: #1967D2;\n",
              "      --hover-bg-color: #E2EBFA;\n",
              "      --hover-fill-color: #174EA6;\n",
              "      --disabled-fill-color: #AAA;\n",
              "      --disabled-bg-color: #DDD;\n",
              "  }\n",
              "\n",
              "  [theme=dark] .colab-df-quickchart {\n",
              "      --bg-color: #3B4455;\n",
              "      --fill-color: #D2E3FC;\n",
              "      --hover-bg-color: #434B5C;\n",
              "      --hover-fill-color: #FFFFFF;\n",
              "      --disabled-bg-color: #3B4455;\n",
              "      --disabled-fill-color: #666;\n",
              "  }\n",
              "\n",
              "  .colab-df-quickchart {\n",
              "    background-color: var(--bg-color);\n",
              "    border: none;\n",
              "    border-radius: 50%;\n",
              "    cursor: pointer;\n",
              "    display: none;\n",
              "    fill: var(--fill-color);\n",
              "    height: 32px;\n",
              "    padding: 0;\n",
              "    width: 32px;\n",
              "  }\n",
              "\n",
              "  .colab-df-quickchart:hover {\n",
              "    background-color: var(--hover-bg-color);\n",
              "    box-shadow: 0 1px 2px rgba(60, 64, 67, 0.3), 0 1px 3px 1px rgba(60, 64, 67, 0.15);\n",
              "    fill: var(--button-hover-fill-color);\n",
              "  }\n",
              "\n",
              "  .colab-df-quickchart-complete:disabled,\n",
              "  .colab-df-quickchart-complete:disabled:hover {\n",
              "    background-color: var(--disabled-bg-color);\n",
              "    fill: var(--disabled-fill-color);\n",
              "    box-shadow: none;\n",
              "  }\n",
              "\n",
              "  .colab-df-spinner {\n",
              "    border: 2px solid var(--fill-color);\n",
              "    border-color: transparent;\n",
              "    border-bottom-color: var(--fill-color);\n",
              "    animation:\n",
              "      spin 1s steps(1) infinite;\n",
              "  }\n",
              "\n",
              "  @keyframes spin {\n",
              "    0% {\n",
              "      border-color: transparent;\n",
              "      border-bottom-color: var(--fill-color);\n",
              "      border-left-color: var(--fill-color);\n",
              "    }\n",
              "    20% {\n",
              "      border-color: transparent;\n",
              "      border-left-color: var(--fill-color);\n",
              "      border-top-color: var(--fill-color);\n",
              "    }\n",
              "    30% {\n",
              "      border-color: transparent;\n",
              "      border-left-color: var(--fill-color);\n",
              "      border-top-color: var(--fill-color);\n",
              "      border-right-color: var(--fill-color);\n",
              "    }\n",
              "    40% {\n",
              "      border-color: transparent;\n",
              "      border-right-color: var(--fill-color);\n",
              "      border-top-color: var(--fill-color);\n",
              "    }\n",
              "    60% {\n",
              "      border-color: transparent;\n",
              "      border-right-color: var(--fill-color);\n",
              "    }\n",
              "    80% {\n",
              "      border-color: transparent;\n",
              "      border-right-color: var(--fill-color);\n",
              "      border-bottom-color: var(--fill-color);\n",
              "    }\n",
              "    90% {\n",
              "      border-color: transparent;\n",
              "      border-bottom-color: var(--fill-color);\n",
              "    }\n",
              "  }\n",
              "</style>\n",
              "\n",
              "  <script>\n",
              "    async function quickchart(key) {\n",
              "      const quickchartButtonEl =\n",
              "        document.querySelector('#' + key + ' button');\n",
              "      quickchartButtonEl.disabled = true;  // To prevent multiple clicks.\n",
              "      quickchartButtonEl.classList.add('colab-df-spinner');\n",
              "      try {\n",
              "        const charts = await google.colab.kernel.invokeFunction(\n",
              "            'suggestCharts', [key], {});\n",
              "      } catch (error) {\n",
              "        console.error('Error during call to suggestCharts:', error);\n",
              "      }\n",
              "      quickchartButtonEl.classList.remove('colab-df-spinner');\n",
              "      quickchartButtonEl.classList.add('colab-df-quickchart-complete');\n",
              "    }\n",
              "    (() => {\n",
              "      let quickchartButtonEl =\n",
              "        document.querySelector('#df-151482df-3625-4b3b-9edd-ccf9c1f85e65 button');\n",
              "      quickchartButtonEl.style.display =\n",
              "        google.colab.kernel.accessAllowed ? 'block' : 'none';\n",
              "    })();\n",
              "  </script>\n",
              "</div>\n",
              "\n",
              "  <div id=\"id_e147a18c-e4a2-420d-b0b2-7fb3a09e7481\">\n",
              "    <style>\n",
              "      .colab-df-generate {\n",
              "        background-color: #E8F0FE;\n",
              "        border: none;\n",
              "        border-radius: 50%;\n",
              "        cursor: pointer;\n",
              "        display: none;\n",
              "        fill: #1967D2;\n",
              "        height: 32px;\n",
              "        padding: 0 0 0 0;\n",
              "        width: 32px;\n",
              "      }\n",
              "\n",
              "      .colab-df-generate:hover {\n",
              "        background-color: #E2EBFA;\n",
              "        box-shadow: 0px 1px 2px rgba(60, 64, 67, 0.3), 0px 1px 3px 1px rgba(60, 64, 67, 0.15);\n",
              "        fill: #174EA6;\n",
              "      }\n",
              "\n",
              "      [theme=dark] .colab-df-generate {\n",
              "        background-color: #3B4455;\n",
              "        fill: #D2E3FC;\n",
              "      }\n",
              "\n",
              "      [theme=dark] .colab-df-generate:hover {\n",
              "        background-color: #434B5C;\n",
              "        box-shadow: 0px 1px 3px 1px rgba(0, 0, 0, 0.15);\n",
              "        filter: drop-shadow(0px 1px 2px rgba(0, 0, 0, 0.3));\n",
              "        fill: #FFFFFF;\n",
              "      }\n",
              "    </style>\n",
              "    <button class=\"colab-df-generate\" onclick=\"generateWithVariable('icc')\"\n",
              "            title=\"Generate code using this dataframe.\"\n",
              "            style=\"display:none;\">\n",
              "\n",
              "  <svg xmlns=\"http://www.w3.org/2000/svg\" height=\"24px\"viewBox=\"0 0 24 24\"\n",
              "       width=\"24px\">\n",
              "    <path d=\"M7,19H8.4L18.45,9,17,7.55,7,17.6ZM5,21V16.75L18.45,3.32a2,2,0,0,1,2.83,0l1.4,1.43a1.91,1.91,0,0,1,.58,1.4,1.91,1.91,0,0,1-.58,1.4L9.25,21ZM18.45,9,17,7.55Zm-12,3A5.31,5.31,0,0,0,4.9,8.1,5.31,5.31,0,0,0,1,6.5,5.31,5.31,0,0,0,4.9,4.9,5.31,5.31,0,0,0,6.5,1,5.31,5.31,0,0,0,8.1,4.9,5.31,5.31,0,0,0,12,6.5,5.46,5.46,0,0,0,6.5,12Z\"/>\n",
              "  </svg>\n",
              "    </button>\n",
              "    <script>\n",
              "      (() => {\n",
              "      const buttonEl =\n",
              "        document.querySelector('#id_e147a18c-e4a2-420d-b0b2-7fb3a09e7481 button.colab-df-generate');\n",
              "      buttonEl.style.display =\n",
              "        google.colab.kernel.accessAllowed ? 'block' : 'none';\n",
              "\n",
              "      buttonEl.onclick = () => {\n",
              "        google.colab.notebook.generateWithVariable('icc');\n",
              "      }\n",
              "      })();\n",
              "    </script>\n",
              "  </div>\n",
              "\n",
              "    </div>\n",
              "  </div>\n"
            ],
            "application/vnd.google.colaboratory.intrinsic+json": {
              "type": "dataframe",
              "variable_name": "icc",
              "summary": "{\n  \"name\": \"icc\",\n  \"rows\": 6,\n  \"fields\": [\n    {\n      \"column\": \"Type\",\n      \"properties\": {\n        \"dtype\": \"string\",\n        \"num_unique_values\": 6,\n        \"samples\": [\n          \"ICC1\",\n          \"ICC2\",\n          \"ICC3k\"\n        ],\n        \"semantic_type\": \"\",\n        \"description\": \"\"\n      }\n    },\n    {\n      \"column\": \"Description\",\n      \"properties\": {\n        \"dtype\": \"string\",\n        \"num_unique_values\": 6,\n        \"samples\": [\n          \"Single raters absolute\",\n          \"Single random raters\",\n          \"Average fixed raters\"\n        ],\n        \"semantic_type\": \"\",\n        \"description\": \"\"\n      }\n    },\n    {\n      \"column\": \"ICC\",\n      \"properties\": {\n        \"dtype\": \"number\",\n        \"std\": 0.09290209900750361,\n        \"min\": 0.706,\n        \"max\": 0.885,\n        \"num_unique_values\": 6,\n        \"samples\": [\n          0.706,\n          0.708,\n          0.885\n        ],\n        \"semantic_type\": \"\",\n        \"description\": \"\"\n      }\n    },\n    {\n      \"column\": \"F\",\n      \"properties\": {\n        \"dtype\": \"number\",\n        \"std\": 0.25510050307019505,\n        \"min\": 8.202,\n        \"max\": 8.696,\n        \"num_unique_values\": 2,\n        \"samples\": [\n          8.696,\n          8.202\n        ],\n        \"semantic_type\": \"\",\n        \"description\": \"\"\n      }\n    },\n    {\n      \"column\": \"df1\",\n      \"properties\": {\n        \"dtype\": \"number\",\n        \"std\": 0,\n        \"min\": 9,\n        \"max\": 9,\n        \"num_unique_values\": 1,\n        \"samples\": [\n          9\n        ],\n        \"semantic_type\": \"\",\n        \"description\": \"\"\n      }\n    },\n    {\n      \"column\": \"df2\",\n      \"properties\": {\n        \"dtype\": \"number\",\n        \"std\": 1,\n        \"min\": 18,\n        \"max\": 20,\n        \"num_unique_values\": 2,\n        \"samples\": [\n          18\n        ],\n        \"semantic_type\": \"\",\n        \"description\": \"\"\n      }\n    },\n    {\n      \"column\": \"pval\",\n      \"properties\": {\n        \"dtype\": \"number\",\n        \"std\": 0.0,\n        \"min\": 0.0,\n        \"max\": 0.0,\n        \"num_unique_values\": 1,\n        \"samples\": [\n          0.0\n        ],\n        \"semantic_type\": \"\",\n        \"description\": \"\"\n      }\n    },\n    {\n      \"column\": \"CI95%\",\n      \"properties\": {\n        \"dtype\": \"object\",\n        \"semantic_type\": \"\",\n        \"description\": \"\"\n      }\n    }\n  ]\n}"
            }
          },
          "metadata": {},
          "execution_count": 71
        }
      ]
    },
    {
      "cell_type": "markdown",
      "source": [
        "####ICC by hand 🤚"
      ],
      "metadata": {
        "id": "nWqe30S9SaOy"
      }
    },
    {
      "cell_type": "code",
      "source": [
        "electro_dataset_hand = electro_dataset.copy()\n",
        "electro_dataset_hand"
      ],
      "metadata": {
        "colab": {
          "base_uri": "https://localhost:8080/",
          "height": 363
        },
        "id": "sv2lglkpLAB0",
        "outputId": "be317c47-5835-4bda-915a-09b168e58e5b"
      },
      "execution_count": 72,
      "outputs": [
        {
          "output_type": "execute_result",
          "data": {
            "text/plain": [
              "   Subject  Day 1  Day 2  Day 3\n",
              "0        1   59.9   67.7   72.2\n",
              "1        2   62.9   66.5   67.9\n",
              "2        3   58.9   50.1   47.9\n",
              "3        4   46.8   50.0   53.9\n",
              "4        5   62.5   67.8   62.6\n",
              "5        6   44.8   42.7   48.4\n",
              "6        7   57.3   49.6   48.0\n",
              "7        8   49.0   45.2   57.5\n",
              "8        9   43.5   41.5   47.4\n",
              "9       10   39.2   50.9   56.3"
            ],
            "text/html": [
              "\n",
              "  <div id=\"df-325282de-4800-4401-b12b-3407d6aafa60\" class=\"colab-df-container\">\n",
              "    <div>\n",
              "<style scoped>\n",
              "    .dataframe tbody tr th:only-of-type {\n",
              "        vertical-align: middle;\n",
              "    }\n",
              "\n",
              "    .dataframe tbody tr th {\n",
              "        vertical-align: top;\n",
              "    }\n",
              "\n",
              "    .dataframe thead th {\n",
              "        text-align: right;\n",
              "    }\n",
              "</style>\n",
              "<table border=\"1\" class=\"dataframe\">\n",
              "  <thead>\n",
              "    <tr style=\"text-align: right;\">\n",
              "      <th></th>\n",
              "      <th>Subject</th>\n",
              "      <th>Day 1</th>\n",
              "      <th>Day 2</th>\n",
              "      <th>Day 3</th>\n",
              "    </tr>\n",
              "  </thead>\n",
              "  <tbody>\n",
              "    <tr>\n",
              "      <th>0</th>\n",
              "      <td>1</td>\n",
              "      <td>59.9</td>\n",
              "      <td>67.7</td>\n",
              "      <td>72.2</td>\n",
              "    </tr>\n",
              "    <tr>\n",
              "      <th>1</th>\n",
              "      <td>2</td>\n",
              "      <td>62.9</td>\n",
              "      <td>66.5</td>\n",
              "      <td>67.9</td>\n",
              "    </tr>\n",
              "    <tr>\n",
              "      <th>2</th>\n",
              "      <td>3</td>\n",
              "      <td>58.9</td>\n",
              "      <td>50.1</td>\n",
              "      <td>47.9</td>\n",
              "    </tr>\n",
              "    <tr>\n",
              "      <th>3</th>\n",
              "      <td>4</td>\n",
              "      <td>46.8</td>\n",
              "      <td>50.0</td>\n",
              "      <td>53.9</td>\n",
              "    </tr>\n",
              "    <tr>\n",
              "      <th>4</th>\n",
              "      <td>5</td>\n",
              "      <td>62.5</td>\n",
              "      <td>67.8</td>\n",
              "      <td>62.6</td>\n",
              "    </tr>\n",
              "    <tr>\n",
              "      <th>5</th>\n",
              "      <td>6</td>\n",
              "      <td>44.8</td>\n",
              "      <td>42.7</td>\n",
              "      <td>48.4</td>\n",
              "    </tr>\n",
              "    <tr>\n",
              "      <th>6</th>\n",
              "      <td>7</td>\n",
              "      <td>57.3</td>\n",
              "      <td>49.6</td>\n",
              "      <td>48.0</td>\n",
              "    </tr>\n",
              "    <tr>\n",
              "      <th>7</th>\n",
              "      <td>8</td>\n",
              "      <td>49.0</td>\n",
              "      <td>45.2</td>\n",
              "      <td>57.5</td>\n",
              "    </tr>\n",
              "    <tr>\n",
              "      <th>8</th>\n",
              "      <td>9</td>\n",
              "      <td>43.5</td>\n",
              "      <td>41.5</td>\n",
              "      <td>47.4</td>\n",
              "    </tr>\n",
              "    <tr>\n",
              "      <th>9</th>\n",
              "      <td>10</td>\n",
              "      <td>39.2</td>\n",
              "      <td>50.9</td>\n",
              "      <td>56.3</td>\n",
              "    </tr>\n",
              "  </tbody>\n",
              "</table>\n",
              "</div>\n",
              "    <div class=\"colab-df-buttons\">\n",
              "\n",
              "  <div class=\"colab-df-container\">\n",
              "    <button class=\"colab-df-convert\" onclick=\"convertToInteractive('df-325282de-4800-4401-b12b-3407d6aafa60')\"\n",
              "            title=\"Convert this dataframe to an interactive table.\"\n",
              "            style=\"display:none;\">\n",
              "\n",
              "  <svg xmlns=\"http://www.w3.org/2000/svg\" height=\"24px\" viewBox=\"0 -960 960 960\">\n",
              "    <path d=\"M120-120v-720h720v720H120Zm60-500h600v-160H180v160Zm220 220h160v-160H400v160Zm0 220h160v-160H400v160ZM180-400h160v-160H180v160Zm440 0h160v-160H620v160ZM180-180h160v-160H180v160Zm440 0h160v-160H620v160Z\"/>\n",
              "  </svg>\n",
              "    </button>\n",
              "\n",
              "  <style>\n",
              "    .colab-df-container {\n",
              "      display:flex;\n",
              "      gap: 12px;\n",
              "    }\n",
              "\n",
              "    .colab-df-convert {\n",
              "      background-color: #E8F0FE;\n",
              "      border: none;\n",
              "      border-radius: 50%;\n",
              "      cursor: pointer;\n",
              "      display: none;\n",
              "      fill: #1967D2;\n",
              "      height: 32px;\n",
              "      padding: 0 0 0 0;\n",
              "      width: 32px;\n",
              "    }\n",
              "\n",
              "    .colab-df-convert:hover {\n",
              "      background-color: #E2EBFA;\n",
              "      box-shadow: 0px 1px 2px rgba(60, 64, 67, 0.3), 0px 1px 3px 1px rgba(60, 64, 67, 0.15);\n",
              "      fill: #174EA6;\n",
              "    }\n",
              "\n",
              "    .colab-df-buttons div {\n",
              "      margin-bottom: 4px;\n",
              "    }\n",
              "\n",
              "    [theme=dark] .colab-df-convert {\n",
              "      background-color: #3B4455;\n",
              "      fill: #D2E3FC;\n",
              "    }\n",
              "\n",
              "    [theme=dark] .colab-df-convert:hover {\n",
              "      background-color: #434B5C;\n",
              "      box-shadow: 0px 1px 3px 1px rgba(0, 0, 0, 0.15);\n",
              "      filter: drop-shadow(0px 1px 2px rgba(0, 0, 0, 0.3));\n",
              "      fill: #FFFFFF;\n",
              "    }\n",
              "  </style>\n",
              "\n",
              "    <script>\n",
              "      const buttonEl =\n",
              "        document.querySelector('#df-325282de-4800-4401-b12b-3407d6aafa60 button.colab-df-convert');\n",
              "      buttonEl.style.display =\n",
              "        google.colab.kernel.accessAllowed ? 'block' : 'none';\n",
              "\n",
              "      async function convertToInteractive(key) {\n",
              "        const element = document.querySelector('#df-325282de-4800-4401-b12b-3407d6aafa60');\n",
              "        const dataTable =\n",
              "          await google.colab.kernel.invokeFunction('convertToInteractive',\n",
              "                                                    [key], {});\n",
              "        if (!dataTable) return;\n",
              "\n",
              "        const docLinkHtml = 'Like what you see? Visit the ' +\n",
              "          '<a target=\"_blank\" href=https://colab.research.google.com/notebooks/data_table.ipynb>data table notebook</a>'\n",
              "          + ' to learn more about interactive tables.';\n",
              "        element.innerHTML = '';\n",
              "        dataTable['output_type'] = 'display_data';\n",
              "        await google.colab.output.renderOutput(dataTable, element);\n",
              "        const docLink = document.createElement('div');\n",
              "        docLink.innerHTML = docLinkHtml;\n",
              "        element.appendChild(docLink);\n",
              "      }\n",
              "    </script>\n",
              "  </div>\n",
              "\n",
              "\n",
              "<div id=\"df-200f753d-4a40-4c70-a68e-4344ecd4dc36\">\n",
              "  <button class=\"colab-df-quickchart\" onclick=\"quickchart('df-200f753d-4a40-4c70-a68e-4344ecd4dc36')\"\n",
              "            title=\"Suggest charts\"\n",
              "            style=\"display:none;\">\n",
              "\n",
              "<svg xmlns=\"http://www.w3.org/2000/svg\" height=\"24px\"viewBox=\"0 0 24 24\"\n",
              "     width=\"24px\">\n",
              "    <g>\n",
              "        <path d=\"M19 3H5c-1.1 0-2 .9-2 2v14c0 1.1.9 2 2 2h14c1.1 0 2-.9 2-2V5c0-1.1-.9-2-2-2zM9 17H7v-7h2v7zm4 0h-2V7h2v10zm4 0h-2v-4h2v4z\"/>\n",
              "    </g>\n",
              "</svg>\n",
              "  </button>\n",
              "\n",
              "<style>\n",
              "  .colab-df-quickchart {\n",
              "      --bg-color: #E8F0FE;\n",
              "      --fill-color: #1967D2;\n",
              "      --hover-bg-color: #E2EBFA;\n",
              "      --hover-fill-color: #174EA6;\n",
              "      --disabled-fill-color: #AAA;\n",
              "      --disabled-bg-color: #DDD;\n",
              "  }\n",
              "\n",
              "  [theme=dark] .colab-df-quickchart {\n",
              "      --bg-color: #3B4455;\n",
              "      --fill-color: #D2E3FC;\n",
              "      --hover-bg-color: #434B5C;\n",
              "      --hover-fill-color: #FFFFFF;\n",
              "      --disabled-bg-color: #3B4455;\n",
              "      --disabled-fill-color: #666;\n",
              "  }\n",
              "\n",
              "  .colab-df-quickchart {\n",
              "    background-color: var(--bg-color);\n",
              "    border: none;\n",
              "    border-radius: 50%;\n",
              "    cursor: pointer;\n",
              "    display: none;\n",
              "    fill: var(--fill-color);\n",
              "    height: 32px;\n",
              "    padding: 0;\n",
              "    width: 32px;\n",
              "  }\n",
              "\n",
              "  .colab-df-quickchart:hover {\n",
              "    background-color: var(--hover-bg-color);\n",
              "    box-shadow: 0 1px 2px rgba(60, 64, 67, 0.3), 0 1px 3px 1px rgba(60, 64, 67, 0.15);\n",
              "    fill: var(--button-hover-fill-color);\n",
              "  }\n",
              "\n",
              "  .colab-df-quickchart-complete:disabled,\n",
              "  .colab-df-quickchart-complete:disabled:hover {\n",
              "    background-color: var(--disabled-bg-color);\n",
              "    fill: var(--disabled-fill-color);\n",
              "    box-shadow: none;\n",
              "  }\n",
              "\n",
              "  .colab-df-spinner {\n",
              "    border: 2px solid var(--fill-color);\n",
              "    border-color: transparent;\n",
              "    border-bottom-color: var(--fill-color);\n",
              "    animation:\n",
              "      spin 1s steps(1) infinite;\n",
              "  }\n",
              "\n",
              "  @keyframes spin {\n",
              "    0% {\n",
              "      border-color: transparent;\n",
              "      border-bottom-color: var(--fill-color);\n",
              "      border-left-color: var(--fill-color);\n",
              "    }\n",
              "    20% {\n",
              "      border-color: transparent;\n",
              "      border-left-color: var(--fill-color);\n",
              "      border-top-color: var(--fill-color);\n",
              "    }\n",
              "    30% {\n",
              "      border-color: transparent;\n",
              "      border-left-color: var(--fill-color);\n",
              "      border-top-color: var(--fill-color);\n",
              "      border-right-color: var(--fill-color);\n",
              "    }\n",
              "    40% {\n",
              "      border-color: transparent;\n",
              "      border-right-color: var(--fill-color);\n",
              "      border-top-color: var(--fill-color);\n",
              "    }\n",
              "    60% {\n",
              "      border-color: transparent;\n",
              "      border-right-color: var(--fill-color);\n",
              "    }\n",
              "    80% {\n",
              "      border-color: transparent;\n",
              "      border-right-color: var(--fill-color);\n",
              "      border-bottom-color: var(--fill-color);\n",
              "    }\n",
              "    90% {\n",
              "      border-color: transparent;\n",
              "      border-bottom-color: var(--fill-color);\n",
              "    }\n",
              "  }\n",
              "</style>\n",
              "\n",
              "  <script>\n",
              "    async function quickchart(key) {\n",
              "      const quickchartButtonEl =\n",
              "        document.querySelector('#' + key + ' button');\n",
              "      quickchartButtonEl.disabled = true;  // To prevent multiple clicks.\n",
              "      quickchartButtonEl.classList.add('colab-df-spinner');\n",
              "      try {\n",
              "        const charts = await google.colab.kernel.invokeFunction(\n",
              "            'suggestCharts', [key], {});\n",
              "      } catch (error) {\n",
              "        console.error('Error during call to suggestCharts:', error);\n",
              "      }\n",
              "      quickchartButtonEl.classList.remove('colab-df-spinner');\n",
              "      quickchartButtonEl.classList.add('colab-df-quickchart-complete');\n",
              "    }\n",
              "    (() => {\n",
              "      let quickchartButtonEl =\n",
              "        document.querySelector('#df-200f753d-4a40-4c70-a68e-4344ecd4dc36 button');\n",
              "      quickchartButtonEl.style.display =\n",
              "        google.colab.kernel.accessAllowed ? 'block' : 'none';\n",
              "    })();\n",
              "  </script>\n",
              "</div>\n",
              "\n",
              "  <div id=\"id_94fd7543-5707-4f1d-8f3b-6b085c541227\">\n",
              "    <style>\n",
              "      .colab-df-generate {\n",
              "        background-color: #E8F0FE;\n",
              "        border: none;\n",
              "        border-radius: 50%;\n",
              "        cursor: pointer;\n",
              "        display: none;\n",
              "        fill: #1967D2;\n",
              "        height: 32px;\n",
              "        padding: 0 0 0 0;\n",
              "        width: 32px;\n",
              "      }\n",
              "\n",
              "      .colab-df-generate:hover {\n",
              "        background-color: #E2EBFA;\n",
              "        box-shadow: 0px 1px 2px rgba(60, 64, 67, 0.3), 0px 1px 3px 1px rgba(60, 64, 67, 0.15);\n",
              "        fill: #174EA6;\n",
              "      }\n",
              "\n",
              "      [theme=dark] .colab-df-generate {\n",
              "        background-color: #3B4455;\n",
              "        fill: #D2E3FC;\n",
              "      }\n",
              "\n",
              "      [theme=dark] .colab-df-generate:hover {\n",
              "        background-color: #434B5C;\n",
              "        box-shadow: 0px 1px 3px 1px rgba(0, 0, 0, 0.15);\n",
              "        filter: drop-shadow(0px 1px 2px rgba(0, 0, 0, 0.3));\n",
              "        fill: #FFFFFF;\n",
              "      }\n",
              "    </style>\n",
              "    <button class=\"colab-df-generate\" onclick=\"generateWithVariable('electro_dataset_hand')\"\n",
              "            title=\"Generate code using this dataframe.\"\n",
              "            style=\"display:none;\">\n",
              "\n",
              "  <svg xmlns=\"http://www.w3.org/2000/svg\" height=\"24px\"viewBox=\"0 0 24 24\"\n",
              "       width=\"24px\">\n",
              "    <path d=\"M7,19H8.4L18.45,9,17,7.55,7,17.6ZM5,21V16.75L18.45,3.32a2,2,0,0,1,2.83,0l1.4,1.43a1.91,1.91,0,0,1,.58,1.4,1.91,1.91,0,0,1-.58,1.4L9.25,21ZM18.45,9,17,7.55Zm-12,3A5.31,5.31,0,0,0,4.9,8.1,5.31,5.31,0,0,0,1,6.5,5.31,5.31,0,0,0,4.9,4.9,5.31,5.31,0,0,0,6.5,1,5.31,5.31,0,0,0,8.1,4.9,5.31,5.31,0,0,0,12,6.5,5.46,5.46,0,0,0,6.5,12Z\"/>\n",
              "  </svg>\n",
              "    </button>\n",
              "    <script>\n",
              "      (() => {\n",
              "      const buttonEl =\n",
              "        document.querySelector('#id_94fd7543-5707-4f1d-8f3b-6b085c541227 button.colab-df-generate');\n",
              "      buttonEl.style.display =\n",
              "        google.colab.kernel.accessAllowed ? 'block' : 'none';\n",
              "\n",
              "      buttonEl.onclick = () => {\n",
              "        google.colab.notebook.generateWithVariable('electro_dataset_hand');\n",
              "      }\n",
              "      })();\n",
              "    </script>\n",
              "  </div>\n",
              "\n",
              "    </div>\n",
              "  </div>\n"
            ],
            "application/vnd.google.colaboratory.intrinsic+json": {
              "type": "dataframe",
              "variable_name": "electro_dataset_hand",
              "summary": "{\n  \"name\": \"electro_dataset_hand\",\n  \"rows\": 10,\n  \"fields\": [\n    {\n      \"column\": \"Subject\",\n      \"properties\": {\n        \"dtype\": \"number\",\n        \"std\": 3,\n        \"min\": 1,\n        \"max\": 10,\n        \"num_unique_values\": 10,\n        \"samples\": [\n          9,\n          2,\n          6\n        ],\n        \"semantic_type\": \"\",\n        \"description\": \"\"\n      }\n    },\n    {\n      \"column\": \"Day 1\",\n      \"properties\": {\n        \"dtype\": \"number\",\n        \"std\": 8.74856178656431,\n        \"min\": 39.2,\n        \"max\": 62.9,\n        \"num_unique_values\": 10,\n        \"samples\": [\n          43.5,\n          62.9,\n          44.8\n        ],\n        \"semantic_type\": \"\",\n        \"description\": \"\"\n      }\n    },\n    {\n      \"column\": \"Day 2\",\n      \"properties\": {\n        \"dtype\": \"number\",\n        \"std\": 10.271535641978975,\n        \"min\": 41.5,\n        \"max\": 67.8,\n        \"num_unique_values\": 10,\n        \"samples\": [\n          41.5,\n          66.5,\n          42.7\n        ],\n        \"semantic_type\": \"\",\n        \"description\": \"\"\n      }\n    },\n    {\n      \"column\": \"Day 3\",\n      \"properties\": {\n        \"dtype\": \"number\",\n        \"std\": 8.914713181651507,\n        \"min\": 47.4,\n        \"max\": 72.2,\n        \"num_unique_values\": 10,\n        \"samples\": [\n          47.4,\n          67.9,\n          48.4\n        ],\n        \"semantic_type\": \"\",\n        \"description\": \"\"\n      }\n    }\n  ]\n}"
            }
          },
          "metadata": {},
          "execution_count": 72
        }
      ]
    },
    {
      "cell_type": "markdown",
      "source": [
        "##### First partition the variances and get MSBS, MSWS, MSE, AND MSBM"
      ],
      "metadata": {
        "id": "hBjyqkw6cVZW"
      }
    },
    {
      "cell_type": "markdown",
      "source": [
        "**Compute Grand mean: the mean of all scores**"
      ],
      "metadata": {
        "id": "Frz4R5z0UURt"
      }
    },
    {
      "cell_type": "code",
      "source": [
        "GrandMean = electro_dataset_hand[['Day 1', 'Day 2', 'Day 3']].values.mean()\n",
        "GrandMean"
      ],
      "metadata": {
        "colab": {
          "base_uri": "https://localhost:8080/"
        },
        "id": "Ajc7Db2QTV5o",
        "outputId": "6cfb0827-b266-4c92-e7ac-0b6ec14b2551"
      },
      "execution_count": 73,
      "outputs": [
        {
          "output_type": "execute_result",
          "data": {
            "text/plain": [
              "53.96333333333333"
            ]
          },
          "metadata": {},
          "execution_count": 73
        }
      ]
    },
    {
      "cell_type": "markdown",
      "source": [
        "**Compute Subject mean: mean of scores for each evaluated subject/object**"
      ],
      "metadata": {
        "id": "lvO_Kr7kUPaC"
      }
    },
    {
      "cell_type": "code",
      "source": [
        "RaterMeans = electro_dataset_hand[['Day 1', 'Day 2', 'Day 3']].mean(axis=1)\n",
        "RaterMeans\n",
        "#RaterMeans = RaterMeans.to_numpy()\n",
        "#RaterMeans"
      ],
      "metadata": {
        "colab": {
          "base_uri": "https://localhost:8080/",
          "height": 398
        },
        "id": "c8EU5nO2p_Ju",
        "outputId": "954e0f72-c3c3-49a2-c67a-8b3213c84493"
      },
      "execution_count": 74,
      "outputs": [
        {
          "output_type": "execute_result",
          "data": {
            "text/plain": [
              "0    66.600000\n",
              "1    65.766667\n",
              "2    52.300000\n",
              "3    50.233333\n",
              "4    64.300000\n",
              "5    45.300000\n",
              "6    51.633333\n",
              "7    50.566667\n",
              "8    44.133333\n",
              "9    48.800000\n",
              "dtype: float64"
            ],
            "text/html": [
              "<div>\n",
              "<style scoped>\n",
              "    .dataframe tbody tr th:only-of-type {\n",
              "        vertical-align: middle;\n",
              "    }\n",
              "\n",
              "    .dataframe tbody tr th {\n",
              "        vertical-align: top;\n",
              "    }\n",
              "\n",
              "    .dataframe thead th {\n",
              "        text-align: right;\n",
              "    }\n",
              "</style>\n",
              "<table border=\"1\" class=\"dataframe\">\n",
              "  <thead>\n",
              "    <tr style=\"text-align: right;\">\n",
              "      <th></th>\n",
              "      <th>0</th>\n",
              "    </tr>\n",
              "  </thead>\n",
              "  <tbody>\n",
              "    <tr>\n",
              "      <th>0</th>\n",
              "      <td>66.600000</td>\n",
              "    </tr>\n",
              "    <tr>\n",
              "      <th>1</th>\n",
              "      <td>65.766667</td>\n",
              "    </tr>\n",
              "    <tr>\n",
              "      <th>2</th>\n",
              "      <td>52.300000</td>\n",
              "    </tr>\n",
              "    <tr>\n",
              "      <th>3</th>\n",
              "      <td>50.233333</td>\n",
              "    </tr>\n",
              "    <tr>\n",
              "      <th>4</th>\n",
              "      <td>64.300000</td>\n",
              "    </tr>\n",
              "    <tr>\n",
              "      <th>5</th>\n",
              "      <td>45.300000</td>\n",
              "    </tr>\n",
              "    <tr>\n",
              "      <th>6</th>\n",
              "      <td>51.633333</td>\n",
              "    </tr>\n",
              "    <tr>\n",
              "      <th>7</th>\n",
              "      <td>50.566667</td>\n",
              "    </tr>\n",
              "    <tr>\n",
              "      <th>8</th>\n",
              "      <td>44.133333</td>\n",
              "    </tr>\n",
              "    <tr>\n",
              "      <th>9</th>\n",
              "      <td>48.800000</td>\n",
              "    </tr>\n",
              "  </tbody>\n",
              "</table>\n",
              "</div><br><label><b>dtype:</b> float64</label>"
            ]
          },
          "metadata": {},
          "execution_count": 74
        }
      ]
    },
    {
      "cell_type": "markdown",
      "source": [
        "**Compute Measurement mean: mean of scores for each evaluated subject/object**"
      ],
      "metadata": {
        "id": "BN4HoyahaLDm"
      }
    },
    {
      "cell_type": "code",
      "source": [
        "MeasurementMeans = electro_dataset_hand[['Day 1', 'Day 2', 'Day 3']].mean(axis=0)\n",
        "MeasurementMeans\n",
        "#MeasurementMeans  = MeasurementMeans.to_numpy()\n",
        "#MeasurementMeans"
      ],
      "metadata": {
        "colab": {
          "base_uri": "https://localhost:8080/",
          "height": 178
        },
        "id": "UVhS9dGxaKXd",
        "outputId": "08e270d1-0a7f-4dbd-9372-2e612de5b208"
      },
      "execution_count": 75,
      "outputs": [
        {
          "output_type": "execute_result",
          "data": {
            "text/plain": [
              "Day 1    52.48\n",
              "Day 2    53.20\n",
              "Day 3    56.21\n",
              "dtype: float64"
            ],
            "text/html": [
              "<div>\n",
              "<style scoped>\n",
              "    .dataframe tbody tr th:only-of-type {\n",
              "        vertical-align: middle;\n",
              "    }\n",
              "\n",
              "    .dataframe tbody tr th {\n",
              "        vertical-align: top;\n",
              "    }\n",
              "\n",
              "    .dataframe thead th {\n",
              "        text-align: right;\n",
              "    }\n",
              "</style>\n",
              "<table border=\"1\" class=\"dataframe\">\n",
              "  <thead>\n",
              "    <tr style=\"text-align: right;\">\n",
              "      <th></th>\n",
              "      <th>0</th>\n",
              "    </tr>\n",
              "  </thead>\n",
              "  <tbody>\n",
              "    <tr>\n",
              "      <th>Day 1</th>\n",
              "      <td>52.48</td>\n",
              "    </tr>\n",
              "    <tr>\n",
              "      <th>Day 2</th>\n",
              "      <td>53.20</td>\n",
              "    </tr>\n",
              "    <tr>\n",
              "      <th>Day 3</th>\n",
              "      <td>56.21</td>\n",
              "    </tr>\n",
              "  </tbody>\n",
              "</table>\n",
              "</div><br><label><b>dtype:</b> float64</label>"
            ]
          },
          "metadata": {},
          "execution_count": 75
        }
      ]
    },
    {
      "cell_type": "markdown",
      "source": [
        "**Compute Mean Total Variation (MST)**"
      ],
      "metadata": {
        "id": "9pTosCnifGrN"
      }
    },
    {
      "cell_type": "code",
      "source": [
        "squared_diff_mean = (electro_dataset_hand[['Day 1', 'Day 2', 'Day 3']].sub(GrandMean)) ** 2\n",
        "squared_diff_mean"
      ],
      "metadata": {
        "colab": {
          "base_uri": "https://localhost:8080/",
          "height": 363
        },
        "id": "4tsU2zCnfGES",
        "outputId": "afa8f155-4216-40ab-b854-b2237c302368"
      },
      "execution_count": 76,
      "outputs": [
        {
          "output_type": "execute_result",
          "data": {
            "text/plain": [
              "        Day 1       Day 2       Day 3\n",
              "0   35.244011  188.696011  332.576011\n",
              "1   79.864011  157.168011  194.230678\n",
              "2   24.370678   14.925344   36.764011\n",
              "3   51.313344   15.708011    0.004011\n",
              "4   72.874678  191.453344   74.592011\n",
              "5   83.966678  126.862678   30.950678\n",
              "6   11.133344   19.038678   35.561344\n",
              "7   24.634678   76.796011   12.508011\n",
              "8  109.481344  155.334678   43.077344\n",
              "9  217.956011    9.384011    5.460011"
            ],
            "text/html": [
              "\n",
              "  <div id=\"df-4d7502fb-93cb-4de3-9fd4-a85ae36e02fa\" class=\"colab-df-container\">\n",
              "    <div>\n",
              "<style scoped>\n",
              "    .dataframe tbody tr th:only-of-type {\n",
              "        vertical-align: middle;\n",
              "    }\n",
              "\n",
              "    .dataframe tbody tr th {\n",
              "        vertical-align: top;\n",
              "    }\n",
              "\n",
              "    .dataframe thead th {\n",
              "        text-align: right;\n",
              "    }\n",
              "</style>\n",
              "<table border=\"1\" class=\"dataframe\">\n",
              "  <thead>\n",
              "    <tr style=\"text-align: right;\">\n",
              "      <th></th>\n",
              "      <th>Day 1</th>\n",
              "      <th>Day 2</th>\n",
              "      <th>Day 3</th>\n",
              "    </tr>\n",
              "  </thead>\n",
              "  <tbody>\n",
              "    <tr>\n",
              "      <th>0</th>\n",
              "      <td>35.244011</td>\n",
              "      <td>188.696011</td>\n",
              "      <td>332.576011</td>\n",
              "    </tr>\n",
              "    <tr>\n",
              "      <th>1</th>\n",
              "      <td>79.864011</td>\n",
              "      <td>157.168011</td>\n",
              "      <td>194.230678</td>\n",
              "    </tr>\n",
              "    <tr>\n",
              "      <th>2</th>\n",
              "      <td>24.370678</td>\n",
              "      <td>14.925344</td>\n",
              "      <td>36.764011</td>\n",
              "    </tr>\n",
              "    <tr>\n",
              "      <th>3</th>\n",
              "      <td>51.313344</td>\n",
              "      <td>15.708011</td>\n",
              "      <td>0.004011</td>\n",
              "    </tr>\n",
              "    <tr>\n",
              "      <th>4</th>\n",
              "      <td>72.874678</td>\n",
              "      <td>191.453344</td>\n",
              "      <td>74.592011</td>\n",
              "    </tr>\n",
              "    <tr>\n",
              "      <th>5</th>\n",
              "      <td>83.966678</td>\n",
              "      <td>126.862678</td>\n",
              "      <td>30.950678</td>\n",
              "    </tr>\n",
              "    <tr>\n",
              "      <th>6</th>\n",
              "      <td>11.133344</td>\n",
              "      <td>19.038678</td>\n",
              "      <td>35.561344</td>\n",
              "    </tr>\n",
              "    <tr>\n",
              "      <th>7</th>\n",
              "      <td>24.634678</td>\n",
              "      <td>76.796011</td>\n",
              "      <td>12.508011</td>\n",
              "    </tr>\n",
              "    <tr>\n",
              "      <th>8</th>\n",
              "      <td>109.481344</td>\n",
              "      <td>155.334678</td>\n",
              "      <td>43.077344</td>\n",
              "    </tr>\n",
              "    <tr>\n",
              "      <th>9</th>\n",
              "      <td>217.956011</td>\n",
              "      <td>9.384011</td>\n",
              "      <td>5.460011</td>\n",
              "    </tr>\n",
              "  </tbody>\n",
              "</table>\n",
              "</div>\n",
              "    <div class=\"colab-df-buttons\">\n",
              "\n",
              "  <div class=\"colab-df-container\">\n",
              "    <button class=\"colab-df-convert\" onclick=\"convertToInteractive('df-4d7502fb-93cb-4de3-9fd4-a85ae36e02fa')\"\n",
              "            title=\"Convert this dataframe to an interactive table.\"\n",
              "            style=\"display:none;\">\n",
              "\n",
              "  <svg xmlns=\"http://www.w3.org/2000/svg\" height=\"24px\" viewBox=\"0 -960 960 960\">\n",
              "    <path d=\"M120-120v-720h720v720H120Zm60-500h600v-160H180v160Zm220 220h160v-160H400v160Zm0 220h160v-160H400v160ZM180-400h160v-160H180v160Zm440 0h160v-160H620v160ZM180-180h160v-160H180v160Zm440 0h160v-160H620v160Z\"/>\n",
              "  </svg>\n",
              "    </button>\n",
              "\n",
              "  <style>\n",
              "    .colab-df-container {\n",
              "      display:flex;\n",
              "      gap: 12px;\n",
              "    }\n",
              "\n",
              "    .colab-df-convert {\n",
              "      background-color: #E8F0FE;\n",
              "      border: none;\n",
              "      border-radius: 50%;\n",
              "      cursor: pointer;\n",
              "      display: none;\n",
              "      fill: #1967D2;\n",
              "      height: 32px;\n",
              "      padding: 0 0 0 0;\n",
              "      width: 32px;\n",
              "    }\n",
              "\n",
              "    .colab-df-convert:hover {\n",
              "      background-color: #E2EBFA;\n",
              "      box-shadow: 0px 1px 2px rgba(60, 64, 67, 0.3), 0px 1px 3px 1px rgba(60, 64, 67, 0.15);\n",
              "      fill: #174EA6;\n",
              "    }\n",
              "\n",
              "    .colab-df-buttons div {\n",
              "      margin-bottom: 4px;\n",
              "    }\n",
              "\n",
              "    [theme=dark] .colab-df-convert {\n",
              "      background-color: #3B4455;\n",
              "      fill: #D2E3FC;\n",
              "    }\n",
              "\n",
              "    [theme=dark] .colab-df-convert:hover {\n",
              "      background-color: #434B5C;\n",
              "      box-shadow: 0px 1px 3px 1px rgba(0, 0, 0, 0.15);\n",
              "      filter: drop-shadow(0px 1px 2px rgba(0, 0, 0, 0.3));\n",
              "      fill: #FFFFFF;\n",
              "    }\n",
              "  </style>\n",
              "\n",
              "    <script>\n",
              "      const buttonEl =\n",
              "        document.querySelector('#df-4d7502fb-93cb-4de3-9fd4-a85ae36e02fa button.colab-df-convert');\n",
              "      buttonEl.style.display =\n",
              "        google.colab.kernel.accessAllowed ? 'block' : 'none';\n",
              "\n",
              "      async function convertToInteractive(key) {\n",
              "        const element = document.querySelector('#df-4d7502fb-93cb-4de3-9fd4-a85ae36e02fa');\n",
              "        const dataTable =\n",
              "          await google.colab.kernel.invokeFunction('convertToInteractive',\n",
              "                                                    [key], {});\n",
              "        if (!dataTable) return;\n",
              "\n",
              "        const docLinkHtml = 'Like what you see? Visit the ' +\n",
              "          '<a target=\"_blank\" href=https://colab.research.google.com/notebooks/data_table.ipynb>data table notebook</a>'\n",
              "          + ' to learn more about interactive tables.';\n",
              "        element.innerHTML = '';\n",
              "        dataTable['output_type'] = 'display_data';\n",
              "        await google.colab.output.renderOutput(dataTable, element);\n",
              "        const docLink = document.createElement('div');\n",
              "        docLink.innerHTML = docLinkHtml;\n",
              "        element.appendChild(docLink);\n",
              "      }\n",
              "    </script>\n",
              "  </div>\n",
              "\n",
              "\n",
              "<div id=\"df-72939f8f-3075-42cc-abe2-28c529a44d81\">\n",
              "  <button class=\"colab-df-quickchart\" onclick=\"quickchart('df-72939f8f-3075-42cc-abe2-28c529a44d81')\"\n",
              "            title=\"Suggest charts\"\n",
              "            style=\"display:none;\">\n",
              "\n",
              "<svg xmlns=\"http://www.w3.org/2000/svg\" height=\"24px\"viewBox=\"0 0 24 24\"\n",
              "     width=\"24px\">\n",
              "    <g>\n",
              "        <path d=\"M19 3H5c-1.1 0-2 .9-2 2v14c0 1.1.9 2 2 2h14c1.1 0 2-.9 2-2V5c0-1.1-.9-2-2-2zM9 17H7v-7h2v7zm4 0h-2V7h2v10zm4 0h-2v-4h2v4z\"/>\n",
              "    </g>\n",
              "</svg>\n",
              "  </button>\n",
              "\n",
              "<style>\n",
              "  .colab-df-quickchart {\n",
              "      --bg-color: #E8F0FE;\n",
              "      --fill-color: #1967D2;\n",
              "      --hover-bg-color: #E2EBFA;\n",
              "      --hover-fill-color: #174EA6;\n",
              "      --disabled-fill-color: #AAA;\n",
              "      --disabled-bg-color: #DDD;\n",
              "  }\n",
              "\n",
              "  [theme=dark] .colab-df-quickchart {\n",
              "      --bg-color: #3B4455;\n",
              "      --fill-color: #D2E3FC;\n",
              "      --hover-bg-color: #434B5C;\n",
              "      --hover-fill-color: #FFFFFF;\n",
              "      --disabled-bg-color: #3B4455;\n",
              "      --disabled-fill-color: #666;\n",
              "  }\n",
              "\n",
              "  .colab-df-quickchart {\n",
              "    background-color: var(--bg-color);\n",
              "    border: none;\n",
              "    border-radius: 50%;\n",
              "    cursor: pointer;\n",
              "    display: none;\n",
              "    fill: var(--fill-color);\n",
              "    height: 32px;\n",
              "    padding: 0;\n",
              "    width: 32px;\n",
              "  }\n",
              "\n",
              "  .colab-df-quickchart:hover {\n",
              "    background-color: var(--hover-bg-color);\n",
              "    box-shadow: 0 1px 2px rgba(60, 64, 67, 0.3), 0 1px 3px 1px rgba(60, 64, 67, 0.15);\n",
              "    fill: var(--button-hover-fill-color);\n",
              "  }\n",
              "\n",
              "  .colab-df-quickchart-complete:disabled,\n",
              "  .colab-df-quickchart-complete:disabled:hover {\n",
              "    background-color: var(--disabled-bg-color);\n",
              "    fill: var(--disabled-fill-color);\n",
              "    box-shadow: none;\n",
              "  }\n",
              "\n",
              "  .colab-df-spinner {\n",
              "    border: 2px solid var(--fill-color);\n",
              "    border-color: transparent;\n",
              "    border-bottom-color: var(--fill-color);\n",
              "    animation:\n",
              "      spin 1s steps(1) infinite;\n",
              "  }\n",
              "\n",
              "  @keyframes spin {\n",
              "    0% {\n",
              "      border-color: transparent;\n",
              "      border-bottom-color: var(--fill-color);\n",
              "      border-left-color: var(--fill-color);\n",
              "    }\n",
              "    20% {\n",
              "      border-color: transparent;\n",
              "      border-left-color: var(--fill-color);\n",
              "      border-top-color: var(--fill-color);\n",
              "    }\n",
              "    30% {\n",
              "      border-color: transparent;\n",
              "      border-left-color: var(--fill-color);\n",
              "      border-top-color: var(--fill-color);\n",
              "      border-right-color: var(--fill-color);\n",
              "    }\n",
              "    40% {\n",
              "      border-color: transparent;\n",
              "      border-right-color: var(--fill-color);\n",
              "      border-top-color: var(--fill-color);\n",
              "    }\n",
              "    60% {\n",
              "      border-color: transparent;\n",
              "      border-right-color: var(--fill-color);\n",
              "    }\n",
              "    80% {\n",
              "      border-color: transparent;\n",
              "      border-right-color: var(--fill-color);\n",
              "      border-bottom-color: var(--fill-color);\n",
              "    }\n",
              "    90% {\n",
              "      border-color: transparent;\n",
              "      border-bottom-color: var(--fill-color);\n",
              "    }\n",
              "  }\n",
              "</style>\n",
              "\n",
              "  <script>\n",
              "    async function quickchart(key) {\n",
              "      const quickchartButtonEl =\n",
              "        document.querySelector('#' + key + ' button');\n",
              "      quickchartButtonEl.disabled = true;  // To prevent multiple clicks.\n",
              "      quickchartButtonEl.classList.add('colab-df-spinner');\n",
              "      try {\n",
              "        const charts = await google.colab.kernel.invokeFunction(\n",
              "            'suggestCharts', [key], {});\n",
              "      } catch (error) {\n",
              "        console.error('Error during call to suggestCharts:', error);\n",
              "      }\n",
              "      quickchartButtonEl.classList.remove('colab-df-spinner');\n",
              "      quickchartButtonEl.classList.add('colab-df-quickchart-complete');\n",
              "    }\n",
              "    (() => {\n",
              "      let quickchartButtonEl =\n",
              "        document.querySelector('#df-72939f8f-3075-42cc-abe2-28c529a44d81 button');\n",
              "      quickchartButtonEl.style.display =\n",
              "        google.colab.kernel.accessAllowed ? 'block' : 'none';\n",
              "    })();\n",
              "  </script>\n",
              "</div>\n",
              "\n",
              "  <div id=\"id_ede5aff9-0d50-4116-8fc0-e9afc6af69f5\">\n",
              "    <style>\n",
              "      .colab-df-generate {\n",
              "        background-color: #E8F0FE;\n",
              "        border: none;\n",
              "        border-radius: 50%;\n",
              "        cursor: pointer;\n",
              "        display: none;\n",
              "        fill: #1967D2;\n",
              "        height: 32px;\n",
              "        padding: 0 0 0 0;\n",
              "        width: 32px;\n",
              "      }\n",
              "\n",
              "      .colab-df-generate:hover {\n",
              "        background-color: #E2EBFA;\n",
              "        box-shadow: 0px 1px 2px rgba(60, 64, 67, 0.3), 0px 1px 3px 1px rgba(60, 64, 67, 0.15);\n",
              "        fill: #174EA6;\n",
              "      }\n",
              "\n",
              "      [theme=dark] .colab-df-generate {\n",
              "        background-color: #3B4455;\n",
              "        fill: #D2E3FC;\n",
              "      }\n",
              "\n",
              "      [theme=dark] .colab-df-generate:hover {\n",
              "        background-color: #434B5C;\n",
              "        box-shadow: 0px 1px 3px 1px rgba(0, 0, 0, 0.15);\n",
              "        filter: drop-shadow(0px 1px 2px rgba(0, 0, 0, 0.3));\n",
              "        fill: #FFFFFF;\n",
              "      }\n",
              "    </style>\n",
              "    <button class=\"colab-df-generate\" onclick=\"generateWithVariable('squared_diff_mean')\"\n",
              "            title=\"Generate code using this dataframe.\"\n",
              "            style=\"display:none;\">\n",
              "\n",
              "  <svg xmlns=\"http://www.w3.org/2000/svg\" height=\"24px\"viewBox=\"0 0 24 24\"\n",
              "       width=\"24px\">\n",
              "    <path d=\"M7,19H8.4L18.45,9,17,7.55,7,17.6ZM5,21V16.75L18.45,3.32a2,2,0,0,1,2.83,0l1.4,1.43a1.91,1.91,0,0,1,.58,1.4,1.91,1.91,0,0,1-.58,1.4L9.25,21ZM18.45,9,17,7.55Zm-12,3A5.31,5.31,0,0,0,4.9,8.1,5.31,5.31,0,0,0,1,6.5,5.31,5.31,0,0,0,4.9,4.9,5.31,5.31,0,0,0,6.5,1,5.31,5.31,0,0,0,8.1,4.9,5.31,5.31,0,0,0,12,6.5,5.46,5.46,0,0,0,6.5,12Z\"/>\n",
              "  </svg>\n",
              "    </button>\n",
              "    <script>\n",
              "      (() => {\n",
              "      const buttonEl =\n",
              "        document.querySelector('#id_ede5aff9-0d50-4116-8fc0-e9afc6af69f5 button.colab-df-generate');\n",
              "      buttonEl.style.display =\n",
              "        google.colab.kernel.accessAllowed ? 'block' : 'none';\n",
              "\n",
              "      buttonEl.onclick = () => {\n",
              "        google.colab.notebook.generateWithVariable('squared_diff_mean');\n",
              "      }\n",
              "      })();\n",
              "    </script>\n",
              "  </div>\n",
              "\n",
              "    </div>\n",
              "  </div>\n"
            ],
            "application/vnd.google.colaboratory.intrinsic+json": {
              "type": "dataframe",
              "variable_name": "squared_diff_mean",
              "summary": "{\n  \"name\": \"squared_diff_mean\",\n  \"rows\": 10,\n  \"fields\": [\n    {\n      \"column\": \"Day 1\",\n      \"properties\": {\n        \"dtype\": \"number\",\n        \"std\": 60.46223885932009,\n        \"min\": 11.13334444444444,\n        \"max\": 217.95601111111097,\n        \"num_unique_values\": 10,\n        \"samples\": [\n          109.4813444444444,\n          79.86401111111113,\n          83.96667777777779\n        ],\n        \"semantic_type\": \"\",\n        \"description\": \"\"\n      }\n    },\n    {\n      \"column\": \"Day 2\",\n      \"properties\": {\n        \"dtype\": \"number\",\n        \"std\": 76.54370596698658,\n        \"min\": 9.384011111111107,\n        \"max\": 191.45334444444444,\n        \"num_unique_values\": 10,\n        \"samples\": [\n          155.33467777777773,\n          157.16801111111116,\n          126.86267777777766\n        ],\n        \"semantic_type\": \"\",\n        \"description\": \"\"\n      }\n    },\n    {\n      \"column\": \"Day 3\",\n      \"properties\": {\n        \"dtype\": \"number\",\n        \"std\": 105.87154266418264,\n        \"min\": 0.004011111111111015,\n        \"max\": 332.5760111111113,\n        \"num_unique_values\": 10,\n        \"samples\": [\n          43.077344444444435,\n          194.230677777778,\n          30.95067777777777\n        ],\n        \"semantic_type\": \"\",\n        \"description\": \"\"\n      }\n    }\n  ]\n}"
            }
          },
          "metadata": {},
          "execution_count": 76
        }
      ]
    },
    {
      "cell_type": "code",
      "source": [
        "SST=squared_diff_mean.sum().sum()\n",
        "SST"
      ],
      "metadata": {
        "colab": {
          "base_uri": "https://localhost:8080/"
        },
        "id": "FG6OnH1xfZ2J",
        "outputId": "072ba33e-231d-4f35-a405-260e2a6bfa6e"
      },
      "execution_count": 77,
      "outputs": [
        {
          "output_type": "execute_result",
          "data": {
            "text/plain": [
              "2431.929666666667"
            ]
          },
          "metadata": {},
          "execution_count": 77
        }
      ]
    },
    {
      "cell_type": "code",
      "source": [
        "MST=SST/(len(squared_diff_mean)*squared_diff_mean.shape[1]-1) # first is the number of subjects, second is the number of measurements/raters, -1 is to account for the degrees of freedom used to compute the Grand mean\n",
        "MST"
      ],
      "metadata": {
        "colab": {
          "base_uri": "https://localhost:8080/"
        },
        "id": "y-paIc8ufdo3",
        "outputId": "9e929a17-f322-409f-da98-9a644f711dbe"
      },
      "execution_count": 78,
      "outputs": [
        {
          "output_type": "execute_result",
          "data": {
            "text/plain": [
              "83.85964367816092"
            ]
          },
          "metadata": {},
          "execution_count": 78
        }
      ]
    },
    {
      "cell_type": "markdown",
      "source": [
        "**Compute Mean variation of each rating from its Subject mean (MSWS)**"
      ],
      "metadata": {
        "id": "B48q4dHrUX7f"
      }
    },
    {
      "cell_type": "code",
      "source": [
        "squared_diff_row_mean = (electro_dataset_hand[['Day 1', 'Day 2', 'Day 3']].sub(RaterMeans, axis=0)) ** 2\n",
        "squared_diff_row_mean"
      ],
      "metadata": {
        "id": "knOX3QGuUeXv",
        "colab": {
          "base_uri": "https://localhost:8080/",
          "height": 363
        },
        "outputId": "81dd30dd-a5a5-4958-8338-2613b69e6720"
      },
      "execution_count": 79,
      "outputs": [
        {
          "output_type": "execute_result",
          "data": {
            "text/plain": [
              "       Day 1      Day 2      Day 3\n",
              "0  44.890000   1.210000  31.360000\n",
              "1   8.217778   0.537778   4.551111\n",
              "2  43.560000   4.840000  19.360000\n",
              "3  11.787778   0.054444  13.444444\n",
              "4   3.240000  12.250000   2.890000\n",
              "5   0.250000   6.760000   9.610000\n",
              "6  32.111111   4.134444  13.201111\n",
              "7   2.454444  28.801111  48.071111\n",
              "8   0.401111   6.934444  10.671111\n",
              "9  92.160000   4.410000  56.250000"
            ],
            "text/html": [
              "\n",
              "  <div id=\"df-7a828be6-3f32-47e3-85a0-686b927c9318\" class=\"colab-df-container\">\n",
              "    <div>\n",
              "<style scoped>\n",
              "    .dataframe tbody tr th:only-of-type {\n",
              "        vertical-align: middle;\n",
              "    }\n",
              "\n",
              "    .dataframe tbody tr th {\n",
              "        vertical-align: top;\n",
              "    }\n",
              "\n",
              "    .dataframe thead th {\n",
              "        text-align: right;\n",
              "    }\n",
              "</style>\n",
              "<table border=\"1\" class=\"dataframe\">\n",
              "  <thead>\n",
              "    <tr style=\"text-align: right;\">\n",
              "      <th></th>\n",
              "      <th>Day 1</th>\n",
              "      <th>Day 2</th>\n",
              "      <th>Day 3</th>\n",
              "    </tr>\n",
              "  </thead>\n",
              "  <tbody>\n",
              "    <tr>\n",
              "      <th>0</th>\n",
              "      <td>44.890000</td>\n",
              "      <td>1.210000</td>\n",
              "      <td>31.360000</td>\n",
              "    </tr>\n",
              "    <tr>\n",
              "      <th>1</th>\n",
              "      <td>8.217778</td>\n",
              "      <td>0.537778</td>\n",
              "      <td>4.551111</td>\n",
              "    </tr>\n",
              "    <tr>\n",
              "      <th>2</th>\n",
              "      <td>43.560000</td>\n",
              "      <td>4.840000</td>\n",
              "      <td>19.360000</td>\n",
              "    </tr>\n",
              "    <tr>\n",
              "      <th>3</th>\n",
              "      <td>11.787778</td>\n",
              "      <td>0.054444</td>\n",
              "      <td>13.444444</td>\n",
              "    </tr>\n",
              "    <tr>\n",
              "      <th>4</th>\n",
              "      <td>3.240000</td>\n",
              "      <td>12.250000</td>\n",
              "      <td>2.890000</td>\n",
              "    </tr>\n",
              "    <tr>\n",
              "      <th>5</th>\n",
              "      <td>0.250000</td>\n",
              "      <td>6.760000</td>\n",
              "      <td>9.610000</td>\n",
              "    </tr>\n",
              "    <tr>\n",
              "      <th>6</th>\n",
              "      <td>32.111111</td>\n",
              "      <td>4.134444</td>\n",
              "      <td>13.201111</td>\n",
              "    </tr>\n",
              "    <tr>\n",
              "      <th>7</th>\n",
              "      <td>2.454444</td>\n",
              "      <td>28.801111</td>\n",
              "      <td>48.071111</td>\n",
              "    </tr>\n",
              "    <tr>\n",
              "      <th>8</th>\n",
              "      <td>0.401111</td>\n",
              "      <td>6.934444</td>\n",
              "      <td>10.671111</td>\n",
              "    </tr>\n",
              "    <tr>\n",
              "      <th>9</th>\n",
              "      <td>92.160000</td>\n",
              "      <td>4.410000</td>\n",
              "      <td>56.250000</td>\n",
              "    </tr>\n",
              "  </tbody>\n",
              "</table>\n",
              "</div>\n",
              "    <div class=\"colab-df-buttons\">\n",
              "\n",
              "  <div class=\"colab-df-container\">\n",
              "    <button class=\"colab-df-convert\" onclick=\"convertToInteractive('df-7a828be6-3f32-47e3-85a0-686b927c9318')\"\n",
              "            title=\"Convert this dataframe to an interactive table.\"\n",
              "            style=\"display:none;\">\n",
              "\n",
              "  <svg xmlns=\"http://www.w3.org/2000/svg\" height=\"24px\" viewBox=\"0 -960 960 960\">\n",
              "    <path d=\"M120-120v-720h720v720H120Zm60-500h600v-160H180v160Zm220 220h160v-160H400v160Zm0 220h160v-160H400v160ZM180-400h160v-160H180v160Zm440 0h160v-160H620v160ZM180-180h160v-160H180v160Zm440 0h160v-160H620v160Z\"/>\n",
              "  </svg>\n",
              "    </button>\n",
              "\n",
              "  <style>\n",
              "    .colab-df-container {\n",
              "      display:flex;\n",
              "      gap: 12px;\n",
              "    }\n",
              "\n",
              "    .colab-df-convert {\n",
              "      background-color: #E8F0FE;\n",
              "      border: none;\n",
              "      border-radius: 50%;\n",
              "      cursor: pointer;\n",
              "      display: none;\n",
              "      fill: #1967D2;\n",
              "      height: 32px;\n",
              "      padding: 0 0 0 0;\n",
              "      width: 32px;\n",
              "    }\n",
              "\n",
              "    .colab-df-convert:hover {\n",
              "      background-color: #E2EBFA;\n",
              "      box-shadow: 0px 1px 2px rgba(60, 64, 67, 0.3), 0px 1px 3px 1px rgba(60, 64, 67, 0.15);\n",
              "      fill: #174EA6;\n",
              "    }\n",
              "\n",
              "    .colab-df-buttons div {\n",
              "      margin-bottom: 4px;\n",
              "    }\n",
              "\n",
              "    [theme=dark] .colab-df-convert {\n",
              "      background-color: #3B4455;\n",
              "      fill: #D2E3FC;\n",
              "    }\n",
              "\n",
              "    [theme=dark] .colab-df-convert:hover {\n",
              "      background-color: #434B5C;\n",
              "      box-shadow: 0px 1px 3px 1px rgba(0, 0, 0, 0.15);\n",
              "      filter: drop-shadow(0px 1px 2px rgba(0, 0, 0, 0.3));\n",
              "      fill: #FFFFFF;\n",
              "    }\n",
              "  </style>\n",
              "\n",
              "    <script>\n",
              "      const buttonEl =\n",
              "        document.querySelector('#df-7a828be6-3f32-47e3-85a0-686b927c9318 button.colab-df-convert');\n",
              "      buttonEl.style.display =\n",
              "        google.colab.kernel.accessAllowed ? 'block' : 'none';\n",
              "\n",
              "      async function convertToInteractive(key) {\n",
              "        const element = document.querySelector('#df-7a828be6-3f32-47e3-85a0-686b927c9318');\n",
              "        const dataTable =\n",
              "          await google.colab.kernel.invokeFunction('convertToInteractive',\n",
              "                                                    [key], {});\n",
              "        if (!dataTable) return;\n",
              "\n",
              "        const docLinkHtml = 'Like what you see? Visit the ' +\n",
              "          '<a target=\"_blank\" href=https://colab.research.google.com/notebooks/data_table.ipynb>data table notebook</a>'\n",
              "          + ' to learn more about interactive tables.';\n",
              "        element.innerHTML = '';\n",
              "        dataTable['output_type'] = 'display_data';\n",
              "        await google.colab.output.renderOutput(dataTable, element);\n",
              "        const docLink = document.createElement('div');\n",
              "        docLink.innerHTML = docLinkHtml;\n",
              "        element.appendChild(docLink);\n",
              "      }\n",
              "    </script>\n",
              "  </div>\n",
              "\n",
              "\n",
              "<div id=\"df-6ad53285-88aa-4bf4-b482-93f22268c8ce\">\n",
              "  <button class=\"colab-df-quickchart\" onclick=\"quickchart('df-6ad53285-88aa-4bf4-b482-93f22268c8ce')\"\n",
              "            title=\"Suggest charts\"\n",
              "            style=\"display:none;\">\n",
              "\n",
              "<svg xmlns=\"http://www.w3.org/2000/svg\" height=\"24px\"viewBox=\"0 0 24 24\"\n",
              "     width=\"24px\">\n",
              "    <g>\n",
              "        <path d=\"M19 3H5c-1.1 0-2 .9-2 2v14c0 1.1.9 2 2 2h14c1.1 0 2-.9 2-2V5c0-1.1-.9-2-2-2zM9 17H7v-7h2v7zm4 0h-2V7h2v10zm4 0h-2v-4h2v4z\"/>\n",
              "    </g>\n",
              "</svg>\n",
              "  </button>\n",
              "\n",
              "<style>\n",
              "  .colab-df-quickchart {\n",
              "      --bg-color: #E8F0FE;\n",
              "      --fill-color: #1967D2;\n",
              "      --hover-bg-color: #E2EBFA;\n",
              "      --hover-fill-color: #174EA6;\n",
              "      --disabled-fill-color: #AAA;\n",
              "      --disabled-bg-color: #DDD;\n",
              "  }\n",
              "\n",
              "  [theme=dark] .colab-df-quickchart {\n",
              "      --bg-color: #3B4455;\n",
              "      --fill-color: #D2E3FC;\n",
              "      --hover-bg-color: #434B5C;\n",
              "      --hover-fill-color: #FFFFFF;\n",
              "      --disabled-bg-color: #3B4455;\n",
              "      --disabled-fill-color: #666;\n",
              "  }\n",
              "\n",
              "  .colab-df-quickchart {\n",
              "    background-color: var(--bg-color);\n",
              "    border: none;\n",
              "    border-radius: 50%;\n",
              "    cursor: pointer;\n",
              "    display: none;\n",
              "    fill: var(--fill-color);\n",
              "    height: 32px;\n",
              "    padding: 0;\n",
              "    width: 32px;\n",
              "  }\n",
              "\n",
              "  .colab-df-quickchart:hover {\n",
              "    background-color: var(--hover-bg-color);\n",
              "    box-shadow: 0 1px 2px rgba(60, 64, 67, 0.3), 0 1px 3px 1px rgba(60, 64, 67, 0.15);\n",
              "    fill: var(--button-hover-fill-color);\n",
              "  }\n",
              "\n",
              "  .colab-df-quickchart-complete:disabled,\n",
              "  .colab-df-quickchart-complete:disabled:hover {\n",
              "    background-color: var(--disabled-bg-color);\n",
              "    fill: var(--disabled-fill-color);\n",
              "    box-shadow: none;\n",
              "  }\n",
              "\n",
              "  .colab-df-spinner {\n",
              "    border: 2px solid var(--fill-color);\n",
              "    border-color: transparent;\n",
              "    border-bottom-color: var(--fill-color);\n",
              "    animation:\n",
              "      spin 1s steps(1) infinite;\n",
              "  }\n",
              "\n",
              "  @keyframes spin {\n",
              "    0% {\n",
              "      border-color: transparent;\n",
              "      border-bottom-color: var(--fill-color);\n",
              "      border-left-color: var(--fill-color);\n",
              "    }\n",
              "    20% {\n",
              "      border-color: transparent;\n",
              "      border-left-color: var(--fill-color);\n",
              "      border-top-color: var(--fill-color);\n",
              "    }\n",
              "    30% {\n",
              "      border-color: transparent;\n",
              "      border-left-color: var(--fill-color);\n",
              "      border-top-color: var(--fill-color);\n",
              "      border-right-color: var(--fill-color);\n",
              "    }\n",
              "    40% {\n",
              "      border-color: transparent;\n",
              "      border-right-color: var(--fill-color);\n",
              "      border-top-color: var(--fill-color);\n",
              "    }\n",
              "    60% {\n",
              "      border-color: transparent;\n",
              "      border-right-color: var(--fill-color);\n",
              "    }\n",
              "    80% {\n",
              "      border-color: transparent;\n",
              "      border-right-color: var(--fill-color);\n",
              "      border-bottom-color: var(--fill-color);\n",
              "    }\n",
              "    90% {\n",
              "      border-color: transparent;\n",
              "      border-bottom-color: var(--fill-color);\n",
              "    }\n",
              "  }\n",
              "</style>\n",
              "\n",
              "  <script>\n",
              "    async function quickchart(key) {\n",
              "      const quickchartButtonEl =\n",
              "        document.querySelector('#' + key + ' button');\n",
              "      quickchartButtonEl.disabled = true;  // To prevent multiple clicks.\n",
              "      quickchartButtonEl.classList.add('colab-df-spinner');\n",
              "      try {\n",
              "        const charts = await google.colab.kernel.invokeFunction(\n",
              "            'suggestCharts', [key], {});\n",
              "      } catch (error) {\n",
              "        console.error('Error during call to suggestCharts:', error);\n",
              "      }\n",
              "      quickchartButtonEl.classList.remove('colab-df-spinner');\n",
              "      quickchartButtonEl.classList.add('colab-df-quickchart-complete');\n",
              "    }\n",
              "    (() => {\n",
              "      let quickchartButtonEl =\n",
              "        document.querySelector('#df-6ad53285-88aa-4bf4-b482-93f22268c8ce button');\n",
              "      quickchartButtonEl.style.display =\n",
              "        google.colab.kernel.accessAllowed ? 'block' : 'none';\n",
              "    })();\n",
              "  </script>\n",
              "</div>\n",
              "\n",
              "  <div id=\"id_5ac00bbf-a822-4184-b687-2b1a87506aaf\">\n",
              "    <style>\n",
              "      .colab-df-generate {\n",
              "        background-color: #E8F0FE;\n",
              "        border: none;\n",
              "        border-radius: 50%;\n",
              "        cursor: pointer;\n",
              "        display: none;\n",
              "        fill: #1967D2;\n",
              "        height: 32px;\n",
              "        padding: 0 0 0 0;\n",
              "        width: 32px;\n",
              "      }\n",
              "\n",
              "      .colab-df-generate:hover {\n",
              "        background-color: #E2EBFA;\n",
              "        box-shadow: 0px 1px 2px rgba(60, 64, 67, 0.3), 0px 1px 3px 1px rgba(60, 64, 67, 0.15);\n",
              "        fill: #174EA6;\n",
              "      }\n",
              "\n",
              "      [theme=dark] .colab-df-generate {\n",
              "        background-color: #3B4455;\n",
              "        fill: #D2E3FC;\n",
              "      }\n",
              "\n",
              "      [theme=dark] .colab-df-generate:hover {\n",
              "        background-color: #434B5C;\n",
              "        box-shadow: 0px 1px 3px 1px rgba(0, 0, 0, 0.15);\n",
              "        filter: drop-shadow(0px 1px 2px rgba(0, 0, 0, 0.3));\n",
              "        fill: #FFFFFF;\n",
              "      }\n",
              "    </style>\n",
              "    <button class=\"colab-df-generate\" onclick=\"generateWithVariable('squared_diff_row_mean')\"\n",
              "            title=\"Generate code using this dataframe.\"\n",
              "            style=\"display:none;\">\n",
              "\n",
              "  <svg xmlns=\"http://www.w3.org/2000/svg\" height=\"24px\"viewBox=\"0 0 24 24\"\n",
              "       width=\"24px\">\n",
              "    <path d=\"M7,19H8.4L18.45,9,17,7.55,7,17.6ZM5,21V16.75L18.45,3.32a2,2,0,0,1,2.83,0l1.4,1.43a1.91,1.91,0,0,1,.58,1.4,1.91,1.91,0,0,1-.58,1.4L9.25,21ZM18.45,9,17,7.55Zm-12,3A5.31,5.31,0,0,0,4.9,8.1,5.31,5.31,0,0,0,1,6.5,5.31,5.31,0,0,0,4.9,4.9,5.31,5.31,0,0,0,6.5,1,5.31,5.31,0,0,0,8.1,4.9,5.31,5.31,0,0,0,12,6.5,5.46,5.46,0,0,0,6.5,12Z\"/>\n",
              "  </svg>\n",
              "    </button>\n",
              "    <script>\n",
              "      (() => {\n",
              "      const buttonEl =\n",
              "        document.querySelector('#id_5ac00bbf-a822-4184-b687-2b1a87506aaf button.colab-df-generate');\n",
              "      buttonEl.style.display =\n",
              "        google.colab.kernel.accessAllowed ? 'block' : 'none';\n",
              "\n",
              "      buttonEl.onclick = () => {\n",
              "        google.colab.notebook.generateWithVariable('squared_diff_row_mean');\n",
              "      }\n",
              "      })();\n",
              "    </script>\n",
              "  </div>\n",
              "\n",
              "    </div>\n",
              "  </div>\n"
            ],
            "application/vnd.google.colaboratory.intrinsic+json": {
              "type": "dataframe",
              "variable_name": "squared_diff_row_mean",
              "summary": "{\n  \"name\": \"squared_diff_row_mean\",\n  \"rows\": 10,\n  \"fields\": [\n    {\n      \"column\": \"Day 1\",\n      \"properties\": {\n        \"dtype\": \"number\",\n        \"std\": 29.711297658860087,\n        \"min\": 0.2500000000000071,\n        \"max\": 92.15999999999976,\n        \"num_unique_values\": 10,\n        \"samples\": [\n          0.40111111111111053,\n          8.21777777777778,\n          0.2500000000000071\n        ],\n        \"semantic_type\": \"\",\n        \"description\": \"\"\n      }\n    },\n    {\n      \"column\": \"Day 2\",\n      \"properties\": {\n        \"dtype\": \"number\",\n        \"std\": 8.472325212083975,\n        \"min\": 0.05444444444444157,\n        \"max\": 28.80111111111104,\n        \"num_unique_values\": 10,\n        \"samples\": [\n          6.934444444444442,\n          0.5377777777777791,\n          6.760000000000008\n        ],\n        \"semantic_type\": \"\",\n        \"description\": \"\"\n      }\n    },\n    {\n      \"column\": \"Day 3\",\n      \"properties\": {\n        \"dtype\": \"number\",\n        \"std\": 18.373462126326263,\n        \"min\": 2.8899999999999855,\n        \"max\": 56.25000000000011,\n        \"num_unique_values\": 10,\n        \"samples\": [\n          10.671111111111104,\n          4.5511111111111395,\n          9.609999999999964\n        ],\n        \"semantic_type\": \"\",\n        \"description\": \"\"\n      }\n    }\n  ]\n}"
            }
          },
          "metadata": {},
          "execution_count": 79
        }
      ]
    },
    {
      "cell_type": "code",
      "source": [
        "SSWS = squared_diff_row_mean.sum().sum()\n",
        "SSWS"
      ],
      "metadata": {
        "colab": {
          "base_uri": "https://localhost:8080/"
        },
        "id": "dEireKzOWqYh",
        "outputId": "f86a203d-c6e6-4d96-be8d-2e9de049ab80"
      },
      "execution_count": 80,
      "outputs": [
        {
          "output_type": "execute_result",
          "data": {
            "text/plain": [
              "518.4133333333332"
            ]
          },
          "metadata": {},
          "execution_count": 80
        }
      ]
    },
    {
      "cell_type": "code",
      "source": [
        "MSWS=SSWS/(len(squared_diff_row_mean)*(squared_diff_row_mean.shape[1]-1)) # first is the number of subjects, second is the number of measurements/raters, -1 is to account for the degrees of freedom used to compute the subject means\n",
        "MSWS"
      ],
      "metadata": {
        "id": "gqrDg299YE0X",
        "colab": {
          "base_uri": "https://localhost:8080/"
        },
        "outputId": "ea1afc9d-f1cc-4d39-f54a-5fad7d67d31d"
      },
      "execution_count": 81,
      "outputs": [
        {
          "output_type": "execute_result",
          "data": {
            "text/plain": [
              "25.92066666666666"
            ]
          },
          "metadata": {},
          "execution_count": 81
        }
      ]
    },
    {
      "cell_type": "markdown",
      "source": [
        "**Compute Mean variation of each rating from its Measurement/Rater mean (MSWM)**"
      ],
      "metadata": {
        "id": "bWcyy8p3ahPx"
      }
    },
    {
      "cell_type": "code",
      "source": [
        "squared_diff_col_mean = (electro_dataset_hand[['Day 1', 'Day 2', 'Day 3']].sub(MeasurementMeans, axis=1)) ** 2\n",
        "squared_diff_col_mean"
      ],
      "metadata": {
        "colab": {
          "base_uri": "https://localhost:8080/",
          "height": 363
        },
        "id": "qTAV2sthafVF",
        "outputId": "f474d80a-b440-4fa8-8071-0ffa5cd26754"
      },
      "execution_count": 82,
      "outputs": [
        {
          "output_type": "execute_result",
          "data": {
            "text/plain": [
              "      Day 1   Day 2     Day 3\n",
              "0   55.0564  210.25  255.6801\n",
              "1  108.5764  176.89  136.6561\n",
              "2   41.2164    9.61   69.0561\n",
              "3   32.2624   10.24    5.3361\n",
              "4  100.4004  213.16   40.8321\n",
              "5   58.9824  110.25   60.9961\n",
              "6   23.2324   12.96   67.4041\n",
              "7   12.1104   64.00    1.6641\n",
              "8   80.6404  136.89   77.6161\n",
              "9  176.3584    5.29    0.0081"
            ],
            "text/html": [
              "\n",
              "  <div id=\"df-c2379b57-f920-4bcc-a0ff-ddcfca25d7ae\" class=\"colab-df-container\">\n",
              "    <div>\n",
              "<style scoped>\n",
              "    .dataframe tbody tr th:only-of-type {\n",
              "        vertical-align: middle;\n",
              "    }\n",
              "\n",
              "    .dataframe tbody tr th {\n",
              "        vertical-align: top;\n",
              "    }\n",
              "\n",
              "    .dataframe thead th {\n",
              "        text-align: right;\n",
              "    }\n",
              "</style>\n",
              "<table border=\"1\" class=\"dataframe\">\n",
              "  <thead>\n",
              "    <tr style=\"text-align: right;\">\n",
              "      <th></th>\n",
              "      <th>Day 1</th>\n",
              "      <th>Day 2</th>\n",
              "      <th>Day 3</th>\n",
              "    </tr>\n",
              "  </thead>\n",
              "  <tbody>\n",
              "    <tr>\n",
              "      <th>0</th>\n",
              "      <td>55.0564</td>\n",
              "      <td>210.25</td>\n",
              "      <td>255.6801</td>\n",
              "    </tr>\n",
              "    <tr>\n",
              "      <th>1</th>\n",
              "      <td>108.5764</td>\n",
              "      <td>176.89</td>\n",
              "      <td>136.6561</td>\n",
              "    </tr>\n",
              "    <tr>\n",
              "      <th>2</th>\n",
              "      <td>41.2164</td>\n",
              "      <td>9.61</td>\n",
              "      <td>69.0561</td>\n",
              "    </tr>\n",
              "    <tr>\n",
              "      <th>3</th>\n",
              "      <td>32.2624</td>\n",
              "      <td>10.24</td>\n",
              "      <td>5.3361</td>\n",
              "    </tr>\n",
              "    <tr>\n",
              "      <th>4</th>\n",
              "      <td>100.4004</td>\n",
              "      <td>213.16</td>\n",
              "      <td>40.8321</td>\n",
              "    </tr>\n",
              "    <tr>\n",
              "      <th>5</th>\n",
              "      <td>58.9824</td>\n",
              "      <td>110.25</td>\n",
              "      <td>60.9961</td>\n",
              "    </tr>\n",
              "    <tr>\n",
              "      <th>6</th>\n",
              "      <td>23.2324</td>\n",
              "      <td>12.96</td>\n",
              "      <td>67.4041</td>\n",
              "    </tr>\n",
              "    <tr>\n",
              "      <th>7</th>\n",
              "      <td>12.1104</td>\n",
              "      <td>64.00</td>\n",
              "      <td>1.6641</td>\n",
              "    </tr>\n",
              "    <tr>\n",
              "      <th>8</th>\n",
              "      <td>80.6404</td>\n",
              "      <td>136.89</td>\n",
              "      <td>77.6161</td>\n",
              "    </tr>\n",
              "    <tr>\n",
              "      <th>9</th>\n",
              "      <td>176.3584</td>\n",
              "      <td>5.29</td>\n",
              "      <td>0.0081</td>\n",
              "    </tr>\n",
              "  </tbody>\n",
              "</table>\n",
              "</div>\n",
              "    <div class=\"colab-df-buttons\">\n",
              "\n",
              "  <div class=\"colab-df-container\">\n",
              "    <button class=\"colab-df-convert\" onclick=\"convertToInteractive('df-c2379b57-f920-4bcc-a0ff-ddcfca25d7ae')\"\n",
              "            title=\"Convert this dataframe to an interactive table.\"\n",
              "            style=\"display:none;\">\n",
              "\n",
              "  <svg xmlns=\"http://www.w3.org/2000/svg\" height=\"24px\" viewBox=\"0 -960 960 960\">\n",
              "    <path d=\"M120-120v-720h720v720H120Zm60-500h600v-160H180v160Zm220 220h160v-160H400v160Zm0 220h160v-160H400v160ZM180-400h160v-160H180v160Zm440 0h160v-160H620v160ZM180-180h160v-160H180v160Zm440 0h160v-160H620v160Z\"/>\n",
              "  </svg>\n",
              "    </button>\n",
              "\n",
              "  <style>\n",
              "    .colab-df-container {\n",
              "      display:flex;\n",
              "      gap: 12px;\n",
              "    }\n",
              "\n",
              "    .colab-df-convert {\n",
              "      background-color: #E8F0FE;\n",
              "      border: none;\n",
              "      border-radius: 50%;\n",
              "      cursor: pointer;\n",
              "      display: none;\n",
              "      fill: #1967D2;\n",
              "      height: 32px;\n",
              "      padding: 0 0 0 0;\n",
              "      width: 32px;\n",
              "    }\n",
              "\n",
              "    .colab-df-convert:hover {\n",
              "      background-color: #E2EBFA;\n",
              "      box-shadow: 0px 1px 2px rgba(60, 64, 67, 0.3), 0px 1px 3px 1px rgba(60, 64, 67, 0.15);\n",
              "      fill: #174EA6;\n",
              "    }\n",
              "\n",
              "    .colab-df-buttons div {\n",
              "      margin-bottom: 4px;\n",
              "    }\n",
              "\n",
              "    [theme=dark] .colab-df-convert {\n",
              "      background-color: #3B4455;\n",
              "      fill: #D2E3FC;\n",
              "    }\n",
              "\n",
              "    [theme=dark] .colab-df-convert:hover {\n",
              "      background-color: #434B5C;\n",
              "      box-shadow: 0px 1px 3px 1px rgba(0, 0, 0, 0.15);\n",
              "      filter: drop-shadow(0px 1px 2px rgba(0, 0, 0, 0.3));\n",
              "      fill: #FFFFFF;\n",
              "    }\n",
              "  </style>\n",
              "\n",
              "    <script>\n",
              "      const buttonEl =\n",
              "        document.querySelector('#df-c2379b57-f920-4bcc-a0ff-ddcfca25d7ae button.colab-df-convert');\n",
              "      buttonEl.style.display =\n",
              "        google.colab.kernel.accessAllowed ? 'block' : 'none';\n",
              "\n",
              "      async function convertToInteractive(key) {\n",
              "        const element = document.querySelector('#df-c2379b57-f920-4bcc-a0ff-ddcfca25d7ae');\n",
              "        const dataTable =\n",
              "          await google.colab.kernel.invokeFunction('convertToInteractive',\n",
              "                                                    [key], {});\n",
              "        if (!dataTable) return;\n",
              "\n",
              "        const docLinkHtml = 'Like what you see? Visit the ' +\n",
              "          '<a target=\"_blank\" href=https://colab.research.google.com/notebooks/data_table.ipynb>data table notebook</a>'\n",
              "          + ' to learn more about interactive tables.';\n",
              "        element.innerHTML = '';\n",
              "        dataTable['output_type'] = 'display_data';\n",
              "        await google.colab.output.renderOutput(dataTable, element);\n",
              "        const docLink = document.createElement('div');\n",
              "        docLink.innerHTML = docLinkHtml;\n",
              "        element.appendChild(docLink);\n",
              "      }\n",
              "    </script>\n",
              "  </div>\n",
              "\n",
              "\n",
              "<div id=\"df-78dc1efa-994e-4c78-844a-a97b5cf4c87e\">\n",
              "  <button class=\"colab-df-quickchart\" onclick=\"quickchart('df-78dc1efa-994e-4c78-844a-a97b5cf4c87e')\"\n",
              "            title=\"Suggest charts\"\n",
              "            style=\"display:none;\">\n",
              "\n",
              "<svg xmlns=\"http://www.w3.org/2000/svg\" height=\"24px\"viewBox=\"0 0 24 24\"\n",
              "     width=\"24px\">\n",
              "    <g>\n",
              "        <path d=\"M19 3H5c-1.1 0-2 .9-2 2v14c0 1.1.9 2 2 2h14c1.1 0 2-.9 2-2V5c0-1.1-.9-2-2-2zM9 17H7v-7h2v7zm4 0h-2V7h2v10zm4 0h-2v-4h2v4z\"/>\n",
              "    </g>\n",
              "</svg>\n",
              "  </button>\n",
              "\n",
              "<style>\n",
              "  .colab-df-quickchart {\n",
              "      --bg-color: #E8F0FE;\n",
              "      --fill-color: #1967D2;\n",
              "      --hover-bg-color: #E2EBFA;\n",
              "      --hover-fill-color: #174EA6;\n",
              "      --disabled-fill-color: #AAA;\n",
              "      --disabled-bg-color: #DDD;\n",
              "  }\n",
              "\n",
              "  [theme=dark] .colab-df-quickchart {\n",
              "      --bg-color: #3B4455;\n",
              "      --fill-color: #D2E3FC;\n",
              "      --hover-bg-color: #434B5C;\n",
              "      --hover-fill-color: #FFFFFF;\n",
              "      --disabled-bg-color: #3B4455;\n",
              "      --disabled-fill-color: #666;\n",
              "  }\n",
              "\n",
              "  .colab-df-quickchart {\n",
              "    background-color: var(--bg-color);\n",
              "    border: none;\n",
              "    border-radius: 50%;\n",
              "    cursor: pointer;\n",
              "    display: none;\n",
              "    fill: var(--fill-color);\n",
              "    height: 32px;\n",
              "    padding: 0;\n",
              "    width: 32px;\n",
              "  }\n",
              "\n",
              "  .colab-df-quickchart:hover {\n",
              "    background-color: var(--hover-bg-color);\n",
              "    box-shadow: 0 1px 2px rgba(60, 64, 67, 0.3), 0 1px 3px 1px rgba(60, 64, 67, 0.15);\n",
              "    fill: var(--button-hover-fill-color);\n",
              "  }\n",
              "\n",
              "  .colab-df-quickchart-complete:disabled,\n",
              "  .colab-df-quickchart-complete:disabled:hover {\n",
              "    background-color: var(--disabled-bg-color);\n",
              "    fill: var(--disabled-fill-color);\n",
              "    box-shadow: none;\n",
              "  }\n",
              "\n",
              "  .colab-df-spinner {\n",
              "    border: 2px solid var(--fill-color);\n",
              "    border-color: transparent;\n",
              "    border-bottom-color: var(--fill-color);\n",
              "    animation:\n",
              "      spin 1s steps(1) infinite;\n",
              "  }\n",
              "\n",
              "  @keyframes spin {\n",
              "    0% {\n",
              "      border-color: transparent;\n",
              "      border-bottom-color: var(--fill-color);\n",
              "      border-left-color: var(--fill-color);\n",
              "    }\n",
              "    20% {\n",
              "      border-color: transparent;\n",
              "      border-left-color: var(--fill-color);\n",
              "      border-top-color: var(--fill-color);\n",
              "    }\n",
              "    30% {\n",
              "      border-color: transparent;\n",
              "      border-left-color: var(--fill-color);\n",
              "      border-top-color: var(--fill-color);\n",
              "      border-right-color: var(--fill-color);\n",
              "    }\n",
              "    40% {\n",
              "      border-color: transparent;\n",
              "      border-right-color: var(--fill-color);\n",
              "      border-top-color: var(--fill-color);\n",
              "    }\n",
              "    60% {\n",
              "      border-color: transparent;\n",
              "      border-right-color: var(--fill-color);\n",
              "    }\n",
              "    80% {\n",
              "      border-color: transparent;\n",
              "      border-right-color: var(--fill-color);\n",
              "      border-bottom-color: var(--fill-color);\n",
              "    }\n",
              "    90% {\n",
              "      border-color: transparent;\n",
              "      border-bottom-color: var(--fill-color);\n",
              "    }\n",
              "  }\n",
              "</style>\n",
              "\n",
              "  <script>\n",
              "    async function quickchart(key) {\n",
              "      const quickchartButtonEl =\n",
              "        document.querySelector('#' + key + ' button');\n",
              "      quickchartButtonEl.disabled = true;  // To prevent multiple clicks.\n",
              "      quickchartButtonEl.classList.add('colab-df-spinner');\n",
              "      try {\n",
              "        const charts = await google.colab.kernel.invokeFunction(\n",
              "            'suggestCharts', [key], {});\n",
              "      } catch (error) {\n",
              "        console.error('Error during call to suggestCharts:', error);\n",
              "      }\n",
              "      quickchartButtonEl.classList.remove('colab-df-spinner');\n",
              "      quickchartButtonEl.classList.add('colab-df-quickchart-complete');\n",
              "    }\n",
              "    (() => {\n",
              "      let quickchartButtonEl =\n",
              "        document.querySelector('#df-78dc1efa-994e-4c78-844a-a97b5cf4c87e button');\n",
              "      quickchartButtonEl.style.display =\n",
              "        google.colab.kernel.accessAllowed ? 'block' : 'none';\n",
              "    })();\n",
              "  </script>\n",
              "</div>\n",
              "\n",
              "  <div id=\"id_b86b998b-42c0-479b-a015-412281181b7e\">\n",
              "    <style>\n",
              "      .colab-df-generate {\n",
              "        background-color: #E8F0FE;\n",
              "        border: none;\n",
              "        border-radius: 50%;\n",
              "        cursor: pointer;\n",
              "        display: none;\n",
              "        fill: #1967D2;\n",
              "        height: 32px;\n",
              "        padding: 0 0 0 0;\n",
              "        width: 32px;\n",
              "      }\n",
              "\n",
              "      .colab-df-generate:hover {\n",
              "        background-color: #E2EBFA;\n",
              "        box-shadow: 0px 1px 2px rgba(60, 64, 67, 0.3), 0px 1px 3px 1px rgba(60, 64, 67, 0.15);\n",
              "        fill: #174EA6;\n",
              "      }\n",
              "\n",
              "      [theme=dark] .colab-df-generate {\n",
              "        background-color: #3B4455;\n",
              "        fill: #D2E3FC;\n",
              "      }\n",
              "\n",
              "      [theme=dark] .colab-df-generate:hover {\n",
              "        background-color: #434B5C;\n",
              "        box-shadow: 0px 1px 3px 1px rgba(0, 0, 0, 0.15);\n",
              "        filter: drop-shadow(0px 1px 2px rgba(0, 0, 0, 0.3));\n",
              "        fill: #FFFFFF;\n",
              "      }\n",
              "    </style>\n",
              "    <button class=\"colab-df-generate\" onclick=\"generateWithVariable('squared_diff_col_mean')\"\n",
              "            title=\"Generate code using this dataframe.\"\n",
              "            style=\"display:none;\">\n",
              "\n",
              "  <svg xmlns=\"http://www.w3.org/2000/svg\" height=\"24px\"viewBox=\"0 0 24 24\"\n",
              "       width=\"24px\">\n",
              "    <path d=\"M7,19H8.4L18.45,9,17,7.55,7,17.6ZM5,21V16.75L18.45,3.32a2,2,0,0,1,2.83,0l1.4,1.43a1.91,1.91,0,0,1,.58,1.4,1.91,1.91,0,0,1-.58,1.4L9.25,21ZM18.45,9,17,7.55Zm-12,3A5.31,5.31,0,0,0,4.9,8.1,5.31,5.31,0,0,0,1,6.5,5.31,5.31,0,0,0,4.9,4.9,5.31,5.31,0,0,0,6.5,1,5.31,5.31,0,0,0,8.1,4.9,5.31,5.31,0,0,0,12,6.5,5.46,5.46,0,0,0,6.5,12Z\"/>\n",
              "  </svg>\n",
              "    </button>\n",
              "    <script>\n",
              "      (() => {\n",
              "      const buttonEl =\n",
              "        document.querySelector('#id_b86b998b-42c0-479b-a015-412281181b7e button.colab-df-generate');\n",
              "      buttonEl.style.display =\n",
              "        google.colab.kernel.accessAllowed ? 'block' : 'none';\n",
              "\n",
              "      buttonEl.onclick = () => {\n",
              "        google.colab.notebook.generateWithVariable('squared_diff_col_mean');\n",
              "      }\n",
              "      })();\n",
              "    </script>\n",
              "  </div>\n",
              "\n",
              "    </div>\n",
              "  </div>\n"
            ],
            "application/vnd.google.colaboratory.intrinsic+json": {
              "type": "dataframe",
              "variable_name": "squared_diff_col_mean",
              "summary": "{\n  \"name\": \"squared_diff_col_mean\",\n  \"rows\": 10,\n  \"fields\": [\n    {\n      \"column\": \"Day 1\",\n      \"properties\": {\n        \"dtype\": \"number\",\n        \"std\": 49.39739287047444,\n        \"min\": 12.110400000000027,\n        \"max\": 176.35840000000002,\n        \"num_unique_values\": 10,\n        \"samples\": [\n          80.64040000000007,\n          108.5763999999999,\n          58.982400000000105\n        ],\n        \"semantic_type\": \"\",\n        \"description\": \"\"\n      }\n    },\n    {\n      \"column\": \"Day 2\",\n      \"properties\": {\n        \"dtype\": \"number\",\n        \"std\": 85.7339483129835,\n        \"min\": 5.29000000000002,\n        \"max\": 213.15999999999983,\n        \"num_unique_values\": 10,\n        \"samples\": [\n          136.89000000000007,\n          176.88999999999993,\n          110.25\n        ],\n        \"semantic_type\": \"\",\n        \"description\": \"\"\n      }\n    },\n    {\n      \"column\": \"Day 3\",\n      \"properties\": {\n        \"dtype\": \"number\",\n        \"std\": 77.20422735230676,\n        \"min\": 0.008099999999999335,\n        \"max\": 255.68010000000007,\n        \"num_unique_values\": 10,\n        \"samples\": [\n          77.61610000000005,\n          136.65610000000012,\n          60.996100000000034\n        ],\n        \"semantic_type\": \"\",\n        \"description\": \"\"\n      }\n    }\n  ]\n}"
            }
          },
          "metadata": {},
          "execution_count": 82
        }
      ]
    },
    {
      "cell_type": "code",
      "source": [
        "SSWM = squared_diff_col_mean.sum().sum()\n",
        "SSWM"
      ],
      "metadata": {
        "colab": {
          "base_uri": "https://localhost:8080/"
        },
        "id": "0zmsZJc-ayyM",
        "outputId": "bb47daac-727b-4c02-8189-976930b45109"
      },
      "execution_count": 83,
      "outputs": [
        {
          "output_type": "execute_result",
          "data": {
            "text/plain": [
              "2353.6250000000005"
            ]
          },
          "metadata": {},
          "execution_count": 83
        }
      ]
    },
    {
      "cell_type": "code",
      "source": [
        "MSWM=SSWM/(squared_diff_row_mean.shape[1]*(len(squared_diff_row_mean)-1)) # first is the number of measurements/raters,second is the number of subjects, last is -1 is to account for the degrees of freedom used to compute the measurement means\n",
        "MSWM"
      ],
      "metadata": {
        "colab": {
          "base_uri": "https://localhost:8080/"
        },
        "id": "LOmS7C3DbAnZ",
        "outputId": "dac1eedc-e1d1-415a-d3dd-8208ee299aed"
      },
      "execution_count": 84,
      "outputs": [
        {
          "output_type": "execute_result",
          "data": {
            "text/plain": [
              "87.17129629629632"
            ]
          },
          "metadata": {},
          "execution_count": 84
        }
      ]
    },
    {
      "cell_type": "markdown",
      "source": [
        "**Compute mean variation of each Subject mean from Grand Mean (MSBS)**"
      ],
      "metadata": {
        "id": "yUqfIQ18UotX"
      }
    },
    {
      "cell_type": "code",
      "source": [
        "squared_diff_subject_mean = (RaterMeans - GrandMean) ** 2 * squared_diff_row_mean.shape[1]\n",
        "squared_diff_subject_mean"
      ],
      "metadata": {
        "id": "4sqrsPbaUn1o",
        "colab": {
          "base_uri": "https://localhost:8080/",
          "height": 398
        },
        "outputId": "ef0568d2-f1fc-4f68-c606-05b136047c7e"
      },
      "execution_count": 85,
      "outputs": [
        {
          "output_type": "execute_result",
          "data": {
            "text/plain": [
              "0    479.056033\n",
              "1    417.956033\n",
              "2      8.300033\n",
              "3     41.738700\n",
              "4    320.540033\n",
              "5    225.160033\n",
              "6     16.286700\n",
              "7     34.612033\n",
              "8    289.886700\n",
              "9     79.980033\n",
              "dtype: float64"
            ],
            "text/html": [
              "<div>\n",
              "<style scoped>\n",
              "    .dataframe tbody tr th:only-of-type {\n",
              "        vertical-align: middle;\n",
              "    }\n",
              "\n",
              "    .dataframe tbody tr th {\n",
              "        vertical-align: top;\n",
              "    }\n",
              "\n",
              "    .dataframe thead th {\n",
              "        text-align: right;\n",
              "    }\n",
              "</style>\n",
              "<table border=\"1\" class=\"dataframe\">\n",
              "  <thead>\n",
              "    <tr style=\"text-align: right;\">\n",
              "      <th></th>\n",
              "      <th>0</th>\n",
              "    </tr>\n",
              "  </thead>\n",
              "  <tbody>\n",
              "    <tr>\n",
              "      <th>0</th>\n",
              "      <td>479.056033</td>\n",
              "    </tr>\n",
              "    <tr>\n",
              "      <th>1</th>\n",
              "      <td>417.956033</td>\n",
              "    </tr>\n",
              "    <tr>\n",
              "      <th>2</th>\n",
              "      <td>8.300033</td>\n",
              "    </tr>\n",
              "    <tr>\n",
              "      <th>3</th>\n",
              "      <td>41.738700</td>\n",
              "    </tr>\n",
              "    <tr>\n",
              "      <th>4</th>\n",
              "      <td>320.540033</td>\n",
              "    </tr>\n",
              "    <tr>\n",
              "      <th>5</th>\n",
              "      <td>225.160033</td>\n",
              "    </tr>\n",
              "    <tr>\n",
              "      <th>6</th>\n",
              "      <td>16.286700</td>\n",
              "    </tr>\n",
              "    <tr>\n",
              "      <th>7</th>\n",
              "      <td>34.612033</td>\n",
              "    </tr>\n",
              "    <tr>\n",
              "      <th>8</th>\n",
              "      <td>289.886700</td>\n",
              "    </tr>\n",
              "    <tr>\n",
              "      <th>9</th>\n",
              "      <td>79.980033</td>\n",
              "    </tr>\n",
              "  </tbody>\n",
              "</table>\n",
              "</div><br><label><b>dtype:</b> float64</label>"
            ]
          },
          "metadata": {},
          "execution_count": 85
        }
      ]
    },
    {
      "cell_type": "code",
      "source": [
        "SSBS = squared_diff_subject_mean.sum()\n",
        "SSBS"
      ],
      "metadata": {
        "colab": {
          "base_uri": "https://localhost:8080/"
        },
        "id": "hJFDHXkkXRfJ",
        "outputId": "647259bc-6919-4850-f610-23f1d716e6b7"
      },
      "execution_count": 86,
      "outputs": [
        {
          "output_type": "execute_result",
          "data": {
            "text/plain": [
              "1913.5163333333342"
            ]
          },
          "metadata": {},
          "execution_count": 86
        }
      ]
    },
    {
      "cell_type": "code",
      "source": [
        "MSBS=SSBS/(len(squared_diff_row_mean)-1) # first term representing the number of subjects and -1 the lost degree of freedom from using the grand mean to compute variance\n",
        "MSBS"
      ],
      "metadata": {
        "colab": {
          "base_uri": "https://localhost:8080/"
        },
        "id": "MWX4dc3BZJO6",
        "outputId": "eda88f83-2c26-4783-8712-7c0e67317311"
      },
      "execution_count": 87,
      "outputs": [
        {
          "output_type": "execute_result",
          "data": {
            "text/plain": [
              "212.61292592592602"
            ]
          },
          "metadata": {},
          "execution_count": 87
        }
      ]
    },
    {
      "cell_type": "markdown",
      "source": [
        "**Compute mean variation of each Measurement mean from Grand Mean (MSBM)**"
      ],
      "metadata": {
        "id": "Qe8C0YwkZolT"
      }
    },
    {
      "cell_type": "code",
      "source": [
        "squared_diff_rater_mean = (MeasurementMeans - GrandMean) ** 2 * len(squared_diff_row_mean)\n",
        "squared_diff_rater_mean"
      ],
      "metadata": {
        "colab": {
          "base_uri": "https://localhost:8080/",
          "height": 178
        },
        "id": "1ySluEizaD0M",
        "outputId": "568b0177-4a75-438e-863d-273b8c2360b0"
      },
      "execution_count": 88,
      "outputs": [
        {
          "output_type": "execute_result",
          "data": {
            "text/plain": [
              "Day 1    22.002778\n",
              "Day 2     5.826778\n",
              "Day 3    50.475111\n",
              "dtype: float64"
            ],
            "text/html": [
              "<div>\n",
              "<style scoped>\n",
              "    .dataframe tbody tr th:only-of-type {\n",
              "        vertical-align: middle;\n",
              "    }\n",
              "\n",
              "    .dataframe tbody tr th {\n",
              "        vertical-align: top;\n",
              "    }\n",
              "\n",
              "    .dataframe thead th {\n",
              "        text-align: right;\n",
              "    }\n",
              "</style>\n",
              "<table border=\"1\" class=\"dataframe\">\n",
              "  <thead>\n",
              "    <tr style=\"text-align: right;\">\n",
              "      <th></th>\n",
              "      <th>0</th>\n",
              "    </tr>\n",
              "  </thead>\n",
              "  <tbody>\n",
              "    <tr>\n",
              "      <th>Day 1</th>\n",
              "      <td>22.002778</td>\n",
              "    </tr>\n",
              "    <tr>\n",
              "      <th>Day 2</th>\n",
              "      <td>5.826778</td>\n",
              "    </tr>\n",
              "    <tr>\n",
              "      <th>Day 3</th>\n",
              "      <td>50.475111</td>\n",
              "    </tr>\n",
              "  </tbody>\n",
              "</table>\n",
              "</div><br><label><b>dtype:</b> float64</label>"
            ]
          },
          "metadata": {},
          "execution_count": 88
        }
      ]
    },
    {
      "cell_type": "code",
      "source": [
        "SSBM = squared_diff_rater_mean.sum()\n",
        "SSBM"
      ],
      "metadata": {
        "colab": {
          "base_uri": "https://localhost:8080/"
        },
        "id": "G3aMIEZ4b7C6",
        "outputId": "628bf0d6-e606-4261-f5fc-a84a2bbf7788"
      },
      "execution_count": 89,
      "outputs": [
        {
          "output_type": "execute_result",
          "data": {
            "text/plain": [
              "78.30466666666655"
            ]
          },
          "metadata": {},
          "execution_count": 89
        }
      ]
    },
    {
      "cell_type": "code",
      "source": [
        "MSBM=SSBM/(squared_diff_row_mean.shape[1]-1) # first term representing the number of raters/measurements and -1 the lost degree of freedom from using the grand mean to compute variance\n",
        "MSBM"
      ],
      "metadata": {
        "colab": {
          "base_uri": "https://localhost:8080/"
        },
        "id": "QeHkD2wKcAD5",
        "outputId": "366de591-c6be-4da9-cdc2-28da565e61af"
      },
      "execution_count": 90,
      "outputs": [
        {
          "output_type": "execute_result",
          "data": {
            "text/plain": [
              "39.152333333333274"
            ]
          },
          "metadata": {},
          "execution_count": 90
        }
      ]
    },
    {
      "cell_type": "markdown",
      "source": [
        "**Compute Mean Error for each measurement (MSE)**"
      ],
      "metadata": {
        "id": "7k7qNjVRe2hT"
      }
    },
    {
      "cell_type": "code",
      "source": [
        "SSE=SST-SSBS-SSBM\n",
        "SSE"
      ],
      "metadata": {
        "colab": {
          "base_uri": "https://localhost:8080/"
        },
        "id": "9gdHH5R6fAR2",
        "outputId": "e6a4a46e-3c2e-4c11-c105-e87f5160f68e"
      },
      "execution_count": 91,
      "outputs": [
        {
          "output_type": "execute_result",
          "data": {
            "text/plain": [
              "440.1086666666662"
            ]
          },
          "metadata": {},
          "execution_count": 91
        }
      ]
    },
    {
      "cell_type": "code",
      "source": [
        "MSE=SSE/((len(squared_diff_row_mean)-1)*(squared_diff_row_mean.shape[1]-1)) # first is the number of subjects, second is the number of measurements/raters, -1 is to account for the degrees of freedom used to compute the subject means\n",
        "MSE"
      ],
      "metadata": {
        "colab": {
          "base_uri": "https://localhost:8080/"
        },
        "id": "6E_b9Bgif0ca",
        "outputId": "23e8e720-365b-4961-cea7-710575f08f8d"
      },
      "execution_count": 92,
      "outputs": [
        {
          "output_type": "execute_result",
          "data": {
            "text/plain": [
              "24.450481481481454"
            ]
          },
          "metadata": {},
          "execution_count": 92
        }
      ]
    },
    {
      "cell_type": "markdown",
      "source": [
        "##### Then plug these into the formulas\n",
        "Check: https://www.ncbi.nlm.nih.gov/pmc/articles/PMC6645485/#pone.0219854.s002 to see derivations of formulas\n"
      ],
      "metadata": {
        "id": "PbeeL8LbckDV"
      }
    },
    {
      "cell_type": "markdown",
      "source": [
        "**Plug values into the formula of ICC1**"
      ],
      "metadata": {
        "id": "TUnSHCkOXjb2"
      }
    },
    {
      "cell_type": "code",
      "source": [
        "(MSBS-MSWS)/(MSBS+(squared_diff_row_mean.shape[1]-1)*MSWS)"
      ],
      "metadata": {
        "id": "FcxfiKhoXgHs",
        "colab": {
          "base_uri": "https://localhost:8080/"
        },
        "outputId": "8cd897e9-a8a2-4f53-86df-d794e0d1991d"
      },
      "execution_count": 93,
      "outputs": [
        {
          "output_type": "execute_result",
          "data": {
            "text/plain": [
              "0.7059529303184128"
            ]
          },
          "metadata": {},
          "execution_count": 93
        }
      ]
    },
    {
      "cell_type": "markdown",
      "source": [
        "**Plug values into the formula of ICC2**"
      ],
      "metadata": {
        "id": "MsM6QlGfdGm2"
      }
    },
    {
      "cell_type": "code",
      "source": [
        "(MSBS-MSE)/(MSBS+(squared_diff_row_mean.shape[1]-1)*MSE+(squared_diff_row_mean.shape[1]/len(squared_diff_row_mean))*(MSBM-MSE))"
      ],
      "metadata": {
        "colab": {
          "base_uri": "https://localhost:8080/"
        },
        "id": "3B75PZagdFCi",
        "outputId": "9de90b40-3c81-4ae0-a40f-a9f4eb696ab6"
      },
      "execution_count": 94,
      "outputs": [
        {
          "output_type": "execute_result",
          "data": {
            "text/plain": [
              "0.7075785937526118"
            ]
          },
          "metadata": {},
          "execution_count": 94
        }
      ]
    },
    {
      "cell_type": "markdown",
      "source": [
        "**Plug values into the formula of ICC3**"
      ],
      "metadata": {
        "id": "7-vY_YpYdJgX"
      }
    },
    {
      "cell_type": "code",
      "source": [
        "(MSBS-MSE)/(MSBS+(squared_diff_row_mean.shape[1]-1)*MSE)"
      ],
      "metadata": {
        "colab": {
          "base_uri": "https://localhost:8080/"
        },
        "id": "RP2itSxSdIV6",
        "outputId": "3cd41f79-a557-405f-c94b-b2334c4eb92f"
      },
      "execution_count": 95,
      "outputs": [
        {
          "output_type": "execute_result",
          "data": {
            "text/plain": [
              "0.7195122417547404"
            ]
          },
          "metadata": {},
          "execution_count": 95
        }
      ]
    },
    {
      "cell_type": "markdown",
      "source": [
        "**Plug values into the formula of ICC1k**"
      ],
      "metadata": {
        "id": "zk1TW36adSwL"
      }
    },
    {
      "cell_type": "code",
      "source": [
        "(MSBS-MSWS)/(MSBS)"
      ],
      "metadata": {
        "colab": {
          "base_uri": "https://localhost:8080/"
        },
        "id": "xxRERmtn8k84",
        "outputId": "3c2e9382-0e15-4898-f5ba-6cdafaf87c54"
      },
      "execution_count": 96,
      "outputs": [
        {
          "output_type": "execute_result",
          "data": {
            "text/plain": [
              "0.8780851796579039"
            ]
          },
          "metadata": {},
          "execution_count": 96
        }
      ]
    },
    {
      "cell_type": "markdown",
      "source": [
        "**Plug values into the formula of ICC2k**"
      ],
      "metadata": {
        "id": "8QbD_b_c8yXE"
      }
    },
    {
      "cell_type": "code",
      "source": [
        "(MSBS-MSE)/ (MSBS+(MSBM-MSE)/len(squared_diff_row_mean))"
      ],
      "metadata": {
        "colab": {
          "base_uri": "https://localhost:8080/"
        },
        "id": "1FlbevNp8xwS",
        "outputId": "f072afd0-fdab-411b-bbab-c49b908f7bc3"
      },
      "execution_count": 97,
      "outputs": [
        {
          "output_type": "execute_result",
          "data": {
            "text/plain": [
              "0.8789224122718696"
            ]
          },
          "metadata": {},
          "execution_count": 97
        }
      ]
    },
    {
      "cell_type": "markdown",
      "source": [
        "**Plug values into the formula of ICC3k**"
      ],
      "metadata": {
        "id": "PvVXtKGwGFJp"
      }
    },
    {
      "cell_type": "code",
      "source": [
        "(MSBS-MSE)/(MSBS)"
      ],
      "metadata": {
        "colab": {
          "base_uri": "https://localhost:8080/"
        },
        "id": "4rWA6CpR8u2_",
        "outputId": "07f34f8e-d1d1-4cc0-a387-6efec3a7a2c7"
      },
      "execution_count": 98,
      "outputs": [
        {
          "output_type": "execute_result",
          "data": {
            "text/plain": [
              "0.8850000235169146"
            ]
          },
          "metadata": {},
          "execution_count": 98
        }
      ]
    }
  ],
  "metadata": {
    "colab": {
      "provenance": [],
      "collapsed_sections": [
        "6OMNGhs9oqNP",
        "TOtB3u_-uBxv",
        "YZqP9StkuNIL",
        "iNOd3OyMqA1U",
        "BNtjTFyycOpX",
        "gMFR8iMJb9ci",
        "buSbSdHtXl0d",
        "4WGo7OBFind6",
        "7ViaHjflthw_",
        "yFZ7ltuW0ZoD",
        "y8BbGiRhRi0x",
        "aLoYRADObl73",
        "ssqbmzQhUi2W",
        "NkPARKLIk2mh",
        "ABUkZj6AqjFJ",
        "i-Zbo1zszy-j",
        "nWqe30S9SaOy"
      ],
      "mount_file_id": "1nqsCuKrhZCNPXQeRIaWHla3btW7N6jB7",
      "authorship_tag": "ABX9TyMgYpbVIO4+Nk4/0nxER76M",
      "include_colab_link": true
    },
    "kernelspec": {
      "display_name": "Python 3",
      "name": "python3"
    },
    "language_info": {
      "name": "python"
    }
  },
  "nbformat": 4,
  "nbformat_minor": 0
}